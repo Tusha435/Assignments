{
 "cells": [
  {
   "cell_type": "markdown",
   "id": "fd09c99b",
   "metadata": {},
   "source": [
    "# File Handling"
   ]
  },
  {
   "cell_type": "code",
   "execution_count": 1,
   "id": "fb1de83a",
   "metadata": {},
   "outputs": [],
   "source": [
    "# Whether in real life or in the digital world - we use files to store data. Files are a collection of data which can be\n",
    "# stored, extracted and manipulated. \n",
    "\n",
    "# Python allows us to handle two types of files:\n",
    "\n",
    "# Text - where the information is stored as a sequence of characters\n",
    "# Binary - where the data is stored in Bytes(8 bit sequences)\n",
    "\n",
    "# Internally, even text in text files is stored as bytes. However, we can operate directly in text form on Text files unlike\n",
    "# binary files which are used to store text, images, video, audio and other types of files. \n",
    "\n",
    "# Each line of code in a file terminates with an End Of Line (EOL) character, '\\n' by default in Python, but different\n",
    "# for different operating systems (e.g. '\\r\\n' in Windows. Internally, Python will change the '\\r\\n' to '\\n' when it is \n",
    "# run. \n",
    "\n",
    "# Previously End of File markers were used to indicate the End Of File. As per my understanding, since a couple of decades\n",
    "# now, end of file is handled by most languages by checking the length. You may still encounter the 'End Of File (EOF)' \n",
    "# word but as far as I know - there is no particular marker any more. \n",
    "\n",
    "\n"
   ]
  },
  {
   "cell_type": "code",
   "execution_count": 2,
   "id": "dd788737",
   "metadata": {},
   "outputs": [],
   "source": [
    "# When opening a file for performing operations on them in Python - we open the file characters specifying what operations\n",
    "# we are permitting to be performed on the file at the time of opening. This is called the 'mode'"
   ]
  },
  {
   "cell_type": "code",
   "execution_count": 3,
   "id": "c15a2fed",
   "metadata": {},
   "outputs": [],
   "source": [
    "# Operations permitted  Text Mode  Binary Mode  Handle Position     Notes\n",
    "\n",
    "# read only             'r'        'rb'         Beginning of file   Default mode of file opening. If file does not exist, \n",
    "#                                                                   raises an I/O error.\n",
    "# read and write        'r+'       'rb+'        Beginning of file   If file does not exist, raises an I/O error. By default,\n",
    "#                                                                   any write operations are performed at beginning of file.\n",
    "# write only            'w'        'wb'         Beginning of file   If file exists, truncates file(deletes all contents)\n",
    "#                                                                   else creates a file for writing into\n",
    "# write and read        'w+'       'wb+'        Beginning of file   If file exists, truncates file(deletes all contents)\n",
    "#                                                                   else creates a file for writing into\n",
    "# append                'a'        'ab'         End of file         If file does not exist, creates file. New data \n",
    "#                                                                   will be written at end of file. \n",
    "# append and read       'a+'       'ab+'        End of file         If file does not exist, creates file.\n",
    "\n",
    "# Exclusive creation     'x'        'xb'        Beginning of file   Opens a file for exclusive creation(new file). If \n",
    "#                                                                   the file already exists raises an error. \n",
    "# Text mode              't'                    Beginning of file   Default mode. You could say, a file without mode\n",
    "#                                                                   specified opens a file in Text mode for reading (both\n",
    "#                                                                   are defaults)\n",
    "\n",
    "# Please remember that handle(cursor) position mentioned above are Default positions. However, once operations have been \n",
    "# performed and cursor has been moved - write, read operations are performed from the current cursor position. \n"
   ]
  },
  {
   "cell_type": "code",
   "execution_count": 4,
   "id": "94c5073f",
   "metadata": {},
   "outputs": [
    {
     "name": "stdout",
     "output_type": "stream",
     "text": [
      "<_io.TextIOWrapper name='animal_jokes.txt' mode='r' encoding='cp1252'>\n"
     ]
    }
   ],
   "source": [
    "# To open a file we use the open function with the following syntax:\n",
    "\n",
    "#<variable_name> = open(file_name, mode)\n",
    "\n",
    "f = open('animal_jokes.txt', 'r')\n",
    "print(f)\n",
    "f.close()"
   ]
  },
  {
   "cell_type": "code",
   "execution_count": 5,
   "id": "40efc185",
   "metadata": {},
   "outputs": [
    {
     "name": "stdout",
     "output_type": "stream",
     "text": [
      "ï»¿Q: What do you call a sleeping bull?\n",
      "\n",
      "A: A bull-dozer.\n",
      "\n",
      "\n",
      "\n",
      "Break from animal jokes \n",
      "\n",
      "\n",
      "\n",
      "Q: How does a lion greet the other animals in the field?\n",
      "\n",
      "A: Pleased to eat you.\n",
      "\n",
      "Q: What did the farmer call the cow that had no milk?\n",
      "\n",
      "A: An udder failure.\n",
      "\n",
      "Q: Why do gorillas have big nostrils?\n",
      "\n",
      "A: Because they have big fingers!\n",
      "\n",
      "Q: What do you get from a pampered cow?\n",
      "\n",
      "A: Spoiled milk.\n",
      "\n",
      "Q: Why are teddy bears never hungry?\n",
      "\n",
      "A: They are always stuffed!\n",
      "\n",
      "Q: Why do fish live in salt water?\n",
      "\n",
      "A: Because pepper makes them sneeze!\n",
      "\n",
      "Q: What do you get from a pampered cow?\n",
      "\n",
      "A: Spoiled milk.\n",
      "\n",
      "Q: Where do polar bears vote?\n",
      "\n",
      "A: The North Poll\n",
      "\n",
      "Q: Why did the snake cross the road?\n",
      "\n",
      "A: To get to the other ssssssside!\n",
      "\n",
      "Q: Why are fish so smart?\n",
      "\n",
      "A: Because they live in schools.\n",
      "\n",
      "Q: What fish only swims at night?\n",
      "\n",
      "A: A starfish!\n",
      "\n",
      "Q: Why is a fish easy to weigh?\n",
      "\n",
      "A: Because it has its own scales!\n",
      "\n",
      "Q: What do you get when a chicken lays an egg on top of a barn?\n",
      "\n",
      "A: An eggroll!\n",
      "\n",
      "Q: Why didn't the chicken cross the road?\n",
      "\n",
      "A: Because there was a KFC on the other side!\n",
      "\n",
      "Q: Why did the chicken cross the road?\n",
      "\n",
      "A: To show everyone he wasn't chicken!\n",
      "\n",
      "Q: Why did the lion spit out the clown?\n",
      "\n",
      "A: Because he tasted funny!\n",
      "\n",
      "Q: What animals are on legal documents?\n",
      "\n",
      "A: Seals!\n",
      "\n",
      "Q: What do you get when you cross a snake and a pie?\n",
      "\n",
      "A: A pie-thon!\n",
      "\n",
      "Q: What did the buffalo say to his son when he went away on a trip?\n",
      "\n",
      "A: Bison!\n",
      "\n",
      "Q: How do bees get to school?\n",
      "\n",
      "A: By school buzz!\n",
      "\n",
      "Q: What do you call a bear with no ears?\n",
      "\n",
      "A: B!\n"
     ]
    }
   ],
   "source": [
    "f = open('animal_jokes.txt', 'r')\n",
    "for x in f.readlines():\n",
    "    print(x)\n",
    "#f.close()"
   ]
  },
  {
   "cell_type": "code",
   "execution_count": 6,
   "id": "97f34d5e",
   "metadata": {},
   "outputs": [
    {
     "name": "stdout",
     "output_type": "stream",
     "text": [
      "<_io.TextIOWrapper name='animal_jokes.txt' mode='r' encoding='cp1252'>\n"
     ]
    }
   ],
   "source": [
    "f = open('animal_jokes.txt', 'r')\n",
    "print(f)\n",
    "f.close()"
   ]
  },
  {
   "cell_type": "code",
   "execution_count": 7,
   "id": "8f1532f0",
   "metadata": {},
   "outputs": [
    {
     "name": "stdout",
     "output_type": "stream",
     "text": [
      "ï»¿Q: What do you call a sleeping bull?\n",
      "\n",
      "A: A bull-dozer.\n",
      "\n",
      "\n",
      "\n",
      "Break from animal jokes \n",
      "\n",
      "\n",
      "\n",
      "Q: How does a lion greet the other animals in the field?\n",
      "\n",
      "A: Pleased to eat you.\n",
      "\n",
      "Q: What did the farmer call the cow that had no milk?\n",
      "\n",
      "A: An udder failure.\n",
      "\n",
      "Q: Why do gorillas have big nostrils?\n",
      "\n",
      "A: Because they have big fingers!\n",
      "\n",
      "Q: What do you get from a pampered cow?\n",
      "\n",
      "A: Spoiled milk.\n",
      "\n",
      "Q: Why are teddy bears never hungry?\n",
      "\n",
      "A: They are always stuffed!\n",
      "\n",
      "Q: Why do fish live in salt water?\n",
      "\n",
      "A: Because pepper makes them sneeze!\n",
      "\n",
      "Q: What do you get from a pampered cow?\n",
      "\n",
      "A: Spoiled milk.\n",
      "\n",
      "Q: Where do polar bears vote?\n",
      "\n",
      "A: The North Poll\n",
      "\n",
      "Q: Why did the snake cross the road?\n",
      "\n",
      "A: To get to the other ssssssside!\n",
      "\n",
      "Q: Why are fish so smart?\n",
      "\n",
      "A: Because they live in schools.\n",
      "\n",
      "Q: What fish only swims at night?\n",
      "\n",
      "A: A starfish!\n",
      "\n",
      "Q: Why is a fish easy to weigh?\n",
      "\n",
      "A: Because it has its own scales!\n",
      "\n",
      "Q: What do you get when a chicken lays an egg on top of a barn?\n",
      "\n",
      "A: An eggroll!\n",
      "\n",
      "Q: Why didn't the chicken cross the road?\n",
      "\n",
      "A: Because there was a KFC on the other side!\n",
      "\n",
      "Q: Why did the chicken cross the road?\n",
      "\n",
      "A: To show everyone he wasn't chicken!\n",
      "\n",
      "Q: Why did the lion spit out the clown?\n",
      "\n",
      "A: Because he tasted funny!\n",
      "\n",
      "Q: What animals are on legal documents?\n",
      "\n",
      "A: Seals!\n",
      "\n",
      "Q: What do you get when you cross a snake and a pie?\n",
      "\n",
      "A: A pie-thon!\n",
      "\n",
      "Q: What did the buffalo say to his son when he went away on a trip?\n",
      "\n",
      "A: Bison!\n",
      "\n",
      "Q: How do bees get to school?\n",
      "\n",
      "A: By school buzz!\n",
      "\n",
      "Q: What do you call a bear with no ears?\n",
      "\n",
      "A: B!\n"
     ]
    }
   ],
   "source": [
    "f = open('animal_jokes.txt', 'r')\n",
    "for x in f.readlines():\n",
    "    print(x)\n",
    "f.close()"
   ]
  },
  {
   "cell_type": "code",
   "execution_count": 8,
   "id": "44d03005",
   "metadata": {},
   "outputs": [],
   "source": [
    "# The open function takes several parameters. Some of these are:\n",
    "\n",
    "#1. File name as string - mandatory\n",
    "#2. Mode - optional. If not specified opens as a text file in read only mode. \n",
    "#3. Buffer size - optional - Default is system dependent (usually 4096 or 8192 bytes). 0 means no buffering, 1 means until\n",
    "# new line. Otherwise buffersize can be specified.\n",
    "#4. Encoding - Optional Specifies encoding (Unicode - <UTF8,UTF16, UTF32>, ascii, cp1252 etc.)\n",
    "#5. Errors - Optional - \n",
    "#   'strict’ (Default) - raises an UnicodeError exception on failure\n",
    "#   ‘backslashreplace’ - the unencodable character is replaced by a backslash\n",
    "#   ‘ignore’ - the unencodable character is ignored\n",
    "#   ‘namereplace’ - the unencodable character is replaced by its name\n",
    "#   ‘replace’ - the unencodable character is replaced by questionmark\n",
    "#   ‘xmlcharrefreplace’ - the unencodable character is replaced by an xml characterine\n",
    "\n",
    "# Buffering is storing the information from the input(writing to file) into a buffer and not directly sending it to the file\n",
    "# Therefore, if 1 is specified as the buffer, then input is written to file once a newline is reached. If a buffer size of\n",
    "# 500 is specified, when the buffer is full, input is written to file. If 0 is specified, then buffering is off and files\n",
    "# are written directly to the file. By default, writing to the file happens when file object is closed(removed from\n",
    "# temporary memory).\n",
    "\n",
    "# It is useful when using large file sizes with high latency (i.e. input from source is slow, then with buffering the \n",
    "# program has to make fewer system calls to write and program speed is faster). On the other hand, working with large file\n",
    "# sizes with fast streaming data may overflow the buffer causing a system issue (like a crash).\n",
    "\n",
    "# The effects of buffering will not be visible until we have huge file sizes and/or latency - therefore, we shall skip \n",
    "# examples of buffering parameter.\n",
    "\n",
    "#Encoding and errors - parameters are the same as for bytes objects.\n",
    "\n"
   ]
  },
  {
   "cell_type": "code",
   "execution_count": 9,
   "id": "c1676719",
   "metadata": {},
   "outputs": [],
   "source": [
    "# We need to open the file saved on our hard disk in primary(RAM) memory for working on the file. Therefore, the need to \n",
    "# specify a variable to create the file object and perform operations. Several methods can now be applied to this file\n",
    "# object"
   ]
  },
  {
   "cell_type": "code",
   "execution_count": 10,
   "id": "e335e97e",
   "metadata": {},
   "outputs": [
    {
     "name": "stdout",
     "output_type": "stream",
     "text": [
      "ï»¿Q: What do you call a sleeping bull?\n",
      "A: A bull-dozer.\n",
      "\n",
      "Break from animal jokes \n",
      "\n",
      "Q: How does a lion greet the other animals in the field?\n",
      "A: Pleased to eat you.\n",
      "Q: What did the farmer call the cow that had no milk?\n",
      "A: An udder failure.\n",
      "Q: Why do gorillas have big nostrils?\n",
      "A: Because they have big fingers!\n",
      "Q: What do you get from a pampered cow?\n",
      "A: Spoiled milk.\n",
      "Q: Why are teddy bears never hungry?\n",
      "A: They are always stuffed!\n",
      "Q: Why do fish live in salt water?\n",
      "A: Because pepper makes them sneeze!\n",
      "Q: What do you get from a pampered cow?\n",
      "A: Spoiled milk.\n",
      "Q: Where do polar bears vote?\n",
      "A: The North Poll\n",
      "Q: Why did the snake cross the road?\n",
      "A: To get to the other ssssssside!\n",
      "Q: Why are fish so smart?\n",
      "A: Because they live in schools.\n",
      "Q: What fish only swims at night?\n",
      "A: A starfish!\n",
      "Q: Why is a fish easy to weigh?\n",
      "A: Because it has its own scales!\n",
      "Q: What do you get when a chicken lays an egg on top of a barn?\n",
      "A: An eggroll!\n",
      "Q: Why didn't the chicken cross the road?\n",
      "A: Because there was a KFC on the other side!\n",
      "Q: Why did the chicken cross the road?\n",
      "A: To show everyone he wasn't chicken!\n",
      "Q: Why did the lion spit out the clown?\n",
      "A: Because he tasted funny!\n",
      "Q: What animals are on legal documents?\n",
      "A: Seals!\n",
      "Q: What do you get when you cross a snake and a pie?\n",
      "A: A pie-thon!\n",
      "Q: What did the buffalo say to his son when he went away on a trip?\n",
      "A: Bison!\n",
      "Q: How do bees get to school?\n",
      "A: By school buzz!\n",
      "Q: What do you call a bear with no ears?\n",
      "A: B!\n"
     ]
    }
   ],
   "source": [
    "# open files need to be closed with the close function using the following syntax:\n",
    "\n",
    "# <variable_name>.close()\n",
    "\n",
    "# However, to ensure that in case of any errors that data is not lost or files do not get corrupted (since we have not\n",
    "# closed the file properly), it is good practice to build in exception handling as follows : \n",
    "\n",
    "f = open('animal_jokes.txt', 'r')\n",
    "try:\n",
    "    data = f.read()\n",
    "    print(data)\n",
    "finally:\n",
    "    f.close()"
   ]
  },
  {
   "cell_type": "code",
   "execution_count": 11,
   "id": "5d44b7f0",
   "metadata": {},
   "outputs": [
    {
     "name": "stdout",
     "output_type": "stream",
     "text": [
      "ï»¿Q: What do you call a sleeping bull?\n",
      "\n",
      "A: A bull-dozer.\n",
      "\n"
     ]
    }
   ],
   "source": [
    "#An alternate way to open files is with the 'with' keyword which opens a context manager. Internally, the context manager\n",
    "# calls the __enter__ constructor and open the files with this context and upon completing the execution automatically calls\n",
    "# the __exit__ constructor to close the file. \n",
    "\n",
    "with open('animal_jokes.txt', 'r') as f:\n",
    "    for x in f.readlines(50):\n",
    "        print(x)"
   ]
  },
  {
   "cell_type": "code",
   "execution_count": 12,
   "id": "32bb46bc",
   "metadata": {},
   "outputs": [
    {
     "name": "stdout",
     "output_type": "stream",
     "text": [
      "True\n"
     ]
    }
   ],
   "source": [
    "print(f.closed)"
   ]
  },
  {
   "cell_type": "code",
   "execution_count": 13,
   "id": "05ec1754",
   "metadata": {},
   "outputs": [],
   "source": [
    "# As you can notice the file has already been closed."
   ]
  },
  {
   "cell_type": "code",
   "execution_count": 14,
   "id": "3e8ca82b",
   "metadata": {},
   "outputs": [
    {
     "name": "stdout",
     "output_type": "stream",
     "text": [
      "ï»¿Q: What do you call a sleeping bull?\n",
      "\n",
      "A: A bull-dozer.\n",
      "\n",
      "False\n",
      "Closing file object, None.\n",
      "True\n"
     ]
    }
   ],
   "source": [
    "f = open('animal_jokes.txt', 'r')\n",
    "for x in f.readlines(50):\n",
    "    print(x)\n",
    "    \n",
    "print(f.closed)\n",
    "\n",
    "print(f'Closing file object, {f.close()}.')\n",
    "\n",
    "print(f.closed)"
   ]
  },
  {
   "cell_type": "code",
   "execution_count": 15,
   "id": "7b2a71a0",
   "metadata": {},
   "outputs": [
    {
     "name": "stdout",
     "output_type": "stream",
     "text": [
      "ï»¿Q: What do you call a sleeping bull?\n",
      "\n",
      "A: A bull-dozer.\n",
      "\n",
      "\n",
      "\n",
      "Break from animal jokes \n",
      "\n",
      "\n",
      "\n",
      "Q: How does a lion greet the other animals in the field?\n",
      "\n",
      "A: Pleased to eat you.\n",
      "\n",
      "Q: What did the farmer call the cow that had no milk?\n",
      "\n"
     ]
    },
    {
     "ename": "UnsupportedOperation",
     "evalue": "not writable",
     "output_type": "error",
     "traceback": [
      "\u001b[1;31m---------------------------------------------------------------------------\u001b[0m",
      "\u001b[1;31mUnsupportedOperation\u001b[0m                      Traceback (most recent call last)",
      "\u001b[1;32m<ipython-input-15-853a4cb43d8f>\u001b[0m in \u001b[0;36m<module>\u001b[1;34m\u001b[0m\n\u001b[0;32m      4\u001b[0m     \u001b[1;32mfor\u001b[0m \u001b[0mx\u001b[0m \u001b[1;32min\u001b[0m \u001b[0mf\u001b[0m\u001b[1;33m.\u001b[0m\u001b[0mreadlines\u001b[0m\u001b[1;33m(\u001b[0m\u001b[1;36m200\u001b[0m\u001b[1;33m)\u001b[0m\u001b[1;33m:\u001b[0m\u001b[1;33m\u001b[0m\u001b[1;33m\u001b[0m\u001b[0m\n\u001b[0;32m      5\u001b[0m         \u001b[0mprint\u001b[0m\u001b[1;33m(\u001b[0m\u001b[0mx\u001b[0m\u001b[1;33m)\u001b[0m\u001b[1;33m\u001b[0m\u001b[1;33m\u001b[0m\u001b[0m\n\u001b[1;32m----> 6\u001b[1;33m     \u001b[0mf\u001b[0m\u001b[1;33m.\u001b[0m\u001b[0mwrite\u001b[0m\u001b[1;33m(\u001b[0m\u001b[1;34m'XYZ'\u001b[0m\u001b[1;33m)\u001b[0m\u001b[1;33m\u001b[0m\u001b[1;33m\u001b[0m\u001b[0m\n\u001b[0m",
      "\u001b[1;31mUnsupportedOperation\u001b[0m: not writable"
     ]
    }
   ],
   "source": [
    "# Opening file without default mode. \n",
    "\n",
    "with open('animal_jokes.txt') as f:\n",
    "    for x in f.readlines(200):\n",
    "        print(x)\n",
    "    f.write('XYZ')"
   ]
  },
  {
   "cell_type": "code",
   "execution_count": 16,
   "id": "fb7d58ac",
   "metadata": {},
   "outputs": [],
   "source": [
    "# As we can see a text file with read only permissions has been opened which when we tried to write to gave us an\n",
    "# UnsupportedOperation error : 'not writable'"
   ]
  },
  {
   "cell_type": "code",
   "execution_count": 17,
   "id": "7b0797da",
   "metadata": {},
   "outputs": [
    {
     "name": "stdout",
     "output_type": "stream",
     "text": [
      "ï»¿Q: What do you call a sleeping bull?\n",
      "\n",
      "A: A bull-dozer.\n",
      "\n",
      "\n",
      "\n",
      "Break from animal jokes \n",
      "\n",
      "\n",
      "\n",
      "Q: How does a lion greet the other animals in the field?\n",
      "\n",
      "A: Pleased to eat you.\n",
      "\n",
      "Q: What did the farmer call the cow that had no milk?\n",
      "\n"
     ]
    }
   ],
   "source": [
    "with open('animal_jokes.txt', 'r') as f:\n",
    "    for x in f.readlines(200):\n",
    "        print(x)"
   ]
  },
  {
   "cell_type": "code",
   "execution_count": 18,
   "id": "d501a81f",
   "metadata": {},
   "outputs": [
    {
     "ename": "UnsupportedOperation",
     "evalue": "not writable",
     "output_type": "error",
     "traceback": [
      "\u001b[1;31m---------------------------------------------------------------------------\u001b[0m",
      "\u001b[1;31mUnsupportedOperation\u001b[0m                      Traceback (most recent call last)",
      "\u001b[1;32m<ipython-input-18-9f6b0a167a6d>\u001b[0m in \u001b[0;36m<module>\u001b[1;34m\u001b[0m\n\u001b[0;32m      1\u001b[0m \u001b[1;32mwith\u001b[0m \u001b[0mopen\u001b[0m\u001b[1;33m(\u001b[0m\u001b[1;34m'animal_jokes.txt'\u001b[0m\u001b[1;33m,\u001b[0m \u001b[1;34m'r'\u001b[0m\u001b[1;33m)\u001b[0m \u001b[1;32mas\u001b[0m \u001b[0mf\u001b[0m\u001b[1;33m:\u001b[0m\u001b[1;33m\u001b[0m\u001b[1;33m\u001b[0m\u001b[0m\n\u001b[1;32m----> 2\u001b[1;33m     \u001b[0mf\u001b[0m\u001b[1;33m.\u001b[0m\u001b[0mwrite\u001b[0m\u001b[1;33m(\u001b[0m\u001b[1;34m'\\nXYZ'\u001b[0m\u001b[1;33m)\u001b[0m\u001b[1;33m\u001b[0m\u001b[1;33m\u001b[0m\u001b[0m\n\u001b[0m",
      "\u001b[1;31mUnsupportedOperation\u001b[0m: not writable"
     ]
    }
   ],
   "source": [
    "with open('animal_jokes.txt', 'r') as f:\n",
    "    f.write('\\nXYZ')"
   ]
  },
  {
   "cell_type": "code",
   "execution_count": 60,
   "id": "83e7384a",
   "metadata": {},
   "outputs": [],
   "source": [
    "# As with default mode (i.e without specifying 'r', we cannot write to the file)"
   ]
  },
  {
   "cell_type": "code",
   "execution_count": 61,
   "id": "7b9a886d",
   "metadata": {},
   "outputs": [],
   "source": [
    "with open('animal_jokes.txt', 'r+') as f:\n",
    "    f.write('\\nXYZ')\n",
    "    "
   ]
  },
  {
   "cell_type": "code",
   "execution_count": 62,
   "id": "5b10852e",
   "metadata": {},
   "outputs": [
    {
     "name": "stdout",
     "output_type": "stream",
     "text": [
      "\n",
      "\n",
      "XYZ\n"
     ]
    }
   ],
   "source": [
    "with open('animal_jokes.txt', 'r') as f:\n",
    "    for x in f.readlines():\n",
    "        print(x)"
   ]
  },
  {
   "cell_type": "code",
   "execution_count": 63,
   "id": "49a23f10",
   "metadata": {},
   "outputs": [
    {
     "name": "stdout",
     "output_type": "stream",
     "text": [
      "\n",
      "\n",
      "XYZ\n"
     ]
    }
   ],
   "source": [
    "with open('animal_jokes.txt', 'r+') as f:\n",
    "    for x in f.readlines():\n",
    "        print(x)\n",
    "    f.write('June 24th Batch')"
   ]
  },
  {
   "cell_type": "code",
   "execution_count": 64,
   "id": "81a2a8c5",
   "metadata": {},
   "outputs": [],
   "source": [
    "# r+ = Read mode but allowing to write. And your cursor is at beginning of file by default.\n",
    "# w+ = Write mode - that means file is truncated. Your cursor at beginning file. "
   ]
  },
  {
   "cell_type": "code",
   "execution_count": 65,
   "id": "82c46678",
   "metadata": {},
   "outputs": [],
   "source": [
    "# opening files in write only mode. \n",
    "\n",
    "with open('animal_jokes.txt', 'w') as f:\n",
    "    f.write('\\nXYZ')"
   ]
  },
  {
   "cell_type": "code",
   "execution_count": 66,
   "id": "36a64509",
   "metadata": {},
   "outputs": [
    {
     "name": "stdout",
     "output_type": "stream",
     "text": [
      "\n",
      "\n",
      "XYZ\n"
     ]
    }
   ],
   "source": [
    "with open('animal_jokes.txt', 'r') as f:\n",
    "    for x in f.readlines():\n",
    "        print(x)"
   ]
  },
  {
   "cell_type": "code",
   "execution_count": 67,
   "id": "8f536a72",
   "metadata": {},
   "outputs": [
    {
     "ename": "UnsupportedOperation",
     "evalue": "not readable",
     "output_type": "error",
     "traceback": [
      "\u001b[1;31m---------------------------------------------------------------------------\u001b[0m",
      "\u001b[1;31mUnsupportedOperation\u001b[0m                      Traceback (most recent call last)",
      "\u001b[1;32m<ipython-input-67-9f156d863a55>\u001b[0m in \u001b[0;36m<module>\u001b[1;34m\u001b[0m\n\u001b[0;32m      1\u001b[0m \u001b[1;32mwith\u001b[0m \u001b[0mopen\u001b[0m\u001b[1;33m(\u001b[0m\u001b[1;34m'animal_jokes.txt'\u001b[0m\u001b[1;33m,\u001b[0m \u001b[1;34m'w'\u001b[0m\u001b[1;33m)\u001b[0m \u001b[1;32mas\u001b[0m \u001b[0mf\u001b[0m\u001b[1;33m:\u001b[0m\u001b[1;33m\u001b[0m\u001b[1;33m\u001b[0m\u001b[0m\n\u001b[1;32m----> 2\u001b[1;33m     \u001b[1;32mfor\u001b[0m \u001b[0mx\u001b[0m \u001b[1;32min\u001b[0m \u001b[0mf\u001b[0m\u001b[1;33m.\u001b[0m\u001b[0mreadlines\u001b[0m\u001b[1;33m(\u001b[0m\u001b[1;33m)\u001b[0m\u001b[1;33m:\u001b[0m\u001b[1;33m\u001b[0m\u001b[1;33m\u001b[0m\u001b[0m\n\u001b[0m\u001b[0;32m      3\u001b[0m         \u001b[0mprint\u001b[0m\u001b[1;33m(\u001b[0m\u001b[0mx\u001b[0m\u001b[1;33m)\u001b[0m\u001b[1;33m\u001b[0m\u001b[1;33m\u001b[0m\u001b[0m\n",
      "\u001b[1;31mUnsupportedOperation\u001b[0m: not readable"
     ]
    }
   ],
   "source": [
    "with open('animal_jokes.txt', 'w') as f:\n",
    "    for x in f.readlines():\n",
    "        print(x)"
   ]
  },
  {
   "cell_type": "code",
   "execution_count": null,
   "id": "53040712",
   "metadata": {},
   "outputs": [],
   "source": [
    "# Note the not readable error."
   ]
  },
  {
   "cell_type": "code",
   "execution_count": null,
   "id": "efcaeb36",
   "metadata": {},
   "outputs": [],
   "source": [
    "with open('animal_jokes.txt', 'w+') as f:\n",
    "    for x in f.readlines():\n",
    "        print(x)\n",
    "    "
   ]
  },
  {
   "cell_type": "code",
   "execution_count": null,
   "id": "f9575b49",
   "metadata": {},
   "outputs": [],
   "source": [
    "# Note how there is no output - because w and w+ erase the contents of the file when opening in these modes. Therefore in\n",
    "# the second example also we have no content to read."
   ]
  },
  {
   "cell_type": "code",
   "execution_count": null,
   "id": "66eb1369",
   "metadata": {},
   "outputs": [],
   "source": [
    "# Re-writing the text to the animals_jokes file using multiple with open\n",
    "\n",
    "with open('animal_jokes.txt', 'w+') as aj, open('animal_jokes_Copy.txt', 'r') as ajCopy:\n",
    "    data = ajCopy.readlines()\n",
    "    aj.writelines(data)\n"
   ]
  },
  {
   "cell_type": "code",
   "execution_count": null,
   "id": "422a8d5e",
   "metadata": {},
   "outputs": [],
   "source": [
    "#Write mode to create a file"
   ]
  },
  {
   "cell_type": "code",
   "execution_count": null,
   "id": "642490a3",
   "metadata": {},
   "outputs": [],
   "source": [
    "with open('New_file.txt', 'w') as nf:\n",
    "    nf.write('This is a new file')\n"
   ]
  },
  {
   "cell_type": "code",
   "execution_count": null,
   "id": "e5911b09",
   "metadata": {},
   "outputs": [],
   "source": [
    "with open('New_file.txt', 'r') as nf:\n",
    "    for x in nf:\n",
    "        print(x)"
   ]
  },
  {
   "cell_type": "code",
   "execution_count": null,
   "id": "b77e8a18",
   "metadata": {},
   "outputs": [],
   "source": [
    "# w+ mode to create a file\n",
    "with open('New_file2.txt', 'w+') as nf:\n",
    "    nf.write('2nd new file')\n",
    "    nf.seek(0)\n",
    "    for x in nf.readlines():\n",
    "        print(x)\n",
    "    "
   ]
  },
  {
   "cell_type": "code",
   "execution_count": null,
   "id": "7461a072",
   "metadata": {},
   "outputs": [],
   "source": [
    "with open('New_file2.txt', 'r') as nf:\n",
    "    for x in nf:\n",
    "        print(x)"
   ]
  },
  {
   "cell_type": "code",
   "execution_count": null,
   "id": "0ca1fc36",
   "metadata": {},
   "outputs": [],
   "source": [
    "#Append mode and append+ mode."
   ]
  },
  {
   "cell_type": "code",
   "execution_count": null,
   "id": "dff8e637",
   "metadata": {},
   "outputs": [],
   "source": [
    "with open('animal_jokes.txt', 'a') as f:\n",
    "    f.write('\\nABC')"
   ]
  },
  {
   "cell_type": "code",
   "execution_count": null,
   "id": "e0e6e316",
   "metadata": {},
   "outputs": [],
   "source": [
    "with open('animal_jokes.txt', 'r') as f:\n",
    "    for x in f.readlines():\n",
    "        print(x)"
   ]
  },
  {
   "cell_type": "code",
   "execution_count": null,
   "id": "746064e2",
   "metadata": {},
   "outputs": [],
   "source": [
    "with open('animal_jokes.txt', 'a') as f:\n",
    "    for x in f.readlines():\n",
    "        print(x)"
   ]
  },
  {
   "cell_type": "code",
   "execution_count": null,
   "id": "f786487c",
   "metadata": {},
   "outputs": [],
   "source": [
    "# Note how when opened in 'a' mode - file is not readable."
   ]
  },
  {
   "cell_type": "code",
   "execution_count": null,
   "id": "663dbe96",
   "metadata": {},
   "outputs": [],
   "source": [
    "with open('animal_jokes.txt', 'a+') as f:\n",
    "    for x in f.readlines():\n",
    "        print(x)"
   ]
  },
  {
   "cell_type": "code",
   "execution_count": null,
   "id": "281e178f",
   "metadata": {},
   "outputs": [],
   "source": [
    "with open('animal_jokes.txt', 'r') as f:\n",
    "    for x in f.readlines():\n",
    "        print(x)"
   ]
  },
  {
   "cell_type": "code",
   "execution_count": null,
   "id": "e91b33c4",
   "metadata": {},
   "outputs": [],
   "source": [
    "# Note no output since the cursor is at end of file. "
   ]
  },
  {
   "cell_type": "code",
   "execution_count": null,
   "id": "0a7630e5",
   "metadata": {},
   "outputs": [],
   "source": [
    "with open('animal_jokes.txt', 'a+') as f:\n",
    "    f.seek(0)\n",
    "    for x in f.readlines():\n",
    "        print(x)"
   ]
  },
  {
   "cell_type": "code",
   "execution_count": null,
   "id": "7b1369a0",
   "metadata": {},
   "outputs": [],
   "source": [
    "# Before we go on to the binary file types in Python, let us study the methods available on file objects in Python."
   ]
  },
  {
   "cell_type": "code",
   "execution_count": null,
   "id": "bcab4cfb",
   "metadata": {},
   "outputs": [],
   "source": [
    "#Method          Description\n",
    "# close()        Closes the file\n",
    "# detach()       Returns the separated raw stream from the buffer\n",
    "# fileno()       Returns a number that represents the stream, from the operating system's perspective\n",
    "# flush()        Flushes the internal buffer\n",
    "# isatty()       Returns whether the file stream is interactive or not\n",
    "# read()         Returns the file content\n",
    "# readable()     Returns whether the file stream can be read or not\n",
    "# readline()     Returns one line from the file\n",
    "# readlines()    Returns a list of lines from the file\n",
    "# seek()         Change the file handle position\n",
    "# seekable()     Returns whether the file allows us to change the handle position\n",
    "# tell()         Returns the current file handle position\n",
    "# truncate()     Resizes the file to a specified size\n",
    "# writable()     Returns whether the file can be written to or not\n",
    "# write()        Writes the specified string to the file\n",
    "# writelines()   Writes a list of strings to the file"
   ]
  },
  {
   "cell_type": "code",
   "execution_count": null,
   "id": "6caaa196",
   "metadata": {},
   "outputs": [],
   "source": [
    "# Attributes:\n",
    "\n",
    "# closed - Returns True if the file is closed and False when the file is open.\n",
    "# encoding - Encoding used for the file.\n",
    "# mode - Value of mode parameter.\n",
    "# name: If the file object was created using open(), the name of the file.\n",
    "# newlines: A file object that has been opened in universal newline mode has this attribute which reflects the newline\n",
    "# convention used in the file. The value for this attribute are “\\r”, “\\n”, “\\r\\n”, None or a tuple containing all the\n",
    "# newline types seen.\n",
    "# softspace: It is a boolean that indicates whether a space character needs to be printed before another value when using\n",
    "# the print statement.\n",
    "\n"
   ]
  },
  {
   "cell_type": "code",
   "execution_count": null,
   "id": "f21bca70",
   "metadata": {},
   "outputs": [],
   "source": [
    "with open('animal_jokes.txt') as f:\n",
    "    print(f.softspace)"
   ]
  },
  {
   "cell_type": "code",
   "execution_count": null,
   "id": "9f6270d5",
   "metadata": {},
   "outputs": [],
   "source": [
    "# close() function call and close attribute\n",
    "f = open('animal_jokes.txt', 'r')\n",
    "print(f.closed)\n",
    "f.close()\n",
    "print(f.closed)"
   ]
  },
  {
   "cell_type": "code",
   "execution_count": null,
   "id": "500638fc",
   "metadata": {},
   "outputs": [],
   "source": [
    "#Note - close() function call closes the file while closed attribute returns True or False indicating the state of the \n",
    "# file object."
   ]
  },
  {
   "cell_type": "code",
   "execution_count": null,
   "id": "dd8dfe92",
   "metadata": {},
   "outputs": [],
   "source": [
    "# read method - extracts the contents of the file character by character. It can take one parameter, the size (characters or\n",
    "# bytes) to be read."
   ]
  },
  {
   "cell_type": "code",
   "execution_count": null,
   "id": "36a219dc",
   "metadata": {},
   "outputs": [],
   "source": [
    "with open('animal_jokes.txt', 'r') as f:\n",
    "    for x in f.read():\n",
    "        print(x)"
   ]
  },
  {
   "cell_type": "code",
   "execution_count": null,
   "id": "290e381c",
   "metadata": {},
   "outputs": [],
   "source": [
    "with open('animal_jokes.txt', 'r') as f:\n",
    "    for x in f.read(20):\n",
    "        print(x)\n",
    "\n"
   ]
  },
  {
   "cell_type": "code",
   "execution_count": null,
   "id": "6080e0f4",
   "metadata": {},
   "outputs": [],
   "source": [
    "f = open('animal_jokes.txt', 'r')\n",
    "for x in f.read(50):\n",
    "    print(x)"
   ]
  },
  {
   "cell_type": "code",
   "execution_count": null,
   "id": "17002320",
   "metadata": {},
   "outputs": [],
   "source": [
    "for x in f.read():\n",
    "    print(x)"
   ]
  },
  {
   "cell_type": "code",
   "execution_count": null,
   "id": "f3b1a64e",
   "metadata": {},
   "outputs": [],
   "source": [
    "# Note how the second for loop gives no output? That is because file objects themselves are iterators i.e. the iter() \n",
    "# function is called on creating the file object. And once exhausted cannot be used. \n",
    "\n",
    "f.close()\n",
    "\n",
    "#Therefore, it is best to save the output of read, readlines etc to another variable, perform operations and then write back\n",
    "# to file.\n",
    "\n",
    "with open('animal_jokes.txt', 'r+') as f:\n",
    "    data = f.readlines()\n",
    "    data.insert(2,'\\nBreak from animal jokes \\n\\n')\n",
    "    f.seek(0)\n",
    "    f.writelines(data)\n",
    "print(data)"
   ]
  },
  {
   "cell_type": "code",
   "execution_count": 82,
   "id": "7b08516c",
   "metadata": {},
   "outputs": [],
   "source": [
    "with open('animal_jokes.txt', 'r+') as f:\n",
    "    f.write('\\nI hope you like animal jokes\\n\\n')\n",
    "\n",
    "#Note how - since we did not do any read operations, cursor is at beginning of file and overwrote the portion of file till\n",
    "# the inserted string."
   ]
  },
  {
   "cell_type": "code",
   "execution_count": 83,
   "id": "da4f3124",
   "metadata": {},
   "outputs": [],
   "source": [
    "with open('animal_jokes.txt', 'r+') as f:\n",
    "    f.seek(200)\n",
    "    f.write('\\nBreak from animal jokes \\n\\n')\n",
    "\n",
    "# Inserted the specified string at specified index position."
   ]
  },
  {
   "cell_type": "code",
   "execution_count": 84,
   "id": "cc798302",
   "metadata": {},
   "outputs": [
    {
     "name": "stdout",
     "output_type": "stream",
     "text": [
      "1428\n"
     ]
    }
   ],
   "source": [
    "with open('animal_jokes.txt', 'r') as f:\n",
    "    print(len(f.read()))"
   ]
  },
  {
   "cell_type": "code",
   "execution_count": 85,
   "id": "27e3190f",
   "metadata": {},
   "outputs": [
    {
     "name": "stdout",
     "output_type": "stream",
     "text": [
      "49\n"
     ]
    }
   ],
   "source": [
    "with open('animal_jokes.txt', 'r') as f:\n",
    "    print(len(f.readlines()))"
   ]
  },
  {
   "cell_type": "code",
   "execution_count": 87,
   "id": "84e775ab",
   "metadata": {},
   "outputs": [
    {
     "name": "stdout",
     "output_type": "stream",
     "text": [
      "A: Because they have big fingers!\n",
      "\n"
     ]
    }
   ],
   "source": [
    "with open('animal_jokes.txt', 'r') as f:\n",
    "    print(f.readlines()[12])\n"
   ]
  },
  {
   "cell_type": "code",
   "execution_count": null,
   "id": "0558ccb1",
   "metadata": {},
   "outputs": [],
   "source": [
    "# readline method for file objects - reads until the newline character is reached. On next readline call - it will read\n",
    "# from where the handle/cursor stopped at last iteration."
   ]
  },
  {
   "cell_type": "code",
   "execution_count": 88,
   "id": "a09c0973",
   "metadata": {},
   "outputs": [],
   "source": [
    "with open('animal_jokes.txt', 'w+') as aj, open('animal_jokes_Copy.txt', 'r') as ajCopy:\n",
    "    data = ajCopy.readlines()\n",
    "    aj.writelines(data)\n"
   ]
  },
  {
   "cell_type": "code",
   "execution_count": 89,
   "id": "5d57a858",
   "metadata": {},
   "outputs": [
    {
     "name": "stdout",
     "output_type": "stream",
     "text": [
      "ï\n",
      "»\n",
      "¿\n",
      "Q\n",
      ":\n",
      " \n",
      "W\n",
      "h\n",
      "a\n",
      "t\n",
      " \n",
      "d\n",
      "o\n",
      " \n",
      "y\n",
      "o\n",
      "u\n",
      " \n",
      "c\n",
      "a\n",
      "l\n",
      "l\n",
      " \n",
      "a\n",
      " \n",
      "s\n",
      "l\n",
      "e\n",
      "e\n",
      "p\n",
      "i\n",
      "n\n",
      "g\n",
      " \n",
      "b\n",
      "u\n",
      "l\n",
      "l\n",
      "?\n",
      "\n",
      "\n"
     ]
    }
   ],
   "source": [
    "with open('animal_jokes.txt', 'r') as f:\n",
    "    for x in f.readline():\n",
    "        print(x)\n"
   ]
  },
  {
   "cell_type": "code",
   "execution_count": 90,
   "id": "d3ac2a7f",
   "metadata": {},
   "outputs": [
    {
     "name": "stdout",
     "output_type": "stream",
     "text": [
      "ï»¿Q: What do you call a sleeping bull?\n",
      "\n"
     ]
    }
   ],
   "source": [
    "f = open('animal_jokes.txt', 'r')\n",
    "print(f.readline())"
   ]
  },
  {
   "cell_type": "code",
   "execution_count": 91,
   "id": "e516ec49",
   "metadata": {},
   "outputs": [
    {
     "name": "stdout",
     "output_type": "stream",
     "text": [
      "A: A bull-dozer.\n",
      "\n"
     ]
    }
   ],
   "source": [
    "print(f.readline())"
   ]
  },
  {
   "cell_type": "code",
   "execution_count": 92,
   "id": "dafbde68",
   "metadata": {},
   "outputs": [
    {
     "name": "stdout",
     "output_type": "stream",
     "text": [
      "Q: How does a lion greet the other animals in the field?\n",
      "\n"
     ]
    }
   ],
   "source": [
    "print(f.readline())"
   ]
  },
  {
   "cell_type": "code",
   "execution_count": 93,
   "id": "5c0bcc8a",
   "metadata": {},
   "outputs": [
    {
     "name": "stdout",
     "output_type": "stream",
     "text": [
      "A: Pleased to eat you.\n",
      "\n"
     ]
    }
   ],
   "source": [
    "print(f.readline())"
   ]
  },
  {
   "cell_type": "code",
   "execution_count": 94,
   "id": "36e70032",
   "metadata": {},
   "outputs": [],
   "source": [
    "f.close()"
   ]
  },
  {
   "cell_type": "code",
   "execution_count": 97,
   "id": "18f53bd5",
   "metadata": {},
   "outputs": [
    {
     "name": "stdout",
     "output_type": "stream",
     "text": [
      "['ï»¿Q: What do you call a sleeping bull?\\n', 'A: A bull-dozer.\\n', 'Q: How does a lion greet the other animals in the field?\\n', 'A: Pleased to eat you.\\n', 'Q: What did the farmer call the cow that had no milk?\\n']\n"
     ]
    }
   ],
   "source": [
    "#Readlines method returns all the lines in the document in the form of a list. \n",
    "with open('animal_jokes.txt', 'r') as f:\n",
    "    print(f.readlines()[:5])\n",
    "    "
   ]
  },
  {
   "cell_type": "code",
   "execution_count": 99,
   "id": "06f30857",
   "metadata": {},
   "outputs": [
    {
     "name": "stdout",
     "output_type": "stream",
     "text": [
      "ï»¿Q: What do you call a sleeping bull?\n",
      "\n",
      "A: A bull-dozer.\n",
      "\n",
      "Q: How does a lion greet the other animals in the field?\n",
      "\n",
      "A: Pleased to eat you.\n",
      "\n",
      "Q: What did the farmer call the cow that had no milk?\n",
      "\n",
      "A: An udder failure.\n",
      "\n",
      "Q: Why do gorillas have big nostrils?\n",
      "\n",
      "A: Because they have big fingers!\n",
      "\n",
      "Q: What do you get from a pampered cow?\n",
      "\n",
      "A: Spoiled milk.\n",
      "\n",
      "Q: Why are teddy bears never hungry?\n",
      "\n",
      "A: They are always stuffed!\n",
      "\n",
      "Q: Why do fish live in salt water?\n",
      "\n",
      "A: Because pepper makes them sneeze!\n",
      "\n",
      "Q: What do you get from a pampered cow?\n",
      "\n",
      "A: Spoiled milk.\n",
      "\n",
      "Q: Where do polar bears vote?\n",
      "\n",
      "A: The North Poll\n",
      "\n",
      "Q: Why did the snake cross the road?\n",
      "\n",
      "A: To get to the other ssssssside!\n",
      "\n",
      "Q: Why are fish so smart?\n",
      "\n",
      "A: Because they live in schools.\n",
      "\n",
      "Q: What fish only swims at night?\n",
      "\n",
      "A: A starfish!\n",
      "\n",
      "Q: Why is a fish easy to weigh?\n",
      "\n",
      "A: Because it has its own scales!\n",
      "\n",
      "Q: What do you get when a chicken lays an egg on top of a barn?\n",
      "\n",
      "A: An eggroll!\n",
      "\n",
      "Q: Why didn't the chicken cross the road?\n",
      "\n",
      "A: Because there was a KFC on the other side!\n",
      "\n",
      "Q: Why did the chicken cross the road?\n",
      "\n",
      "A: To show everyone he wasn't chicken!\n",
      "\n",
      "Q: Why did the lion spit out the clown?\n",
      "\n",
      "A: Because he tasted funny!\n",
      "\n",
      "Q: What animals are on legal documents?\n",
      "\n",
      "A: Seals!\n",
      "\n",
      "Q: What do you get when you cross a snake and a pie?\n",
      "\n",
      "A: A pie-thon!\n",
      "\n",
      "Q: What did the buffalo say to his son when he went away on a trip?\n",
      "\n",
      "A: Bison!\n",
      "\n",
      "Q: How do bees get to school?\n",
      "\n",
      "A: By school buzz!\n",
      "\n",
      "Q: What do you call a bear with no ears?\n",
      "\n",
      "A: B!\n"
     ]
    }
   ],
   "source": [
    "f = open('animal_jokes.txt', 'r')\n",
    "for x in f.readlines():\n",
    "    print(x)"
   ]
  },
  {
   "cell_type": "code",
   "execution_count": 100,
   "id": "51de396e",
   "metadata": {},
   "outputs": [
    {
     "name": "stdout",
     "output_type": "stream",
     "text": [
      "['ï»¿Q: What do you call a sleeping bull?', 'A: A bull-dozer.', 'Q: How does a lion greet the other animals in the field?', 'A: Pleased to eat you.', 'Q: What did the farmer call the cow that had no milk?', 'A: An udder failure.', 'Q: Why do gorillas have big nostrils?', 'A: Because they have big fingers!', 'Q: What do you get from a pampered cow?', 'A: Spoiled milk.', 'Q: Why are teddy bears never hungry?', 'A: They are always stuffed!', 'Q: Why do fish live in salt water?', 'A: Because pepper makes them sneeze!', 'Q: What do you get from a pampered cow?', 'A: Spoiled milk.', 'Q: Where do polar bears vote?', 'A: The North Poll', 'Q: Why did the snake cross the road?', 'A: To get to the other ssssssside!', 'Q: Why are fish so smart?', 'A: Because they live in schools.', 'Q: What fish only swims at night?', 'A: A starfish!', 'Q: Why is a fish easy to weigh?', 'A: Because it has its own scales!', 'Q: What do you get when a chicken lays an egg on top of a barn?', 'A: An eggroll!', \"Q: Why didn't the chicken cross the road?\", 'A: Because there was a KFC on the other side!', 'Q: Why did the chicken cross the road?', \"A: To show everyone he wasn't chicken!\", 'Q: Why did the lion spit out the clown?', 'A: Because he tasted funny!', 'Q: What animals are on legal documents?', 'A: Seals!', 'Q: What do you get when you cross a snake and a pie?', 'A: A pie-thon!', 'Q: What did the buffalo say to his son when he went away on a trip?', 'A: Bison!', 'Q: How do bees get to school?', 'A: By school buzz!', 'Q: What do you call a bear with no ears?', 'A: B!']\n"
     ]
    }
   ],
   "source": [
    "#If you notice, in the list of lines from the readlines method, each line ends with a newline character - '\\n'. To suppress\n",
    "# this we could use the splitlines method.\n",
    "\n",
    "with open('animal_jokes.txt', 'r+') as f:\n",
    "    data = f.read().splitlines()\n",
    "    print(data)"
   ]
  },
  {
   "cell_type": "code",
   "execution_count": 101,
   "id": "195db05e",
   "metadata": {},
   "outputs": [
    {
     "name": "stdout",
     "output_type": "stream",
     "text": [
      "ï»¿Q: What do you call a sleeping bull?\n",
      "A: A bull-dozer.\n",
      "Q: How does a lion greet the other animals in the field?\n",
      "A: Pleased to eat you.\n",
      "Q: What did the farmer call the cow that had no milk?\n",
      "A: An udder failure.\n",
      "Q: Why do gorillas have big nostrils?\n",
      "A: Because they have big fingers!\n",
      "Q: What do you get from a pampered cow?\n",
      "A: Spoiled milk.\n",
      "Q: Why are teddy bears never hungry?\n",
      "A: They are always stuffed!\n",
      "Q: Why do fish live in salt water?\n",
      "A: Because pepper makes them sneeze!\n",
      "Q: What do you get from a pampered cow?\n",
      "A: Spoiled milk.\n",
      "Q: Where do polar bears vote?\n",
      "A: The North Poll\n",
      "Q: Why did the snake cross the road?\n",
      "A: To get to the other ssssssside!\n",
      "Q: Why are fish so smart?\n",
      "A: Because they live in schools.\n",
      "Q: What fish only swims at night?\n",
      "A: A starfish!\n",
      "Q: Why is a fish easy to weigh?\n",
      "A: Because it has its own scales!\n",
      "Q: What do you get when a chicken lays an egg on top of a barn?\n",
      "A: An eggroll!\n",
      "Q: Why didn't the chicken cross the road?\n",
      "A: Because there was a KFC on the other side!\n",
      "Q: Why did the chicken cross the road?\n",
      "A: To show everyone he wasn't chicken!\n",
      "Q: Why did the lion spit out the clown?\n",
      "A: Because he tasted funny!\n",
      "Q: What animals are on legal documents?\n",
      "A: Seals!\n",
      "Q: What do you get when you cross a snake and a pie?\n",
      "A: A pie-thon!\n",
      "Q: What did the buffalo say to his son when he went away on a trip?\n",
      "A: Bison!\n",
      "Q: How do bees get to school?\n",
      "A: By school buzz!\n",
      "Q: What do you call a bear with no ears?\n",
      "A: B!\n"
     ]
    }
   ],
   "source": [
    "for x in data:\n",
    "    print(x)"
   ]
  },
  {
   "cell_type": "code",
   "execution_count": null,
   "id": "370c26bf",
   "metadata": {},
   "outputs": [],
   "source": [
    "#Please remember that splitlines is a string method and not a file object method. "
   ]
  },
  {
   "cell_type": "code",
   "execution_count": null,
   "id": "62328e74",
   "metadata": {},
   "outputs": [],
   "source": []
  },
  {
   "cell_type": "code",
   "execution_count": null,
   "id": "afc66b4e",
   "metadata": {},
   "outputs": [],
   "source": [
    "#Also, the use of readlines method since Python 2.3 has been somewhat deprecated. We can get the same result with : "
   ]
  },
  {
   "cell_type": "code",
   "execution_count": 103,
   "id": "bb190af5",
   "metadata": {},
   "outputs": [
    {
     "name": "stdout",
     "output_type": "stream",
     "text": [
      "ï»¿Q: What do you call a sleeping bull?\n",
      "\n",
      "A: A bull-dozer.\n",
      "\n",
      "Q: How does a lion greet the other animals in the field?\n",
      "\n",
      "A: Pleased to eat you.\n",
      "\n",
      "Q: What did the farmer call the cow that had no milk?\n",
      "\n",
      "A: An udder failure.\n",
      "\n",
      "Q: Why do gorillas have big nostrils?\n",
      "\n",
      "A: Because they have big fingers!\n",
      "\n",
      "Q: What do you get from a pampered cow?\n",
      "\n",
      "A: Spoiled milk.\n",
      "\n",
      "Q: Why are teddy bears never hungry?\n",
      "\n",
      "A: They are always stuffed!\n",
      "\n",
      "Q: Why do fish live in salt water?\n",
      "\n",
      "A: Because pepper makes them sneeze!\n",
      "\n",
      "Q: What do you get from a pampered cow?\n",
      "\n",
      "A: Spoiled milk.\n",
      "\n",
      "Q: Where do polar bears vote?\n",
      "\n",
      "A: The North Poll\n",
      "\n",
      "Q: Why did the snake cross the road?\n",
      "\n",
      "A: To get to the other ssssssside!\n",
      "\n",
      "Q: Why are fish so smart?\n",
      "\n",
      "A: Because they live in schools.\n",
      "\n",
      "Q: What fish only swims at night?\n",
      "\n",
      "A: A starfish!\n",
      "\n",
      "Q: Why is a fish easy to weigh?\n",
      "\n",
      "A: Because it has its own scales!\n",
      "\n",
      "Q: What do you get when a chicken lays an egg on top of a barn?\n",
      "\n",
      "A: An eggroll!\n",
      "\n",
      "Q: Why didn't the chicken cross the road?\n",
      "\n",
      "A: Because there was a KFC on the other side!\n",
      "\n",
      "Q: Why did the chicken cross the road?\n",
      "\n",
      "A: To show everyone he wasn't chicken!\n",
      "\n",
      "Q: Why did the lion spit out the clown?\n",
      "\n",
      "A: Because he tasted funny!\n",
      "\n",
      "Q: What animals are on legal documents?\n",
      "\n",
      "A: Seals!\n",
      "\n",
      "Q: What do you get when you cross a snake and a pie?\n",
      "\n",
      "A: A pie-thon!\n",
      "\n",
      "Q: What did the buffalo say to his son when he went away on a trip?\n",
      "\n",
      "A: Bison!\n",
      "\n",
      "Q: How do bees get to school?\n",
      "\n",
      "A: By school buzz!\n",
      "\n",
      "Q: What do you call a bear with no ears?\n",
      "\n",
      "A: B!\n"
     ]
    }
   ],
   "source": [
    "f = open('animal_jokes.txt', 'r+')\n",
    "for x in f:\n",
    "    print(x)"
   ]
  },
  {
   "cell_type": "code",
   "execution_count": null,
   "id": "fba4c637",
   "metadata": {},
   "outputs": [],
   "source": []
  },
  {
   "cell_type": "code",
   "execution_count": null,
   "id": "2b787f3a",
   "metadata": {},
   "outputs": [],
   "source": []
  },
  {
   "cell_type": "code",
   "execution_count": null,
   "id": "318ed29f",
   "metadata": {},
   "outputs": [],
   "source": [
    "f = open('animal_jokes.txt', 'a+')\n",
    "f.seek(0)\n",
    "print(len(f.readlines()))"
   ]
  },
  {
   "cell_type": "code",
   "execution_count": null,
   "id": "4bd8843a",
   "metadata": {},
   "outputs": [],
   "source": [
    "# If you remember the example from input cell 62 above which was as follows to re-write contents to another file: "
   ]
  },
  {
   "cell_type": "code",
   "execution_count": null,
   "id": "53f1d44c",
   "metadata": {},
   "outputs": [],
   "source": [
    "# # Re-writing the text to the animals_jokes file using multiple with open\n",
    "\n",
    "# with open('animal_jokes.txt', 'w+') as aj, open('animal_jokes_Copy.txt', 'r') as ajCopy:\n",
    "#     data = ajCopy.readlines()\n",
    "#     aj.writelines(data)\n",
    "\n",
    "# We used the above."
   ]
  },
  {
   "cell_type": "code",
   "execution_count": null,
   "id": "719011fd",
   "metadata": {},
   "outputs": [],
   "source": [
    "# Clearing contents of animal_jokes.txt and only inputting XYZ.\n",
    "\n",
    "with open('animal_jokes.txt', 'w') as f:\n",
    "    f.write('xyz')\n",
    "\n"
   ]
  },
  {
   "cell_type": "code",
   "execution_count": null,
   "id": "41b4ab58",
   "metadata": {},
   "outputs": [],
   "source": [
    "# r = read mode\n",
    "# r+ = read mode + permission to write\n",
    "# w = write mode\n",
    "# w+ = write mode + permission to read\n",
    "# a = append mode\n",
    "# a+ = append mode + permission to read"
   ]
  },
  {
   "cell_type": "code",
   "execution_count": 135,
   "id": "e44afa54",
   "metadata": {},
   "outputs": [],
   "source": [
    "with open('animal_jokes.txt', 'w+') as aj, open('animal_jokes_Copy.txt', 'r') as ajCopy:\n",
    "    data = ajCopy.readlines()\n",
    "    aj.writelines(data)"
   ]
  },
  {
   "cell_type": "code",
   "execution_count": 104,
   "id": "1fa62a1b",
   "metadata": {},
   "outputs": [],
   "source": [
    "# Rewriting contents of animal_jokes_copy.txt to animal_jokes.txt with cleaner syntax.\n",
    "\n",
    "with open('animal_jokes.txt', 'w+') as aj, open('animal_jokes_Copy.txt', 'r') as ajCopy:\n",
    "    aj.writelines(ajCopy)\n"
   ]
  },
  {
   "cell_type": "code",
   "execution_count": 105,
   "id": "f3bdca0a",
   "metadata": {},
   "outputs": [
    {
     "name": "stdout",
     "output_type": "stream",
     "text": [
      "True\n"
     ]
    }
   ],
   "source": [
    "# readable() method returns whether the file object has reading permissions (True) or not (False).\n",
    "\n",
    "with open('animal_jokes.txt', 'w+') as f:\n",
    "    print(f.readable())"
   ]
  },
  {
   "cell_type": "code",
   "execution_count": 106,
   "id": "ef8c0d9a",
   "metadata": {},
   "outputs": [
    {
     "name": "stdout",
     "output_type": "stream",
     "text": [
      "False\n"
     ]
    }
   ],
   "source": [
    "with open('animal_jokes.txt', 'w') as f:\n",
    "    print(f.readable())"
   ]
  },
  {
   "cell_type": "code",
   "execution_count": 109,
   "id": "f3700d70",
   "metadata": {},
   "outputs": [
    {
     "name": "stdout",
     "output_type": "stream",
     "text": [
      "False\n"
     ]
    }
   ],
   "source": [
    "# write method - writes the specified string to the file object.\n",
    "\n",
    "with open('animal_jokes.txt', 'a') as f:\n",
    "    f.write('\\nNo more animal jokes')\n",
    "    print(f.readable())"
   ]
  },
  {
   "cell_type": "code",
   "execution_count": null,
   "id": "236f4045",
   "metadata": {},
   "outputs": [],
   "source": [
    "with open('animal_jokes.txt', 'r') as f:\n",
    "    f.seek(1400)\n",
    "    for x in f.readlines():\n",
    "        print(x)"
   ]
  },
  {
   "cell_type": "code",
   "execution_count": 110,
   "id": "0f70f86a",
   "metadata": {},
   "outputs": [
    {
     "ename": "TypeError",
     "evalue": "write() takes exactly one argument (2 given)",
     "output_type": "error",
     "traceback": [
      "\u001b[1;31m---------------------------------------------------------------------------\u001b[0m",
      "\u001b[1;31mTypeError\u001b[0m                                 Traceback (most recent call last)",
      "\u001b[1;32m<ipython-input-110-1effde1ed8b9>\u001b[0m in \u001b[0;36m<module>\u001b[1;34m\u001b[0m\n\u001b[0;32m      1\u001b[0m \u001b[1;32mwith\u001b[0m \u001b[0mopen\u001b[0m\u001b[1;33m(\u001b[0m\u001b[1;34m'animal_jokes.txt'\u001b[0m\u001b[1;33m,\u001b[0m \u001b[1;34m'w+'\u001b[0m\u001b[1;33m)\u001b[0m \u001b[1;32mas\u001b[0m \u001b[0mf\u001b[0m\u001b[1;33m:\u001b[0m\u001b[1;33m\u001b[0m\u001b[1;33m\u001b[0m\u001b[0m\n\u001b[1;32m----> 2\u001b[1;33m     \u001b[0mf\u001b[0m\u001b[1;33m.\u001b[0m\u001b[0mwrite\u001b[0m\u001b[1;33m(\u001b[0m\u001b[1;34m'1st string'\u001b[0m\u001b[1;33m,\u001b[0m \u001b[1;34m'2nd string'\u001b[0m\u001b[1;33m)\u001b[0m\u001b[1;33m\u001b[0m\u001b[1;33m\u001b[0m\u001b[0m\n\u001b[0m",
      "\u001b[1;31mTypeError\u001b[0m: write() takes exactly one argument (2 given)"
     ]
    }
   ],
   "source": [
    "with open('animal_jokes.txt', 'w+') as f:\n",
    "    f.write('1st string', '2nd string')"
   ]
  },
  {
   "cell_type": "code",
   "execution_count": null,
   "id": "0a90f319",
   "metadata": {},
   "outputs": [],
   "source": [
    "# Note the error when trying to write more than one string. "
   ]
  },
  {
   "cell_type": "code",
   "execution_count": null,
   "id": "377e1af5",
   "metadata": {},
   "outputs": [],
   "source": [
    "x = '\\nJokes keep the mood light hearted.\\n\\n'\n",
    "\n",
    "with open('animal_jokes.txt', 'a+') as f:\n",
    "    f.write(x)"
   ]
  },
  {
   "cell_type": "code",
   "execution_count": null,
   "id": "6eb3d429",
   "metadata": {},
   "outputs": [],
   "source": [
    "#writelines method"
   ]
  },
  {
   "cell_type": "code",
   "execution_count": 111,
   "id": "9a22c0f9",
   "metadata": {},
   "outputs": [],
   "source": [
    "add_jokes = ['Q: What do you get when you cross a snake and a pie?\\n', 'A: A pie-thon!\\n','Q: What did the buffalo say to\\\n",
    "his son when he went away on a trip?\\n','A: Bison!\\n','Q: How do bees get to school?\\n','A: By school buzz!\\n','Q: What do\\\n",
    "you call a bear with no ears?\\n','A: B!\\n']\n",
    "\n",
    "with open('animal_jokes.txt', 'a+') as f:\n",
    "    f.writelines(add_jokes)"
   ]
  },
  {
   "cell_type": "code",
   "execution_count": 112,
   "id": "0addc0f5",
   "metadata": {},
   "outputs": [],
   "source": [
    "with open('animal_jokes.txt', 'w') as f:\n",
    "    f.write('XY')"
   ]
  },
  {
   "cell_type": "code",
   "execution_count": 113,
   "id": "d4351b7d",
   "metadata": {},
   "outputs": [
    {
     "name": "stdout",
     "output_type": "stream",
     "text": [
      "('Q: What do you get when you cross a snake and a pie?\\n', 'A: A pie-thon!\\n', 'Q: What did the buffalo say tohis son when he went away on a trip?\\n', 'A: Bison!\\n', 'Q: How do bees get to school?\\n', 'A: By school buzz!\\n', 'Q: What doyou call a bear with no ears?\\n', 'A: B!\\n')\n"
     ]
    }
   ],
   "source": [
    "add_jokes_tup = tuple(add_jokes)\n",
    "print(add_jokes_tup)"
   ]
  },
  {
   "cell_type": "code",
   "execution_count": 114,
   "id": "ea5e6396",
   "metadata": {},
   "outputs": [],
   "source": [
    "# Writelines can take any iterable. \n",
    "\n",
    "with open('animal_jokes.txt', 'w+') as f:\n",
    "    f.writelines(add_jokes_tup)\n",
    "    \n",
    "    "
   ]
  },
  {
   "cell_type": "code",
   "execution_count": null,
   "id": "5ee0a5ef",
   "metadata": {},
   "outputs": [],
   "source": [
    "    \n",
    "with open('animal_jokes.txt', 'r') as f:\n",
    "    for x in f:\n",
    "        print(x)"
   ]
  },
  {
   "cell_type": "code",
   "execution_count": null,
   "id": "c1f79b80",
   "metadata": {},
   "outputs": [],
   "source": [
    "# with open('animal_jokes.txt', 'w+') as aj, open('animal_jokes_copy.txt', 'r') as ajCopy:\n",
    "#     aj.writelines(ajCopy)\n",
    "#     aj.flush()\n",
    "#     aj.seek(0)\n",
    "#     for x in aj:\n",
    "#         print(x)"
   ]
  },
  {
   "cell_type": "code",
   "execution_count": null,
   "id": "fef85d65",
   "metadata": {},
   "outputs": [],
   "source": []
  },
  {
   "cell_type": "code",
   "execution_count": null,
   "id": "92196a60",
   "metadata": {},
   "outputs": [],
   "source": [
    "# writable method returns True if file object is able to be written into, False if not."
   ]
  },
  {
   "cell_type": "code",
   "execution_count": 115,
   "id": "463cf2c7",
   "metadata": {},
   "outputs": [
    {
     "name": "stdout",
     "output_type": "stream",
     "text": [
      "True\n"
     ]
    }
   ],
   "source": [
    "with open('animal_jokes.txt', 'r+') as f:\n",
    "    print(f.writable())\n",
    "    "
   ]
  },
  {
   "cell_type": "code",
   "execution_count": 116,
   "id": "e6a13390",
   "metadata": {},
   "outputs": [
    {
     "name": "stdout",
     "output_type": "stream",
     "text": [
      "False\n"
     ]
    }
   ],
   "source": [
    "with open('animal_jokes.txt', 'r') as f:\n",
    "    print(f.writable())\n"
   ]
  },
  {
   "cell_type": "code",
   "execution_count": null,
   "id": "223686ef",
   "metadata": {},
   "outputs": [],
   "source": [
    "# seek method sends the cursor/handle to the specified index number.\n",
    "# tell method tells you the cursor position\n"
   ]
  },
  {
   "cell_type": "code",
   "execution_count": 117,
   "id": "68cd9dfd",
   "metadata": {},
   "outputs": [
    {
     "name": "stdout",
     "output_type": "stream",
     "text": [
      "0\n",
      "100\n"
     ]
    }
   ],
   "source": [
    "with open('animal_jokes.txt', 'r') as f:\n",
    "    print(f.tell())\n",
    "    f.seek(100)\n",
    "    print(f.tell())"
   ]
  },
  {
   "cell_type": "code",
   "execution_count": 125,
   "id": "ef5967d7",
   "metadata": {},
   "outputs": [
    {
     "name": "stdout",
     "output_type": "stream",
     "text": [
      "248\n"
     ]
    }
   ],
   "source": [
    "# Until Python 3.2, we could use a second parameter - \n",
    "# 1 for seek relative to current position i.e. if cursor is at 100 and we specified f.seek(100,1) cursor would go to 200.\n",
    "# 2 for seek relative to end of file i.e. if cursor was at end of file, then f.seek(-100,2) would take cursor 100 steps\n",
    "# back. However, these have been deprecated from Python 3.2 and now the only relative seek that works is complete end of\n",
    "# file i.e.\n",
    "\n",
    "with open('animal_jokes.txt', 'r') as f:\n",
    "    f.seek(0,2)\n",
    "    print(f.tell())\n"
   ]
  },
  {
   "cell_type": "code",
   "execution_count": 127,
   "id": "91bb10ea",
   "metadata": {},
   "outputs": [
    {
     "name": "stdout",
     "output_type": "stream",
     "text": [
      "Q: What do you get when you cross a snake and a pie?\n",
      "A: A pie-thon!\n",
      "Q: What did the buffalo say tohis son when he went away on a trip?\n",
      "A: Bison!\n",
      "Q: How do bees get to school?\n",
      "A: By school buzz!\n",
      "Q: What doyou call a bear with no ears?\n",
      "A: B!\n",
      "\n"
     ]
    }
   ],
   "source": [
    "with open('animal_jokes.txt', 'r') as f:\n",
    "    print(f.read())"
   ]
  },
  {
   "cell_type": "code",
   "execution_count": 128,
   "id": "401b1166",
   "metadata": {},
   "outputs": [
    {
     "name": "stdout",
     "output_type": "stream",
     "text": [
      "240\n"
     ]
    }
   ],
   "source": [
    "with open('animal_jokes.txt', 'r') as f:\n",
    "    print(len(f.read()))"
   ]
  },
  {
   "cell_type": "code",
   "execution_count": 129,
   "id": "b523db8b",
   "metadata": {},
   "outputs": [
    {
     "name": "stdout",
     "output_type": "stream",
     "text": [
      "8\n"
     ]
    }
   ],
   "source": [
    "with open('animal_jokes.txt', 'r') as f:\n",
    "    print(len(f.readlines()))"
   ]
  },
  {
   "cell_type": "code",
   "execution_count": 72,
   "id": "3e67c244",
   "metadata": {},
   "outputs": [],
   "source": [
    "# As noticed, in the read, newline characters are already parsed and not counted. However, as you can see in the readlines\n",
    "# there are 44 lines, so read characters (1432) + lines (44) is adding up to the cursor being at the end index i.e. 1476"
   ]
  },
  {
   "cell_type": "code",
   "execution_count": 131,
   "id": "fb52313c",
   "metadata": {},
   "outputs": [
    {
     "name": "stdout",
     "output_type": "stream",
     "text": [
      "True\n"
     ]
    }
   ],
   "source": [
    "# seekable - Returns True if the file allows us to change the cursor/handle/file position else False.\n",
    "\n",
    "with open('animal_jokes.txt', 'r') as f:\n",
    "    print(f.seekable())\n",
    "\n",
    "# Assumption is that when working with very large file sizes overflowing the buffer, the seekable() function \n",
    "# may return False. Not sure of the use since have not come across a use case for this."
   ]
  },
  {
   "cell_type": "code",
   "execution_count": 74,
   "id": "7c5404e7",
   "metadata": {},
   "outputs": [],
   "source": [
    "# truncate() resizes the file to the specified size.\n",
    "\n",
    "with open('animal_jokes.txt', 'r') as f:\n",
    "    f.seek(1000)\n",
    "    for x in f:\n",
    "        print(x)"
   ]
  },
  {
   "cell_type": "code",
   "execution_count": 136,
   "id": "28968e27",
   "metadata": {},
   "outputs": [
    {
     "ename": "OSError",
     "evalue": "[Errno 22] Invalid argument",
     "output_type": "error",
     "traceback": [
      "\u001b[1;31m---------------------------------------------------------------------------\u001b[0m",
      "\u001b[1;31mOSError\u001b[0m                                   Traceback (most recent call last)",
      "\u001b[1;32m<ipython-input-136-3dd2884b8674>\u001b[0m in \u001b[0;36m<module>\u001b[1;34m\u001b[0m\n\u001b[0;32m      1\u001b[0m \u001b[1;32mwith\u001b[0m \u001b[0mopen\u001b[0m\u001b[1;33m(\u001b[0m\u001b[1;34m'animal_jokes.txt'\u001b[0m\u001b[1;33m,\u001b[0m \u001b[1;34m'r+'\u001b[0m\u001b[1;33m)\u001b[0m \u001b[1;32mas\u001b[0m \u001b[0mf\u001b[0m\u001b[1;33m:\u001b[0m\u001b[1;33m\u001b[0m\u001b[1;33m\u001b[0m\u001b[0m\n\u001b[1;32m----> 2\u001b[1;33m     \u001b[0mf\u001b[0m\u001b[1;33m.\u001b[0m\u001b[0mtruncate\u001b[0m\u001b[1;33m(\u001b[0m\u001b[1;33m-\u001b[0m\u001b[1;36m500\u001b[0m\u001b[1;33m)\u001b[0m\u001b[1;33m\u001b[0m\u001b[1;33m\u001b[0m\u001b[0m\n\u001b[0m\u001b[0;32m      3\u001b[0m     \u001b[1;32mfor\u001b[0m \u001b[0mx\u001b[0m \u001b[1;32min\u001b[0m \u001b[0mf\u001b[0m\u001b[1;33m:\u001b[0m\u001b[1;33m\u001b[0m\u001b[1;33m\u001b[0m\u001b[0m\n\u001b[0;32m      4\u001b[0m         \u001b[0mprint\u001b[0m\u001b[1;33m(\u001b[0m\u001b[0mx\u001b[0m\u001b[1;33m)\u001b[0m\u001b[1;33m\u001b[0m\u001b[1;33m\u001b[0m\u001b[0m\n",
      "\u001b[1;31mOSError\u001b[0m: [Errno 22] Invalid argument"
     ]
    }
   ],
   "source": [
    "with open('animal_jokes.txt', 'r+') as f:\n",
    "    f.truncate(1000)\n",
    "    for x in f:\n",
    "        print(x)"
   ]
  },
  {
   "cell_type": "code",
   "execution_count": 137,
   "id": "df0ca8f0",
   "metadata": {},
   "outputs": [],
   "source": [
    "#flush method - flushes the internal buffer and writes to file (or if no write call given, disposes the data)\n",
    "\n",
    "# If you recall, we had an example above where we did a write procedure but the result was not displayed till we closed, \n",
    "# the file object and then displayed in the next file object creation call with open."
   ]
  },
  {
   "cell_type": "code",
   "execution_count": null,
   "id": "803efa2c",
   "metadata": {},
   "outputs": [],
   "source": []
  },
  {
   "cell_type": "code",
   "execution_count": 145,
   "id": "b6755b60",
   "metadata": {},
   "outputs": [],
   "source": [
    "# Rewriting contents of animal_jokes_copy.txt to animal_jokes.txt with cleaner syntax.\n",
    "\n",
    "with open('animal_jokes.txt', 'w+') as aj, open('animal_jokes_Copy.txt', 'r') as ajCopy:\n",
    "    aj.writelines(ajCopy)\n"
   ]
  },
  {
   "cell_type": "code",
   "execution_count": 146,
   "id": "d9d3ae00",
   "metadata": {},
   "outputs": [],
   "source": [
    "f = open('animal_jokes.txt', 'r+')\n",
    "\n",
    "f.write('\\nNo more animal jokes\\n\\n')\n",
    "f.flush()\n",
    "f.close()"
   ]
  },
  {
   "cell_type": "code",
   "execution_count": 139,
   "id": "206278c5",
   "metadata": {},
   "outputs": [
    {
     "name": "stdout",
     "output_type": "stream",
     "text": [
      "\n",
      "\n",
      "No more animal jokes\n",
      "\n",
      "\n",
      "\n",
      "leeping bull?\n",
      "\n",
      "A: A bull-dozer.\n",
      "\n",
      "Q: How does a lion greet the other animals in the field?\n",
      "\n",
      "A: Pleased to eat you.\n",
      "\n",
      "Q: What did the farmer call the cow that had no milk?\n",
      "\n",
      "A: An udder failure.\n",
      "\n"
     ]
    }
   ],
   "source": [
    "with open('animal_jokes.txt', 'r+') as f:\n",
    "    f.write('\\nNo more animal jokes\\n\\n')\n",
    "    #f.flush()\n",
    "    f.seek(0)\n",
    "    for x in f.readlines(200):\n",
    "        print(x)\n",
    "    "
   ]
  },
  {
   "cell_type": "code",
   "execution_count": 147,
   "id": "e81df09e",
   "metadata": {},
   "outputs": [
    {
     "name": "stdout",
     "output_type": "stream",
     "text": [
      "4\n"
     ]
    }
   ],
   "source": [
    "# fileno() Returns a number that represents the stream. \n",
    "\n",
    "with open('animal_jokes.txt', 'r') as f:\n",
    "    print(f.fileno())"
   ]
  },
  {
   "cell_type": "code",
   "execution_count": 148,
   "id": "3a20b584",
   "metadata": {},
   "outputs": [
    {
     "ename": "ValueError",
     "evalue": "underlying buffer has been detached",
     "output_type": "error",
     "traceback": [
      "\u001b[1;31m---------------------------------------------------------------------------\u001b[0m",
      "\u001b[1;31mValueError\u001b[0m                                Traceback (most recent call last)",
      "\u001b[1;32m<ipython-input-148-c83cab82afc6>\u001b[0m in \u001b[0;36m<module>\u001b[1;34m\u001b[0m\n\u001b[0;32m      3\u001b[0m \u001b[0mf\u001b[0m \u001b[1;33m=\u001b[0m \u001b[0mopen\u001b[0m\u001b[1;33m(\u001b[0m\u001b[1;34m'animal_jokes.txt'\u001b[0m\u001b[1;33m,\u001b[0m \u001b[1;34m'r'\u001b[0m\u001b[1;33m)\u001b[0m\u001b[1;33m\u001b[0m\u001b[1;33m\u001b[0m\u001b[0m\n\u001b[0;32m      4\u001b[0m \u001b[0mf\u001b[0m\u001b[1;33m.\u001b[0m\u001b[0mdetach\u001b[0m\u001b[1;33m(\u001b[0m\u001b[1;33m)\u001b[0m\u001b[1;33m\u001b[0m\u001b[1;33m\u001b[0m\u001b[0m\n\u001b[1;32m----> 5\u001b[1;33m \u001b[1;32mfor\u001b[0m \u001b[0mx\u001b[0m \u001b[1;32min\u001b[0m \u001b[0mf\u001b[0m\u001b[1;33m.\u001b[0m\u001b[0mreadlines\u001b[0m\u001b[1;33m(\u001b[0m\u001b[1;33m)\u001b[0m\u001b[1;33m:\u001b[0m\u001b[1;33m\u001b[0m\u001b[1;33m\u001b[0m\u001b[0m\n\u001b[0m\u001b[0;32m      6\u001b[0m     \u001b[0mprint\u001b[0m\u001b[1;33m(\u001b[0m\u001b[0mx\u001b[0m\u001b[1;33m)\u001b[0m\u001b[1;33m\u001b[0m\u001b[1;33m\u001b[0m\u001b[0m\n\u001b[0;32m      7\u001b[0m \u001b[0mf\u001b[0m\u001b[1;33m.\u001b[0m\u001b[0mclose\u001b[0m\u001b[1;33m(\u001b[0m\u001b[1;33m)\u001b[0m\u001b[1;33m\u001b[0m\u001b[1;33m\u001b[0m\u001b[0m\n",
      "\u001b[1;31mValueError\u001b[0m: underlying buffer has been detached"
     ]
    }
   ],
   "source": [
    "# detach method used to detach input rawstream from file buffer. \n",
    "\n",
    "f = open('animal_jokes.txt', 'r')\n",
    "f.detach()\n",
    "for x in f.readlines():\n",
    "    print(x)\n",
    "f.close()"
   ]
  },
  {
   "cell_type": "code",
   "execution_count": 149,
   "id": "0bc50aa3",
   "metadata": {},
   "outputs": [
    {
     "name": "stdout",
     "output_type": "stream",
     "text": [
      "False\n",
      "True\n"
     ]
    }
   ],
   "source": [
    "# Attributes. \n",
    "\n",
    "# We have already seen the closed attribute. \n",
    "\n",
    "f = open('animal_jokes.txt', 'r')\n",
    "print(f.closed)\n",
    "f.close()\n",
    "print(f.closed)"
   ]
  },
  {
   "cell_type": "code",
   "execution_count": 150,
   "id": "ad22e689",
   "metadata": {},
   "outputs": [
    {
     "name": "stdout",
     "output_type": "stream",
     "text": [
      "cp1252\n"
     ]
    }
   ],
   "source": [
    "# encoding - displays the encoding used on the file.\n",
    "\n",
    "f = open('animal_jokes.txt', 'r')\n",
    "print(f.encoding)"
   ]
  },
  {
   "cell_type": "code",
   "execution_count": null,
   "id": "a99a0de8",
   "metadata": {},
   "outputs": [],
   "source": [
    "# If you recall, when discussing encoding in Bytes and Bytearrays - we had discussed that - by default Python uses UTF-8\n",
    "# encoding BUT open function will be system dependent. Windows uses cp1252 and therefore the encoding on this file is \n",
    "# cp1252. Your outputs may be different depending on your systems."
   ]
  },
  {
   "cell_type": "code",
   "execution_count": 151,
   "id": "c60f466d",
   "metadata": {},
   "outputs": [
    {
     "name": "stdout",
     "output_type": "stream",
     "text": [
      "r\n"
     ]
    }
   ],
   "source": [
    "# mode - displays the mode of the file object i.e. the permissions. \n",
    "\n",
    "print(f.mode)"
   ]
  },
  {
   "cell_type": "code",
   "execution_count": 152,
   "id": "f2c22639",
   "metadata": {},
   "outputs": [
    {
     "name": "stdout",
     "output_type": "stream",
     "text": [
      "animal_jokes.txt\n"
     ]
    }
   ],
   "source": [
    "# name displays the file name if the file has been opened as a file object. \n",
    "\n",
    "print(f.name)"
   ]
  },
  {
   "cell_type": "code",
   "execution_count": 153,
   "id": "ed9ca0a7",
   "metadata": {},
   "outputs": [],
   "source": [
    "f.close()"
   ]
  },
  {
   "cell_type": "code",
   "execution_count": null,
   "id": "76b072c7",
   "metadata": {},
   "outputs": [],
   "source": [
    "with open('animal_jokes.txt', 'r') as f:\n",
    "    f.seek(630)\n",
    "    for x in f:\n",
    "        print(x)"
   ]
  },
  {
   "cell_type": "code",
   "execution_count": null,
   "id": "ff90201c",
   "metadata": {},
   "outputs": [],
   "source": [
    "#Binary files"
   ]
  },
  {
   "cell_type": "code",
   "execution_count": null,
   "id": "68f57e3a",
   "metadata": {},
   "outputs": [],
   "source": [
    "# The modes to open binary files are the same as text file, only add b before the mode to specify opening in binary format."
   ]
  },
  {
   "cell_type": "code",
   "execution_count": 154,
   "id": "b837fe93",
   "metadata": {},
   "outputs": [
    {
     "data": {
      "image/jpeg": "[encoded data removed]",
      "text/plain": [
       "<IPython.core.display.Image object>"
      ]
     },
     "execution_count": 154,
     "metadata": {},
     "output_type": "execute_result"
    }
   ],
   "source": [
    "from IPython import display\n",
    "display.Image('watermelon32x32.jpg')"
   ]
  },
  {
   "cell_type": "code",
   "execution_count": 155,
   "id": "26bae1b4",
   "metadata": {},
   "outputs": [
    {
     "name": "stdout",
     "output_type": "stream",
     "text": [
      "158\n",
      "b'\\xff\\xd8\\xff\\xe0\\x00\\x10JFIF\\x00\\x01\\x01\\x01\\x00x\\x00x\\x00\\x00\\xff\\xe1\\x00ZExif\\x00\\x00MM\\x00*\\x00\\x00\\x00\\x08\\x00\\x05\\x03\\x01\\x00\\x05\\x00\\x00\\x00\\x01\\x00\\x00\\x00J\\x03\\x03\\x00\\x01\\x00\\x00\\x00\\x01\\x00\\x00\\x00\\x00Q\\x10\\x00\\x01\\x00\\x00\\x00\\x01\\x01\\x00\\x00\\x00Q\\x11\\x00\\x04\\x00\\x00\\x00\\x01\\x00\\x00\\x12tQ\\x12\\x00\\x04\\x00\\x00\\x00\\x01\\x00\\x00\\x12t\\x00\\x00\\x00\\x00\\x00\\x01\\x86\\xa0\\x00\\x00\\xb1\\x8f\\xff\\xdb\\x00C\\x00\\x02\\x01\\x01\\x02\\x01\\x01\\x02\\x02\\x02\\x02\\x02\\x02\\x02\\x02\\x03\\x05\\x03\\x03\\x03\\x03\\x03\\x06\\x04\\x04\\x03\\x05\\x07\\x06\\x07\\x07\\x07\\x06\\x07\\x07\\x08\\t\\x0b\\t\\x08\\x08\\n' \n",
      " ----------------------------------------------------------------------------------------------------\n",
      "4\n",
      "b'\\x08\\x07\\x07\\n' \n",
      " ----------------------------------------------------------------------------------------------------\n",
      "2\n",
      "b'\\r\\n' \n",
      " ----------------------------------------------------------------------------------------------------\n",
      "1\n",
      "b'\\n' \n",
      " ----------------------------------------------------------------------------------------------------\n",
      "136\n",
      "b'\\x0b\\x0c\\x0c\\x0c\\x0c\\x07\\t\\x0e\\x0f\\r\\x0c\\x0e\\x0b\\x0c\\x0c\\x0c\\xff\\xdb\\x00C\\x01\\x02\\x02\\x02\\x03\\x03\\x03\\x06\\x03\\x03\\x06\\x0c\\x08\\x07\\x08\\x0c\\x0c\\x0c\\x0c\\x0c\\x0c\\x0c\\x0c\\x0c\\x0c\\x0c\\x0c\\x0c\\x0c\\x0c\\x0c\\x0c\\x0c\\x0c\\x0c\\x0c\\x0c\\x0c\\x0c\\x0c\\x0c\\x0c\\x0c\\x0c\\x0c\\x0c\\x0c\\x0c\\x0c\\x0c\\x0c\\x0c\\x0c\\x0c\\x0c\\x0c\\x0c\\x0c\\x0c\\x0c\\x0c\\x0c\\x0c\\x0c\\x0c\\xff\\xc0\\x00\\x11\\x08\\x00\\xe9\\x00\\xd8\\x03\\x01\"\\x00\\x02\\x11\\x01\\x03\\x11\\x01\\xff\\xc4\\x00\\x1f\\x00\\x00\\x01\\x05\\x01\\x01\\x01\\x01\\x01\\x01\\x00\\x00\\x00\\x00\\x00\\x00\\x00\\x00\\x01\\x02\\x03\\x04\\x05\\x06\\x07\\x08\\t\\n' \n",
      " ----------------------------------------------------------------------------------------------------\n",
      "61\n",
      "b'\\x0b\\xff\\xc4\\x00\\xb5\\x10\\x00\\x02\\x01\\x03\\x03\\x02\\x04\\x03\\x05\\x05\\x04\\x04\\x00\\x00\\x01}\\x01\\x02\\x03\\x00\\x04\\x11\\x05\\x12!1A\\x06\\x13Qa\\x07\"q\\x142\\x81\\x91\\xa1\\x08#B\\xb1\\xc1\\x15R\\xd1\\xf0$3br\\x82\\t\\n' \n",
      " ----------------------------------------------------------------------------------------------------\n",
      "155\n",
      "b\"\\x16\\x17\\x18\\x19\\x1a%&'()*456789:CDEFGHIJSTUVWXYZcdefghijstuvwxyz\\x83\\x84\\x85\\x86\\x87\\x88\\x89\\x8a\\x92\\x93\\x94\\x95\\x96\\x97\\x98\\x99\\x9a\\xa2\\xa3\\xa4\\xa5\\xa6\\xa7\\xa8\\xa9\\xaa\\xb2\\xb3\\xb4\\xb5\\xb6\\xb7\\xb8\\xb9\\xba\\xc2\\xc3\\xc4\\xc5\\xc6\\xc7\\xc8\\xc9\\xca\\xd2\\xd3\\xd4\\xd5\\xd6\\xd7\\xd8\\xd9\\xda\\xe1\\xe2\\xe3\\xe4\\xe5\\xe6\\xe7\\xe8\\xe9\\xea\\xf1\\xf2\\xf3\\xf4\\xf5\\xf6\\xf7\\xf8\\xf9\\xfa\\xff\\xc4\\x00\\x1f\\x01\\x00\\x03\\x01\\x01\\x01\\x01\\x01\\x01\\x01\\x01\\x01\\x00\\x00\\x00\\x00\\x00\\x00\\x01\\x02\\x03\\x04\\x05\\x06\\x07\\x08\\t\\n\" \n",
      " ----------------------------------------------------------------------------------------------------\n",
      "59\n",
      "b'\\x0b\\xff\\xc4\\x00\\xb5\\x11\\x00\\x02\\x01\\x02\\x04\\x04\\x03\\x04\\x07\\x05\\x04\\x04\\x00\\x01\\x02w\\x00\\x01\\x02\\x03\\x11\\x04\\x05!1\\x06\\x12AQ\\x07aq\\x13\"2\\x81\\x08\\x14B\\x91\\xa1\\xb1\\xc1\\t#3R\\xf0\\x15br\\xd1\\n' \n",
      " ----------------------------------------------------------------------------------------------------\n",
      "496\n",
      "b\"\\x16$4\\xe1%\\xf1\\x17\\x18\\x19\\x1a&'()*56789:CDEFGHIJSTUVWXYZcdefghijstuvwxyz\\x82\\x83\\x84\\x85\\x86\\x87\\x88\\x89\\x8a\\x92\\x93\\x94\\x95\\x96\\x97\\x98\\x99\\x9a\\xa2\\xa3\\xa4\\xa5\\xa6\\xa7\\xa8\\xa9\\xaa\\xb2\\xb3\\xb4\\xb5\\xb6\\xb7\\xb8\\xb9\\xba\\xc2\\xc3\\xc4\\xc5\\xc6\\xc7\\xc8\\xc9\\xca\\xd2\\xd3\\xd4\\xd5\\xd6\\xd7\\xd8\\xd9\\xda\\xe2\\xe3\\xe4\\xe5\\xe6\\xe7\\xe8\\xe9\\xea\\xf2\\xf3\\xf4\\xf5\\xf6\\xf7\\xf8\\xf9\\xfa\\xff\\xda\\x00\\x0c\\x03\\x01\\x00\\x02\\x11\\x03\\x11\\x00?\\x00\\xfd\\xfc\\xa2\\x8a(\\x00\\xa2\\x8a(\\x00\\xa2\\x8a(\\x00\\xa2\\x8a(\\x00\\xa2\\x8a(\\x00\\xa2\\x8a(\\x00\\xa2\\x8a(\\x00\\xa2\\x8a(\\x00\\xa2\\x8a(\\x00\\xa2\\x8a(\\x00\\xa2\\x8a(\\x00\\xa2\\x8a(\\x00\\xa2\\x8a(\\x00\\xa2\\x8a(\\x00\\xa2\\x8a(\\x00\\xa2\\x8a(\\x00\\xa2\\x8a(\\x00\\xa2\\x8a(\\x00\\xa2\\x8a(\\x00\\xa2\\x80r(\\xcd\\x00\\x14QE\\x00\\x14Q\\x9a3@\\x05\\x14g4P\\x01E\\x14P\\x01E\\x14P\\x01E\\x14P\\x01E\\x14P\\x01E\\x14P\\x01E\\x14P\\x01E\\x14P\\x01E\\x14P\\x01E\\x14P\\x01A\\x19\\x14PzP\\x05\\x14\\xdd\\x0f\\xdd_nOj\\xf3\\xff\\x00\\xda+\\xe2\\xd5\\xc7\\xc1O\\x85:\\x96\\xbfmko\\xa9\\\\\\xd9\\xcd\\x10[y[\\x03\\xe7\\x91\\x13\\xb7<n\\xae7\\xf6\\xcb\\xfd\\xb7t/\\xd8\\xb3\\xc3\\x9a-\\xfe\\xb9\\xa5\\xeb\\x1a\\x82\\xeb\\xd3\\xbd\\x9c?\\xd9\\xf1\\xc4\\xe2\\t\\x15\\x0b\\xfc\\xfb\\xe4OC_\\x94\\xff\\x00\\xb5w\\xed\\x83g\\xf1\\xb6\\xcf\\xc4\\t\\xa4\\xae\\xb5f\\xfe \\xd4\\xde\\xfa/\\xb6<q\\x08W~\\xfd\\x8f\\xb2G\\xaf\\x0f9\\xce\\xa1\\x84\\\\\\xb0\\xf8\\xcf\\xd6\\xbc7\\xf0\\xa73\\xe2\\x1a\\xb4\\xf12\\xa6\\xfe\\xaf\\xcd\\xf1t\\x95\\x9e\\xaa\\xf7G\\xd4\\x7f\\x16\\x7f\\xe0\\xb9\\xda\\xef\\xc3\\xaf\\x19\\\\i\\x96\\xfe\\x00\\xd3\\xeeB\\xc3\\x1c\\xe6o\\xb74Y\\xdf\\xf8W8\\x7f\\xe0\\xe0o\\x12\\x8e\\x9f\\x0f\\xf4\\xb5\\xfajM\\xfe\\x15\\xf9\\xf1y}\\x8f\\xf4\\xaa\\xad\\xa4k\\x9f\\xda\\x82\\xbe\\x0f\\xfb{0oI\\x1f\\xd9\\xd9\\x7f\\x81<\\x17\\n\" \n",
      " ----------------------------------------------------------------------------------------------------\n",
      "650\n",
      "b'P\\xa7\\x8a\\xc2G\\x9f\\xfcS\\xff\\x003\\xf4\\xef\\xe0\\x8f\\xfc\\x16\\xe7Z\\xf8\\xad\\xe2\\xbb\\x9d6\\xe3\\xc1\\x1am\\xabC\\x07\\x9d\\x8f\\xb6\\xb4\\xd8\\xc3\\xa2\\x7f\\xec\\xf5\\xf7\\x8f\\xc1\\x0f\\x89\\r\\xf1G\\xe1n\\x93\\xae\\\\B-n\\xb5K\\x7f8\\xdb\\x86\\xcbE\\x9a\\xfew\\xed\\xe7!>c\\xf55\\xf5\\xef\\xec\\x1d\\xfbg\\xe8\\xbf\\x0e~ \\xf8J\\xcfP\\xfe\\xdc\\xbc:O\\x99\\xe7yF<\\x7f\\xa8\\x9b\\xfb\\xf2\\xd7\\xb7\\x95\\xf1=GW\\xd9bO\\xca\\xbcT\\xf0\\x1f\\x03\\x0c,\\xf1|?K\\x93\\x93[.i^\\xc9\\xe9\\xab\\xefn\\xe7\\xec\\xccED\\\\g\\x14\\xecy\\x9fJ\\xf3\\x7f\\x81_\\x1c\\xec>>\\xf8:\\xe3X\\xd3\\xadu\\x0b[{9\\xde\\xdc\\x8b\\xb5\\x8cJ\\x1dQ\\x1f\\xf8K\\xff\\x00\\x7f\\xff\\x00\\xad^\\x8d\\xe6*\\x8f\\xc6\\xbe\\xf2\\x9dE5t\\x7f\\x19\\xe20\\xf5(Tt\\xaa\\xfcKrj(\\x07\"\\x8af\\x01E\\x14P\\x01E\\x14P\\x01E\\x14P\\x01E\\x14P\\x01E\\x14P\\x01E\\x14P\\x01E\\x14P\\x01E\\x14\\x1a\\x00b\\x9a\\x86\\xe2\\xf1aGg!U\\x06\\xe2}*`q\\\\7\\xc4O\\x8a\\xbe\\x1d\\xf0M\\x8c\\xd6\\xba\\xb6\\xb5\\xa3i\\xb7W\\x917\\xd9\\xe0\\xbc\\xbb\\x8e\\xdeV\\xf9{\\x0647e\\xa9\\xb6\\x1f\\x0f:\\xf5cN\\x9ao\\xd0\\xfc\\xcb\\xff\\x00\\x82\\xc6\\xfe\\xdb\\x7f\\x0b\\xff\\x00h\\x7f\\x86>\\x15\\xd3\\xfc#\\xe2\\x8b}R\\xe6\\xd3Tu\\x9a\\x13cu\\x1f\\x92\\x8f\\x03m\\x7f\\x9a*\\xfc\\xf0\\x86\\xfa\\xeb\\xfbG\\xedW_\\xf2\\x0b\\xff\\x00;*\\xfe\\xa5ao\\xa8Eo\\xe7\\xdcnl\\x93\\x83\\xfe\\xe5fC}\\xfd\\xa7\\xa9\\x7ff]\\x7f\\xc7\\xaf\\xff\\x00\\x11_\\x8f\\xe3\\xb1U15\\xfd\\xa5C\\xfdB\\xe0\\xbe\\x17\\xa1\\xc39],\\xab\\x0b>zI\\xb6\\xb9\\x9a\\xbd\\xde\\xae\\xf6KK\\xfe\\x84\\xb7\\x93\\xddjZ\\x97\\xda\\xad\\x7f\\xe4\\x15\\xfew\\xd7\\x91\\xfe\\xd4\\xbe:\\xd6\\xbc-\\xac\\xe9_\\xf0\\x84\\xea\\x17V\\xe9u\\x15\\xcf\\xdaD\\x07\\xef?\\xc9\\xb3\\xef\\xd7\\xab\\xcdq\\xfd\\x99\\xfe\\x8bk\\xff\\x00\\x1e\\xbf\\xfc_\\xdf\\xf9\\xeb\\xc5?l\\x8d\\x1bT\\xd3\\xf5/\\x0c\\xff\\x00a\\xe9\\xba\\x9e\\xad\\xfb\\x8b\\x9f?1Iu\\xe4\\x7f\\xa9\\xd9\\xf7)\\xe5p\\xe6\\xc4r3\\xc9\\xf1?\\x1d\\x8a\\xc3\\xe4\\x95q8Nk\\xfb\\xbf\\r\\xef\\xf1-\\xac{7\\x81>0\\xf8o\\xc77\\xff\\x00\\xd9\\xba\\x1e\\xa7\\xf6\\xcb\\xab8>\\xd1?\\xee.?\\xd8G\\xfb\\xff\\x00\\xef\\xd7\\xa6|\\x1a\\xd6\\xed|7\\xf1\\x1bC\\xd4\\xf5K\\xaf\\xb2\\xdaY\\xf9\\x9e|\\xff\\x00\\xf6\\xcd\\xd2\\xbe7\\xfd\\x92t\\xddK\\xc3?\\x13u[\\xcf\\xec\\xfb\\xabF\\xfe\\xcbl\\t\\xe1\\x93\\xfb\\xf6\\xf9\\xfe\\x9f\\x9d}1\\xa6\\xdf\\xff\\x00i\\xe9\\xb6\\xbf\\xf3\\xf5Ych{\\n' \n",
      " ----------------------------------------------------------------------------------------------------\n",
      "494\n",
      "b'\\xb7G\\xd1p\\x9em_:\\xca93\\x08\\xf2JW\\xd8\\xfd\\x94\\xff\\x00\\x82v~\\xd5>\\t\\xd3>\\x0e]X\\xdcx\\x81\\xda\\xe6\\xf3Zqo\\x8b)\\xff\\x00\\x8e8Q\\x07\\xfa\\xba\\xfb>\\x16[\\x95V\\xf9[\\xba\\x9a\\xfcP\\xfd\\x865\\xfd7K\\xd2\\xf4\\xef\\xb4\\xddZ\\xda\\xff\\x00\\xc5I\\x1b~\\xfeX\\xe2\\xff\\x00\\x9e5\\xfb%\\xe1O\\x14\\xe9\\xbe#\\xb3_\\xec\\xfdJ\\xce\\xf3\\xec\\xaa\\x04\\xa2\\t\\x92O$\\xe3\\xbe\\xda\\xfd\\x1f\\x87\\xb1J\\xae\\x1c\\xfe\\r\\xf1\\x9f\\x84id\\xd9\\xc4\\xeaa\\xf9\\x9a\\xa9)=}W\\x92:j(\\xcd\\x15\\xee\\x9f\\x8e\\x85\\x14Q@\\x05\\x14Q@\\x05\\x14Q@\\x05\\x14Q@\\x05\\x14Q@\\x05\\x14Q@\\x05\\x14Q@\\x05\\x04\\xe2\\x8c\\xe2\\x82x\\xa0\\x0f7\\xfd\\xa4~/\\x7f\\xc2\\x89\\xf8\\x1b\\xe2O\\x17\\x7ff\\xb6\\xab\\xff\\x00\\x08\\xfd\\x8c\\x97\\xbff\\x13\\xf9>v\\xcev\\xee\\xfe\\x1a\\xfcU\\xfd\\xbd?l\\xe7\\xfd\\xb6\\xfe#\\xe9:\\xf4z=\\xc6\\x86t\\xdd/\\xec_g]K\\xcc\\xf3v;\\xbe\\xfd\\xfeZ\\x7fz\\xbe\\xfd\\xff\\x00\\x82\\x92~\\xdf\\xbe\\x07\\xd1\\xbc\\'\\xf1\\x13\\xe1%\\xdf\\xf6\\xac~\"\\xb8\\xd3d\\xb1r`_\\xb3\\xb3\\xcd\\x02\\xba\\x8d\\xfb\\xff\\x00\\xba\\xe9_\\x8e\\xbe5\\xb9\\xdf\\xa8\\xf1\\xff\\x00>\\xf5\\xf9\\xff\\x00\\x12\\xe3\\xa5R\\xbf\\xd5\\xe9O\\xdc\\xfdO\\xec?\\xa3\\xff\\x00\\x02{\\x0c\\x15L\\xf70\\xa0\\xe3U\\x7f\\x0eN\\xf6q\\x94z-\\x9d\\xfb\\xbf\\x91\\x93\\xe1\\xbf\\x0e\\x7fi\\xd1g\\xa5\\x7f\\xc4\\xcb\\xec\\xb5Z\\x19\\xeaM2\\x0b\\xadSR\\xff\\x00E\\xff\\x00\\x8f\\xaa\\xf9\\xb3\\xfao\\x0b8\\xfb\\x90q7<\\xff\\x00\\xec\\xcf\\xf8\\x96\\x7f\\xe4\\xc7\\xfb\\xf5$W\\xdf\\xf0\\xac\\xff\\x00\\xe9\\xef\\xed\\x95\\x89ycu\\xfd\\xa5\\xf6_\\xf9z\\xad\\xbb9\\xff\\x00\\xe1\\x19\\x1f\\xf13\\xff\\x00K\\xff\\x00\\xc8\\xd5\\x9f\\xb3=8\\xc9I^^\\xe8y\\x1f\\xf0\\x8c\\xff\\x00\\xa5\\x7f\\xc7\\xdf\\xdb(\\xd34\\xaf\\xedMG\\xfbr\\xabC\\x07\\xf6o\\xfaU\\xd7\\xfcz\\xff\\x00\\xdf\\xea\\x92\\x18q\\xa9\\x7fi\\xff\\x00\\xcb\\xaf\\xf9\\xfe\\n' \n",
      " ----------------------------------------------------------------------------------------------------\n",
      "131\n",
      "b'\\xcfVkF\\x9cc\\xee(\\xff\\x00\\xc0\\xf3:\\x9d\"\\xe3\\xfb3R\\xb6\\xb9\\xff\\x00\\x9f9\\xe3\\xb8\\xff\\x00\\xbe+\\xefo\\xf8\\'\\x7f\\xfc\\x14\\x02o\\x05?\\x89[\\xfe\\x11\\xf9\\xae\\x8d\\xd4\\x16y\\xff\\x00J\\xeb\\xb3\\xce\\xff\\x00c\\xfd\\xba\\xfc\\xf7\\xd3u_\\xed:\\xf5O\\xd9\\xc3\\xe2\\xe6\\x99\\xf0\\x88\\xeb\\x9f\\xdaF\\xe8\\xfd\\xa8\\xc5\\xe4\\xf9\\x10y\\xdfs\\x7f\\xff\\x00\\x17]\\xb9F2Xj\\xbc\\xe7\\xcbx\\x85\\xc2\\xf8L\\xf7(\\xa9B\\xa5\\x1fi--\\xbft~\\xf7x\\'\\xc4\\x87\\xc5\\x9e\\n' \n",
      " ----------------------------------------------------------------------------------------------------\n",
      "66\n",
      "b'\\xd35F\\xb7\\xfb/\\xf6\\x95\\xa4w\\x02/\\xf9\\xe7\\xbd7\\xe3\\xfaWC\\xda\\xbez\\xfd\\x96?ko\\x0f\\xfcY\\xd3<?\\xe1\\xdb5\\xd4\\x17Rm\\x1e+\\x852C\\xe5\\xc7\\x84T\\r\\xc6\\xff\\x00z\\xfa\\x13o\\x1dk\\xf5\\xbau#R\\n' \n",
      " ----------------------------------------------------------------------------------------------------\n",
      "23\n",
      "b'\\xa2?\\xccL\\xe3)\\xaf\\x80\\xc6\\xcf\\r\\x88\\x87#\\xed\\xf3&\\xa2\\x8a+C\\xcd\\n' \n",
      " ----------------------------------------------------------------------------------------------------\n",
      "4\n",
      "b'(\\xa2\\x80\\n' \n",
      " ----------------------------------------------------------------------------------------------------\n",
      "4\n",
      "b'(\\xa2\\x80\\n' \n",
      " ----------------------------------------------------------------------------------------------------\n",
      "4\n",
      "b'(\\xa2\\x80\\n' \n",
      " ----------------------------------------------------------------------------------------------------\n",
      "4\n",
      "b'(\\xa2\\x80\\n' \n",
      " ----------------------------------------------------------------------------------------------------\n",
      "4\n",
      "b'(\\xa2\\x80\\n' \n",
      " ----------------------------------------------------------------------------------------------------\n",
      "1600\n",
      "b'\\t\\xc0\\xa2\\x83\\xd2\\x80*\\xba+\\xa9\\xf5lf\\xb8\\xef\\x8b_\\x19\\xfc3\\xf0?\\xc2\\x12k\\x9e(\\xd6mt]-g\\x8e\\xdcOv\\xdeT~c\\xf0\\x89\\x9a\\xeb\\xee\\xe6\\xf2-%e\\xda\\xcd\\x1a\\x13\\xf4\\xaf\\xc4\\xff\\x00\\xf8)7\\xfc\\x14s\\xc7\\x1f\\x14,\\xfcA\\xe0\\x1dSK\\xf0\\xec:^\\x97\\xaf\\xcbmm$pM\\x13\\xaf\\x91$\\xb1.\\xfd\\xd2l\\xec?\\x83\\x15\\xe4\\xe6\\x99\\x82\\xc2\\xd2\\xe6\\xfbG\\xdf\\xf8w\\xc08\\x9e)\\xcc=\\x8d=)B\\xce\\xa3\\xd2\\xea-\\xee\\xaf\\xb9\\xe7_\\xf0S\\x8f\\x8c\\x1a?\\xc4\\xbf\\xdb+\\xc7:\\xf7\\x87\\xf5\\x8b]KN\\xbeKW\\xb1\\x96\\x0f\\xdfC0\\x16Q\\xa3l\\xff\\x00\\x81\\xa3\\xd7\\xcc\\xd7\\x97\\xd7Z\\x9f\\xfc}U\\x7f\\x15k\\x9f\\xf1-\\xb9\\xd4\\xeb\\'\\xc1>)\\xba\\xf16\\x9busu\\xff\\x00?\\x15\\xf9\\xc4\\xa5\\xed\\xe5:\\xc7\\xfa\\x0f\\x97\\xfb\\x0c\\xb7\\x05C\\'\\xa16\\xd58F>\\xbc\\xbajg~\\xd4\\xde#\\xb8\\xf0\\xcf\\x86\\xf4\\xdf\\xf8Dn>\\xcbu\\xf6\\xf9|\\xec~\\xfb\\xf7~_\\xfbuk\\xe1\\xaf\\xc4\\x9b]WM\\xd1m\\xd3\\\\\\xb7\\xff\\x00\\x84\\x9b\\xecX\\x9e\\x02?}\\xe6y\\x7f\\xbd\\xae+\\xf6\\xae\\xd7.\\xb4\\xcf\\x04\\xe9\\x7fe\\xb5\\xfb_\\xfaD\\xbf\\xfa-+\\x92\\xfd\\x97\\xa0\\xfe\\xd2\\xf8\\xf9\\xa6\\x9b\\x8f\\xf4_\\xb5[\\xdfq\\xff\\x00n\\xf3W\\xa2\\xb0j8>y\\x9f\\x99V\\xe2\\xece.4\\xfe\\xcd\\xa7\\x17\\xcb.H\\xf5\\xb4omWC\\xe8\\x7f\\xb7\\xddjz\\x97\\xfd=T\\xba\\xc5\\xc5\\xd7\\xfc\\xbdQ\\xa8\\xc1\\xfd\\x99\\xa9\\x7f\\xa2\\xd1\\xafj\\xbf\\xdau\\xe3\\x9f\\xb7\\xcf\\xdcr\\xa7P\\xd7\\xb4\\xfbV?\\xe2g\\xff\\x00\\x1e\\xbf\\xfbR\\xa2\\xed\\xff\\x00P\\xbf\\xfd\\xa7T\\xb5-r\\xebS\\xd3j\\xc6\\x9b\\xaa\\xff\\x00i\\xff\\x00\\xc4\\xb3\\xfe]h\\xe4:\\xa3\\xcd9\\xfb:G\\x97|t\\xf8\\xb1\\xabx\\x0f\\xe2\\xfe\\x97k\\xa2k\\x0bm\\xa2\\xf96\\x97\\x17\\x07\\xca\\x86L\\x0f9\\xb3\\xf3\\xbf\\xcf\\xf7\\x135\\xec~\\x16\\xf8\\x81\\xa2x\\xde\\xfa\\xe7\\xfb\\x0fQ\\xb5\\xd5\\x96\\xd3\\xfd\\x7f\\xd9\\xc7\\xfa\\xad\\xff\\x00s\\xff\\x00@\\xaf\\x99\\xbfl[\\xfb\\xaf\\r|X\\xd2\\xed\\xad\\xad~\\xd5k\\xfd\\x91\\x17\\xfc\\xb0\\xff\\x00\\xa6\\x93\\x7fr\\xba\\xdf\\xd8.\\x12.\\xfc[\\xc7\\xcb\\xe4\\xd9\\xff\\x00\\xed\\xc5z\\x18\\x9c,~\\xaf\\xed\\x0f\\xc78o\\x8d\\xb1\\xff\\x00\\xeb\\xa6\\'\\x87\\xea\\xc5\\xf2\\xb9o\\xad\\x95\\x93zt?f\\xbf\\xe0\\x9a\\xdf\\x1d|+\\xe1\\xaf\\x88\\xdao\\xdb\\xbcI\\xa6[\\xfd\\x8fHx\\x1f\\xf7\\xdf\\xc5\\xfb\\xaa\\xfd$\\xf0w\\x8bt\\xff\\x00\\x1bxv\\xdfP\\xd0\\xee-\\xef\\xb4\\xcb\\xa5\\xcc7\\x16\\xe4\\x00E\\x7f<_\\r~!]|7\\xf1\\x17\\xf6\\x95\\xac\\x16\\xb77^G\\xd9\\xff\\x00}\\xfe\\xdf\\xfb\\x95\\xfaY\\xff\\x00\\x04\\xf9\\xfd\\xb6|M\\xe2/\\x0e\\xf87@\\xb8\\xb3\\xd1\\xedm\\xef/\\r\\xbc\\xea\"\\x7f1w\\xce\\xfd?y^\\xe7\\x0f\\xe7\\xb7^\\xc6\\xa1\\xf9/\\x8e\\xfe\\x14\\xe2i\\xd4y\\xd6\\x1aW\\xbe\\xfa\\xad\\xb5}\\x8f\\xd1QE\"\\x1c\\xa8\\xa5\\xcd}\\xc1\\xfc\\x94\\x14QE\\x00\\x14QE\\x00\\x14QE\\x00\\x14QE\\x00\\x14QA\\xe9@\\r\\x1f5$\\x8e\\x15i\\x03dW\\x0b\\xf1\\xf6\\xf2\\xe3J\\xf8+\\xe2\\x8b\\xab{\\x8f\\xb2\\xdd[\\xe8\\xb7\\x93Aq\\x00\\xfd\\xe4\\x12\\x08\\\\\\x87O\\xa7QC\\xd1\\\\\\xdb\\x0fG\\xdbUT\\x97Wc\\xc7\\xff\\x00n\\xaf\\xdb\\xebM\\xfd\\x88\\xc6\\x81\\xf6\\xdd\\x12\\xfb\\\\\\x7f\\x12\\xac\\xfeY\\x82T\\x8b\\xc9\\xf2\\xfc\\xb1\\xf3\\xef\\xff\\x00\\xae\\xb5\\xf8#\\xfbI\\xde\\x7f\\xc2\\xf0\\xf8\\xb1\\xe2]J\\xd7\\xfd\\x0f\\xfe\\x12-~\\xe7X\\xff\\x00H\\xff\\x00\\x96\\x1b\\xee\\x1d\\xf6\\x7f\\xe3\\xf5\\xda|w\\xf8\\xe1\\xe2\\x8f\\x8c\\xc7E\\xff\\x00\\x84\\x83\\xc5Z\\xd6\\xa1\\xf6[\\x99D_l\\xd6g\\xb9\\xf2\\xb7\\xec\\xdf\\xb3\\xce\\xfb\\x9fv\\xbcG^\\xf1\\x1f\\xfc$\\xc7\\xec\\xbae\\xd5\\xd7\\xda\\xbe\\xd1\\xff\\x00\\\\\\x7f\\xdf\\xf9\\xeb\\xf3|vc<m[\\xad\\x91\\xfd\\xed\\xc1\\x1e\\x1e\\xe0xK.J\\xb4y\\xb1s\\xd2R\\xbb\\xd5^\\xf1I?+\\\\\\xd2\\xd3`\\xff\\x00\\x84\\x1b\\xc3\\x7f\\xf3\\xf7\\xfd\\x91Rx[\\xc5_\\xf0\\x93\\xe9\\xb7W_e\\xac\\xdd\\x1f\\\\\\xb5\\xff\\x00E\\xd35?\\xf8\\xfa\\xff\\x00\\x96\\xff\\x00\\xf2\\xda\\xba\\x0b;\\x1b],\\xff\\x00\\xa2\\xda\\xfd\\x92\\xbc\\xedO\\xd10\\xb5\\'\\xcf\\x17C\\xe1\\xecdx?\\xc7\\xff\\x00\\xf0\\x93\\x7f\\xcb\\xaf\\xd9+~i\\xeb\\x03\\xc1\\xfa\\xae\\x99\\xa9\\xff\\x00\\xc82\\xd7\\xff\\x00 y5-\\x9f\\x8a\\xadu=G\\xfb3\\xfe^\\xbf\\xf8\\x8a\\xcf\\x96F\\xd8<b\\x8d8\\xfbZ\\x8anGIe\\xe1\\xcf\\xf8\\x97}\\xaa\\xb2\\xea\\xd47\\xd7_\\xf3\\xf5\\\\\\xcf\\x8d\\xbe+h\\x7f\\x0e\\xa4\\xb5]F\\xe6\\xea\\xd5\\xaf?\\xe9\\x84\\x92}\\xcaTh\\x9d\\x98\\xccn\\x16\\x84}\\xa5Y\\xf2D\\xee5\\xef\\x11\\xff\\x00i\\xe9\\xbfe\\xa8\\xff\\x00\\xe1#\\xff\\x00\\x8ao\\xec\\xd5\\x1e\\xa3\\xa5]i\\x9aw\\xdaj\\xc4\\xd7\\xd6\\xa7\\xc3\\x7f\\xf4\\xf5\\xff\\x00\\\\+\\x97\\xd9\\x9e\\xc5:\\xd5y\\xa5\\xce\\x1e\\x1b\\xf1\\x1f\\xf6f\\x9b\\xf6Z\\xbd\\xe7\\xff\\x00\\xc2\\r\\xff\\x00O\\x7fl\\xaa:\\r\\xf5\\xaf\\xf6o\\xfaW\\xfc}Tz\\x0e\\xabjO\\xfcL\\xff\\x00\\xd2\\xff\\x00\\xf25\\x174\\xc2\\xc6\\x10\\x9e\\xea\\xfd\\xce\\xb6\\x19\\xeb\\xe9O\\xd8\\xaf\\xf6\\xa9\\xd3\\xbe\\x14x\\xaf\\xc1vs\\xe9\\xd7W\\'L\\xbd`\\xa6\\x19c\\xe3\\xe6w\\xaf\\x93,\\xc5\\xd6\\x99\\xa9\\xfd\\xaa\\xeb\\xfe=\\x7f\\xce\\xca\\xdf\\xd1\\xf5\\xcd\\xc2\\xda\\xe6\\xd6\\xeb\\xec\\x9f\\xf3\\xc2\\xe3\\xfe[Vtk{\\x1a\\xbe\\xda\\x99\\x9ey\\x92\\xe1\\xb3\\xbc\\rL\\xbf\\x13\\xfdic\\xfa\\x07\\xfd\\x9d\\xff\\x00h+_\\x8f~\\x1b\\xbc\\xbe\\x86\\xcem6KK\\x8f\\xb3\\xe2\\xe0\\xef-\\xfb\\xb4\\x7f\\xfd\\x9e\\xbd=\\x06\\xd4m\\xbf7\\xa5~,~\\xc6\\xbf\\x18\\xfcQi\\xe0\\xeb\\x83\\x0f\\x89\\xbcE\\x00\\xfbp\\x19\\x87Qs\\xfc\\t_\\xb46\\xef\\xbe\\xd46\\xe2\\xa4\\xfc\\xc7\\xf15\\xfa\\xb6O\\x99,]+\\x9f\\xe7\\x0f\\x8a\\x1c\\x04\\xf8c2\\xf6Q\\x92t\\xe6\\xe5o.[\\x7f\\x99~\\x8aE?--z\\xc7\\xe6aE\\x14P\\x01E\\x14P\\x01E\\x14P\\x01A\\xe9E\\x04\\xe0P\\x07\\x1f\\xe3\\xcf\\x88Z\\x17\\xc2\\xcf\\x0b\\xddkZ\\xf6\\xa5\\xa7\\xe8z]\\x98\\x8f\\xcf\\xbd\\xbb\\x95!\\x8a-\\xef\\xb5w;\\x7f\\xb7\\xef\\xd6\\xbf5\\x7f\\xe0\\xa6\\x7f\\xf0S\\xef\\x10\\xf8?\\xe2C\\xf8\\x7f\\xe1\\xe7\\x8a|;}\\xe1]CBAs,>M\\xe6\\xe9\\xa5{\\x84\\x94y\\x9f\\xee\\xa2W\\xd5_\\xf0Y\\x0b\\xd9\\xec\\x7f\\xe0\\x9e\\x1f\\x11.\\xad\\xdb,\\xb1\\xd90\\x07\\xb7\\xfal\\x03\\xfck\\xf9\\xf1\\xf8\\x85\\xf16\\xeb\\xfe\\x12O\\xb2\\xfd\\x96\\xd7\\xfd2\\xdf\\xec\\xff\\x00\\xe9\\x13\\xff\\x00~\\xbe?\\x88\\xb3\\n' \n",
      " ----------------------------------------------------------------------------------------------------\n",
      "322\n",
      "b\"\\x8a\\x7fV\\xa2\\xf9|\\xcf\\xe9?\\x038?(\\xc4\\xd0|A\\x99\\xfb\\xee\\x9c\\xdd?g(\\xf3'\\xee\\xa6\\xa5\\xea\\x9b%\\xf1\\xdf\\x8f\\xb5=K\\xec\\xbf\\xd9w?\\xda\\xdf\\xf3\\xdf\\xfb?\\xfd.\\xb1&\\x82\\xd7M\\xff\\x00J\\xd3?\\xe4`\\xff\\x00\\x96\\xff\\x00\\xf2\\xdb\\xfe\\xbb|\\x95%\\xe0\\xff\\x00\\x85?\\xff\\x00\\x1e\\xbf\\xe9\\x7fl\\xff\\x00\\x9f\\x8f\\xf6?\\xfd\\xba\\x8ek\\x1f\\xf8A\\xff\\x00\\xe2\\xa6\\xff\\x00\\x8f\\xaf\\xed\\x8f\\xf9w\\xff\\x00\\xae\\xdf=|\\xdd3\\xfas\\x1d\\x8a\\x96&\\xac\\xaa\\xd4\\xf8\\xa3\\xbfh.\\xf1\\xf3\\xeay\\xbe\\xbd\\xe3\\x9dsK\\xf8\\x91\\xfe\\x95\\xfe\\x89\\xfe\\x91\\x17\\xfc|A\\xff\\x00L\\xeb\\xd5\\xbe\\x1e\\xf8\\xfe\\xd7\\xc4\\xdam\\xd7\\xda\\xb5-+\\xfe>?\\xe7\\xbcu\\xf3\\xe7\\xc6\\x0f\\x8a\\x9f\\xda\\x7f\\x125;_\\xb2\\xda\\xff\\x00\\xa6}\\x9b\\xff\\x00I\\xd2\\xbb\\xff\\x00\\xd9\\xe3\\xc0\\x90x\\xdb\\xc2\\xf7\\x97\\r;/\\xfcM8\\xf7\\x1bV\\xbd\\x1cf\\x16Q\\xa7\\xcf?t\\xfc\\xbb\\x83x\\x93\\x13\\x88\\xcd\\xf18L<\\xb9\\xa3\\tKW\\xe4z\\xd6\\x8f\\xe1[_\\r\\x7f\\xc7\\xadV\\xb3\\xd2\\xb4\\xcf\\xf8H\\xfe\\xd5ku\\xfe\\x95\\xfb\\xdf\\xf9o\\xff\\x00}\\xfc\\x95[\\xc0~8\\xff\\x00\\x84\\x9bR\\xba\\xff\\x00E\\xab6~\\x07\\xfe\\xcc\\xf1'\\xf6\\x9f\\xda\\xbf\\xe7\\xaf\\xfe?^G\\xc0~\\xbdG\\x96\\xbd\\n\" \n",
      " ----------------------------------------------------------------------------------------------------\n",
      "384\n",
      "b'3\\xc2B<\\xbc\\xc6\\x94\\xda\\xa5\\xae~\\xcb\\xf6\\xab_\\xb5W\\x93~\\xd5\\r\\xa6\\x8dKC\\xfbM\\xd7\\xfc\\xb0\\xb9\\xff\\x00\\x96\\xff\\x00\\xf5\\xc6\\xbd\\x0bR\\xf0\\x07\\xf6\\x97\\x89?\\xb5>\\xd5\\xff\\x00<\\xbf\\xf1\\xca\\xc9\\xf8\\xc1\\xf0*\\xdf\\xe2\\xfe\\xa5kuu\\xa9j\\xb6\\x9fd\\xfbO\\xfc{\\xc1\\xff\\x00=\\xbf\\xfd\\x8a\\xdb\\x07*~\\xd7\\xf7\\x87\\xcd\\xf1\\xde_\\x9a\\xe3\\xf2\\xaa\\xd40\\x94\\xbd\\xff\\x00w\\x97\\xde\\xf3^fW\\xc1/\\x8d~&\\xf8\\x97\\xe3\\x0b\\xad;\\\\\\xb9\\x17V\\x96ZW\\x9f\\x0f\\xd9\\xec\\xfb\\xa4\\x88\\x9f\\xfb=z\\\\\\xd5\\xc9\\xfc\\x19\\xf8Ko\\xf0\\x87\\xc47Z\\xdd\\xad\\xd5\\xd5\\xe2\\xdeA\\xf6\\x0f\\xf4\\x8f\\xfa\\xe8\\x8f\\xff\\x00\\xb2WE\\xe3o\\x11\\xff\\x00fi\\x97Z\\x9dN+\\xd9\\xfbO\\xdd\\x1e\\xf7\\r\\xfdg\\x0b\\x96(\\xe63\\xe6\\xa9\\xaf\\xc5\\xef{\\xbe\\xa7A\\xa3\\xd8i\\x9f\\xd9\\xbf\\xe9_\\xf1\\xf5\\xff\\x00]\\xea\\xbf\\x86\\xe0\\xb5\\x1fj\\xfbUs~\\x15\\xf1W\\xfc$\\xde\\x1b\\xba\\xba\\xff\\x00\\xae\\xb5W\\xc0~1\\xff\\x00\\x84\\x9b\\xed_\\xe8\\xbfd\\xfb\\x1f\\x95\\\\\\xbe\\xcc\\xf7\\xa9\\xe7T?r\\xa9}\\xa0\\xf8\\xef\\xe3\\xfdO\\xc3^\\t\\xff\\x00\\x89g\\xfc\\xff\\x00\\xc5\\xff\\x00,<\\xef\\xdd\\xd6\\xa7\\xc0\\xcf\\x8b\\xdan\\xa9\\xf0\\xdbCms\\\\\\xd0muO\\xde\\xfd\\xa2\\t\\xe7\\x8e\\x19\\x7f\\xe3\\xe1\\xf6|\\x9f\\xeeW5\\xfbY[7\\x82~\\x01\\x7fiz\\xdc[\\x0e\\xbf\\xdf\\xaf\\x02\\xf8F\\x96\\xfe:\\xf8\\x8f\\xe1\\xcf\\xf9u\\xfbU\\xf4p\\x1f\\xf6k\\xbf\\x0f\\x97\\xcaxOh\\xe3\\xee\\x9f\\x9a\\xf1\\x07\\x1ac\\xf2\\xce1\\x86\\n' \n",
      " ----------------------------------------------------------------------------------------------------\n",
      "708\n",
      "b'\\x8a\\xe7s\\xa7\\x1fv\\xfaj\\xeds\\xf43\\xe1w\\xc7\\xbdG\\xc3\\x8dqo\\xe1\\x9dJ\\xd7\\xec\\xa9q\\xfb\\xff\\x00\\xb3\\xf9s~\\xf2\\xbf]\\x7fc\\xcf\\xdb\\xba\\xdb\\xe2\\x9f\\x8auK/\\x15x\\xb3\\xc3\\x86\\xce\\xce\\xde)m\\xc7\\x9d\\x0cd6\\xee\\xf5\\xf8\\x9d\\xf0\\xf7\\xe1\\xcf\\xfc!\\x1ae\\xdd\\xad\\xad\\xd1\\xba\\xfb\\\\\\xff\\x00h\\xcd}\\t\\xfb\\x18\\x9c\\xf8\\x97\\\\\\xff\\x00\\x8f\\xce,\"\\xff\\x00\\xd1\\x95\\x8eW\\x99O\\x0bW\\x96;\\x1d\\xde(p>_\\x9c\\xe4\\xf2\\xc4\\xe6\\x16\\xa7Z;Y\\'k\\xf2\\xdfS\\xf7sF\\xd7m|Q\\xa5\\xdb\\xdeY\\xdcZ\\xddZ\\xdd/\\x9d\\x04\\xd07\\x9b\\x14\\xc9\\xd9\\x95\\x87\\x15\\xa8\\x99\\xff\\x00\\xc7k\\x81\\xfd\\x9aff\\xf8\\x05\\xe0\\xbd\\xdf\\xf4\\x07\\xb2\\x1c\\xf7\\x1eBW\\xa1D\\xbc}8\\xaf\\xd5\\xa9\\xcd8]\\x1f\\xe7^&\\x92\\xa7VTW\\xd9\\x91%\\x14QL\\xcc(\\xa2\\x8a\\x00(\\xa2\\x8a\\x00)\\x1c\\xe1\\x0f\\xd2\\x96\\x86\\xe9@\\x1f\\x06\\xfcv\\xfd\\xb2\\xfc3\\xe1\\xaf\\x8e\\xfe#\\xf0\\xcd\\xd6\\x9b\\xaf^]Y\\xde\\x8by\\xca\\x08\\xfc\\x9f\\xf5{\\xff\\x00\\x8e\\xbeX\\xfd\\xb3\\xbfd\\x1ds\\xf6\\xd1\\xd4\\xae\\xbe!xgR\\xf0\\xfe\\x93\\xa5i\\x1a\\x07\\xd9\\xfe\\xc1q\\xf6\\x8f\\xb6y\\x96\\xdet\\xee\\xff\\x00\\xb9\\xb6\\x92?\\xf9m\\x1dyG\\xfc\\x14[\\xf6\\x84\\xd3<\\r\\xfbt|L\\xb5\\xfe\\xdc\\xba\\xb3\\xba\\xb3\\xd7\\xa2\\xff\\x00\\x9e\\x9f\\xb8\\xfd\\xda\\x7f\\xd3:\\xb5\\xfb=\\xfe\\xd7\\xba\\x9e\\xa7\\xa6\\xda\\xda\\xff\\x00\\xc2a\\xaa\\xff\\x00\\xc2?y\\x7f.\\x9f\\x7foq\\x04\\x9eL\\xf1\\xbci\\xbf\\x7f\\xee\\xeb\\xf0\\xdcn\\x17\\x0c\\xf3\\x19\\xd5\\xa3x\\xcf]e\\xf0\\xf5\\xfc\\xcf\\x87\\xe1\\xfe5\\xe2\\x8e\\x11\\xce\\x7f\\xb4S\\xe7\\xa1v\\x9a\\x8a\\xbb\\xf7\\x9f\\x9fd|#\\xa6\\xff\\x00\\xc5\\xa0\\xff\\x00\\x8f\\xaf\\xf4\\xbf\\xb6\\x7f\\xcf\\xbf\\xfb\\x1f\\xef\\xff\\x00\\xbfQ\\xd9\\xd8\\xff\\x00\\xc23\\xa9\\x7f\\xc2Mu\\xfe\\x97k\\xab\\xff\\x00\\xcb\\xbd\\xbf\\xfa\\xef\\xdfW\\xe8\\x97\\xed\\x99\\xfb!xC\\xf6\\x98\\xfe\\xc3\\xff\\x00\\x85\\x1b\\xe0\\xff\\x00\\x0f\\xea\\xdf\\xd9\\x1eo\\xf6\\xef\\xd8 \\x8fN\\xf27\\xec\\xf2w\\xf9\\xde^\\xff\\x00\\xe3\\xff\\x00W_\\x9f\\xfa\\xc7\\x875?\\x03x\\x93R\\xd3<am\\xf6K]\"y4\\xf8-\\xee<\\xb9\\xbc\\x89\\x12M\\x89\\x1f\\xc9\\xfe\\xe3\\xd7\\xa7\\x81\\xc5{}\\xe3\\xcbo\\xb3\\xd4\\xff\\x00J\\xb8\\x1f\\x8d\\xb2\\xee#\\xc0S\\xc5\\xe5\\xd3\\x8f,\\xb6\\x8d\\xd3\\xe4\\xd5\\xab\\xce\\xcd\\xe8\\xed\\xf8\\x94f\\xb2\\xba\\xd4\\xf5/\\xf8L>\\xd5u\\xf6_\\xf8\\xf8\\xfb?\\xfc\\xbe|\\x9f%G\\xa9X\\xff\\x00\\xc2\\xdf\\xff\\x00J\\xd3?\\xd0\\xfe\\xc7\\xfe\\x8f\\xfe\\x91\\xff\\x00\\xd8T\\x9f\\xe9_\\xda_j\\xb5\\xff\\x00\\x91/\\xff\\x00 \\xf9\\x7f\\xc7\\xf2\\x7f\\xac\\xfb\\xf5\\x1d\\xe7\\xda\\xb5?\\xf9\\x13\\xff\\x00\\xe3\\xd7\\xfe\\x9d\\xff\\x00s\\xfb\\xcf\\xf8\\x1dw\\xf3\\\\\\xfa\\xe9S\\xa3Itq\\xfbKf\\xe5\\xfc\\xcb\\xfb\\xa5\\x8dcV\\xff\\x00\\x85\\xbf\\xfe\\x8b\\xa6\\x7f\\xa2}\\x8f\\xfe~?\\xfb\\n' \n",
      " ----------------------------------------------------------------------------------------------------\n",
      "262\n",
      "b\"\\xbd\\xe1\\xbf\\x15Z\\xff\\x00iZ\\xe8\\x7f\\xe9_j\\xd2\\x7f\\xd1\\xfe\\xd1\\xff\\x00,~J\\xf3_\\x89?\\x15\\xf4[\\xdd>\\xd4\\xfc?\\xd6-\\xbe\\xd4\\xdc\\xce,\\xad\\xe4\\x871\\x7f\\x07\\xfa\\xea\\xe8\\xbc1\\xe3\\x1d/\\xc4\\xde\\x1d\\xb7\\xb5\\xd2\\xee\\xbf\\xe2\\xbe\\xf2#\\xf3\\xf3\\x04\\x9ew\\x99\\xff\\x00/??\\xfa\\xbf\\xef\\xd1S\\x0bS\\xfa\\xfb'\\x9b\\x96\\xf1F\\x02\\xae.\\xd8Z\\xb1\\x94\\xfb\\xc5\\xa6\\x9f\\xf7U\\xb4\\xbf\\xeau\\x1a\\xc7\\x83\\xae\\xb5?\\x12Z\\xea_j\\xb5\\xfb/\\xee\\xbf\\xf1\\xca<{\\xe0{\\xaf\\x13}\\x97\\xec\\xb7V\\xb4h\\x1e#\\xfe\\xcc\\x16\\xb6\\xba\\x9d\\xd7\\xfcM\\xbf\\xf8\\xbf\\xb9G\\x8f \\xd7?\\xd1\\x7f\\xb3?\\xed\\xbdr\\xfd\\xb3\\xea%N\\x8dL4\\xab(\\xcb\\xde\\xf8\\xa3\\xd4\\xb3\\xe3o\\x0e]x\\x9bM\\xb5\\xb5\\xb5\\xab0\\xb7\\xfc#>\\x1b\\xff\\x00J\\xff\\x00K\\xfe\\xc8\\xaa\\xde0\\x83S\\xfe\\xcd\\xb5\\xfe\\xcc\\xff\\x00\\x8f\\xaa\\xb3\\xa6\\xd9\\x7fjxn\\xd6\\xd7S\\xff\\x00\\xb6\\xf4}\\x83\\xa24\\\\k\\xcaT\\xe1\\xf6~A\\xa0\\xf8\\x8e\\xd7R\\xd3n\\xae\\xadj?\\n\" \n",
      " ----------------------------------------------------------------------------------------------------\n",
      "579\n",
      "b'\\xf8\\xc6\\xd7\\xc4\\xdfj\\xfb-\\xaf\\xfcy\\xd7\\x98|^\\xd7\\xf5/\\x0b\\xfcE\\xb5\\xb5\\xd3\\xa7\\xba\\xb5\\xd2\\xfe\\xcfoqq\\x04\\x07\\xf7?\\xeb\\x1fw\\xfe9^\\x97\\xe0\\xfdWC\\xd5>\\xd3\\xfd\\x87\\xff\\x00m\\xff\\x00qq\\x0f\\xfb\\x9f\\xeb\\xabJ\\x94\\xd5:~\\xd0\\xf02\\x9e\"\\xa5S0\\xfa\\x974y\\xe9\\xfb\\xb2\\x8f\\xda\\x97\\xf8\\x7fRM\\x1f\\xc7\\x16\\xba\\xa6\\xa5\\xfd\\x99\\xf6[\\xaf\\xff\\x00b\\xa1\\xbc\\xf1\\xc5\\xae\\x9b\\xe2?\\xec\\xcf\\xb2\\xff\\x00\\xa5\\xd2\\xe8\\xf7\\x1a\\x1f\\xfc$\\x9f\\xe8\\xbf\\xf1\\xf5\\xfb\\xdf\\xfe\\xce\\xbd#\\xf6?\\xf0\\xe7\\x83\\xfcs\\xfbc|=\\xd0\\xf5\\xcb[][\\xfb_W\\xb6\\xb7\\xff\\x00H\\x83\\xfd\\x7f\\xdc\\xf9\\x1e\\xb3\\xab^4\\xa8\\xfbC\\xaf3\\xcc\\xde\\x0f.\\xa9\\x8e\\xac\\xe1z|\\xd2\\xe9~X\\xeb\\xcb\\xeau?\\x01\\xbf\\xe0\\x99~&\\xfd\\xb4t\\xeb\\xadsC\\xf17\\x85t\\x9b]\"x\\xed\\xe7\\xfe\\xd0\\x9e\\xe2\\x19\\xbc\\xcf-&\\xf3\\x13dr|\\x9f=~\\xb6|O\\xf1\\xfe\\x99\\xf0\\x83N\\xb5\\xba\\xb9\\xd3>\\xd7\\xf6\\xcf\\xfaa\\x1f\\xfb\\xf5\\xcf\\xff\\x00n|)\\xfd\\x95?\\xe2G\\xff\\x00\\x12\\xaf\\x04\\x7fk\\xff\\x00\\xc4\\xc3\\xec\\xf6\\x162~\\xff\\x00\\xf87\\xfc\\x91\\xff\\x00\\xb1_\\x9f\\x7f\\x1b?l\\xbf\\x13\\x1f\\r\\xe9\\x9f\\xdb\\x9e0\\xd5\\x7f\\xe3\\xe3\\xf7\\x1f\\xf2\\xc7\\xfeY\\xff\\x00\\xd3\\x18\\xeb\\xe2\\xfd\\x9c\\xb1\\xbf\\xed8\\x8f\\x83\\xec\\xc7\\xedK\\xd3\\xb9\\xfeg\\xf8\\xc7\\xe3&?\\x89\\xf1\\x8f\\x01\\x96M\\xf3;\\xfb=\\x13\\xf6[?~\\xda\\xebm\\x0f\\xd2\\x1f\\xd9k\\xf6\\xc2\\xd0~$|y\\xd3<5mm\\xaa}\\xab7\\x0b\\xf6\\x86?\\xb9\\xf9 w\\xfe\\x0f\\xf7+\\xed\\x84|\\x9f\\xe5_\\x88_\\xf0H\\xdf\\x8e:O\\xc4\\x0f\\xf8(7\\x84- \\xd6n5\\x0b\\x9b\\xb8u\\x16\\xc1\\x12v\\xb0\\x98\\xff\\x00\\xcf>\\xd8\\xaf\\xdb\\xe0v\\xae\\xea\\xfds\\x83cEe\\xedQ\\x8c\\xa2\\xb9\\xbe\\xd6\\xfd\\x0f\\x9e\\xe1:y\\x95<\\x1f.iR3\\xa9\\xde$\\xd4P\\x0eE\\x15\\xf6G\\xd3\\x85\\x14Q@\\x05\\x14Q@\\x05\\x06\\x8a\\x0f\"\\x80?&\\x7f\\xe0\\xba\\x9f\\xf0L\\xcf\\x86\\x9e\\x02\\xfd\\x9c\\xbe-~\\xd0V\\xbf\\xf0\\x907\\x8f\\x9a\\xe2\\xc6\\xfb\\xf7\\xf7\\xf9\\xd3\\xc4\\x93_\\xd9\\xdb?\\xee|\\xbf\\xf9\\xe6\\xd5\\xf9#\\xf0c\\xe3\\xbe\\xa7\\xe1\\x93kk\\xff\\x00\\x12\\xaf\\xb2\\xfd\\xbf\\xfe^?\\xe0\\x15\\xfd.\\x7f\\xc1@\\xff\\x00d\\x9f\\xf8nO\\xd97\\xc5\\x7f\\n' \n",
      " ----------------------------------------------------------------------------------------------------\n",
      "1116\n",
      "b'\\xdb\\\\\\xff\\x00\\x84t\\xf8\\xab\\xecy\\xd4M\\x97\\xdb>\\xce \\xbc\\x86\\xe7\\xfdW\\x99\\x1e\\xfc\\xf9!?\\xd6\\x0f\\xbf_\\xce\\x97\\xfc\\x15\\x13\\xf6\\x17\\xb6\\xff\\x00\\x82j\\xfe\\xd3\\xd6\\xbf\\x0f\\x7f\\xe1-o\\x15}\\xb3@\\xb6\\xf1\\x07\\xdb\\x8d\\x8f\\xf6v<\\xeb\\x8b\\xa4\\xf2\\xf6y\\xb2\\x7f\\xcf\\xb7\\xfe?_;\\x9bd41\\x14\\xef\\x1d\\xcf\\x8e\\xe2\\x18\\xd7\\xa7>\\x7f\\xf9v}\\x93\\xfb7\\xfe\\xd6\\xda\\xe7\\xc3?\\xed\\xcf\\xec;\\xaf\\x0f\\xdd\\xfd\\xb3\\xca\\xf3\\xfe\\xd1\\xfe\\xc6\\xfd\\x9frO\\xf6\\xeb\\x7f\\xf6\\xea\\xfd\\x82\\xbc\\x1f\\xe2o\\x82\\x7f\\xf0\\x98xf\\xd7\\xc4\\x1a\\xb7\\x8d|E\\x7f\\x16\\xa1\\x7foo\\xfe\\x99\\xff\\x00\\x1f1\\xcd;\\xba\"G\\xe6}\\xf7\\xaf\\xce\\x8f\\x82\\x7f\\x1a\\x7f\\xe1\\x06\\xfe\\xd3\\xff\\x00\\x89o\\xda\\xfe\\xd9\\xe5\\x7f\\xcb\\x7f\\xf7\\xeb\\xf4\\x83\\xf69\\xfd\\xaa?\\xb3<I\\xa6\\x7f\\xc4\\x8f\\xed\\x7f\\xf1(\\xfbG\\xfc\\x7f\\x7f\\xb8\\x9f\\xf3\\xce\\xbf+\\xafF\\xbd\\x1a\\xfc\\x93\\xfe*\\xff\\x00\\xc9\\xfc\\x99\\xcb\\xc2\\xfci\\x99\\xf0^:\\x19\\xae[\\xfb\\xcc\\x1b\\xfe,y\\xb9TR\\xd7e\\xab\\xbfT\\x8f\\x82u\\x8f\\x83\\x9e9\\xf0\\xcf\\xda\\xb4\\xcb\\xaf\\x07\\xf8\\xaa\\xd3\\xc3\\xf6\\x7f\\xeb\\xef\\xee4;\\xc8a\\x82?\\xbe\\xee\\xf3<~ZW+y\\xaa\\xdd|3\\xd4\\xadmt?\\xf4\\xbb_\\xfc\\x0c\\xfd\\xe7\\xfc\\x02\\xbfd~&|T\\xff\\x00\\x86\\xbd\\xf0F\\xb9\\xf0\\xcf\\xfb3\\xfe\\x11\\xff\\x00\\xf8N\\xac%\\xd1\\xfe\\xdf\\xe7\\xfd\\xb3\\xec;\\xff\\x00\\x8fg\\xee\\xf7\\xd7\\x87x?\\xfe\\x089\\xff\\x00\\x08\\xce\\x9buk\\xff\\x00\\x0b\\x0b\\xed_\\xf7\\x03\\xff\\x00\\xee\\x9a\\xe8\\xfe\\xda\\x8e\\x17\\xdd\\xc6\\xc3\\x94\\xfe\\xb6\\xe0?\\xa4\\xcf\\x0e\\xf1.\\x1e\\xadLeoag\\xcb\\xcc\\xa3\\'m\\x9d\\xbe\\x13\\xf0\\xf7\\xc20\\xeb\\xbaq\\xff\\x00E\\xd3.\\xff\\x00\\xf0\\x06J\\xef>\\x12\\xdd\\xea\\x9ao\\x8c\\xed\\xee\\xbe\\xcdu\\xf6\\xaf\\xb3\\xc9\\xff\\x00.R\\x7f\\xcf\\xbd}\\xf5\\xfbo\\x7f\\xc1?.\\xbf\\xe0\\x9c^\\t\\xd35\\xcf\\xf8L.\\xbcY\\xff\\x00\\t\\x15\\xc4\\xba\\x7f\\xd9\\xfc\\x8f\\xec\\xef#d{\\xf7\\xef\\xf3d\\xdf_5\\xfd\\x87\\xfb3\\xfe*o\\xf9\\xfc\\xff\\x00H\\xfb\\x07\\xfdv\\xff\\x00o\\xfe\\x07_]S>\\x862\\x97\\xb6\\xa5\\x1f\\x88\\xfbo\\r\\xf8?,\\x9d\\x1ay\\x9eW\\x8ds\\x8c[{8\\xda\\xddB\\xce\\x0b]OM\\xfe\\xdc\\xba\\xff\\x00\\x90\\xaf\\xfc\\xfb\\xff\\x00\\xb9\\xf7>J\\xd6\\xf0O\\x8a\\xae\\xb5_\\xb5\\x7fi\\xfd\\x96\\xd7\\xff\\x00 \\xd6/\\xf6O\\xfc$\\xa7\\xfe\\x12o\\xf9\\xf3\\xff\\x00\\x97\\x7f#\\xfex\\xff\\x00\\xb7R}\\x87\\xfe\\x17\\x97\\xfd:}\\x8f\\xfe\\x98y\\xdf~\\xbc\\xcb\\xc0\\xfd\\xea\\x9e*p\\x97\\xb4\\x83\\\\\\xdd\\xaf\\xf1\\xff\\x00y\\x97|!\\xe2\\xab\\xadSR\\xba\\xfe\\xd3\\xff\\x00D\\xb5\\xff\\x00\\xbf4\\xb0\\xf8\\xaa\\xeb\\xfe\\x12O\\xb3\\x7f\\xcc+\\xfe~?\\xfb:\\xa3\\xfd\\xab\\xff\\x00\\x0b\\x7f\\xfe%\\x9fe\\xfb\\'\\xd8\\xff\\x00\\xd2?\\xd7\\xf9\\xdf\\xec\\x7f\\xec\\xf4}\\xbf\\xfee\\x0f\\xfbv\\xf3\\xff\\x00\\xf1\\xff\\x00\\xb9K\\xdc\\xfeR>\\xbdV\\x9d=d\\xff\\x00\\xba\\xef\\xbf\\xf7O;\\xfd\\xa5\\xb5MO\\xfe\\x16E\\xaf\\xf6e\\xad\\xd5\\xdd\\xaf\\xd8\"\\xff\\x00H\\xb7\\x82I\\xbfy\\xe6?\\xf1\\xd2\\xfc\\x19\\xf1\\x8e\\xb9\\xa6\\x7fi}\\x96\\xd7\\xfe}\\xbf\\xe5\\x84\\x9f\\xf4\\xda\\xbfC\\x7f`\\x9f\\xf8%}\\xd7\\xed\\x0b\\xf0\\x07S\\xd4\\xff\\x00\\xe10\\xba\\xd2\\x7f\\xe2os\\xa7\\xfd\\x9f\\xec?\\xf4\\xce\\xd9\\xf7\\xef\\xf3?\\xdb\\xafQ\\xf0O\\xfc\\x10C\\xfe\\x11\\x81\\xff\\x00%2\\xea\\xeb\\xed_\\xf5\\x03\\xff\\x00\\xee\\x9a\\xf3q\\x1cI\\x83\\x8a\\xfa\\xbc\\x97\\xbf\\x13\\xf9\\xc70\\xe2\\xce\\x16\\xca\\xb8\\x92\\xa6a\\x89\\xc7\\xb8\\xd7\\xe6\\x93\\x949e\\xeeJ\\xd6i;>\\xe7\\x88\\x7f\\xc1?\\x7fa\\x1d3\\xe2g\\xc5\\xab[\\xaf\\x1dh~ \\xd2t\\xbb\\xcd\"]C\\xed\\xf7\\x10Ig\\x0f\\xda?s\\xf7\\x1d\\xe3\\xf2\\xff\\x00\\x8d\\xeb\\xeb=c\\xfe\\t\\xcf\\xf0_\\xf6z\\xd4\\xae\\xbe&xgS\\xf1\\x07\\xfc%^\\x1d\\xf2\\xb5\\x8d\\'\\xcf\\xd7-\\xe6\\x87\\xed\\t\\x1f\\xc9\\xbe\\x1f/\\xe7\\xad\\x1f\\x8d\\x9f\\x1b\\xff\\x00\\xb3>\\x13\\xda\\xf8\\x1f\\xfb\\x0f\\xfeE\\xbf\\xb3i\\xfe\\x7f\\x9f\\xfe\\xbf\\xec\\xd1\\xec\\xf36\\x7f\\x07\\x99\\xb2\\xbe^\\xf8\\xcd\\xf1\\xdf\\xfb3\\xc1:\\xe7\\xfa/\\xfc\\xbb\\xcb\\xff\\x00-\\xff\\x00\\xfb]qK\\x0fZ\\xb5\\x0f\\xaeb\\xa7\\xcb\\xfd\\xce\\x92\\xff\\x00\\x87?\\x8ex\\xe7\\xe9\\x19\\xc4<Y\\x9b\\xd4\\xc0p\\xf5?\\xdc|2jn+\\xaar\\xb3J\\xfb\\xfc\\xcd\\xbf\\xda[\\xf6\\xa8\\xd4\\xfe%\\xf8\\x93M\\xba\\xd7.\\xbc?\\xf6\\xab;\\x7f\\xdc\\x7f\\xcb\\x1f\\xdd\\xf9\\x9f\\xf5\\xd2\\xbe\\x07\\xf8\\xa9\\xf1\\xc3S\\xf1\\xce\\x9bkku\\xf6_\\xf49\\xff\\x00\\xe5\\xde\\n' \n",
      " ----------------------------------------------------------------------------------------------------\n",
      "226\n",
      "b'>6|b\\xff\\x00\\x84\\xe7S\\xb6\\xba\\xfe\\xcd\\xfb/\\xfa?\\xfc\\xf7\\xaf\\\\\\xff\\x00\\x82O\\xff\\x00\\xc16-\\xff\\x00\\xe0\\xa7\\xdf\\x11\\xbc]\\xe1\\x95\\xf1\\xa3x3\\xfe\\x11\\x1d*+\\xff\\x00=t\\xa1\\xa8y\\xc1\\xe4\\xd9\\xb7a\\x96=\\x95\\xf4|;\\x90\\xfbz\\xb0\\xc4\\xe2~\\x0f\\xb3\\x1f\\xe5\\xdc\\xf9L.\\x07\\xea\\x8f\\xd8\\xe1\\xfd\\xfa\\xf3\\xf8\\xe5\\xd7M\\x8f\\xd6\\x9f\\xf8#\\xf7\\xfc\\x12\\xc7\\xe1g\\x81\\xbe\\x13|\\x19\\xf8\\xf5\\xa6\\x9f\\x14\\x0f\\x1ej\\xde\\x12\\xb4\\xd5\\xe6\\xfbE\\xf7\\xfa!\\x96\\xf6\\xc3\\xf7\\xc3\\xc9\\xf2\\xc7\\xca|\\xe7\\xc7\\xf9\\x15\\xfa5\\x9f\\xe7^c\\xfb,\\xfc\\x17o\\xd9\\xab\\xf6^\\xf8\\x7f\\xf0\\xf4\\xeaGUo\\x03\\xe8\\x16\\x1a\\x00\\xbf\\xf2<\\xaf\\xb6\\xfd\\x9a\\x04\\x80I\\xb3\\xe7\\xdb\\xbffq\\xef^\\x9d\\x8c\\x03_\\xa3a\\xf0\\xf4\\xe9C\\xd9\\xd3?Q\\xc3\\xc6\\xd4\\xd0\\xfa(\\xa2\\xba\\x8d\\x82\\x8a(\\xa0\\x02\\x8a(\\xa0\\x02\\x8a(\\xa0\\x00\\x9c\\n' \n",
      " ----------------------------------------------------------------------------------------------------\n",
      "960\n",
      "b'\\xf2\\xbf\\xda\\x07\\xe0\\x06\\x85\\xf1\\xbb\\xe1\\xdf\\x89m\\xae\\xbc9\\xe1\\x8b\\xcf\\x10jzE\\xce\\x9da}\\x7fe\\x1c\\xb2\\xc1$\\x91\\xba\\'\\xcec\\xde\\xa8\\x1d\\xbbW\\xa9\\x83\\xb8R\\x81\\x8a\\t\\x9c\\x14\\x95\\x99\\xfc\\xad\\xfe\\xde_\\xf0K\\xbf\\x89_\\xf0ME\\xf0y\\xf8\\x81u\\xe1k\\xbf\\xf8K\\xbe\\xd3\\xf6\\x0f\\xec\\x1b\\xdb\\x9b\\xbf\\xf8\\xf5\\xf2w\\xef\\xdf\\x14\\x7f\\xf3\\xd9+\\x93\\xf8\\x0f\\xf1\\xc3\\xfe\\x11\\x9f\\x12\\xfd\\xaa\\xea\\xebT\\xff\\x00\\x8f\\x0f\\xb3\\xff\\x00\\xa3\\xcf\\xfe\\xe5\\x7fK\\x1f\\xb5\\x9f\\xec\\x11\\xf0\\x9f\\xf6\\xe4M\\x0b\\xfe\\x16\\x8f\\x85?\\xe1(o\\x0e\\x9b\\x8f\\xec\\xa0\\xf7\\xd7v\\xbfg3y~p\\xfd\\xcc\\xb1\\xee\\xcf\\x93\\x1f\\xdf\\xcf\\xdc\\xaf\\xc0\\x9f\\x8c\\x7f\\xf0F\\xdf\\xda3H\\xf8\\xd9\\xe2\\xff\\x00\\xf8D~\\x0c\\xf8\\xa1|+\\xfd\\xbd}\\xfd\\x93\\xe4\\x1bya\\xfb\\x17\\xda\\x1f\\xec\\xdb7\\xcb\\xe6\\x7f\\xab\\xd9\\xfe\\xb2\\xbew<\\xc9\\xa1\\x8c\\x87$w>\\x1f\\x17\\x96O\\x05R\\xd4!\\xfb\\xb7\\xf36<\\x07\\xfbTZ\\xea~7\\xd2\\xedmu?\\x15}\\xab\\xed\\x1f\\xe7\\xfeZW\\xb2\\x7f\\xc2\\xfc\\xd4\\xff\\x00\\xe89\\xe2\\x0f\\xfb\\xff\\x00\\xff\\x00\\xdb+\\xe5O\\x11\\x7f\\xc1:?io\\xd9\\xf3\\xc3\\xb7\\x1e.\\xf17\\xc3_\\x14x\\x7f\\xc3\\xfe\\x1d\\x83\\xed\\xf7\\xd7\\xf3\\x9bo&\\xc68\\xff\\x00\\x8d\\xff\\x00{\\\\\\'\\xfc4n\\xbd\\xff\\x00A\\xef\\xfc\\x81\\x1f\\xff\\x00\\x1b\\xaf\\x83\\xc4d\\xb9\\x86\\r\\xfb:*/\\xd6\\xe7\\xcd\\xe6\\x1c/\\x80\\xc7\\xcb\\x99\\xf3R\\xf4|\\xa7\\xea\\x8f\\xc1/\\xda\\x9f\\xc1\\xe7R\\xd4\\xff\\x00\\xe1/\\xb5\\xbb\\xf1\\x15\\xaf\\xd9\\xe2\\xb8\\xb7\\xfe\\xd7\\xd2\\xad\\xe6\\xf2$\\xfe?\\xbf\\xf7+\\xd3\\x7f\\xe1\\xa8~\\x06\\xff\\x00\\xd0\\xa1i\\xff\\x00\\x84\\xe5\\xbd~O\\xfc\\x07\\xfd\\xa3.\\x7f\\xb4\\xb5?\\xedO\\x13\\x7f\\xcb\\xbc^G\\xee#\\xff\\x00\\xe3u\\xe9\\x9f\\xf0\\xd0\\xba_\\xfd\\x07m+\\xc2\\xc6\\xc3\\r\\x1a\\xf6\\xc6Q\\x9f?\\xf7>\\x13\\x9f\\x0b\\x85\\xe2|\\xb9}W\"\\xae\\xbd\\x87\\xf7\\x9c\\xaf\\xe7\\xaa?J\\xb4\\x7f\\x8e\\x1f\\x05\\xf5=7\\xfd\\x17\\xc1\\xfa_\\xd9\\x7f\\xec\\x07oVa\\xf8\\xb7\\xf0\\x87\\xfe\\x84\\xfd+\\xff\\x00\\t\\xcb\\x7f\\xfe7_\\x9a\\xd6\\x7f\\xb5\\r\\xae\\x99\\xfe\\x8bk\\xe2k_\\xfc\\x87\\xff\\x00\\xc6\\xea_\\xf8k\\x1f\\xfa\\x99\\xad\\x7f\\xef\\xc4\\x7f\\xfcj\\xb9?\\xe1/\\xfe}U\\xfc\\x07,w\\x88~\\xd3\\xf7u\\xe9}\\xf5?\\xc8\\xfd\\x17\\xd4\\xbe8|\\x17\\xf0\\xcf\\xfaW\\xfc!\\xfaW\\xfe\\x08\\xed\\xeb7\\xfe\\x1as\\xe0w\\xfd\\t\\xf6\\x9f\\xf8J\\xdb\\xd7\\xe7\\xae\\xa5\\xfbP\\xda\\xea\\x7f\\xf1\\xf5\\xe2k_\\xfc\\x87\\xff\\x00\\xc6\\xea\\xaf\\xfc/\\xdd7\\xfe\\x83\\x96\\xb5_\\xf0\\x97\\xff\\x00>\\xeb~\\x03\\xa7\\x8a\\xf1\\x03\\xd9\\xfb:\\x95\\xe1\\xf7\\xcf\\xfc\\x8f\\xae\\xbe<~\\xd6\\x1e\\x19\\xff\\x00\\x84\\x93\\xec\\xbe\\x19\\xb5\\xd5t\\x9d+\\xec\\x1f\\xf1\\xefac\\x1d\\x9c>c\\xefM\\xfb\\x12O\\xf6\\x12\\xbc\\x87\\xfe\\x17\\xe6\\xa7\\xff\\x00A\\xcf\\x10\\x7f\\xdf\\xff\\x00\\xfe\\xd9_\\'\\xfcl\\xfd\\xa3.\\xbf\\xe15\\xff\\x00\\x89g\\x89\\xbf\\xd1~\\xcf\\x15\\xbf\\xfa\\x88\\xff\\x00\\xd6y\\x8f\\xff\\x00L\\xeb\\x88\\xff\\x00\\x86\\x8b\\xd6\\xff\\x00\\xe8f\\xff\\x00\\xc8\\x11\\xff\\x00\\xf1\\xba\\xf6hR\\xc7*1\\xfa\\xad?s\\xec\\xf3G\\xde\\xf9\\xd8\\xe7\\xff\\x00RhU\\xab\\xf5\\xbc\\xce\\xbbu\\xe7\\xf1\\xf2\\xd4\\xd3\\x9b\\xcb\\xc8\\xf7_\\x12~\\xd5:g\\xfc$wV\\xb7Z\\x9f\\x8a\\xae\\xbf\\xd2%\\xff\\x00\\x96\\xff\\x00\\xf4\\xd3\\xfe\\xbaW\\x80\\xfcl\\xf8\\xb7\\xff\\x00\\t7\\x895?\\xb2\\xddj\\xbfe\\xbc\\xf2\\xbf\\xf4ZW\\xa9i\\xff\\x00\\xf0K\\x9f\\xda\\x9f\\xc6\\xfa]\\xa6\\xb9\\xa6|!\\xf1]\\xd6\\x9b\\xac\\x7f\\xc4\\xc2\\t\\xe06\\xdf\\xbf\\x8eo\\x9d\\x1f\\xfdg\\xf7\\x1e\\xbd\\x1b\\xf6?\\xff\\x00\\x823|r\\xf1\\x1f\\xed[\\xf0\\xfe\\xdb\\xe2\\xa7\\xc1\\x9f\\x14/\\x80n\\xb5h\\xff\\x00\\xe1#73\\xc7\\x14\"\\xcf\\xf8\\xf7\\xbc2\\x87O\\xfbg_K\\x93\\xf0\\x9b\\xa7_\\xeb\\x15\\xff\\x00S\\xea=\\x8b\\x7f\\xba\\xc2\\xd1p\\xfb7\\xb7\\xd9\\xd8\\xf3\\xff\\x00\\xd8K\\xfe\\t%\\xf1{\\xfe\\n' \n",
      " ----------------------------------------------------------------------------------------------------\n",
      "613\n",
      "b'3\\xf0\\xefZ\\xf1\\'\\xc3\\xddO\\xc1vz^\\x81\\xab\\xff\\x00c\\xcf\\xfd\\xbd{si/\\x99\\xf6xf\\xf9\\x11-\\xa4\\xf96M\\x1d\\x7fK\\xde\\t\\xf8O\\xe1\\xbf\\x87\\xd7w\\x17:/\\x87t=&\\xee\\xf0~\\xfek+(\\xed\\x8c\\xdf\\xef\\x14\\x19?\\x8dq?\\xb2o\\xecW\\xf0\\xd3\\xf6\"\\xf0~\\xa9\\xa1\\xfc-\\xf0\\xca\\xf8WI\\xd5\\xaf\\xbf\\xb4/-\\xc5\\xed\\xc5\\xdf\\x9dpcH\\xfc\\xcd\\xf3I!\\xfb\\x88\\x83\\xafj\\xf5\\xe1_\\xa0\\xd1\\xa2\\xa9\\xad\\x0f\\xab\\xcar\\x8axH_\\xa9%\\x14QZ\\x9e\\xc8QE\\x14\\x00QE\\x14\\x00QE\\x14\\x00QE\\x14\\x00QE\\x14\\x00PE\\x14P\\x07\\x99\\xfe\\xd2\\x9f\\x00\\xf4\\xcf\\xdao\\xe0\\'\\x89\\xfe\\x1f\\xeb\\xd7Z\\xa5\\x9e\\x93\\xe2\\xcb\\t4\\xfb\\xeb\\x9b\\x03\\x18\\xbb\\x8a7\\x1c\\x94\\xdf\\x1c\\x89\\xbb\\xfe\\x00k\\xf3\\xfa\\xf3\\xfe\\r[\\xf8\\x1b\\xa6ZOp>!|h\\xff\\x00S\\x83\\xfe\\x9f\\xa5\\x7f\\xf2\\xba\\xbfR{\\xf5\\xa7\\x12\\xadYV\\xa4\\xaanq\\xe2\\xb0\\x141\\x0b\\xf7\\x91?\\x8e\\xff\\x00\\x0exO\\xc4\\xda^\\x9d\\xf6\\x9f\\xf8Fu\\xff\\x00\\xf4\\xcb\\x7f\\xfa\\x05\\\\V\\xb7\\xf6\\x0f\\x8c?\\xe8Y\\xd5\\xbf\\xf0U%\\x7f^\\x9eB\\xff\\x00u[\\xdb\\x14\\xa2\\x04\\xef\\x1a\\x8f\\xc2\\xb8*d\\xf8Z\\xbf\\xc4\\x89\\xe0R\\xe1\\xfa\\xf4}\\xdaU\\xad\\xf2?\\x90\\xaf\\xec\\x1f\\x18\\x7f\\xd0\\xb3\\xab\\x7f\\xe0\\xaaJ?\\xb0|a\\xff\\x00B\\xce\\xad\\xff\\x00\\x82\\xa9+\\xfa\\xf9\\xf2\\x94\\xf6\\x1f\\x95\\x1eH\\xf6\\xfc\\xab\\x1f\\xec\\x1c\\x17\\xf2\\x1a\\xff\\x00a\\xe2\\x7f\\xe7\\xff\\x00\\xfeJ\\x8f\\xe4\\x1b\\xfb\\x07\\xc6\\x1f\\xf4,\\xea\\xdf\\xf8*\\x92\\x8f\\xec\\x1f\\x18\\x7f\\xd0\\xb3\\xab\\x7f\\xe0\\xaaJ\\xfe\\xbe6\\xff\\x00\\xd35\\xa3o\\xfd3Z\\x7f\\xd8x?\\xe54\\xfe\\xc4\\xc4\\x7f\\xcf\\xff\\x00\\xfc\\x95\\x1f\\xc8\\xaf\\xc3\\xcf\\x85\\xba\\xe7\\xc4\\xbf\\x8b^\\x19\\xd35=\\x0b_\\xb5\\xb4\\xd65{\\x1d>y\\xed\\xecd\\xfd\\xc4s\\\\\"<\\x89\\xbe?\\xee=~\\xd2\\x9f\\xf857\\xe0+(\\xdd\\xf1\\x03\\xe3Plr>\\xdf\\xa4\\xff\\x00\\xf2\\xba\\xbfP|\\x95S\\xb9U\\x7f*{\\x1c7\\x03\\xf1\\xafF\\x8e\\x16\\x9d=\\x83\\x0b\\xc3\\xd4)\\xb9N\\xbf\\xbe\\xe4s\\x7f\\x0c\\xbc\\x01o\\xf0\\xd3\\xe1\\xb6\\x83\\xe1\\x98\\'\\xb9\\xba\\xb5\\xf0\\xee\\x9fm\\xa7\\xc34\\xe73O\\x1c1\\xa2+\\xbe\\xdc|\\xdf%u\\x00b\\x91Ni\\xd5\\xd0}\\x12\\xd1Y\\x05\\x14Q@\\x05\\x14Q@\\x05\\x14Q@\\x05\\x14Q@\\x05\\x14Q@\\x05\\x14Q@\\x05\\x14Q@\\x05\\x14Q@\\x05\\x14Q@\\x07J(\\xa2\\x80\\n' \n",
      " ----------------------------------------------------------------------------------------------------\n",
      "4\n",
      "b'(\\xa2\\x80\\n' \n",
      " ----------------------------------------------------------------------------------------------------\n",
      "4\n",
      "b'(\\xa2\\x80\\n' \n",
      " ----------------------------------------------------------------------------------------------------\n",
      "4\n",
      "b'(\\xa2\\x80\\n' \n",
      " ----------------------------------------------------------------------------------------------------\n",
      "4\n",
      "b'(\\xa2\\x80\\n' \n",
      " ----------------------------------------------------------------------------------------------------\n",
      "4\n",
      "b'(\\xa2\\x80\\n' \n",
      " ----------------------------------------------------------------------------------------------------\n",
      "4\n",
      "b'(\\xa2\\x80\\n' \n",
      " ----------------------------------------------------------------------------------------------------\n",
      "4\n",
      "b'(\\xa2\\x80\\n' \n",
      " ----------------------------------------------------------------------------------------------------\n",
      "884\n",
      "b'(\\xa2\\x801\\xbf\\xe1.\\xd0\\xff\\x00\\xe8\\'\\xa5\\x7f\\xe0Dt\\x7f\\xc2]\\xa1\\xff\\x00\\xd0OJ\\xff\\x00\\xc0\\x88\\xeb\\xf8z\\xf0w\\xc3\\xd6\\xf1\\xc7\\x89\\xadt=3M\\xb5\\xbb\\xd5\\xb5o\\xf4{h3\\x1c>t\\x9f\\xc0\\x9b\\xdf\\xf8\\xe4\\xfb\\x9f\\xf5\\xd2\\xb5!\\xf8\\x03\\xe2\\t\\xbc\\x19\\xa5\\xeb\\x96\\xbe\\x10\\xd5\\xaft\\x1d`f\\x0b\\xfb}.I\\xa1\\xc3\\xce\\xf6\\xc8\\x8e\\xe9\\x1f\\xc8\\xef2lD\\xff\\x00X\\xfb\\xd3\\xfb\\xf1\\xd7w\\xf6x\\x1f\\xdb\\x87\\xfc%\\xba\\x1f\\xfd\\x04\\xf4\\xbf\\xfc\\x08\\x8f\\xfch\\xff\\x00\\x84\\xb7D\\xff\\x00\\xa0\\x96\\x97\\xff\\x00\\x81\\x11\\xff\\x00\\x8d\\x7f\\x14z\\x97\\xec\\x99\\xe3\\xdbQ\\xa7\\x9f\\xf8V\\xbe*?\\xda\\xd6\\xf2\\xdc\\xc3\\x04>\\x1f\\xb8\\x96hc\\x86_\"m\\xe8\\xb1\\xf9\\x8b\\xe5\\xc8S\\xef\\xff\\x00}?\\xbe\\x95\\xb5\\xa1\\xfe\\xc3>3\\xf1\\x17\\x82\\x9b\\xc4\\x9f\\xd8\\xba_\\x87\\xf4\\xab\\xeb\\xf8\\xb4\\x9b\\x1f\\xed\\xddB\\xdfC\\x9bV\\xb8\\xf2\\xa1\\x9fe\\xa47\\x1b\\x1eo\\xdd\\xcf\\x0b\\xfc\\x9f\\x7f\\xccM\\x9ee\\x1fP\\xfe\\xf8\\x1f\\xda\\x17\\xfc%\\xba\\x1f\\xfd\\x04\\xf4\\xbf\\xfc\\x08\\x8f\\xfch\\xff\\x00\\x84\\xb7C\\xff\\x00\\xa0\\x9e\\x99\\xff\\x00\\x81\\x11\\xff\\x00\\x8d\\x7f\\x16\\x1e1\\xfd\\x8a>\\'x\\x17\\xc47\\x1an\\xa5\\xf0\\xaf\\xc6\\xdfj]~_\\x0c\\x0f\\xb3\\xf8^\\xe2hou\\x14\\x91\\xd3\\xec\\xb0\\xcc\\x91\\xec\\x9a\\x7f\\x91\\xfeH\\xea}K\\xf6$\\xf1\\xe7\\x86\\x7f\\xb2\\xff\\x00\\xb7<\"\\xde\\x1e\\xfbe\\x84\\xba\\x87\\xda5x~\\xc7\\r\\x8e\\xd9/`6\\x97.\\xf1\\xfe\\xe6\\xeb}\\x85\\xd6\\xc8$\\xfd\\xe7\\xeek?\\xaa\\xff\\x00x\\x0f\\xed\\'\\xfe\\x12\\xdd\\x0f\\xfe\\x82\\x9a_\\xfe\\x04GG\\xfc%\\xda\\x1f\\xfd\\x04\\xf4\\xaf\\xfc\\x08\\x8e\\xbf\\x86\\x8f\\xec+_\\xf9\\xf5\\xb5\\xff\\x00\\xbf\\x14\\x7faZ\\xff\\x00\\xcf\\xad\\xaf\\xfd\\xf8\\xad?\\xb3\\xc0\\xfe\\xe5\\xff\\x00\\xe1.\\xd0\\xff\\x00\\xe8\\'\\xa5\\x7f\\xe0Dt\\x7f\\xc2]\\xa1\\xff\\x00\\xd0OJ\\xff\\x00\\xc0\\x88\\xeb\\xf8h\\xfe\\xc2\\xb5\\xff\\x00\\x9f[_\\xfb\\xf1G\\xf6\\x15\\xaf\\xfc\\xfa\\xda\\xff\\x00\\xdf\\x8a?\\xb3\\xc0\\xfe\\xe5\\xff\\x00\\xe1.\\xd0\\xff\\x00\\xe8\\'\\xa5\\x7f\\xe0Dt\\x7f\\xc2]\\xa1\\xff\\x00\\xd0OJ\\xff\\x00\\xc0\\x88\\xeb\\xf8h\\xfe\\xc2\\xb5\\xff\\x00\\x9f[_\\xfb\\xf1G\\xf6\\x15\\xaf\\xfc\\xfa\\xda\\xff\\x00\\xdf\\x8a?\\xb3\\xc0\\xfe\\xe5\\xff\\x00\\xe1.\\xd0\\xff\\x00\\xe8\\'\\xa5\\x7f\\xe0Dt\\x7f\\xc2]\\xa1\\xff\\x00\\xd0OJ\\xff\\x00\\xc0\\x88\\xeb\\xf8h\\xfe\\xc2\\xb5\\xff\\x00\\x9f[_\\xfb\\xf1G\\xf6\\x15\\xaf\\xfc\\xfa\\xda\\xff\\x00\\xdf\\x8a?\\xb3\\xc0\\xfe\\xe5\\xff\\x00\\xe1.\\xd0\\xff\\x00\\xe8\\'\\xa5\\x7f\\xe0Dt\\x7f\\xc2]\\xa1\\xff\\x00\\xd0OJ\\xff\\x00\\xc0\\x88\\xeb\\xf8h\\xfe\\xc2\\xb5\\xff\\x00\\x9f[_\\xfb\\xf1G\\xf6\\x15\\xaf\\xfc\\xfa\\xda\\xff\\x00\\xdf\\x8a?\\xb3\\xc0\\xfe\\xe5\\xff\\x00\\xe1.\\xd0\\xff\\x00\\xe8\\'\\xa5\\x7f\\xe0Dt\\x7f\\xc2]\\xa1\\xff\\x00\\xd0OJ\\xff\\x00\\xc0\\x88\\xeb\\xf8h\\xfe\\xc2\\xb5\\xff\\x00\\x9f[_\\xfb\\xf1G\\xf6\\x15\\xaf\\xfc\\xfa\\xda\\xff\\x00\\xdf\\x8a?\\xb3\\xc0\\xfe\\xe5\\xff\\x00\\xe1.\\xd0\\xff\\x00\\xe8\\'\\xa5\\x7f\\xe0Dt\\x7f\\xc2]\\xa1\\xff\\x00\\xd0OJ\\xff\\x00\\xc0\\x88\\xeb\\xf8h\\xfe\\xc2\\xb5\\xff\\x00\\x9f[_\\xfb\\xf1I\\xfd\\x93o\\xff\\x00>\\xb6\\xbf\\xf7\\xe2\\x8f\\xec\\xf0?\\xb9\\x8f\\xf8K\\xb4?\\xfa\\t\\xe9_\\xf8\\x11\\x1d\\x1f\\xf0\\x97h\\x7f\\xf4\\x13\\xd2\\xbf\\xf0\":\\xfe\\x1a?\\xb0\\xad\\x7f\\xe7\\xd6\\xd7\\xfe\\xfcT?\\xd9\\x9ao\\xfc\\xfbZ\\xff\\x00\\xdf\\x8a?\\xb3\\xc0\\xfe\\xe7\\x7f\\xe1.\\xd0\\xff\\x00\\xe8\\'\\xa5\\x7f\\xe0Dt\\x7f\\xc2]\\xa1\\xff\\x00\\xd0OJ\\xff\\x00\\xc0\\x88\\xeb\\xf8b\\xfe\\xcc\\xd3\\x7f\\xe7\\xda\\xd7\\xfe\\xfcT\\xdf\\xd8V\\xbf\\xf3\\xebk\\xff\\x00~)\\x7fg\\xb0?\\xb9\\x7f\\xf8Kt?\\xfa\\n' \n",
      " ----------------------------------------------------------------------------------------------------\n",
      "555\n",
      "b'i\\x7f\\xf8\\x11\\x1d\\x1f\\xf0\\x96\\xe8\\x7f\\xf4\\x14\\xd2\\xff\\x00\\xf0\":\\xfe\\x18\\xbf\\xb2t\\xef\\xf9\\xf5\\xb5\\xff\\x00\\xbf\\x14}\\x87K\\xff\\x00\\x9fk_\\xfc\\x87O\\xea2\\x03\\xfb\\x9d\\xff\\x00\\x84\\xb7C\\xff\\x00\\xa0\\xa6\\x97\\xff\\x00\\x81\\x11\\xd1_\\xc3G\\xf6\\x15\\xaf\\xfc\\xfa\\xda\\xff\\x00\\xdf\\x8a)\\x7fg\\xb0/h\\xba\\xed\\xc7\\x86uK]SM\\xba\\xfb.\\xa9\\xa4\\\\E\\xa8X\\xcf\\x9f\\xf5\\x17\\t&\\xf4\\x7f\\xfb\\xed+\\xdfn\\xbf\\xe0\\xa1Z\\xe7\\xf6\\x97\\xda\\xad|3\\xa0\\xe9?c\\xb8\\xff\\x00\\x89M\\xbd\\xbf\\xfa\\x9b\\x1d9\\xfe\\xcc\\x8fb\\xff\\x00\\xba\\xf3\\xdd6[\\'\\xcf\\x1c\\x90~\\xf1\\xdeO\\xde~\\xef\\xcb\\xf9\\xe2\\x8a\\xf5\\xcc\\xcf]\\xf0\\xcf\\xed?\\xa6\\xf8[\\xc3\\xban\\x87k\\xe0U\\xfe\\xc9\\xf0\\xed\\xf5\\xb5\\xfe\\x93\\xf6\\x8dI\\xfe\\xd9\\x04\\x96\\xd7\\x13][y\\xd3$Q\\xf9\\xc9\\x1c\\xf7\\x97\\xdebyq\\xf9\\x91\\xdd\\'\\xfa\\xbf\"9+\\xb1\\xf8k\\xff\\x00\\x05\\x0f\\xd7>\\x18\\xea~8\\xd4\\xf4\\xdd\\x0f:\\xff\\x00\\x8e|\\xcf\\xb4O6\\xbby\\xfd\\x93\\xf3\\xdb\\xa5\\xaf\\xef\\xb4\\xa4\\x91 \\xbcx\\xfew\\x81\\xe4\\xff\\x00W#\\xf9\\x9f\\xbc\\xf2\\xe3\\xaf\\x9ch\\xac\\xfd\\x9a\\x03\\xebi\\x7f\\xe0\\xad\\x1a\\xe2j\\x1a\\x95\\xd5\\xb7\\xc3?\\x0b\\xda\\xddx\\x8a\\x0b\\x9d\\x03U\\xff\\x00\\x89\\xae\\xa1\\x89\\xb4+\\x9b\\xcb\\xcb\\xd9\\xb4\\xe4\\t\"y/\\xe7_\\xdd\\x7f\\xa5G\\xfb\\xc8\\xe3\\xf2\\xff\\x00\\xe5\\xa7\\x99$\\x9eo\\xf1\\xe7\\xf6\\xc6\\xff\\x00\\x85\\xef\\xf0\\x0b\\xc0\\xff\\x00\\r[\\xc2:^\\x93\\xa1\\xfc0\\xfbQ\\xf0\\xa1\\x82\\xfaI\\xaf4\\xb8\\xee\\xaf.\\xa7\\xb9\\x81\\xdd\\xff\\x00\\xd7$\\x9eu\\xaf\\xfa\\xcf\\xf5\\x7f\\xd9\\xe9\\xe5\\xfd\\xf9#\\xaf\\x11\\xa2\\x97\\xd5\\xe2\\x01E\\x14V\\xa6<\\xc1E\\x14P\\x1c\\xc1E\\x14P\\x1c\\xc1E\\x14P\\x1c\\xc1E\\x14P\\x1c\\xc1E\\x14P\\x1c\\xcc+\\xd1>\\x06~\\xd0\\xba\\x97\\xc0\\xdf\\xedO\\xb3h~\\x1f\\xf1\\x05\\xae\\xaf=\\x8d\\xc4\\xf6\\xfa\\xbd\\x8f\\x9d\\x0f\\xeedw\\xf9\\x13\\xfe\\x9aF\\xf3\\xc1\\'\\xfd3\\x99\\xeb\\xce\\xe8\\xa0\\xd8\\xf7\\x0b?\\xdbK\\xfb3\\xfeiO\\xc2\\xbb\\xcf\\xf4\\x7f\\xf8\\xf7\\xb8\\xd0\\xe3\\xf2|\\xc7\\xf2w\\xbe\\xcf\\xfbb\\x9f\\xf6\\xd1\\xe7\\xff\\x00\\x9e\\x9e]Ky\\xfbs\\xddjzn\\x99k\\xa9\\xfc=\\xf8k\\xe2\\x1b\\xad\"\\xc2->\\x0b\\x8d_J\\xfbg\\x9f\\x1aG\\n' \n",
      " ----------------------------------------------------------------------------------------------------\n",
      "251\n",
      "b'|\\xff\\x00\\xbc\\xfb\\x9f\\xb9\\x8f\\xe4\\x8f\\xcb\\xf2\\xff\\x00\\xef\\xe7\\x99\\xe1TT\\xf2 =\\xa2\\xf3\\xf6\\xbe\\xfe\\xd3\\xf1\\x1f\\xf6\\x95\\xd7\\xc3\\xdf\\x00]]}\\x82\\xdbO\\xff\\x00H\\xb1\\xff\\x00\\x96v\\xdfq\\xff\\x00\\xdf\\xd9\\xf2H\\xff\\x00\\xf2\\xd3\\xc8\\x83\\xfey\\xfe\\xf2\\xec\\xbf\\xb7\\x05\\xd7\\xf6\\x95\\xad\\xd6\\x9b\\xf0\\xf7\\xe1\\xaf\\x87n\\xac\\xee,n \\xfe\\xc8\\xd2\\xbf\\xb3\\xbc\\x8f&H]\\xd1\\x1d?y\\xb2G\\x87\\xfeZy\\x9f~\\xbc*\\x8a9P\\x1fF^\\x7f\\xc1K|s\\xa9\\xf8\\x93M\\xd4\\xff\\x00\\xb3<?i\\xf6?+\\xcf\\xb7\\xb7\\xfbg\\x93?\\x93\\x1c\\xc8\\x88\\xff\\x00\\xbc\\xf36|\\xe8\\xfb?\\xe7\\xa2y\\x9f\\xeb*?\\x13\\xff\\x00\\xc1F|]\\xe2O\\x0e\\xeaZm\\xdf\\x86|\\x17yg\\xab\\xc1}\\x91<7\\x12\\xcd\\x0f\\xdbt\\xf9\\xb4\\xf7x_\\xcc\\xde\\x9f\\xbb\\x9a\\x7f\\xe3\\xff\\x00W\\xb2?\\xf9g_;\\xd1Z{\\x18\\x81\\xd2|c\\xf8\\x9du\\xf1\\x83\\xe2F\\xa5\\xe2mR\\xda\\xd6\\xd6\\xebV\\xf2\\xbc\\xebx?\\xd4\\xfc\\x96\\xe9\\n' \n",
      " ----------------------------------------------------------------------------------------------------\n",
      "20\n",
      "b'}\\xff\\x00\\xf6\\x13\\xff\\x00\\xdd\\xff\\x00\\xab\\xa2\\xb9\\xba*Ly\\x8f\\xff\\xd9' \n",
      " ----------------------------------------------------------------------------------------------------\n"
     ]
    }
   ],
   "source": [
    "with open('watermelon32x32.jpg', 'rb') as imgf:\n",
    "    for x in imgf:\n",
    "        print(len(x))\n",
    "        print(x, '\\n', '-'*100)"
   ]
  },
  {
   "cell_type": "code",
   "execution_count": 156,
   "id": "4abde90f",
   "metadata": {},
   "outputs": [
    {
     "name": "stdout",
     "output_type": "stream",
     "text": [
      "Line no. 0, length : 158 and type : <class 'bytes'>.\n",
      "-----------------------------------------------------------------------------------------------------------------------------\n",
      "Data : b'\\xff\\xd8\\xff\\xe0\\x00\\x10JFIF\\x00\\x01\\x01\\x01\\x00x\\x00x\\x00\\x00\\xff\\xe1\\x00ZExif\\x00\\x00MM\\x00*\\x00\\x00\\x00\\x08\\x00\\x05\\x03\\x01\\x00\\x05\\x00\\x00\\x00\\x01\\x00\\x00\\x00J\\x03\\x03\\x00\\x01\\x00\\x00\\x00\\x01\\x00\\x00\\x00\\x00Q\\x10\\x00\\x01\\x00\\x00\\x00\\x01\\x01\\x00\\x00\\x00Q\\x11\\x00\\x04\\x00\\x00\\x00\\x01\\x00\\x00\\x12tQ\\x12\\x00\\x04\\x00\\x00\\x00\\x01\\x00\\x00\\x12t\\x00\\x00\\x00\\x00\\x00\\x01\\x86\\xa0\\x00\\x00\\xb1\\x8f\\xff\\xdb\\x00C\\x00\\x02\\x01\\x01\\x02\\x01\\x01\\x02\\x02\\x02\\x02\\x02\\x02\\x02\\x02\\x03\\x05\\x03\\x03\\x03\\x03\\x03\\x06\\x04\\x04\\x03\\x05\\x07\\x06\\x07\\x07\\x07\\x06\\x07\\x07\\x08\\t\\x0b\\t\\x08\\x08\\n'.\n",
      "Line no. 1, length : 4 and type : <class 'bytes'>.\n",
      "-----------------------------------------------------------------------------------------------------------------------------\n",
      "Data : b'\\x08\\x07\\x07\\n'.\n",
      "Line no. 2, length : 2 and type : <class 'bytes'>.\n",
      "-----------------------------------------------------------------------------------------------------------------------------\n",
      "Data : b'\\r\\n'.\n",
      "Line no. 3, length : 1 and type : <class 'bytes'>.\n",
      "-----------------------------------------------------------------------------------------------------------------------------\n",
      "Data : b'\\n'.\n",
      "Line no. 4, length : 136 and type : <class 'bytes'>.\n",
      "-----------------------------------------------------------------------------------------------------------------------------\n",
      "Data : b'\\x0b\\x0c\\x0c\\x0c\\x0c\\x07\\t\\x0e\\x0f\\r\\x0c\\x0e\\x0b\\x0c\\x0c\\x0c\\xff\\xdb\\x00C\\x01\\x02\\x02\\x02\\x03\\x03\\x03\\x06\\x03\\x03\\x06\\x0c\\x08\\x07\\x08\\x0c\\x0c\\x0c\\x0c\\x0c\\x0c\\x0c\\x0c\\x0c\\x0c\\x0c\\x0c\\x0c\\x0c\\x0c\\x0c\\x0c\\x0c\\x0c\\x0c\\x0c\\x0c\\x0c\\x0c\\x0c\\x0c\\x0c\\x0c\\x0c\\x0c\\x0c\\x0c\\x0c\\x0c\\x0c\\x0c\\x0c\\x0c\\x0c\\x0c\\x0c\\x0c\\x0c\\x0c\\x0c\\x0c\\x0c\\x0c\\x0c\\x0c\\xff\\xc0\\x00\\x11\\x08\\x00\\xe9\\x00\\xd8\\x03\\x01\"\\x00\\x02\\x11\\x01\\x03\\x11\\x01\\xff\\xc4\\x00\\x1f\\x00\\x00\\x01\\x05\\x01\\x01\\x01\\x01\\x01\\x01\\x00\\x00\\x00\\x00\\x00\\x00\\x00\\x00\\x01\\x02\\x03\\x04\\x05\\x06\\x07\\x08\\t\\n'.\n",
      "Line no. 5, length : 61 and type : <class 'bytes'>.\n",
      "-----------------------------------------------------------------------------------------------------------------------------\n",
      "Data : b'\\x0b\\xff\\xc4\\x00\\xb5\\x10\\x00\\x02\\x01\\x03\\x03\\x02\\x04\\x03\\x05\\x05\\x04\\x04\\x00\\x00\\x01}\\x01\\x02\\x03\\x00\\x04\\x11\\x05\\x12!1A\\x06\\x13Qa\\x07\"q\\x142\\x81\\x91\\xa1\\x08#B\\xb1\\xc1\\x15R\\xd1\\xf0$3br\\x82\\t\\n'.\n",
      "Line no. 6, length : 155 and type : <class 'bytes'>.\n",
      "-----------------------------------------------------------------------------------------------------------------------------\n",
      "Data : b\"\\x16\\x17\\x18\\x19\\x1a%&'()*456789:CDEFGHIJSTUVWXYZcdefghijstuvwxyz\\x83\\x84\\x85\\x86\\x87\\x88\\x89\\x8a\\x92\\x93\\x94\\x95\\x96\\x97\\x98\\x99\\x9a\\xa2\\xa3\\xa4\\xa5\\xa6\\xa7\\xa8\\xa9\\xaa\\xb2\\xb3\\xb4\\xb5\\xb6\\xb7\\xb8\\xb9\\xba\\xc2\\xc3\\xc4\\xc5\\xc6\\xc7\\xc8\\xc9\\xca\\xd2\\xd3\\xd4\\xd5\\xd6\\xd7\\xd8\\xd9\\xda\\xe1\\xe2\\xe3\\xe4\\xe5\\xe6\\xe7\\xe8\\xe9\\xea\\xf1\\xf2\\xf3\\xf4\\xf5\\xf6\\xf7\\xf8\\xf9\\xfa\\xff\\xc4\\x00\\x1f\\x01\\x00\\x03\\x01\\x01\\x01\\x01\\x01\\x01\\x01\\x01\\x01\\x00\\x00\\x00\\x00\\x00\\x00\\x01\\x02\\x03\\x04\\x05\\x06\\x07\\x08\\t\\n\".\n",
      "Line no. 7, length : 59 and type : <class 'bytes'>.\n",
      "-----------------------------------------------------------------------------------------------------------------------------\n",
      "Data : b'\\x0b\\xff\\xc4\\x00\\xb5\\x11\\x00\\x02\\x01\\x02\\x04\\x04\\x03\\x04\\x07\\x05\\x04\\x04\\x00\\x01\\x02w\\x00\\x01\\x02\\x03\\x11\\x04\\x05!1\\x06\\x12AQ\\x07aq\\x13\"2\\x81\\x08\\x14B\\x91\\xa1\\xb1\\xc1\\t#3R\\xf0\\x15br\\xd1\\n'.\n",
      "Line no. 8, length : 496 and type : <class 'bytes'>.\n",
      "-----------------------------------------------------------------------------------------------------------------------------\n",
      "Data : b\"\\x16$4\\xe1%\\xf1\\x17\\x18\\x19\\x1a&'()*56789:CDEFGHIJSTUVWXYZcdefghijstuvwxyz\\x82\\x83\\x84\\x85\\x86\\x87\\x88\\x89\\x8a\\x92\\x93\\x94\\x95\\x96\\x97\\x98\\x99\\x9a\\xa2\\xa3\\xa4\\xa5\\xa6\\xa7\\xa8\\xa9\\xaa\\xb2\\xb3\\xb4\\xb5\\xb6\\xb7\\xb8\\xb9\\xba\\xc2\\xc3\\xc4\\xc5\\xc6\\xc7\\xc8\\xc9\\xca\\xd2\\xd3\\xd4\\xd5\\xd6\\xd7\\xd8\\xd9\\xda\\xe2\\xe3\\xe4\\xe5\\xe6\\xe7\\xe8\\xe9\\xea\\xf2\\xf3\\xf4\\xf5\\xf6\\xf7\\xf8\\xf9\\xfa\\xff\\xda\\x00\\x0c\\x03\\x01\\x00\\x02\\x11\\x03\\x11\\x00?\\x00\\xfd\\xfc\\xa2\\x8a(\\x00\\xa2\\x8a(\\x00\\xa2\\x8a(\\x00\\xa2\\x8a(\\x00\\xa2\\x8a(\\x00\\xa2\\x8a(\\x00\\xa2\\x8a(\\x00\\xa2\\x8a(\\x00\\xa2\\x8a(\\x00\\xa2\\x8a(\\x00\\xa2\\x8a(\\x00\\xa2\\x8a(\\x00\\xa2\\x8a(\\x00\\xa2\\x8a(\\x00\\xa2\\x8a(\\x00\\xa2\\x8a(\\x00\\xa2\\x8a(\\x00\\xa2\\x8a(\\x00\\xa2\\x8a(\\x00\\xa2\\x80r(\\xcd\\x00\\x14QE\\x00\\x14Q\\x9a3@\\x05\\x14g4P\\x01E\\x14P\\x01E\\x14P\\x01E\\x14P\\x01E\\x14P\\x01E\\x14P\\x01E\\x14P\\x01E\\x14P\\x01E\\x14P\\x01E\\x14P\\x01A\\x19\\x14PzP\\x05\\x14\\xdd\\x0f\\xdd_nOj\\xf3\\xff\\x00\\xda+\\xe2\\xd5\\xc7\\xc1O\\x85:\\x96\\xbfmko\\xa9\\\\\\xd9\\xcd\\x10[y[\\x03\\xe7\\x91\\x13\\xb7<n\\xae7\\xf6\\xcb\\xfd\\xb7t/\\xd8\\xb3\\xc3\\x9a-\\xfe\\xb9\\xa5\\xeb\\x1a\\x82\\xeb\\xd3\\xbd\\x9c?\\xd9\\xf1\\xc4\\xe2\\t\\x15\\x0b\\xfc\\xfb\\xe4OC_\\x94\\xff\\x00\\xb5w\\xed\\x83g\\xf1\\xb6\\xcf\\xc4\\t\\xa4\\xae\\xb5f\\xfe \\xd4\\xde\\xfa/\\xb6<q\\x08W~\\xfd\\x8f\\xb2G\\xaf\\x0f9\\xce\\xa1\\x84\\\\\\xb0\\xf8\\xcf\\xd6\\xbc7\\xf0\\xa73\\xe2\\x1a\\xb4\\xf12\\xa6\\xfe\\xaf\\xcd\\xf1t\\x95\\x9e\\xaa\\xf7G\\xd4\\x7f\\x16\\x7f\\xe0\\xb9\\xda\\xef\\xc3\\xaf\\x19\\\\i\\x96\\xfe\\x00\\xd3\\xeeB\\xc3\\x1c\\xe6o\\xb74Y\\xdf\\xf8W8\\x7f\\xe0\\xe0o\\x12\\x8e\\x9f\\x0f\\xf4\\xb5\\xfajM\\xfe\\x15\\xf9\\xf1y}\\x8f\\xf4\\xaa\\xad\\xa4k\\x9f\\xda\\x82\\xbe\\x0f\\xfb{0oI\\x1f\\xd9\\xd9\\x7f\\x81<\\x17\\n\".\n",
      "Line no. 9, length : 650 and type : <class 'bytes'>.\n",
      "-----------------------------------------------------------------------------------------------------------------------------\n",
      "Data : b'P\\xa7\\x8a\\xc2G\\x9f\\xfcS\\xff\\x003\\xf4\\xef\\xe0\\x8f\\xfc\\x16\\xe7Z\\xf8\\xad\\xe2\\xbb\\x9d6\\xe3\\xc1\\x1am\\xabC\\x07\\x9d\\x8f\\xb6\\xb4\\xd8\\xc3\\xa2\\x7f\\xec\\xf5\\xf7\\x8f\\xc1\\x0f\\x89\\r\\xf1G\\xe1n\\x93\\xae\\\\B-n\\xb5K\\x7f8\\xdb\\x86\\xcbE\\x9a\\xfew\\xed\\xe7!>c\\xf55\\xf5\\xef\\xec\\x1d\\xfbg\\xe8\\xbf\\x0e~ \\xf8J\\xcfP\\xfe\\xdc\\xbc:O\\x99\\xe7yF<\\x7f\\xa8\\x9b\\xfb\\xf2\\xd7\\xb7\\x95\\xf1=GW\\xd9bO\\xca\\xbcT\\xf0\\x1f\\x03\\x0c,\\xf1|?K\\x93\\x93[.i^\\xc9\\xe9\\xab\\xefn\\xe7\\xec\\xccED\\\\g\\x14\\xecy\\x9fJ\\xf3\\x7f\\x81_\\x1c\\xec>>\\xf8:\\xe3X\\xd3\\xadu\\x0b[{9\\xde\\xdc\\x8b\\xb5\\x8cJ\\x1dQ\\x1f\\xf8K\\xff\\x00\\x7f\\xff\\x00\\xad^\\x8d\\xe6*\\x8f\\xc6\\xbe\\xf2\\x9dE5t\\x7f\\x19\\xe20\\xf5(Tt\\xaa\\xfcKrj(\\x07\"\\x8af\\x01E\\x14P\\x01E\\x14P\\x01E\\x14P\\x01E\\x14P\\x01E\\x14P\\x01E\\x14P\\x01E\\x14P\\x01E\\x14\\x1a\\x00b\\x9a\\x86\\xe2\\xf1aGg!U\\x06\\xe2}*`q\\\\7\\xc4O\\x8a\\xbe\\x1d\\xf0M\\x8c\\xd6\\xba\\xb6\\xb5\\xa3i\\xb7W\\x917\\xd9\\xe0\\xbc\\xbb\\x8e\\xdeV\\xf9{\\x0647e\\xa9\\xb6\\x1f\\x0f:\\xf5cN\\x9ao\\xd0\\xfc\\xcb\\xff\\x00\\x82\\xc6\\xfe\\xdb\\x7f\\x0b\\xff\\x00h\\x7f\\x86>\\x15\\xd3\\xfc#\\xe2\\x8b}R\\xe6\\xd3Tu\\x9a\\x13cu\\x1f\\x92\\x8f\\x03m\\x7f\\x9a*\\xfc\\xf0\\x86\\xfa\\xeb\\xfbG\\xedW_\\xf2\\x0b\\xff\\x00;*\\xfe\\xa5ao\\xa8Eo\\xe7\\xdcnl\\x93\\x83\\xfe\\xe5fC}\\xfd\\xa7\\xa9\\x7ff]\\x7f\\xc7\\xaf\\xff\\x00\\x11_\\x8f\\xe3\\xb1U15\\xfd\\xa5C\\xfdB\\xe0\\xbe\\x17\\xa1\\xc39],\\xab\\x0b>zI\\xb6\\xb9\\x9a\\xbd\\xde\\xae\\xf6KK\\xfe\\x84\\xb7\\x93\\xddjZ\\x97\\xda\\xad\\x7f\\xe4\\x15\\xfew\\xd7\\x91\\xfe\\xd4\\xbe:\\xd6\\xbc-\\xac\\xe9_\\xf0\\x84\\xea\\x17V\\xe9u\\x15\\xcf\\xdaD\\x07\\xef?\\xc9\\xb3\\xef\\xd7\\xab\\xcdq\\xfd\\x99\\xfe\\x8bk\\xff\\x00\\x1e\\xbf\\xfc_\\xdf\\xf9\\xeb\\xc5?l\\x8d\\x1bT\\xd3\\xf5/\\x0c\\xff\\x00a\\xe9\\xba\\x9e\\xad\\xfb\\x8b\\x9f?1Iu\\xe4\\x7f\\xa9\\xd9\\xf7)\\xe5p\\xe6\\xc4r3\\xc9\\xf1?\\x1d\\x8a\\xc3\\xe4\\x95q8Nk\\xfb\\xbf\\r\\xef\\xf1-\\xac{7\\x81>0\\xf8o\\xc77\\xff\\x00\\xd9\\xba\\x1e\\xa7\\xf6\\xcb\\xab8>\\xd1?\\xee.?\\xd8G\\xfb\\xff\\x00\\xef\\xd7\\xa6|\\x1a\\xd6\\xed|7\\xf1\\x1bC\\xd4\\xf5K\\xaf\\xb2\\xdaY\\xf9\\x9e|\\xff\\x00\\xf6\\xcd\\xd2\\xbe7\\xfd\\x92t\\xddK\\xc3?\\x13u[\\xcf\\xec\\xfb\\xabF\\xfe\\xcbl\\t\\xe1\\x93\\xfb\\xf6\\xf9\\xfe\\x9f\\x9d}1\\xa6\\xdf\\xff\\x00i\\xe9\\xb6\\xbf\\xf3\\xf5Ych{\\n'.\n",
      "Line no. 10, length : 494 and type : <class 'bytes'>.\n",
      "-----------------------------------------------------------------------------------------------------------------------------\n",
      "Data : b'\\xb7G\\xd1p\\x9em_:\\xca93\\x08\\xf2JW\\xd8\\xfd\\x94\\xff\\x00\\x82v~\\xd5>\\t\\xd3>\\x0e]X\\xdcx\\x81\\xda\\xe6\\xf3Zqo\\x8b)\\xff\\x00\\x8e8Q\\x07\\xfa\\xba\\xfb>\\x16[\\x95V\\xf9[\\xba\\x9a\\xfcP\\xfd\\x865\\xfd7K\\xd2\\xf4\\xef\\xb4\\xddZ\\xda\\xff\\x00\\xc5I\\x1b~\\xfeX\\xe2\\xff\\x00\\x9e5\\xfb%\\xe1O\\x14\\xe9\\xbe#\\xb3_\\xec\\xfdJ\\xce\\xf3\\xec\\xaa\\x04\\xa2\\t\\x92O$\\xe3\\xbe\\xda\\xfd\\x1f\\x87\\xb1J\\xae\\x1c\\xfe\\r\\xf1\\x9f\\x84id\\xd9\\xc4\\xeaa\\xf9\\x9a\\xa9)=}W\\x92:j(\\xcd\\x15\\xee\\x9f\\x8e\\x85\\x14Q@\\x05\\x14Q@\\x05\\x14Q@\\x05\\x14Q@\\x05\\x14Q@\\x05\\x14Q@\\x05\\x14Q@\\x05\\x04\\xe2\\x8c\\xe2\\x82x\\xa0\\x0f7\\xfd\\xa4~/\\x7f\\xc2\\x89\\xf8\\x1b\\xe2O\\x17\\x7ff\\xb6\\xab\\xff\\x00\\x08\\xfd\\x8c\\x97\\xbff\\x13\\xf9>v\\xcev\\xee\\xfe\\x1a\\xfcU\\xfd\\xbd?l\\xe7\\xfd\\xb6\\xfe#\\xe9:\\xf4z=\\xc6\\x86t\\xdd/\\xec_g]K\\xcc\\xf3v;\\xbe\\xfd\\xfeZ\\x7fz\\xbe\\xfd\\xff\\x00\\x82\\x92~\\xdf\\xbe\\x07\\xd1\\xbc\\'\\xf1\\x13\\xe1%\\xdf\\xf6\\xac~\"\\xb8\\xd3d\\xb1r`_\\xb3\\xb3\\xcd\\x02\\xba\\x8d\\xfb\\xff\\x00\\xba\\xe9_\\x8e\\xbe5\\xb9\\xdf\\xa8\\xf1\\xff\\x00>\\xf5\\xf9\\xff\\x00\\x12\\xe3\\xa5R\\xbf\\xd5\\xe9O\\xdc\\xfdO\\xec?\\xa3\\xff\\x00\\x02{\\x0c\\x15L\\xf70\\xa0\\xe3U\\x7f\\x0eN\\xf6q\\x94z-\\x9d\\xfb\\xbf\\x91\\x93\\xe1\\xbf\\x0e\\x7fi\\xd1g\\xa5\\x7f\\xc4\\xcb\\xec\\xb5Z\\x19\\xeaM2\\x0b\\xadSR\\xff\\x00E\\xff\\x00\\x8f\\xaa\\xf9\\xb3\\xfao\\x0b8\\xfb\\x90q7<\\xff\\x00\\xec\\xcf\\xf8\\x96\\x7f\\xe4\\xc7\\xfb\\xf5$W\\xdf\\xf0\\xac\\xff\\x00\\xe9\\xef\\xed\\x95\\x89ycu\\xfd\\xa5\\xf6_\\xf9z\\xad\\xbb9\\xff\\x00\\xe1\\x19\\x1f\\xf13\\xff\\x00K\\xff\\x00\\xc8\\xd5\\x9f\\xb3=8\\xc9I^^\\xe8y\\x1f\\xf0\\x8c\\xff\\x00\\xa5\\x7f\\xc7\\xdf\\xdb(\\xd34\\xaf\\xedMG\\xfbr\\xabC\\x07\\xf6o\\xfaU\\xd7\\xfcz\\xff\\x00\\xdf\\xea\\x92\\x18q\\xa9\\x7fi\\xff\\x00\\xcb\\xaf\\xf9\\xfe\\n'.\n",
      "Line no. 11, length : 131 and type : <class 'bytes'>.\n",
      "-----------------------------------------------------------------------------------------------------------------------------\n",
      "Data : b'\\xcfVkF\\x9cc\\xee(\\xff\\x00\\xc0\\xf3:\\x9d\"\\xe3\\xfb3R\\xb6\\xb9\\xff\\x00\\x9f9\\xe3\\xb8\\xff\\x00\\xbe+\\xefo\\xf8\\'\\x7f\\xfc\\x14\\x02o\\x05?\\x89[\\xfe\\x11\\xf9\\xae\\x8d\\xd4\\x16y\\xff\\x00J\\xeb\\xb3\\xce\\xff\\x00c\\xfd\\xba\\xfc\\xf7\\xd3u_\\xed:\\xf5O\\xd9\\xc3\\xe2\\xe6\\x99\\xf0\\x88\\xeb\\x9f\\xdaF\\xe8\\xfd\\xa8\\xc5\\xe4\\xf9\\x10y\\xdfs\\x7f\\xff\\x00\\x17]\\xb9F2Xj\\xbc\\xe7\\xcbx\\x85\\xc2\\xf8L\\xf7(\\xa9B\\xa5\\x1fi--\\xbft~\\xf7x\\'\\xc4\\x87\\xc5\\x9e\\n'.\n",
      "Line no. 12, length : 66 and type : <class 'bytes'>.\n",
      "-----------------------------------------------------------------------------------------------------------------------------\n",
      "Data : b'\\xd35F\\xb7\\xfb/\\xf6\\x95\\xa4w\\x02/\\xf9\\xe7\\xbd7\\xe3\\xfaWC\\xda\\xbez\\xfd\\x96?ko\\x0f\\xfcY\\xd3<?\\xe1\\xdb5\\xd4\\x17Rm\\x1e+\\x852C\\xe5\\xc7\\x84T\\r\\xc6\\xff\\x00z\\xfa\\x13o\\x1dk\\xf5\\xbau#R\\n'.\n",
      "Line no. 13, length : 23 and type : <class 'bytes'>.\n",
      "-----------------------------------------------------------------------------------------------------------------------------\n",
      "Data : b'\\xa2?\\xccL\\xe3)\\xaf\\x80\\xc6\\xcf\\r\\x88\\x87#\\xed\\xf3&\\xa2\\x8a+C\\xcd\\n'.\n",
      "Line no. 14, length : 4 and type : <class 'bytes'>.\n",
      "-----------------------------------------------------------------------------------------------------------------------------\n",
      "Data : b'(\\xa2\\x80\\n'.\n",
      "Line no. 15, length : 4 and type : <class 'bytes'>.\n",
      "-----------------------------------------------------------------------------------------------------------------------------\n",
      "Data : b'(\\xa2\\x80\\n'.\n",
      "Line no. 16, length : 4 and type : <class 'bytes'>.\n",
      "-----------------------------------------------------------------------------------------------------------------------------\n",
      "Data : b'(\\xa2\\x80\\n'.\n",
      "Line no. 17, length : 4 and type : <class 'bytes'>.\n",
      "-----------------------------------------------------------------------------------------------------------------------------\n",
      "Data : b'(\\xa2\\x80\\n'.\n",
      "Line no. 18, length : 4 and type : <class 'bytes'>.\n",
      "-----------------------------------------------------------------------------------------------------------------------------\n",
      "Data : b'(\\xa2\\x80\\n'.\n",
      "Line no. 19, length : 1600 and type : <class 'bytes'>.\n",
      "-----------------------------------------------------------------------------------------------------------------------------\n",
      "Data : b'\\t\\xc0\\xa2\\x83\\xd2\\x80*\\xba+\\xa9\\xf5lf\\xb8\\xef\\x8b_\\x19\\xfc3\\xf0?\\xc2\\x12k\\x9e(\\xd6mt]-g\\x8e\\xdcOv\\xdeT~c\\xf0\\x89\\x9a\\xeb\\xee\\xe6\\xf2-%e\\xda\\xcd\\x1a\\x13\\xf4\\xaf\\xc4\\xff\\x00\\xf8)7\\xfc\\x14s\\xc7\\x1f\\x14,\\xfcA\\xe0\\x1dSK\\xf0\\xec:^\\x97\\xaf\\xcbmm$pM\\x13\\xaf\\x91$\\xb1.\\xfd\\xd2l\\xec?\\x83\\x15\\xe4\\xe6\\x99\\x82\\xc2\\xd2\\xe6\\xfbG\\xdf\\xf8w\\xc08\\x9e)\\xcc=\\x8d=)B\\xce\\xa3\\xd2\\xea-\\xee\\xaf\\xb9\\xe7_\\xf0S\\x8f\\x8c\\x1a?\\xc4\\xbf\\xdb+\\xc7:\\xf7\\x87\\xf5\\x8b]KN\\xbeKW\\xb1\\x96\\x0f\\xdfC0\\x16Q\\xa3l\\xff\\x00\\x81\\xa3\\xd7\\xcc\\xd7\\x97\\xd7Z\\x9f\\xfc}U\\x7f\\x15k\\x9f\\xf1-\\xb9\\xd4\\xeb\\'\\xc1>)\\xba\\xf16\\x9busu\\xff\\x00?\\x15\\xf9\\xc4\\xa5\\xed\\xe5:\\xc7\\xfa\\x0f\\x97\\xfb\\x0c\\xb7\\x05C\\'\\xa16\\xd58F>\\xbc\\xbajg~\\xd4\\xde#\\xb8\\xf0\\xcf\\x86\\xf4\\xdf\\xf8Dn>\\xcbu\\xf6\\xf9|\\xec~\\xfb\\xf7~_\\xfbuk\\xe1\\xaf\\xc4\\x9b]WM\\xd1m\\xd3\\\\\\xb7\\xff\\x00\\x84\\x9b\\xecX\\x9e\\x02?}\\xe6y\\x7f\\xbd\\xae+\\xf6\\xae\\xd7.\\xb4\\xcf\\x04\\xe9\\x7fe\\xb5\\xfb_\\xfaD\\xbf\\xfa-+\\x92\\xfd\\x97\\xa0\\xfe\\xd2\\xf8\\xf9\\xa6\\x9b\\x8f\\xf4_\\xb5[\\xdfq\\xff\\x00n\\xf3W\\xa2\\xb0j8>y\\x9f\\x99V\\xe2\\xece.4\\xfe\\xcd\\xa7\\x17\\xcb.H\\xf5\\xb4omWC\\xe8\\x7f\\xb7\\xddjz\\x97\\xfd=T\\xba\\xc5\\xc5\\xd7\\xfc\\xbdQ\\xa8\\xc1\\xfd\\x99\\xa9\\x7f\\xa2\\xd1\\xafj\\xbf\\xdau\\xe3\\x9f\\xb7\\xcf\\xdcr\\xa7P\\xd7\\xb4\\xfbV?\\xe2g\\xff\\x00\\x1e\\xbf\\xfbR\\xa2\\xed\\xff\\x00P\\xbf\\xfd\\xa7T\\xb5-r\\xebS\\xd3j\\xc6\\x9b\\xaa\\xff\\x00i\\xff\\x00\\xc4\\xb3\\xfe]h\\xe4:\\xa3\\xcd9\\xfb:G\\x97|t\\xf8\\xb1\\xabx\\x0f\\xe2\\xfe\\x97k\\xa2k\\x0bm\\xa2\\xf96\\x97\\x17\\x07\\xca\\x86L\\x0f9\\xb3\\xf3\\xbf\\xcf\\xf7\\x135\\xec~\\x16\\xf8\\x81\\xa2x\\xde\\xfa\\xe7\\xfb\\x0fQ\\xb5\\xd5\\x96\\xd3\\xfd\\x7f\\xd9\\xc7\\xfa\\xad\\xff\\x00s\\xff\\x00@\\xaf\\x99\\xbfl[\\xfb\\xaf\\r|X\\xd2\\xed\\xad\\xad~\\xd5k\\xfd\\x91\\x17\\xfc\\xb0\\xff\\x00\\xa6\\x93\\x7fr\\xba\\xdf\\xd8.\\x12.\\xfc[\\xc7\\xcb\\xe4\\xd9\\xff\\x00\\xed\\xc5z\\x18\\x9c,~\\xaf\\xed\\x0f\\xc78o\\x8d\\xb1\\xff\\x00\\xeb\\xa6\\'\\x87\\xea\\xc5\\xf2\\xb9o\\xad\\x95\\x93zt?f\\xbf\\xe0\\x9a\\xdf\\x1d|+\\xe1\\xaf\\x88\\xdao\\xdb\\xbcI\\xa6[\\xfd\\x8fHx\\x1f\\xf7\\xdf\\xc5\\xfb\\xaa\\xfd$\\xf0w\\x8bt\\xff\\x00\\x1bxv\\xdfP\\xd0\\xee-\\xef\\xb4\\xcb\\xa5\\xcc7\\x16\\xe4\\x00E\\x7f<_\\r~!]|7\\xf1\\x17\\xf6\\x95\\xac\\x16\\xb77^G\\xd9\\xff\\x00}\\xfe\\xdf\\xfb\\x95\\xfaY\\xff\\x00\\x04\\xf9\\xfd\\xb6|M\\xe2/\\x0e\\xf87@\\xb8\\xb3\\xd1\\xedm\\xef/\\r\\xbc\\xea\"\\x7f1w\\xce\\xfd?y^\\xe7\\x0f\\xe7\\xb7^\\xc6\\xa1\\xf9/\\x8e\\xfe\\x14\\xe2i\\xd4y\\xd6\\x1aW\\xbe\\xfa\\xad\\xb5}\\x8f\\xd1QE\"\\x1c\\xa8\\xa5\\xcd}\\xc1\\xfc\\x94\\x14QE\\x00\\x14QE\\x00\\x14QE\\x00\\x14QE\\x00\\x14QA\\xe9@\\r\\x1f5$\\x8e\\x15i\\x03dW\\x0b\\xf1\\xf6\\xf2\\xe3J\\xf8+\\xe2\\x8b\\xab{\\x8f\\xb2\\xdd[\\xe8\\xb7\\x93Aq\\x00\\xfd\\xe4\\x12\\x08\\\\\\x87O\\xa7QC\\xd1\\\\\\xdb\\x0fG\\xdbUT\\x97Wc\\xc7\\xff\\x00n\\xaf\\xdb\\xebM\\xfd\\x88\\xc6\\x81\\xf6\\xdd\\x12\\xfb\\\\\\x7f\\x12\\xac\\xfeY\\x82T\\x8b\\xc9\\xf2\\xfc\\xb1\\xf3\\xef\\xff\\x00\\xae\\xb5\\xf8#\\xfbI\\xde\\x7f\\xc2\\xf0\\xf8\\xb1\\xe2]J\\xd7\\xfd\\x0f\\xfe\\x12-~\\xe7X\\xff\\x00H\\xff\\x00\\x96\\x1b\\xee\\x1d\\xf6\\x7f\\xe3\\xf5\\xda|w\\xf8\\xe1\\xe2\\x8f\\x8c\\xc7E\\xff\\x00\\x84\\x83\\xc5Z\\xd6\\xa1\\xf6[\\x99D_l\\xd6g\\xb9\\xf2\\xb7\\xec\\xdf\\xb3\\xce\\xfb\\x9fv\\xbcG^\\xf1\\x1f\\xfc$\\xc7\\xec\\xbae\\xd5\\xd7\\xda\\xbe\\xd1\\xff\\x00\\\\\\x7f\\xdf\\xf9\\xeb\\xf3|vc<m[\\xad\\x91\\xfd\\xed\\xc1\\x1e\\x1e\\xe0xK.J\\xb4y\\xb1s\\xd2R\\xbb\\xd5^\\xf1I?+\\\\\\xd2\\xd3`\\xff\\x00\\x84\\x1b\\xc3\\x7f\\xf3\\xf7\\xfd\\x91Rx[\\xc5_\\xf0\\x93\\xe9\\xb7W_e\\xac\\xdd\\x1f\\\\\\xb5\\xff\\x00E\\xd35?\\xf8\\xfa\\xff\\x00\\x96\\xff\\x00\\xf2\\xda\\xba\\x0b;\\x1b],\\xff\\x00\\xa2\\xda\\xfd\\x92\\xbc\\xedO\\xd10\\xb5\\'\\xcf\\x17C\\xe1\\xecdx?\\xc7\\xff\\x00\\xf0\\x93\\x7f\\xcb\\xaf\\xd9+~i\\xeb\\x03\\xc1\\xfa\\xae\\x99\\xa9\\xff\\x00\\xc82\\xd7\\xff\\x00 y5-\\x9f\\x8a\\xadu=G\\xfb3\\xfe^\\xbf\\xf8\\x8a\\xcf\\x96F\\xd8<b\\x8d8\\xfbZ\\x8anGIe\\xe1\\xcf\\xf8\\x97}\\xaa\\xb2\\xea\\xd47\\xd7_\\xf3\\xf5\\\\\\xcf\\x8d\\xbe+h\\x7f\\x0e\\xa4\\xb5]F\\xe6\\xea\\xd5\\xaf?\\xe9\\x84\\x92}\\xcaTh\\x9d\\x98\\xccn\\x16\\x84}\\xa5Y\\xf2D\\xee5\\xef\\x11\\xff\\x00i\\xe9\\xbfe\\xa8\\xff\\x00\\xe1#\\xff\\x00\\x8ao\\xec\\xd5\\x1e\\xa3\\xa5]i\\x9aw\\xdaj\\xc4\\xd7\\xd6\\xa7\\xc3\\x7f\\xf4\\xf5\\xff\\x00\\\\+\\x97\\xd9\\x9e\\xc5:\\xd5y\\xa5\\xce\\x1e\\x1b\\xf1\\x1f\\xf6f\\x9b\\xf6Z\\xbd\\xe7\\xff\\x00\\xc2\\r\\xff\\x00O\\x7fl\\xaa:\\r\\xf5\\xaf\\xf6o\\xfaW\\xfc}Tz\\x0e\\xabjO\\xfcL\\xff\\x00\\xd2\\xff\\x00\\xf25\\x174\\xc2\\xc6\\x10\\x9e\\xea\\xfd\\xce\\xb6\\x19\\xeb\\xe9O\\xd8\\xaf\\xf6\\xa9\\xd3\\xbe\\x14x\\xaf\\xc1vs\\xe9\\xd7W\\'L\\xbd`\\xa6\\x19c\\xe3\\xe6w\\xaf\\x93,\\xc5\\xd6\\x99\\xa9\\xfd\\xaa\\xeb\\xfe=\\x7f\\xce\\xca\\xdf\\xd1\\xf5\\xcd\\xc2\\xda\\xe6\\xd6\\xeb\\xec\\x9f\\xf3\\xc2\\xe3\\xfe[Vtk{\\x1a\\xbe\\xda\\x99\\x9ey\\x92\\xe1\\xb3\\xbc\\rL\\xbf\\x13\\xfdic\\xfa\\x07\\xfd\\x9d\\xff\\x00h+_\\x8f~\\x1b\\xbc\\xbe\\x86\\xcem6KK\\x8f\\xb3\\xe2\\xe0\\xef-\\xfb\\xb4\\x7f\\xfd\\x9e\\xbd=\\x06\\xd4m\\xbf7\\xa5~,~\\xc6\\xbf\\x18\\xfcQi\\xe0\\xeb\\x83\\x0f\\x89\\xbcE\\x00\\xfbp\\x19\\x87Qs\\xfc\\t_\\xb46\\xef\\xbe\\xd46\\xe2\\xa4\\xfc\\xc7\\xf15\\xfa\\xb6O\\x99,]+\\x9f\\xe7\\x0f\\x8a\\x1c\\x04\\xf8c2\\xf6Q\\x92t\\xe6\\xe5o.[\\x7f\\x99~\\x8aE?--z\\xc7\\xe6aE\\x14P\\x01E\\x14P\\x01E\\x14P\\x01A\\xe9E\\x04\\xe0P\\x07\\x1f\\xe3\\xcf\\x88Z\\x17\\xc2\\xcf\\x0b\\xddkZ\\xf6\\xa5\\xa7\\xe8z]\\x98\\x8f\\xcf\\xbd\\xbb\\x95!\\x8a-\\xef\\xb5w;\\x7f\\xb7\\xef\\xd6\\xbf5\\x7f\\xe0\\xa6\\x7f\\xf0S\\xef\\x10\\xf8?\\xe2C\\xf8\\x7f\\xe1\\xe7\\x8a|;}\\xe1]CBAs,>M\\xe6\\xe9\\xa5{\\x84\\x94y\\x9f\\xee\\xa2W\\xd5_\\xf0Y\\x0b\\xd9\\xec\\x7f\\xe0\\x9e\\x1f\\x11.\\xad\\xdb,\\xb1\\xd90\\x07\\xb7\\xfal\\x03\\xfck\\xf9\\xf1\\xf8\\x85\\xf16\\xeb\\xfe\\x12O\\xb2\\xfd\\x96\\xd7\\xfd2\\xdf\\xec\\xff\\x00\\xe9\\x13\\xff\\x00~\\xbe?\\x88\\xb3\\n'.\n",
      "Line no. 20, length : 322 and type : <class 'bytes'>.\n",
      "-----------------------------------------------------------------------------------------------------------------------------\n",
      "Data : b\"\\x8a\\x7fV\\xa2\\xf9|\\xcf\\xe9?\\x038?(\\xc4\\xd0|A\\x99\\xfb\\xee\\x9c\\xdd?g(\\xf3'\\xee\\xa6\\xa5\\xea\\x9b%\\xf1\\xdf\\x8f\\xb5=K\\xec\\xbf\\xd9w?\\xda\\xdf\\xf3\\xdf\\xfb?\\xfd.\\xb1&\\x82\\xd7M\\xff\\x00J\\xd3?\\xe4`\\xff\\x00\\x96\\xff\\x00\\xf2\\xdb\\xfe\\xbb|\\x95%\\xe0\\xff\\x00\\x85?\\xff\\x00\\x1e\\xbf\\xe9\\x7fl\\xff\\x00\\x9f\\x8f\\xf6?\\xfd\\xba\\x8ek\\x1f\\xf8A\\xff\\x00\\xe2\\xa6\\xff\\x00\\x8f\\xaf\\xed\\x8f\\xf9w\\xff\\x00\\xae\\xdf=|\\xdd3\\xfas\\x1d\\x8a\\x96&\\xac\\xaa\\xd4\\xf8\\xa3\\xbfh.\\xf1\\xf3\\xeay\\xbe\\xbd\\xe3\\x9dsK\\xf8\\x91\\xfe\\x95\\xfe\\x89\\xfe\\x91\\x17\\xfc|A\\xff\\x00L\\xeb\\xd5\\xbe\\x1e\\xf8\\xfe\\xd7\\xc4\\xdam\\xd7\\xda\\xb5-+\\xfe>?\\xe7\\xbcu\\xf3\\xe7\\xc6\\x0f\\x8a\\x9f\\xda\\x7f\\x125;_\\xb2\\xda\\xff\\x00\\xa6}\\x9b\\xff\\x00I\\xd2\\xbb\\xff\\x00\\xd9\\xe3\\xc0\\x90x\\xdb\\xc2\\xf7\\x97\\r;/\\xfcM8\\xf7\\x1bV\\xbd\\x1cf\\x16Q\\xa7\\xcf?t\\xfc\\xbb\\x83x\\x93\\x13\\x88\\xcd\\xf18L<\\xb9\\xa3\\tKW\\xe4z\\xd6\\x8f\\xe1[_\\r\\x7f\\xc7\\xadV\\xb3\\xd2\\xb4\\xcf\\xf8H\\xfe\\xd5ku\\xfe\\x95\\xfb\\xdf\\xf9o\\xff\\x00}\\xfc\\x95[\\xc0~8\\xff\\x00\\x84\\x9bR\\xba\\xff\\x00E\\xab6~\\x07\\xfe\\xcc\\xf1'\\xf6\\x9f\\xda\\xbf\\xe7\\xaf\\xfe?^G\\xc0~\\xbdG\\x96\\xbd\\n\".\n",
      "Line no. 21, length : 384 and type : <class 'bytes'>.\n",
      "-----------------------------------------------------------------------------------------------------------------------------\n",
      "Data : b'3\\xc2B<\\xbc\\xc6\\x94\\xda\\xa5\\xae~\\xcb\\xf6\\xab_\\xb5W\\x93~\\xd5\\r\\xa6\\x8dKC\\xfbM\\xd7\\xfc\\xb0\\xb9\\xff\\x00\\x96\\xff\\x00\\xf5\\xc6\\xbd\\x0bR\\xf0\\x07\\xf6\\x97\\x89?\\xb5>\\xd5\\xff\\x00<\\xbf\\xf1\\xca\\xc9\\xf8\\xc1\\xf0*\\xdf\\xe2\\xfe\\xa5kuu\\xa9j\\xb6\\x9fd\\xfbO\\xfc{\\xc1\\xff\\x00=\\xbf\\xfd\\x8a\\xdb\\x07*~\\xd7\\xf7\\x87\\xcd\\xf1\\xde_\\x9a\\xe3\\xf2\\xaa\\xd40\\x94\\xbd\\xff\\x00w\\x97\\xde\\xf3^fW\\xc1/\\x8d~&\\xf8\\x97\\xe3\\x0b\\xad;\\\\\\xb9\\x17V\\x96ZW\\x9f\\x0f\\xd9\\xec\\xfb\\xa4\\x88\\x9f\\xfb=z\\\\\\xd5\\xc9\\xfc\\x19\\xf8Ko\\xf0\\x87\\xc47Z\\xdd\\xad\\xd5\\xd5\\xe2\\xdeA\\xf6\\x0f\\xf4\\x8f\\xfa\\xe8\\x8f\\xff\\x00\\xb2WE\\xe3o\\x11\\xff\\x00fi\\x97Z\\x9dN+\\xd9\\xfbO\\xdd\\x1e\\xf7\\r\\xfdg\\x0b\\x96(\\xe63\\xe6\\xa9\\xaf\\xc5\\xef{\\xbe\\xa7A\\xa3\\xd8i\\x9f\\xd9\\xbf\\xe9_\\xf1\\xf5\\xff\\x00]\\xea\\xbf\\x86\\xe0\\xb5\\x1fj\\xfbUs~\\x15\\xf1W\\xfc$\\xde\\x1b\\xba\\xba\\xff\\x00\\xae\\xb5W\\xc0~1\\xff\\x00\\x84\\x9b\\xed_\\xe8\\xbfd\\xfb\\x1f\\x95\\\\\\xbe\\xcc\\xf7\\xa9\\xe7T?r\\xa9}\\xa0\\xf8\\xef\\xe3\\xfdO\\xc3^\\t\\xff\\x00\\x89g\\xfc\\xff\\x00\\xc5\\xff\\x00,<\\xef\\xdd\\xd6\\xa7\\xc0\\xcf\\x8b\\xdan\\xa9\\xf0\\xdbCms\\\\\\xd0muO\\xde\\xfd\\xa2\\t\\xe7\\x8e\\x19\\x7f\\xe3\\xe1\\xf6|\\x9f\\xeeW5\\xfbY[7\\x82~\\x01\\x7fiz\\xdc[\\x0e\\xbf\\xdf\\xaf\\x02\\xf8F\\x96\\xfe:\\xf8\\x8f\\xe1\\xcf\\xf9u\\xfbU\\xf4p\\x1f\\xf6k\\xbf\\x0f\\x97\\xcaxOh\\xe3\\xee\\x9f\\x9a\\xf1\\x07\\x1ac\\xf2\\xce1\\x86\\n'.\n",
      "Line no. 22, length : 708 and type : <class 'bytes'>.\n",
      "-----------------------------------------------------------------------------------------------------------------------------\n",
      "Data : b'\\x8a\\xe7s\\xa7\\x1fv\\xfaj\\xeds\\xf43\\xe1w\\xc7\\xbdG\\xc3\\x8dqo\\xe1\\x9dJ\\xd7\\xec\\xa9q\\xfb\\xff\\x00\\xb3\\xf9s~\\xf2\\xbf]\\x7fc\\xcf\\xdb\\xba\\xdb\\xe2\\x9f\\x8auK/\\x15x\\xb3\\xc3\\x86\\xce\\xce\\xde)m\\xc7\\x9d\\x0cd6\\xee\\xf5\\xf8\\x9d\\xf0\\xf7\\xe1\\xcf\\xfc!\\x1ae\\xdd\\xad\\xad\\xd1\\xba\\xfb\\\\\\xff\\x00h\\xcd}\\t\\xfb\\x18\\x9c\\xf8\\x97\\\\\\xff\\x00\\x8f\\xce,\"\\xff\\x00\\xd1\\x95\\x8eW\\x99O\\x0bW\\x96;\\x1d\\xde(p>_\\x9c\\xe4\\xf2\\xc4\\xe6\\x16\\xa7Z;Y\\'k\\xf2\\xdfS\\xf7sF\\xd7m|Q\\xa5\\xdb\\xdeY\\xdcZ\\xddZ\\xdd/\\x9d\\x04\\xd07\\x9b\\x14\\xc9\\xd9\\x95\\x87\\x15\\xa8\\x99\\xff\\x00\\xc7k\\x81\\xfd\\x9aff\\xf8\\x05\\xe0\\xbd\\xdf\\xf4\\x07\\xb2\\x1c\\xf7\\x1eBW\\xa1D\\xbc}8\\xaf\\xd5\\xa9\\xcd8]\\x1f\\xe7^&\\x92\\xa7VTW\\xd9\\x91%\\x14QL\\xcc(\\xa2\\x8a\\x00(\\xa2\\x8a\\x00)\\x1c\\xe1\\x0f\\xd2\\x96\\x86\\xe9@\\x1f\\x06\\xfcv\\xfd\\xb2\\xfc3\\xe1\\xaf\\x8e\\xfe#\\xf0\\xcd\\xd6\\x9b\\xaf^]Y\\xde\\x8by\\xca\\x08\\xfc\\x9f\\xf5{\\xff\\x00\\x8e\\xbeX\\xfd\\xb3\\xbfd\\x1ds\\xf6\\xd1\\xd4\\xae\\xbe!xgR\\xf0\\xfe\\x93\\xa5i\\x1a\\x07\\xd9\\xfe\\xc1q\\xf6\\x8f\\xb6y\\x96\\xdet\\xee\\xff\\x00\\xb9\\xb6\\x92?\\xf9m\\x1dyG\\xfc\\x14[\\xf6\\x84\\xd3<\\r\\xfbt|L\\xb5\\xfe\\xdc\\xba\\xb3\\xba\\xb3\\xd7\\xa2\\xff\\x00\\x9e\\x9f\\xb8\\xfd\\xda\\x7f\\xd3:\\xb5\\xfb=\\xfe\\xd7\\xba\\x9e\\xa7\\xa6\\xda\\xda\\xff\\x00\\xc2a\\xaa\\xff\\x00\\xc2?y\\x7f.\\x9f\\x7foq\\x04\\x9eL\\xf1\\xbci\\xbf\\x7f\\xee\\xeb\\xf0\\xdcn\\x17\\x0c\\xf3\\x19\\xd5\\xa3x\\xcf]e\\xf0\\xf5\\xfc\\xcf\\x87\\xe1\\xfe5\\xe2\\x8e\\x11\\xce\\x7f\\xb4S\\xe7\\xa1v\\x9a\\x8a\\xbb\\xf7\\x9f\\x9fd|#\\xa6\\xff\\x00\\xc5\\xa0\\xff\\x00\\x8f\\xaf\\xf4\\xbf\\xb6\\x7f\\xcf\\xbf\\xfb\\x1f\\xef\\xff\\x00\\xbfQ\\xd9\\xd8\\xff\\x00\\xc23\\xa9\\x7f\\xc2Mu\\xfe\\x97k\\xab\\xff\\x00\\xcb\\xbd\\xbf\\xfa\\xef\\xdfW\\xe8\\x97\\xed\\x99\\xfb!xC\\xf6\\x98\\xfe\\xc3\\xff\\x00\\x85\\x1b\\xe0\\xff\\x00\\x0f\\xea\\xdf\\xd9\\x1eo\\xf6\\xef\\xd8 \\x8fN\\xf27\\xec\\xf2w\\xf9\\xde^\\xff\\x00\\xe3\\xff\\x00W_\\x9f\\xfa\\xc7\\x875?\\x03x\\x93R\\xd3<am\\xf6K]\"y4\\xf8-\\xee<\\xb9\\xbc\\x89\\x12M\\x89\\x1f\\xc9\\xfe\\xe3\\xd7\\xa7\\x81\\xc5{}\\xe3\\xcbo\\xb3\\xd4\\xff\\x00J\\xb8\\x1f\\x8d\\xb2\\xee#\\xc0S\\xc5\\xe5\\xd3\\x8f,\\xb6\\x8d\\xd3\\xe4\\xd5\\xab\\xce\\xcd\\xe8\\xed\\xf8\\x94f\\xb2\\xba\\xd4\\xf5/\\xf8L>\\xd5u\\xf6_\\xf8\\xf8\\xfb?\\xfc\\xbe|\\x9f%G\\xa9X\\xff\\x00\\xc2\\xdf\\xff\\x00J\\xd3?\\xd0\\xfe\\xc7\\xfe\\x8f\\xfe\\x91\\xff\\x00\\xd8T\\x9f\\xe9_\\xda_j\\xb5\\xff\\x00\\x91/\\xff\\x00 \\xf9\\x7f\\xc7\\xf2\\x7f\\xac\\xfb\\xf5\\x1d\\xe7\\xda\\xb5?\\xf9\\x13\\xff\\x00\\xe3\\xd7\\xfe\\x9d\\xff\\x00s\\xfb\\xcf\\xf8\\x1dw\\xf3\\\\\\xfa\\xe9S\\xa3Itq\\xfbKf\\xe5\\xfc\\xcb\\xfb\\xa5\\x8dcV\\xff\\x00\\x85\\xbf\\xfe\\x8b\\xa6\\x7f\\xa2}\\x8f\\xfe~?\\xfb\\n'.\n",
      "Line no. 23, length : 262 and type : <class 'bytes'>.\n",
      "-----------------------------------------------------------------------------------------------------------------------------\n",
      "Data : b\"\\xbd\\xe1\\xbf\\x15Z\\xff\\x00iZ\\xe8\\x7f\\xe9_j\\xd2\\x7f\\xd1\\xfe\\xd1\\xff\\x00,~J\\xf3_\\x89?\\x15\\xf4[\\xdd>\\xd4\\xfc?\\xd6-\\xbe\\xd4\\xdc\\xce,\\xad\\xe4\\x871\\x7f\\x07\\xfa\\xea\\xe8\\xbc1\\xe3\\x1d/\\xc4\\xde\\x1d\\xb7\\xb5\\xd2\\xee\\xbf\\xe2\\xbe\\xf2#\\xf3\\xf3\\x04\\x9ew\\x99\\xff\\x00/??\\xfa\\xbf\\xef\\xd1S\\x0bS\\xfa\\xfb'\\x9b\\x96\\xf1F\\x02\\xae.\\xd8Z\\xb1\\x94\\xfb\\xc5\\xa6\\x9f\\xf7U\\xb4\\xbf\\xeau\\x1a\\xc7\\x83\\xae\\xb5?\\x12Z\\xea_j\\xb5\\xfb/\\xee\\xbf\\xf1\\xca<{\\xe0{\\xaf\\x13}\\x97\\xec\\xb7V\\xb4h\\x1e#\\xfe\\xcc\\x16\\xb6\\xba\\x9d\\xd7\\xfcM\\xbf\\xf8\\xbf\\xb9G\\x8f \\xd7?\\xd1\\x7f\\xb3?\\xed\\xbdr\\xfd\\xb3\\xea%N\\x8dL4\\xab(\\xcb\\xde\\xf8\\xa3\\xd4\\xb3\\xe3o\\x0e]x\\x9bM\\xb5\\xb5\\xb5\\xab0\\xb7\\xfc#>\\x1b\\xff\\x00J\\xff\\x00K\\xfe\\xc8\\xaa\\xde0\\x83S\\xfe\\xcd\\xb5\\xfe\\xcc\\xff\\x00\\x8f\\xaa\\xb3\\xa6\\xd9\\x7fjxn\\xd6\\xd7S\\xff\\x00\\xb6\\xf4}\\x83\\xa24\\\\k\\xcaT\\xe1\\xf6~A\\xa0\\xf8\\x8e\\xd7R\\xd3n\\xae\\xadj?\\n\".\n",
      "Line no. 24, length : 579 and type : <class 'bytes'>.\n",
      "-----------------------------------------------------------------------------------------------------------------------------\n",
      "Data : b'\\xf8\\xc6\\xd7\\xc4\\xdfj\\xfb-\\xaf\\xfcy\\xd7\\x98|^\\xd7\\xf5/\\x0b\\xfcE\\xb5\\xb5\\xd3\\xa7\\xba\\xb5\\xd2\\xfe\\xcfoqq\\x04\\x07\\xf7?\\xeb\\x1fw\\xfe9^\\x97\\xe0\\xfdWC\\xd5>\\xd3\\xfd\\x87\\xff\\x00m\\xff\\x00qq\\x0f\\xfb\\x9f\\xeb\\xabJ\\x94\\xd5:~\\xd0\\xf02\\x9e\"\\xa5S0\\xfa\\x974y\\xe9\\xfb\\xb2\\x8f\\xda\\x97\\xf8\\x7fRM\\x1f\\xc7\\x16\\xba\\xa6\\xa5\\xfd\\x99\\xf6[\\xaf\\xff\\x00b\\xa1\\xbc\\xf1\\xc5\\xae\\x9b\\xe2?\\xec\\xcf\\xb2\\xff\\x00\\xa5\\xd2\\xe8\\xf7\\x1a\\x1f\\xfc$\\x9f\\xe8\\xbf\\xf1\\xf5\\xfb\\xdf\\xfe\\xce\\xbd#\\xf6?\\xf0\\xe7\\x83\\xfcs\\xfbc|=\\xd0\\xf5\\xcb[][\\xfb_W\\xb6\\xb7\\xff\\x00H\\x83\\xfd\\x7f\\xdc\\xf9\\x1e\\xb3\\xab^4\\xa8\\xfbC\\xaf3\\xcc\\xde\\x0f.\\xa9\\x8e\\xac\\xe1z|\\xd2\\xe9~X\\xeb\\xcb\\xeau?\\x01\\xbf\\xe0\\x99~&\\xfd\\xb4t\\xeb\\xadsC\\xf17\\x85t\\x9b]\"x\\xed\\xe7\\xfe\\xd0\\x9e\\xe2\\x19\\xbc\\xcf-&\\xf3\\x13dr|\\x9f=~\\xb6|O\\xf1\\xfe\\x99\\xf0\\x83N\\xb5\\xba\\xb9\\xd3>\\xd7\\xf6\\xcf\\xfaa\\x1f\\xfb\\xf5\\xcf\\xff\\x00n|)\\xfd\\x95?\\xe2G\\xff\\x00\\x12\\xaf\\x04\\x7fk\\xff\\x00\\xc4\\xc3\\xec\\xf6\\x162~\\xff\\x00\\xf87\\xfc\\x91\\xff\\x00\\xb1_\\x9f\\x7f\\x1b?l\\xbf\\x13\\x1f\\r\\xe9\\x9f\\xdb\\x9e0\\xd5\\x7f\\xe3\\xe3\\xf7\\x1f\\xf2\\xc7\\xfeY\\xff\\x00\\xd3\\x18\\xeb\\xe2\\xfd\\x9c\\xb1\\xbf\\xed8\\x8f\\x83\\xec\\xc7\\xedK\\xd3\\xb9\\xfeg\\xf8\\xc7\\xe3&?\\x89\\xf1\\x8f\\x01\\x96M\\xf3;\\xfb=\\x13\\xf6[?~\\xda\\xebm\\x0f\\xd2\\x1f\\xd9k\\xf6\\xc2\\xd0~$|y\\xd3<5mm\\xaa}\\xab7\\x0b\\xf6\\x86?\\xb9\\xf9 w\\xfe\\x0f\\xf7+\\xed\\x84|\\x9f\\xe5_\\x88_\\xf0H\\xdf\\x8e:O\\xc4\\x0f\\xf8(7\\x84- \\xd6n5\\x0b\\x9b\\xb8u\\x16\\xc1\\x12v\\xb0\\x98\\xff\\x00\\xcf>\\xd8\\xaf\\xdb\\xe0v\\xae\\xea\\xfds\\x83cEe\\xedQ\\x8c\\xa2\\xb9\\xbe\\xd6\\xfd\\x0f\\x9e\\xe1:y\\x95<\\x1f.iR3\\xa9\\xde$\\xd4P\\x0eE\\x15\\xf6G\\xd3\\x85\\x14Q@\\x05\\x14Q@\\x05\\x06\\x8a\\x0f\"\\x80?&\\x7f\\xe0\\xba\\x9f\\xf0L\\xcf\\x86\\x9e\\x02\\xfd\\x9c\\xbe-~\\xd0V\\xbf\\xf0\\x907\\x8f\\x9a\\xe2\\xc6\\xfb\\xf7\\xf7\\xf9\\xd3\\xc4\\x93_\\xd9\\xdb?\\xee|\\xbf\\xf9\\xe6\\xd5\\xf9#\\xf0c\\xe3\\xbe\\xa7\\xe1\\x93kk\\xff\\x00\\x12\\xaf\\xb2\\xfd\\xbf\\xfe^?\\xe0\\x15\\xfd.\\x7f\\xc1@\\xff\\x00d\\x9f\\xf8nO\\xd97\\xc5\\x7f\\n'.\n",
      "Line no. 25, length : 1116 and type : <class 'bytes'>.\n",
      "-----------------------------------------------------------------------------------------------------------------------------\n",
      "Data : b'\\xdb\\\\\\xff\\x00\\x84t\\xf8\\xab\\xecy\\xd4M\\x97\\xdb>\\xce \\xbc\\x86\\xe7\\xfdW\\x99\\x1e\\xfc\\xf9!?\\xd6\\x0f\\xbf_\\xce\\x97\\xfc\\x15\\x13\\xf6\\x17\\xb6\\xff\\x00\\x82j\\xfe\\xd3\\xd6\\xbf\\x0f\\x7f\\xe1-o\\x15}\\xb3@\\xb6\\xf1\\x07\\xdb\\x8d\\x8f\\xf6v<\\xeb\\x8b\\xa4\\xf2\\xf6y\\xb2\\x7f\\xcf\\xb7\\xfe?_;\\x9bd41\\x14\\xef\\x1d\\xcf\\x8e\\xe2\\x18\\xd7\\xa7>\\x7f\\xf9v}\\x93\\xfb7\\xfe\\xd6\\xda\\xe7\\xc3?\\xed\\xcf\\xec;\\xaf\\x0f\\xdd\\xfd\\xb3\\xca\\xf3\\xfe\\xd1\\xfe\\xc6\\xfd\\x9frO\\xf6\\xeb\\x7f\\xf6\\xea\\xfd\\x82\\xbc\\x1f\\xe2o\\x82\\x7f\\xf0\\x98xf\\xd7\\xc4\\x1a\\xb7\\x8d|E\\x7f\\x16\\xa1\\x7foo\\xfe\\x99\\xff\\x00\\x1f1\\xcd;\\xba\"G\\xe6}\\xf7\\xaf\\xce\\x8f\\x82\\x7f\\x1a\\x7f\\xe1\\x06\\xfe\\xd3\\xff\\x00\\x89o\\xda\\xfe\\xd9\\xe5\\x7f\\xcb\\x7f\\xf7\\xeb\\xf4\\x83\\xf69\\xfd\\xaa?\\xb3<I\\xa6\\x7f\\xc4\\x8f\\xed\\x7f\\xf1(\\xfbG\\xfc\\x7f\\x7f\\xb8\\x9f\\xf3\\xce\\xbf+\\xafF\\xbd\\x1a\\xfc\\x93\\xfe*\\xff\\x00\\xc9\\xfc\\x99\\xcb\\xc2\\xfci\\x99\\xf0^:\\x19\\xae[\\xfb\\xcc\\x1b\\xfe,y\\xb9TR\\xd7e\\xab\\xbfT\\x8f\\x82u\\x8f\\x83\\x9e9\\xf0\\xcf\\xda\\xb4\\xcb\\xaf\\x07\\xf8\\xaa\\xd3\\xc3\\xf6\\x7f\\xeb\\xef\\xee4;\\xc8a\\x82?\\xbe\\xee\\xf3<~ZW+y\\xaa\\xdd|3\\xd4\\xadmt?\\xf4\\xbb_\\xfc\\x0c\\xfd\\xe7\\xfc\\x02\\xbfd~&|T\\xff\\x00\\x86\\xbd\\xf0F\\xb9\\xf0\\xcf\\xfb3\\xfe\\x11\\xff\\x00\\xf8N\\xac%\\xd1\\xfe\\xdf\\xe7\\xfd\\xb3\\xec;\\xff\\x00\\x8fg\\xee\\xf7\\xd7\\x87x?\\xfe\\x089\\xff\\x00\\x08\\xce\\x9buk\\xff\\x00\\x0b\\x0b\\xed_\\xf7\\x03\\xff\\x00\\xee\\x9a\\xe8\\xfe\\xda\\x8e\\x17\\xdd\\xc6\\xc3\\x94\\xfe\\xb6\\xe0?\\xa4\\xcf\\x0e\\xf1.\\x1e\\xadLeoag\\xcb\\xcc\\xa3\\'m\\x9d\\xbe\\x13\\xf0\\xf7\\xc20\\xeb\\xbaq\\xff\\x00E\\xd3.\\xff\\x00\\xf0\\x06J\\xef>\\x12\\xdd\\xea\\x9ao\\x8c\\xed\\xee\\xbe\\xcdu\\xf6\\xaf\\xb3\\xc9\\xff\\x00.R\\x7f\\xcf\\xbd}\\xf5\\xfbo\\x7f\\xc1?.\\xbf\\xe0\\x9c^\\t\\xd35\\xcf\\xf8L.\\xbcY\\xff\\x00\\t\\x15\\xc4\\xba\\x7f\\xd9\\xfc\\x8f\\xec\\xef#d{\\xf7\\xef\\xf3d\\xdf_5\\xfd\\x87\\xfb3\\xfe*o\\xf9\\xfc\\xff\\x00H\\xfb\\x07\\xfdv\\xff\\x00o\\xfe\\x07_]S>\\x862\\x97\\xb6\\xa5\\x1f\\x88\\xfbo\\r\\xf8?,\\x9d\\x1ay\\x9eW\\x8ds\\x8c[{8\\xda\\xddB\\xce\\x0b]OM\\xfe\\xdc\\xba\\xff\\x00\\x90\\xaf\\xfc\\xfb\\xff\\x00\\xb9\\xf7>J\\xd6\\xf0O\\x8a\\xae\\xb5_\\xb5\\x7fi\\xfd\\x96\\xd7\\xff\\x00 \\xd6/\\xf6O\\xfc$\\xa7\\xfe\\x12o\\xf9\\xf3\\xff\\x00\\x97\\x7f#\\xfex\\xff\\x00\\xb7R}\\x87\\xfe\\x17\\x97\\xfd:}\\x8f\\xfe\\x98y\\xdf~\\xbc\\xcb\\xc0\\xfd\\xea\\x9e*p\\x97\\xb4\\x83\\\\\\xdd\\xaf\\xf1\\xff\\x00y\\x97|!\\xe2\\xab\\xadSR\\xba\\xfe\\xd3\\xff\\x00D\\xb5\\xff\\x00\\xbf4\\xb0\\xf8\\xaa\\xeb\\xfe\\x12O\\xb3\\x7f\\xcc+\\xfe~?\\xfb:\\xa3\\xfd\\xab\\xff\\x00\\x0b\\x7f\\xfe%\\x9fe\\xfb\\'\\xd8\\xff\\x00\\xd2?\\xd7\\xf9\\xdf\\xec\\x7f\\xec\\xf4}\\xbf\\xfee\\x0f\\xfbv\\xf3\\xff\\x00\\xf1\\xff\\x00\\xb9K\\xdc\\xfeR>\\xbdV\\x9d=d\\xff\\x00\\xba\\xef\\xbf\\xf7O;\\xfd\\xa5\\xb5MO\\xfe\\x16E\\xaf\\xf6e\\xad\\xd5\\xdd\\xaf\\xd8\"\\xff\\x00H\\xb7\\x82I\\xbfy\\xe6?\\xf1\\xd2\\xfc\\x19\\xf1\\x8e\\xb9\\xa6\\x7fi}\\x96\\xd7\\xfe}\\xbf\\xe5\\x84\\x9f\\xf4\\xda\\xbfC\\x7f`\\x9f\\xf8%}\\xd7\\xed\\x0b\\xf0\\x07S\\xd4\\xff\\x00\\xe10\\xba\\xd2\\x7f\\xe2os\\xa7\\xfd\\x9f\\xec?\\xf4\\xce\\xd9\\xf7\\xef\\xf3?\\xdb\\xafQ\\xf0O\\xfc\\x10C\\xfe\\x11\\x81\\xff\\x00%2\\xea\\xeb\\xed_\\xf5\\x03\\xff\\x00\\xee\\x9a\\xf3q\\x1cI\\x83\\x8a\\xfa\\xbc\\x97\\xbf\\x13\\xf9\\xc70\\xe2\\xce\\x16\\xca\\xb8\\x92\\xa6a\\x89\\xc7\\xb8\\xd7\\xe6\\x93\\x949e\\xeeJ\\xd6i;>\\xe7\\x88\\x7f\\xc1?\\x7fa\\x1d3\\xe2g\\xc5\\xab[\\xaf\\x1dh~ \\xd2t\\xbb\\xcd\"]C\\xed\\xf7\\x10Ig\\x0f\\xda?s\\xf7\\x1d\\xe3\\xf2\\xff\\x00\\x8d\\xeb\\xeb=c\\xfe\\t\\xcf\\xf0_\\xf6z\\xd4\\xae\\xbe&xgS\\xf1\\x07\\xfc%^\\x1d\\xf2\\xb5\\x8d\\'\\xcf\\xd7-\\xe6\\x87\\xed\\t\\x1f\\xc9\\xbe\\x1f/\\xe7\\xad\\x1f\\x8d\\x9f\\x1b\\xff\\x00\\xb3>\\x13\\xda\\xf8\\x1f\\xfb\\x0f\\xfeE\\xbf\\xb3i\\xfe\\x7f\\x9f\\xfe\\xbf\\xec\\xd1\\xec\\xf36\\x7f\\x07\\x99\\xb2\\xbe^\\xf8\\xcd\\xf1\\xdf\\xfb3\\xc1:\\xe7\\xfa/\\xfc\\xbb\\xcb\\xff\\x00-\\xff\\x00\\xfb]qK\\x0fZ\\xb5\\x0f\\xaeb\\xa7\\xcb\\xfd\\xce\\x92\\xff\\x00\\x87?\\x8ex\\xe7\\xe9\\x19\\xc4<Y\\x9b\\xd4\\xc0p\\xf5?\\xdc|2jn+\\xaar\\xb3J\\xfb\\xfc\\xcd\\xbf\\xda[\\xf6\\xa8\\xd4\\xfe%\\xf8\\x93M\\xba\\xd7.\\xbc?\\xf6\\xab;\\x7f\\xdc\\x7f\\xcb\\x1f\\xdd\\xf9\\x9f\\xf5\\xd2\\xbe\\x07\\xf8\\xa9\\xf1\\xc3S\\xf1\\xce\\x9bkku\\xf6_\\xf49\\xff\\x00\\xe5\\xde\\n'.\n",
      "Line no. 26, length : 226 and type : <class 'bytes'>.\n",
      "-----------------------------------------------------------------------------------------------------------------------------\n",
      "Data : b'>6|b\\xff\\x00\\x84\\xe7S\\xb6\\xba\\xfe\\xcd\\xfb/\\xfa?\\xfc\\xf7\\xaf\\\\\\xff\\x00\\x82O\\xff\\x00\\xc16-\\xff\\x00\\xe0\\xa7\\xdf\\x11\\xbc]\\xe1\\x95\\xf1\\xa3x3\\xfe\\x11\\x1d*+\\xff\\x00=t\\xa1\\xa8y\\xc1\\xe4\\xd9\\xb7a\\x96=\\x95\\xf4|;\\x90\\xfbz\\xb0\\xc4\\xe2~\\x0f\\xb3\\x1f\\xe5\\xdc\\xf9L.\\x07\\xea\\x8f\\xd8\\xe1\\xfd\\xfa\\xf3\\xf8\\xe5\\xd7M\\x8f\\xd6\\x9f\\xf8#\\xf7\\xfc\\x12\\xc7\\xe1g\\x81\\xbe\\x13|\\x19\\xf8\\xf5\\xa6\\x9f\\x14\\x0f\\x1ej\\xde\\x12\\xb4\\xd5\\xe6\\xfbE\\xf7\\xfa!\\x96\\xf6\\xc3\\xf7\\xc3\\xc9\\xf2\\xc7\\xca|\\xe7\\xc7\\xf9\\x15\\xfa5\\x9f\\xe7^c\\xfb,\\xfc\\x17o\\xd9\\xab\\xf6^\\xf8\\x7f\\xf0\\xf4\\xeaGUo\\x03\\xe8\\x16\\x1a\\x00\\xbf\\xf2<\\xaf\\xb6\\xfd\\x9a\\x04\\x80I\\xb3\\xe7\\xdb\\xbffq\\xef^\\x9d\\x8c\\x03_\\xa3a\\xf0\\xf4\\xe9C\\xd9\\xd3?Q\\xc3\\xc6\\xd4\\xd0\\xfa(\\xa2\\xba\\x8d\\x82\\x8a(\\xa0\\x02\\x8a(\\xa0\\x02\\x8a(\\xa0\\x00\\x9c\\n'.\n",
      "Line no. 27, length : 960 and type : <class 'bytes'>.\n",
      "-----------------------------------------------------------------------------------------------------------------------------\n",
      "Data : b'\\xf2\\xbf\\xda\\x07\\xe0\\x06\\x85\\xf1\\xbb\\xe1\\xdf\\x89m\\xae\\xbc9\\xe1\\x8b\\xcf\\x10jzE\\xce\\x9da}\\x7fe\\x1c\\xb2\\xc1$\\x91\\xba\\'\\xcec\\xde\\xa8\\x1d\\xbbW\\xa9\\x83\\xb8R\\x81\\x8a\\t\\x9c\\x14\\x95\\x99\\xfc\\xad\\xfe\\xde_\\xf0K\\xbf\\x89_\\xf0ME\\xf0y\\xf8\\x81u\\xe1k\\xbf\\xf8K\\xbe\\xd3\\xf6\\x0f\\xec\\x1b\\xdb\\x9b\\xbf\\xf8\\xf5\\xf2w\\xef\\xdf\\x14\\x7f\\xf3\\xd9+\\x93\\xf8\\x0f\\xf1\\xc3\\xfe\\x11\\x9f\\x12\\xfd\\xaa\\xea\\xebT\\xff\\x00\\x8f\\x0f\\xb3\\xff\\x00\\xa3\\xcf\\xfe\\xe5\\x7fK\\x1f\\xb5\\x9f\\xec\\x11\\xf0\\x9f\\xf6\\xe4M\\x0b\\xfe\\x16\\x8f\\x85?\\xe1(o\\x0e\\x9b\\x8f\\xec\\xa0\\xf7\\xd7v\\xbfg3y~p\\xfd\\xcc\\xb1\\xee\\xcf\\x93\\x1f\\xdf\\xcf\\xdc\\xaf\\xc0\\x9f\\x8c\\x7f\\xf0F\\xdf\\xda3H\\xf8\\xd9\\xe2\\xff\\x00\\xf8D~\\x0c\\xf8\\xa1|+\\xfd\\xbd}\\xfd\\x93\\xe4\\x1bya\\xfb\\x17\\xda\\x1f\\xec\\xdb7\\xcb\\xe6\\x7f\\xab\\xd9\\xfe\\xb2\\xbew<\\xc9\\xa1\\x8c\\x87$w>\\x1f\\x17\\x96O\\x05R\\xd4!\\xfb\\xb7\\xf36<\\x07\\xfbTZ\\xea~7\\xd2\\xedmu?\\x15}\\xab\\xed\\x1f\\xe7\\xfeZW\\xb2\\x7f\\xc2\\xfc\\xd4\\xff\\x00\\xe89\\xe2\\x0f\\xfb\\xff\\x00\\xff\\x00\\xdb+\\xe5O\\x11\\x7f\\xc1:?io\\xd9\\xf3\\xc3\\xb7\\x1e.\\xf17\\xc3_\\x14x\\x7f\\xc3\\xfe\\x1d\\x83\\xed\\xf7\\xd7\\xf3\\x9bo&\\xc68\\xff\\x00\\x8d\\xff\\x00{\\\\\\'\\xfc4n\\xbd\\xff\\x00A\\xef\\xfc\\x81\\x1f\\xff\\x00\\x1b\\xaf\\x83\\xc4d\\xb9\\x86\\r\\xfb:*/\\xd6\\xe7\\xcd\\xe6\\x1c/\\x80\\xc7\\xcb\\x99\\xf3R\\xf4|\\xa7\\xea\\x8f\\xc1/\\xda\\x9f\\xc1\\xe7R\\xd4\\xff\\x00\\xe1/\\xb5\\xbb\\xf1\\x15\\xaf\\xd9\\xe2\\xb8\\xb7\\xfe\\xd7\\xd2\\xad\\xe6\\xf2$\\xfe?\\xbf\\xf7+\\xd3\\x7f\\xe1\\xa8~\\x06\\xff\\x00\\xd0\\xa1i\\xff\\x00\\x84\\xe5\\xbd~O\\xfc\\x07\\xfd\\xa3.\\x7f\\xb4\\xb5?\\xedO\\x13\\x7f\\xcb\\xbc^G\\xee#\\xff\\x00\\xe3u\\xe9\\x9f\\xf0\\xd0\\xba_\\xfd\\x07m+\\xc2\\xc6\\xc3\\r\\x1a\\xf6\\xc6Q\\x9f?\\xf7>\\x13\\x9f\\x0b\\x85\\xe2|\\xb9}W\"\\xae\\xbd\\x87\\xf7\\x9c\\xaf\\xe7\\xaa?J\\xb4\\x7f\\x8e\\x1f\\x05\\xf5=7\\xfd\\x17\\xc1\\xfa_\\xd9\\x7f\\xec\\x07oVa\\xf8\\xb7\\xf0\\x87\\xfe\\x84\\xfd+\\xff\\x00\\t\\xcb\\x7f\\xfe7_\\x9a\\xd6\\x7f\\xb5\\r\\xae\\x99\\xfe\\x8bk\\xe2k_\\xfc\\x87\\xff\\x00\\xc6\\xea_\\xf8k\\x1f\\xfa\\x99\\xad\\x7f\\xef\\xc4\\x7f\\xfcj\\xb9?\\xe1/\\xfe}U\\xfc\\x07,w\\x88~\\xd3\\xf7u\\xe9}\\xf5?\\xc8\\xfd\\x17\\xd4\\xbe8|\\x17\\xf0\\xcf\\xfaW\\xfc!\\xfaW\\xfe\\x08\\xed\\xeb7\\xfe\\x1as\\xe0w\\xfd\\t\\xf6\\x9f\\xf8J\\xdb\\xd7\\xe7\\xae\\xa5\\xfbP\\xda\\xea\\x7f\\xf1\\xf5\\xe2k_\\xfc\\x87\\xff\\x00\\xc6\\xea\\xaf\\xfc/\\xdd7\\xfe\\x83\\x96\\xb5_\\xf0\\x97\\xff\\x00>\\xeb~\\x03\\xa7\\x8a\\xf1\\x03\\xd9\\xfb:\\x95\\xe1\\xf7\\xcf\\xfc\\x8f\\xae\\xbe<~\\xd6\\x1e\\x19\\xff\\x00\\x84\\x93\\xec\\xbe\\x19\\xb5\\xd5t\\x9d+\\xec\\x1f\\xf1\\xefac\\x1d\\x9c>c\\xefM\\xfb\\x12O\\xf6\\x12\\xbc\\x87\\xfe\\x17\\xe6\\xa7\\xff\\x00A\\xcf\\x10\\x7f\\xdf\\xff\\x00\\xfe\\xd9_\\'\\xfcl\\xfd\\xa3.\\xbf\\xe15\\xff\\x00\\x89g\\x89\\xbf\\xd1~\\xcf\\x15\\xbf\\xfa\\x88\\xff\\x00\\xd6y\\x8f\\xff\\x00L\\xeb\\x88\\xff\\x00\\x86\\x8b\\xd6\\xff\\x00\\xe8f\\xff\\x00\\xc8\\x11\\xff\\x00\\xf1\\xba\\xf6hR\\xc7*1\\xfa\\xad?s\\xec\\xf3G\\xde\\xf9\\xd8\\xe7\\xff\\x00RhU\\xab\\xf5\\xbc\\xce\\xbbu\\xe7\\xf1\\xf2\\xd4\\xd3\\x9b\\xcb\\xc8\\xf7_\\x12~\\xd5:g\\xfc$wV\\xb7Z\\x9f\\x8a\\xae\\xbf\\xd2%\\xff\\x00\\x96\\xff\\x00\\xf4\\xd3\\xfe\\xbaW\\x80\\xfcl\\xf8\\xb7\\xff\\x00\\t7\\x895?\\xb2\\xddj\\xbfe\\xbc\\xf2\\xbf\\xf4ZW\\xa9i\\xff\\x00\\xf0K\\x9f\\xda\\x9f\\xc6\\xfa]\\xa6\\xb9\\xa6|!\\xf1]\\xd6\\x9b\\xac\\x7f\\xc4\\xc2\\t\\xe06\\xdf\\xbf\\x8eo\\x9d\\x1f\\xfdg\\xf7\\x1e\\xbd\\x1b\\xf6?\\xff\\x00\\x823|r\\xf1\\x1f\\xed[\\xf0\\xfe\\xdb\\xe2\\xa7\\xc1\\x9f\\x14/\\x80n\\xb5h\\xff\\x00\\xe1#73\\xc7\\x14\"\\xcf\\xf8\\xf7\\xbc2\\x87O\\xfbg_K\\x93\\xf0\\x9b\\xa7_\\xeb\\x15\\xff\\x00S\\xea=\\x8b\\x7f\\xba\\xc2\\xd1p\\xfb7\\xb7\\xd9\\xd8\\xf3\\xff\\x00\\xd8K\\xfe\\t%\\xf1{\\xfe\\n'.\n",
      "Line no. 28, length : 613 and type : <class 'bytes'>.\n",
      "-----------------------------------------------------------------------------------------------------------------------------\n",
      "Data : b'3\\xf0\\xefZ\\xf1\\'\\xc3\\xddO\\xc1vz^\\x81\\xab\\xff\\x00c\\xcf\\xfd\\xbd{si/\\x99\\xf6xf\\xf9\\x11-\\xa4\\xf96M\\x1d\\x7fK\\xde\\t\\xf8O\\xe1\\xbf\\x87\\xd7w\\x17:/\\x87t=&\\xee\\xf0~\\xfek+(\\xed\\x8c\\xdf\\xef\\x14\\x19?\\x8dq?\\xb2o\\xecW\\xf0\\xd3\\xf6\"\\xf0~\\xa9\\xa1\\xfc-\\xf0\\xca\\xf8WI\\xd5\\xaf\\xbf\\xb4/-\\xc5\\xed\\xc5\\xdf\\x9dpcH\\xfc\\xcd\\xf3I!\\xfb\\x88\\x83\\xafj\\xf5\\xe1_\\xa0\\xd1\\xa2\\xa9\\xad\\x0f\\xab\\xcar\\x8axH_\\xa9%\\x14QZ\\x9e\\xc8QE\\x14\\x00QE\\x14\\x00QE\\x14\\x00QE\\x14\\x00QE\\x14\\x00PE\\x14P\\x07\\x99\\xfe\\xd2\\x9f\\x00\\xf4\\xcf\\xdao\\xe0\\'\\x89\\xfe\\x1f\\xeb\\xd7Z\\xa5\\x9e\\x93\\xe2\\xcb\\t4\\xfb\\xeb\\x9b\\x03\\x18\\xbb\\x8a7\\x1c\\x94\\xdf\\x1c\\x89\\xbb\\xfe\\x00k\\xf3\\xfa\\xf3\\xfe\\r[\\xf8\\x1b\\xa6ZOp>!|h\\xff\\x00S\\x83\\xfe\\x9f\\xa5\\x7f\\xf2\\xba\\xbfR{\\xf5\\xa7\\x12\\xadYV\\xa4\\xaanq\\xe2\\xb0\\x141\\x0b\\xf7\\x91?\\x8e\\xff\\x00\\x0exO\\xc4\\xda^\\x9d\\xf6\\x9f\\xf8Fu\\xff\\x00\\xf4\\xcb\\x7f\\xfa\\x05\\\\V\\xb7\\xf6\\x0f\\x8c?\\xe8Y\\xd5\\xbf\\xf0U%\\x7f^\\x9eB\\xff\\x00u[\\xdb\\x14\\xa2\\x04\\xef\\x1a\\x8f\\xc2\\xb8*d\\xf8Z\\xbf\\xc4\\x89\\xe0R\\xe1\\xfa\\xf4}\\xdaU\\xad\\xf2?\\x90\\xaf\\xec\\x1f\\x18\\x7f\\xd0\\xb3\\xab\\x7f\\xe0\\xaaJ?\\xb0|a\\xff\\x00B\\xce\\xad\\xff\\x00\\x82\\xa9+\\xfa\\xf9\\xf2\\x94\\xf6\\x1f\\x95\\x1eH\\xf6\\xfc\\xab\\x1f\\xec\\x1c\\x17\\xf2\\x1a\\xff\\x00a\\xe2\\x7f\\xe7\\xff\\x00\\xfeJ\\x8f\\xe4\\x1b\\xfb\\x07\\xc6\\x1f\\xf4,\\xea\\xdf\\xf8*\\x92\\x8f\\xec\\x1f\\x18\\x7f\\xd0\\xb3\\xab\\x7f\\xe0\\xaaJ\\xfe\\xbe6\\xff\\x00\\xd35\\xa3o\\xfd3Z\\x7f\\xd8x?\\xe54\\xfe\\xc4\\xc4\\x7f\\xcf\\xff\\x00\\xfc\\x95\\x1f\\xc8\\xaf\\xc3\\xcf\\x85\\xba\\xe7\\xc4\\xbf\\x8b^\\x19\\xd35=\\x0b_\\xb5\\xb4\\xd65{\\x1d>y\\xed\\xecd\\xfd\\xc4s\\\\\"<\\x89\\xbe?\\xee=~\\xd2\\x9f\\xf857\\xe0+(\\xdd\\xf1\\x03\\xe3Plr>\\xdf\\xa4\\xff\\x00\\xf2\\xba\\xbfP|\\x95S\\xb9U\\x7f*{\\x1c7\\x03\\xf1\\xafF\\x8e\\x16\\x9d=\\x83\\x0b\\xc3\\xd4)\\xb9N\\xbf\\xbe\\xe4s\\x7f\\x0c\\xbc\\x01o\\xf0\\xd3\\xe1\\xb6\\x83\\xe1\\x98\\'\\xb9\\xba\\xb5\\xf0\\xee\\x9fm\\xa7\\xc34\\xe73O\\x1c1\\xa2+\\xbe\\xdc|\\xdf%u\\x00b\\x91Ni\\xd5\\xd0}\\x12\\xd1Y\\x05\\x14Q@\\x05\\x14Q@\\x05\\x14Q@\\x05\\x14Q@\\x05\\x14Q@\\x05\\x14Q@\\x05\\x14Q@\\x05\\x14Q@\\x05\\x14Q@\\x07J(\\xa2\\x80\\n'.\n",
      "Line no. 29, length : 4 and type : <class 'bytes'>.\n",
      "-----------------------------------------------------------------------------------------------------------------------------\n",
      "Data : b'(\\xa2\\x80\\n'.\n",
      "Line no. 30, length : 4 and type : <class 'bytes'>.\n",
      "-----------------------------------------------------------------------------------------------------------------------------\n",
      "Data : b'(\\xa2\\x80\\n'.\n",
      "Line no. 31, length : 4 and type : <class 'bytes'>.\n",
      "-----------------------------------------------------------------------------------------------------------------------------\n",
      "Data : b'(\\xa2\\x80\\n'.\n",
      "Line no. 32, length : 4 and type : <class 'bytes'>.\n",
      "-----------------------------------------------------------------------------------------------------------------------------\n",
      "Data : b'(\\xa2\\x80\\n'.\n",
      "Line no. 33, length : 4 and type : <class 'bytes'>.\n",
      "-----------------------------------------------------------------------------------------------------------------------------\n",
      "Data : b'(\\xa2\\x80\\n'.\n",
      "Line no. 34, length : 4 and type : <class 'bytes'>.\n",
      "-----------------------------------------------------------------------------------------------------------------------------\n",
      "Data : b'(\\xa2\\x80\\n'.\n",
      "Line no. 35, length : 4 and type : <class 'bytes'>.\n",
      "-----------------------------------------------------------------------------------------------------------------------------\n",
      "Data : b'(\\xa2\\x80\\n'.\n",
      "Line no. 36, length : 884 and type : <class 'bytes'>.\n",
      "-----------------------------------------------------------------------------------------------------------------------------\n",
      "Data : b'(\\xa2\\x801\\xbf\\xe1.\\xd0\\xff\\x00\\xe8\\'\\xa5\\x7f\\xe0Dt\\x7f\\xc2]\\xa1\\xff\\x00\\xd0OJ\\xff\\x00\\xc0\\x88\\xeb\\xf8z\\xf0w\\xc3\\xd6\\xf1\\xc7\\x89\\xadt=3M\\xb5\\xbb\\xd5\\xb5o\\xf4{h3\\x1c>t\\x9f\\xc0\\x9b\\xdf\\xf8\\xe4\\xfb\\x9f\\xf5\\xd2\\xb5!\\xf8\\x03\\xe2\\t\\xbc\\x19\\xa5\\xeb\\x96\\xbe\\x10\\xd5\\xaft\\x1d`f\\x0b\\xfb}.I\\xa1\\xc3\\xce\\xf6\\xc8\\x8e\\xe9\\x1f\\xc8\\xef2lD\\xff\\x00X\\xfb\\xd3\\xfb\\xf1\\xd7w\\xf6x\\x1f\\xdb\\x87\\xfc%\\xba\\x1f\\xfd\\x04\\xf4\\xbf\\xfc\\x08\\x8f\\xfch\\xff\\x00\\x84\\xb7D\\xff\\x00\\xa0\\x96\\x97\\xff\\x00\\x81\\x11\\xff\\x00\\x8d\\x7f\\x14z\\x97\\xec\\x99\\xe3\\xdbQ\\xa7\\x9f\\xf8V\\xbe*?\\xda\\xd6\\xf2\\xdc\\xc3\\x04>\\x1f\\xb8\\x96hc\\x86_\"m\\xe8\\xb1\\xf9\\x8b\\xe5\\xc8S\\xef\\xff\\x00}?\\xbe\\x95\\xb5\\xa1\\xfe\\xc3>3\\xf1\\x17\\x82\\x9b\\xc4\\x9f\\xd8\\xba_\\x87\\xf4\\xab\\xeb\\xf8\\xb4\\x9b\\x1f\\xed\\xddB\\xdfC\\x9bV\\xb8\\xf2\\xa1\\x9fe\\xa47\\x1b\\x1eo\\xdd\\xcf\\x0b\\xfc\\x9f\\x7f\\xccM\\x9ee\\x1fP\\xfe\\xf8\\x1f\\xda\\x17\\xfc%\\xba\\x1f\\xfd\\x04\\xf4\\xbf\\xfc\\x08\\x8f\\xfch\\xff\\x00\\x84\\xb7C\\xff\\x00\\xa0\\x9e\\x99\\xff\\x00\\x81\\x11\\xff\\x00\\x8d\\x7f\\x16\\x1e1\\xfd\\x8a>\\'x\\x17\\xc47\\x1an\\xa5\\xf0\\xaf\\xc6\\xdfj]~_\\x0c\\x0f\\xb3\\xf8^\\xe2hou\\x14\\x91\\xd3\\xec\\xb0\\xcc\\x91\\xec\\x9a\\x7f\\x91\\xfeH\\xea}K\\xf6$\\xf1\\xe7\\x86\\x7f\\xb2\\xff\\x00\\xb7<\"\\xde\\x1e\\xfbe\\x84\\xba\\x87\\xda5x~\\xc7\\r\\x8e\\xd9/`6\\x97.\\xf1\\xfe\\xe6\\xeb}\\x85\\xd6\\xc8$\\xfd\\xe7\\xeek?\\xaa\\xff\\x00x\\x0f\\xed\\'\\xfe\\x12\\xdd\\x0f\\xfe\\x82\\x9a_\\xfe\\x04GG\\xfc%\\xda\\x1f\\xfd\\x04\\xf4\\xaf\\xfc\\x08\\x8e\\xbf\\x86\\x8f\\xec+_\\xf9\\xf5\\xb5\\xff\\x00\\xbf\\x14\\x7faZ\\xff\\x00\\xcf\\xad\\xaf\\xfd\\xf8\\xad?\\xb3\\xc0\\xfe\\xe5\\xff\\x00\\xe1.\\xd0\\xff\\x00\\xe8\\'\\xa5\\x7f\\xe0Dt\\x7f\\xc2]\\xa1\\xff\\x00\\xd0OJ\\xff\\x00\\xc0\\x88\\xeb\\xf8h\\xfe\\xc2\\xb5\\xff\\x00\\x9f[_\\xfb\\xf1G\\xf6\\x15\\xaf\\xfc\\xfa\\xda\\xff\\x00\\xdf\\x8a?\\xb3\\xc0\\xfe\\xe5\\xff\\x00\\xe1.\\xd0\\xff\\x00\\xe8\\'\\xa5\\x7f\\xe0Dt\\x7f\\xc2]\\xa1\\xff\\x00\\xd0OJ\\xff\\x00\\xc0\\x88\\xeb\\xf8h\\xfe\\xc2\\xb5\\xff\\x00\\x9f[_\\xfb\\xf1G\\xf6\\x15\\xaf\\xfc\\xfa\\xda\\xff\\x00\\xdf\\x8a?\\xb3\\xc0\\xfe\\xe5\\xff\\x00\\xe1.\\xd0\\xff\\x00\\xe8\\'\\xa5\\x7f\\xe0Dt\\x7f\\xc2]\\xa1\\xff\\x00\\xd0OJ\\xff\\x00\\xc0\\x88\\xeb\\xf8h\\xfe\\xc2\\xb5\\xff\\x00\\x9f[_\\xfb\\xf1G\\xf6\\x15\\xaf\\xfc\\xfa\\xda\\xff\\x00\\xdf\\x8a?\\xb3\\xc0\\xfe\\xe5\\xff\\x00\\xe1.\\xd0\\xff\\x00\\xe8\\'\\xa5\\x7f\\xe0Dt\\x7f\\xc2]\\xa1\\xff\\x00\\xd0OJ\\xff\\x00\\xc0\\x88\\xeb\\xf8h\\xfe\\xc2\\xb5\\xff\\x00\\x9f[_\\xfb\\xf1G\\xf6\\x15\\xaf\\xfc\\xfa\\xda\\xff\\x00\\xdf\\x8a?\\xb3\\xc0\\xfe\\xe5\\xff\\x00\\xe1.\\xd0\\xff\\x00\\xe8\\'\\xa5\\x7f\\xe0Dt\\x7f\\xc2]\\xa1\\xff\\x00\\xd0OJ\\xff\\x00\\xc0\\x88\\xeb\\xf8h\\xfe\\xc2\\xb5\\xff\\x00\\x9f[_\\xfb\\xf1G\\xf6\\x15\\xaf\\xfc\\xfa\\xda\\xff\\x00\\xdf\\x8a?\\xb3\\xc0\\xfe\\xe5\\xff\\x00\\xe1.\\xd0\\xff\\x00\\xe8\\'\\xa5\\x7f\\xe0Dt\\x7f\\xc2]\\xa1\\xff\\x00\\xd0OJ\\xff\\x00\\xc0\\x88\\xeb\\xf8h\\xfe\\xc2\\xb5\\xff\\x00\\x9f[_\\xfb\\xf1I\\xfd\\x93o\\xff\\x00>\\xb6\\xbf\\xf7\\xe2\\x8f\\xec\\xf0?\\xb9\\x8f\\xf8K\\xb4?\\xfa\\t\\xe9_\\xf8\\x11\\x1d\\x1f\\xf0\\x97h\\x7f\\xf4\\x13\\xd2\\xbf\\xf0\":\\xfe\\x1a?\\xb0\\xad\\x7f\\xe7\\xd6\\xd7\\xfe\\xfcT?\\xd9\\x9ao\\xfc\\xfbZ\\xff\\x00\\xdf\\x8a?\\xb3\\xc0\\xfe\\xe7\\x7f\\xe1.\\xd0\\xff\\x00\\xe8\\'\\xa5\\x7f\\xe0Dt\\x7f\\xc2]\\xa1\\xff\\x00\\xd0OJ\\xff\\x00\\xc0\\x88\\xeb\\xf8b\\xfe\\xcc\\xd3\\x7f\\xe7\\xda\\xd7\\xfe\\xfcT\\xdf\\xd8V\\xbf\\xf3\\xebk\\xff\\x00~)\\x7fg\\xb0?\\xb9\\x7f\\xf8Kt?\\xfa\\n'.\n",
      "Line no. 37, length : 555 and type : <class 'bytes'>.\n",
      "-----------------------------------------------------------------------------------------------------------------------------\n",
      "Data : b'i\\x7f\\xf8\\x11\\x1d\\x1f\\xf0\\x96\\xe8\\x7f\\xf4\\x14\\xd2\\xff\\x00\\xf0\":\\xfe\\x18\\xbf\\xb2t\\xef\\xf9\\xf5\\xb5\\xff\\x00\\xbf\\x14}\\x87K\\xff\\x00\\x9fk_\\xfc\\x87O\\xea2\\x03\\xfb\\x9d\\xff\\x00\\x84\\xb7C\\xff\\x00\\xa0\\xa6\\x97\\xff\\x00\\x81\\x11\\xd1_\\xc3G\\xf6\\x15\\xaf\\xfc\\xfa\\xda\\xff\\x00\\xdf\\x8a)\\x7fg\\xb0/h\\xba\\xed\\xc7\\x86uK]SM\\xba\\xfb.\\xa9\\xa4\\\\E\\xa8X\\xcf\\x9f\\xf5\\x17\\t&\\xf4\\x7f\\xfb\\xed+\\xdfn\\xbf\\xe0\\xa1Z\\xe7\\xf6\\x97\\xda\\xad|3\\xa0\\xe9?c\\xb8\\xff\\x00\\x89M\\xbd\\xbf\\xfa\\x9b\\x1d9\\xfe\\xcc\\x8fb\\xff\\x00\\xba\\xf3\\xdd6[\\'\\xcf\\x1c\\x90~\\xf1\\xdeO\\xde~\\xef\\xcb\\xf9\\xe2\\x8a\\xf5\\xcc\\xcf]\\xf0\\xcf\\xed?\\xa6\\xf8[\\xc3\\xban\\x87k\\xe0U\\xfe\\xc9\\xf0\\xed\\xf5\\xb5\\xfe\\x93\\xf6\\x8dI\\xfe\\xd9\\x04\\x96\\xd7\\x13][y\\xd3$Q\\xf9\\xc9\\x1c\\xf7\\x97\\xdebyq\\xf9\\x91\\xdd\\'\\xfa\\xbf\"9+\\xb1\\xf8k\\xff\\x00\\x05\\x0f\\xd7>\\x18\\xea~8\\xd4\\xf4\\xdd\\x0f:\\xff\\x00\\x8e|\\xcf\\xb4O6\\xbby\\xfd\\x93\\xf3\\xdb\\xa5\\xaf\\xef\\xb4\\xa4\\x91 \\xbcx\\xfew\\x81\\xe4\\xff\\x00W#\\xf9\\x9f\\xbc\\xf2\\xe3\\xaf\\x9ch\\xac\\xfd\\x9a\\x03\\xebi\\x7f\\xe0\\xad\\x1a\\xe2j\\x1a\\x95\\xd5\\xb7\\xc3?\\x0b\\xda\\xddx\\x8a\\x0b\\x9d\\x03U\\xff\\x00\\x89\\xae\\xa1\\x89\\xb4+\\x9b\\xcb\\xcb\\xd9\\xb4\\xe4\\t\"y/\\xe7_\\xdd\\x7f\\xa5G\\xfb\\xc8\\xe3\\xf2\\xff\\x00\\xe5\\xa7\\x99$\\x9eo\\xf1\\xe7\\xf6\\xc6\\xff\\x00\\x85\\xef\\xf0\\x0b\\xc0\\xff\\x00\\r[\\xc2:^\\x93\\xa1\\xfc0\\xfbQ\\xf0\\xa1\\x82\\xfaI\\xaf4\\xb8\\xee\\xaf.\\xa7\\xb9\\x81\\xdd\\xff\\x00\\xd7$\\x9eu\\xaf\\xfa\\xcf\\xf5\\x7f\\xd9\\xe9\\xe5\\xfd\\xf9#\\xaf\\x11\\xa2\\x97\\xd5\\xe2\\x01E\\x14V\\xa6<\\xc1E\\x14P\\x1c\\xc1E\\x14P\\x1c\\xc1E\\x14P\\x1c\\xc1E\\x14P\\x1c\\xc1E\\x14P\\x1c\\xcc+\\xd1>\\x06~\\xd0\\xba\\x97\\xc0\\xdf\\xedO\\xb3h~\\x1f\\xf1\\x05\\xae\\xaf=\\x8d\\xc4\\xf6\\xfa\\xbd\\x8f\\x9d\\x0f\\xeedw\\xf9\\x13\\xfe\\x9aF\\xf3\\xc1\\'\\xfd3\\x99\\xeb\\xce\\xe8\\xa0\\xd8\\xf7\\x0b?\\xdbK\\xfb3\\xfeiO\\xc2\\xbb\\xcf\\xf4\\x7f\\xf8\\xf7\\xb8\\xd0\\xe3\\xf2|\\xc7\\xf2w\\xbe\\xcf\\xfbb\\x9f\\xf6\\xd1\\xe7\\xff\\x00\\x9e\\x9e]Ky\\xfbs\\xddjzn\\x99k\\xa9\\xfc=\\xf8k\\xe2\\x1b\\xad\"\\xc2->\\x0b\\x8d_J\\xfbg\\x9f\\x1aG\\n'.\n",
      "Line no. 38, length : 251 and type : <class 'bytes'>.\n",
      "-----------------------------------------------------------------------------------------------------------------------------\n",
      "Data : b'|\\xff\\x00\\xbc\\xfb\\x9f\\xb9\\x8f\\xe4\\x8f\\xcb\\xf2\\xff\\x00\\xef\\xe7\\x99\\xe1TT\\xf2 =\\xa2\\xf3\\xf6\\xbe\\xfe\\xd3\\xf1\\x1f\\xf6\\x95\\xd7\\xc3\\xdf\\x00]]}\\x82\\xdbO\\xff\\x00H\\xb1\\xff\\x00\\x96v\\xdfq\\xff\\x00\\xdf\\xd9\\xf2H\\xff\\x00\\xf2\\xd3\\xc8\\x83\\xfey\\xfe\\xf2\\xec\\xbf\\xb7\\x05\\xd7\\xf6\\x95\\xad\\xd6\\x9b\\xf0\\xf7\\xe1\\xaf\\x87n\\xac\\xee,n \\xfe\\xc8\\xd2\\xbf\\xb3\\xbc\\x8f&H]\\xd1\\x1d?y\\xb2G\\x87\\xfeZy\\x9f~\\xbc*\\x8a9P\\x1fF^\\x7f\\xc1K|s\\xa9\\xf8\\x93M\\xd4\\xff\\x00\\xb3<?i\\xf6?+\\xcf\\xb7\\xb7\\xfbg\\x93?\\x93\\x1c\\xc8\\x88\\xff\\x00\\xbc\\xf36|\\xe8\\xfb?\\xe7\\xa2y\\x9f\\xeb*?\\x13\\xff\\x00\\xc1F|]\\xe2O\\x0e\\xeaZm\\xdf\\x86|\\x17yg\\xab\\xc1}\\x91<7\\x12\\xcd\\x0f\\xdbt\\xf9\\xb4\\xf7x_\\xcc\\xde\\x9f\\xbb\\x9a\\x7f\\xe3\\xff\\x00W\\xb2?\\xf9g_;\\xd1Z{\\x18\\x81\\xd2|c\\xf8\\x9du\\xf1\\x83\\xe2F\\xa5\\xe2mR\\xda\\xd6\\xd6\\xebV\\xf2\\xbc\\xebx?\\xd4\\xfc\\x96\\xe9\\n'.\n",
      "Line no. 39, length : 20 and type : <class 'bytes'>.\n",
      "-----------------------------------------------------------------------------------------------------------------------------\n",
      "Data : b'}\\xff\\x00\\xf6\\x13\\xff\\x00\\xdd\\xff\\x00\\xab\\xa2\\xb9\\xba*Ly\\x8f\\xff\\xd9'.\n"
     ]
    }
   ],
   "source": [
    "with open('watermelon32x32.jpg', 'rb+') as img_f:\n",
    "    data = img_f.readlines()\n",
    "    for x in range(len(data)):\n",
    "        print(f'Line no. {x}, length : {len(data[x])} and type : {type(data[x])}.')\n",
    "        print('-'*125)\n",
    "        print(f'Data : {data[x]}.')"
   ]
  },
  {
   "cell_type": "code",
   "execution_count": 159,
   "id": "3388e215",
   "metadata": {},
   "outputs": [],
   "source": [
    "with open('watermelon32x32.jpg', 'rb+') as img_f, open('watermelon_rev.png', 'wb+') as img_rev:\n",
    "    data = img_f.readlines()\n",
    "    data[16]= bytes([2,17,252,42,83,49])\n",
    "    img_rev.writelines(data)\n",
    "    "
   ]
  },
  {
   "cell_type": "code",
   "execution_count": null,
   "id": "29ff9981",
   "metadata": {},
   "outputs": [],
   "source": [
    "with open('watermelon32x32.jpg', 'rb+') as img_f, open('watermelon_rev2.jpg', 'wb+') as img_rev2:\n",
    "    data = img_f.readlines()\n",
    "    data[19] = bytes([5])\n",
    "    img_rev2.writelines(data)"
   ]
  },
  {
   "cell_type": "code",
   "execution_count": null,
   "id": "80b31d87",
   "metadata": {},
   "outputs": [],
   "source": [
    "display.Image('watermelon_rev.jpg', 'r+')"
   ]
  },
  {
   "cell_type": "code",
   "execution_count": null,
   "id": "72fad6bb",
   "metadata": {},
   "outputs": [],
   "source": [
    "display.Image('watermelon_rev2.jpg')"
   ]
  },
  {
   "cell_type": "code",
   "execution_count": null,
   "id": "f0e3ebf8",
   "metadata": {},
   "outputs": [],
   "source": [
    "with open('text_bin.bin', 'wb+') as f:\n",
    "    f.write(bytes('Python', encoding = 'utf-8'))"
   ]
  },
  {
   "cell_type": "code",
   "execution_count": null,
   "id": "c9b32fad",
   "metadata": {},
   "outputs": [],
   "source": [
    "with open('text_bin.bin', 'rb') as f:\n",
    "    data = bytearray(f.read())\n",
    "    for x in range(len(data)):\n",
    "        print('Python'[x],' ', data[x])\n",
    "    data[2] = 84\n",
    "\n",
    "print(data)\n",
    "\n",
    "print(ord('T'))"
   ]
  },
  {
   "cell_type": "code",
   "execution_count": null,
   "id": "030920d2",
   "metadata": {},
   "outputs": [],
   "source": [
    "with open('text_bin_rev.bin', 'wb+') as f:\n",
    "    f.write(data)"
   ]
  },
  {
   "cell_type": "code",
   "execution_count": null,
   "id": "f802c754",
   "metadata": {},
   "outputs": [],
   "source": [
    "with open('text_bin2.bin', 'wb+') as tf:\n",
    "    tf.write(bytearray('Core Python is almost complete', encoding = 'UTF8'))\n",
    "    "
   ]
  },
  {
   "cell_type": "code",
   "execution_count": null,
   "id": "6f92c207",
   "metadata": {},
   "outputs": [],
   "source": [
    "with open('text_bin2.bin', 'rb+') as tf:\n",
    "    for x in tf:\n",
    "        print(x)"
   ]
  },
  {
   "cell_type": "code",
   "execution_count": null,
   "id": "8636fc63",
   "metadata": {},
   "outputs": [],
   "source": [
    "with open('text_bin2.bin', 'rb') as tf:\n",
    "    data = tf.readlines()\n",
    "    print(len(data))\n",
    "    print(data)\n",
    "    print(type(data[0]))\n",
    "    print(data[0])\n",
    "    data.append(bytearray('O', encoding = 'UTF8'))\n",
    "    with open('text_bin2.bin', 'rb+') as tf2:\n",
    "        tf2.writelines(data)\n",
    "    print(data[1])"
   ]
  },
  {
   "cell_type": "code",
   "execution_count": null,
   "id": "5b2f2d95",
   "metadata": {},
   "outputs": [],
   "source": [
    "with open('text_bin3.bin', 'wb+') as tf:\n",
    "    str1 = 'Core Python is almost done\\n'\n",
    "    str2 = 'Cool\\n'\n",
    "    data = [str1, str2]\n",
    "    data2 = []\n",
    "    for x in data:\n",
    "        data2.append(bytes(x, encoding='UTF8'))\n",
    "    tf.writelines(data2)"
   ]
  },
  {
   "cell_type": "code",
   "execution_count": null,
   "id": "27786f40",
   "metadata": {},
   "outputs": [],
   "source": [
    "with open('text_bin3.bin', 'rb+') as tf:\n",
    "    for x in tf:\n",
    "        print(x)"
   ]
  },
  {
   "cell_type": "code",
   "execution_count": null,
   "id": "b0b90e07",
   "metadata": {},
   "outputs": [],
   "source": [
    "with open('text_bin2.bin', 'rb') as tf:\n",
    "    for x in tf:\n",
    "        print(x)"
   ]
  },
  {
   "cell_type": "code",
   "execution_count": null,
   "id": "345b9def",
   "metadata": {},
   "outputs": [],
   "source": [
    "with open('text_bin_rev.bin', 'a+') as f:\n",
    "    f.seek(0)\n",
    "    print(f.read())"
   ]
  },
  {
   "cell_type": "code",
   "execution_count": null,
   "id": "e15ba4e1",
   "metadata": {},
   "outputs": [],
   "source": [
    "with open('animal_jokes.txt', 'r') as f:\n",
    "    data = f.read(20)\n",
    "    with open('animal_jokes.txt', 'wb+') as f2:\n",
    "        for x in data:\n",
    "            f2.write(bytes(x), encoding = 'UTF8')"
   ]
  },
  {
   "cell_type": "code",
   "execution_count": null,
   "id": "3a101dd1",
   "metadata": {},
   "outputs": [],
   "source": [
    "f = open('my_file', 'w+b')\n",
    "byte_arr = [120, 3, 255, 0, 100]\n",
    "binary_format = bytearray(byte_arr)\n",
    "f.write(binary_format)\n",
    "f.close()"
   ]
  },
  {
   "cell_type": "code",
   "execution_count": null,
   "id": "38c76ef8",
   "metadata": {},
   "outputs": [],
   "source": [
    "f = open('my_file', 'r')"
   ]
  },
  {
   "cell_type": "code",
   "execution_count": null,
   "id": "64aad4ce",
   "metadata": {},
   "outputs": [],
   "source": [
    "data = [100,24,255]\n",
    "buffer = bytes(data)\n",
    "print(buffer)\n",
    "f = open(\"binary.txt\", \"bw\")\n",
    "f.write(buffer)\n",
    "f.close()"
   ]
  },
  {
   "cell_type": "code",
   "execution_count": null,
   "id": "ff6b521c",
   "metadata": {},
   "outputs": [],
   "source": [
    "f = open(\"binary.txt\", \"br\")\n",
    "binary = f.read()\n",
    "print(binary)\n",
    "data = list(binary)\n",
    "print(data)\n",
    "f.close()"
   ]
  },
  {
   "cell_type": "code",
   "execution_count": null,
   "id": "886287a1",
   "metadata": {},
   "outputs": [],
   "source": [
    "# Pickling / Unpickling. "
   ]
  },
  {
   "cell_type": "code",
   "execution_count": 160,
   "id": "f6a078e6",
   "metadata": {},
   "outputs": [],
   "source": [
    "# The Python pickle module allows one to save the state of Python objects in a file and re-builds them on load. Therefore,\n",
    "# user-built classes and objects can be preserved and transferred for re-initialising one the an interpreter is run again. \n",
    "\n",
    "\n",
    "ex_dict = {'a':20, 'b': 30, 'c':40}\n",
    "    \n",
    "# To save the above dictionary to a file, one would have to convert everything including the curly braces to a string and\n",
    "# then while opening - re-convert the key, value pairs into a dictionary.\n",
    "\n",
    "# Pickle makes it simple."
   ]
  },
  {
   "cell_type": "code",
   "execution_count": 161,
   "id": "dc9aab60",
   "metadata": {},
   "outputs": [],
   "source": [
    "import pickle\n",
    "\n",
    "with open('dict_file.txt','wb') as f:\n",
    "    pickle.dump(ex_dict, f)"
   ]
  },
  {
   "cell_type": "code",
   "execution_count": 162,
   "id": "e2695859",
   "metadata": {},
   "outputs": [],
   "source": [
    "with open('dict_file.txt','rb') as f:\n",
    "    ex_dict2 = pickle.load(f)"
   ]
  },
  {
   "cell_type": "code",
   "execution_count": 163,
   "id": "8030af61",
   "metadata": {},
   "outputs": [
    {
     "name": "stdout",
     "output_type": "stream",
     "text": [
      "{'a': 20, 'b': 30, 'c': 40}\n",
      "<class 'dict'>\n"
     ]
    }
   ],
   "source": [
    "print(ex_dict2)\n",
    "print(type(ex_dict2))"
   ]
  },
  {
   "cell_type": "code",
   "execution_count": null,
   "id": "ffce2f39",
   "metadata": {},
   "outputs": [],
   "source": [
    "# It can be used with lists, sets, dictionaries, JSON files and any user defined classes and objects."
   ]
  }
 ],
 "metadata": {
  "kernelspec": {
   "display_name": "Python 3",
   "language": "python",
   "name": "python3"
  },
  "language_info": {
   "codemirror_mode": {
    "name": "ipython",
    "version": 3
   },
   "file_extension": ".py",
   "mimetype": "text/x-python",
   "name": "python",
   "nbconvert_exporter": "python",
   "pygments_lexer": "ipython3",
   "version": "3.8.5"
  }
 },
 "nbformat": 4,
 "nbformat_minor": 5
}
