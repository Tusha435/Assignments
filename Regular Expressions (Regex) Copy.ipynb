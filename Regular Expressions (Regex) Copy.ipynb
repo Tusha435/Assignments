{
 "cells": [
  {
   "cell_type": "markdown",
   "id": "fedbfc2b",
   "metadata": {},
   "source": [
    "### Regex - Regular Expressions"
   ]
  },
  {
   "cell_type": "code",
   "execution_count": null,
   "id": "bc19bb76",
   "metadata": {},
   "outputs": [],
   "source": [
    "# Many times, we need to extract required information from given text data. For example, we want to know the number of\n",
    "# people who contacted us in the last month through Gmail or we want to know the phone numbers of employees in a company \n",
    "# whose names start with 'A' or we want to retrieve the date of births of the patients in a hospital who joined for\n",
    "# treatment for hypertension, etc. To get such information, we have to conduct a searching operation on the text data. Once\n",
    "# the required information is found, we may have to perform further operations on such data. Regular expressions are useful\n",
    "# to perform such operations on data."
   ]
  },
  {
   "cell_type": "code",
   "execution_count": null,
   "id": "4dc47361",
   "metadata": {},
   "outputs": [],
   "source": [
    "# Regular Expressions\n",
    "# A regular expression is a string that contains special symbols and characters to find and extract the information needed\n",
    "# by us from the given data. \n",
    "\n",
    "# Where a string method in Python to search for a substring in a string would look like this:\n",
    "\n",
    "input_str = 'Betty bought some butter but the butter was bitter so Betty bought some better butter to make\\\n",
    "the bitter butter better'\n",
    "\n",
    "sub_str = 'b'\n",
    "\n",
    "input_str.find(sub_str)"
   ]
  },
  {
   "cell_type": "code",
   "execution_count": null,
   "id": "df03acf7",
   "metadata": {},
   "outputs": [],
   "source": [
    "import re\n",
    "\n",
    "sub_re = 'b'\n",
    "\n",
    "result = re.findall(sub_re, input_str)\n",
    "print(result)"
   ]
  },
  {
   "cell_type": "code",
   "execution_count": null,
   "id": "f9427236",
   "metadata": {},
   "outputs": [],
   "source": [
    "print(len(result))\n",
    "\n",
    "# We can use the findall method of the re module to look for all the occurrences of 'b'. "
   ]
  },
  {
   "cell_type": "code",
   "execution_count": null,
   "id": "361a0997",
   "metadata": {},
   "outputs": [],
   "source": [
    "# However, if we wanted to find out all the occurrences of b - whether small or capital, we would have to do some\n",
    "# manipulations to get the desired result. Regex gives us tools to handle these queries and operations in a much simpler\n",
    "# manner. \n",
    "\n",
    "input_str = 'Betty bought some butter but the butter was bitter so Betty bought some better butter to make\\\n",
    "the bitter butter better'\n",
    "\n",
    "sub_re = '[bB]e\\w+'\n",
    "result = re.findall(sub_re, input_str)\n",
    "print(result)\n",
    "print(len(result))\n"
   ]
  },
  {
   "cell_type": "code",
   "execution_count": null,
   "id": "196dbe8d",
   "metadata": {},
   "outputs": [],
   "source": [
    "# Note here how the capital B was also returned in the result. We shall see the other available methods in regex module \n",
    "# shortly."
   ]
  },
  {
   "cell_type": "code",
   "execution_count": null,
   "id": "e01441d3",
   "metadata": {},
   "outputs": [],
   "source": [
    "# A regular expression helps us to search match, find and split based on specified patterns as per\n",
    "# our requirements. A regular expression is also called simply regex. Regular expressions are available in many languages\n",
    "# besides Python. \n",
    "\n",
    "\n",
    "# Python provides re module that stands for regular expressions. This module contains methods\n",
    "# like compile(), search(), match(), findall(), split(), etc. which are used in finding the information in\n",
    "# the available data. So, when we write a regular expression, we should import re module as:\n",
    "\n",
    "import re"
   ]
  },
  {
   "cell_type": "markdown",
   "id": "6072474c",
   "metadata": {},
   "source": [
    "#### The re module has several methods to help us write regex. \n",
    "\n",
    "search - returns a match object if the substring is matched in the string to be searched. It returns only the first\n",
    "occurrence of the match.\n",
    "\n",
    "findall - returns a list containing all matches\n",
    "\n",
    "split - returns a list where string has been split at each pattern match. \n",
    "\n",
    "sub - replaces one or many pattern matches with a specified string. \n",
    "\n",
    "As well as other methods which we shall see in a bit."
   ]
  },
  {
   "cell_type": "code",
   "execution_count": null,
   "id": "7d63a7ff",
   "metadata": {},
   "outputs": [],
   "source": [
    "# While going forward - it is important to remember that the RegEx module works character by character from left to right \n",
    "# i.e. continues matching the pattern and keeps going on as long as the conditions for matching are continuing to be\n",
    "# satisfied (or not satisfied depending on how the regex pattern is written). You shall see examples of this later in the\n",
    "# class."
   ]
  },
  {
   "cell_type": "code",
   "execution_count": null,
   "id": "743e2735",
   "metadata": {},
   "outputs": [],
   "source": [
    "# List of special sequences. A special sequence is a \\ followed by one of the characters from list below and each special\n",
    "# sequence has a special meaning.\n",
    "\n",
    "# Special Sequence             Description\n",
    "# \\A                           Matches if the string begins with the given pattern\n",
    "\n",
    "# \\b                           Matches if the word begins or ends with the given character.(\\b before pattern to check if it\n",
    "#                              begins with the pattern and \\b after pattern to see if it ends with the specified pattern).\n",
    "# \\B                           It is the opposite of the \\b i.e. the word should not start or end with the given regex.\n",
    "# \\d                           Matches any decimal digit, this is equivalent to the set class [0-9]\n",
    "# \\D                           Matches any non-digit character, this is equivalent to the set class [^0-9]\n",
    "# \\s                           Matches any whitespace character.\n",
    "# \\S                           Matches any non-whitespace character\n",
    "# \\w                           Matches any alphanumeric character, this is equivalent to the class [a-zA-Z0-9_].\n",
    "# \\W                           Matches any non-alphanumeric character.\n",
    "# \\Z                           Matches if the string ends with the given regex"
   ]
  },
  {
   "cell_type": "code",
   "execution_count": 52,
   "id": "06909fa7",
   "metadata": {},
   "outputs": [],
   "source": [
    "import re\n",
    "\n",
    "input_str = 'Betty b0u6ht some butt3r but the butt3r w@s b!tt3r s0 Betty b0u6ht s0me Bett3r butt3r to m@k3 the b!tt3r\\\n",
    "butt3r b3tt3r.'"
   ]
  },
  {
   "cell_type": "code",
   "execution_count": 57,
   "id": "24618626",
   "metadata": {},
   "outputs": [
    {
     "name": "stdout",
     "output_type": "stream",
     "text": [
      "Betty b0u6ht some butter but the butter w@s b!tter s0 Betty b0u6ht s0me Bett3r butt3r to m@k3 the b!tt3rbutt3r b3tt3r.\n"
     ]
    }
   ],
   "source": [
    "sub_str = r't3r'\n",
    "\n",
    "result = re.sub(sub_str, 'ter', input_str, count=3)\n",
    "\n",
    "print(result)"
   ]
  },
  {
   "cell_type": "code",
   "execution_count": null,
   "id": "4ea15a49",
   "metadata": {},
   "outputs": [],
   "source": [
    "print(input_str)"
   ]
  },
  {
   "cell_type": "code",
   "execution_count": null,
   "id": "1317b24c",
   "metadata": {},
   "outputs": [],
   "source": [
    "sub_str = r'\\bb\\w+'\n",
    "\n",
    "result = re.findall(sub_str, input_str)\n",
    "print(result)\n",
    "\n",
    "# The findall function takes the two parameters, substring and the string to be searched. It returns the matches in a list \n",
    "# in the order they are found. If no matches are found, it returns an empty list."
   ]
  },
  {
   "cell_type": "code",
   "execution_count": null,
   "id": "3ebc1384",
   "metadata": {},
   "outputs": [],
   "source": [
    "sub_str = r'b\\w+'\n",
    "\n",
    "result = re.findall(sub_str, input_str)\n",
    "print(result)"
   ]
  },
  {
   "cell_type": "code",
   "execution_count": null,
   "id": "aea47e73",
   "metadata": {},
   "outputs": [],
   "source": [
    "#\\A Returns a match if the specified characters are at the beginning of the string(NOT words but the whole string)\n",
    "sub_str = r'\\w+'\n",
    "\n",
    "print(re.findall(sub_str, input_str))"
   ]
  },
  {
   "cell_type": "code",
   "execution_count": null,
   "id": "1878c905",
   "metadata": {},
   "outputs": [],
   "source": [
    "sub_str = r'\\bb\\w+'\n",
    "\n",
    "print(type(sub_str))\n",
    "\n",
    "result = re.findall(sub_str, input_str)\n",
    "      \n",
    "print(result)"
   ]
  },
  {
   "cell_type": "code",
   "execution_count": null,
   "id": "31a6ed4a",
   "metadata": {},
   "outputs": [],
   "source": [
    "print(input_str)\n",
    "print(sub_str)"
   ]
  },
  {
   "cell_type": "code",
   "execution_count": null,
   "id": "ac854317",
   "metadata": {},
   "outputs": [],
   "source": [
    "result = re.search(sub_str, input_str)\n",
    "\n",
    "print(result)\n",
    "\n",
    "print(dir(result))"
   ]
  },
  {
   "cell_type": "code",
   "execution_count": null,
   "id": "c769489a",
   "metadata": {},
   "outputs": [],
   "source": [
    "for i in result:\n",
    "    print(i.span())"
   ]
  },
  {
   "cell_type": "code",
   "execution_count": null,
   "id": "daf6d460",
   "metadata": {},
   "outputs": [],
   "source": [
    "# Note here how we started using r denoting (raw-string) before the regex? This is because in Regex \\ is used in front of\n",
    "# many shorthand notations while \\ is also an escape character in Python. To avoid conflict, we always put regular\n",
    "# expressions to be searched in r format. "
   ]
  },
  {
   "cell_type": "code",
   "execution_count": null,
   "id": "444f568d",
   "metadata": {},
   "outputs": [],
   "source": [
    "input_str = 'betty b0u6ht some butt3r but the butt3r w@s b!tt3r s0 Betty b0u6ht s0me bett3r butt3r to m@k3 the b!tt3r\\\n",
    "butt3r b3tt3r.'\n",
    "\n",
    "\n",
    "\n",
    "sub_str = '\\bbu\\w+'\n",
    "\n",
    "result = re.search(sub_str, input_str)\n",
    "\n",
    "print(result)\n",
    "#print(result.group())\n",
    "\n",
    "#Note the result when not putting the r rawstring"
   ]
  },
  {
   "cell_type": "code",
   "execution_count": null,
   "id": "d5c6a846",
   "metadata": {},
   "outputs": [],
   "source": [
    "#Workaround\n",
    "\n",
    "sub_str = '\\\\bbu\\\\w+'\n",
    "\n",
    "result = re.search(sub_str, input_str)\n",
    "\n",
    "print(result)\n",
    "print(result.group())"
   ]
  },
  {
   "cell_type": "code",
   "execution_count": null,
   "id": "c87492b8",
   "metadata": {},
   "outputs": [],
   "source": [
    "#Easiest way\n",
    "\n",
    "sub_str = r'\\bbu\\w+'\n",
    "\n",
    "result = re.search(sub_str, input_str)\n",
    "\n",
    "print(result)\n",
    "print(result.group())"
   ]
  },
  {
   "cell_type": "code",
   "execution_count": null,
   "id": "8a9c9f0f",
   "metadata": {},
   "outputs": [],
   "source": [
    "print(input_str)"
   ]
  },
  {
   "cell_type": "code",
   "execution_count": null,
   "id": "f5b380b0",
   "metadata": {},
   "outputs": [],
   "source": [
    "result = re.finditer(sub_str, input_str)\n",
    "\n",
    "print(result)"
   ]
  },
  {
   "cell_type": "code",
   "execution_count": null,
   "id": "e3b27b43",
   "metadata": {},
   "outputs": [],
   "source": [
    "for x in result:\n",
    "    print(x.group(), x.span())"
   ]
  },
  {
   "cell_type": "code",
   "execution_count": 39,
   "id": "0373f9e4",
   "metadata": {},
   "outputs": [
    {
     "name": "stdout",
     "output_type": "stream",
     "text": [
      "['3tty', '0u6ht', '3r', '3r', '3r', '0u6ht', '0me', '3tt3r', '3r', '3r', '3r', '3tt3r']\n"
     ]
    }
   ],
   "source": [
    "#\\b Returns a match if the specificed characters are at the beginning or end of a word. \n",
    "\n",
    "\n",
    "input_str = 'B3tty 3b0u6ht 5ome butt3r but the butt3r w@s bitt3r s0 Betty b0u6ht s0me b3tt3r butt3r to m@k3 the bitt3r \\\n",
    "butt3r b3tt3r'\n",
    "\n",
    "sub_str = r'\\B\\d\\w+'\n",
    "\n",
    "result = re.findall(sub_str, input_str)\n",
    "print(result)"
   ]
  },
  {
   "cell_type": "code",
   "execution_count": null,
   "id": "85945e88",
   "metadata": {},
   "outputs": [],
   "source": [
    "result = re.findall(sub_str, input_str)\n",
    "print(result)"
   ]
  },
  {
   "cell_type": "code",
   "execution_count": 23,
   "id": "5b9e3863",
   "metadata": {},
   "outputs": [
    {
     "name": "stdout",
     "output_type": "stream",
     "text": [
      "B3tty b0u6ht some butt3r but the butt3r w@s b!tt3r s0 Betty b0u6ht s0me b3tt3r butt3r to m@k3 the b!tt3rbutt3r b3tt3r.\n",
      "['B3tty', 'b0u6ht', 'butt3r', 'but', 'butt3r', 'tt3r', 'Betty', 'b0u6ht', 'b3tt3r', 'butt3r', 'tt3rbutt3r', 'b3tt3r']\n"
     ]
    }
   ],
   "source": [
    "import re\n",
    "\n",
    "input_str = 'B3tty b0u6ht some butt3r but the butt3r w@s b!tt3r s0 Betty b0u6ht s0me b3tt3r butt3r to m@k3 the b!tt3r\\\n",
    "butt3r b3tt3r.'\n",
    "\n",
    "print(input_str)\n",
    "\n",
    "sub_str = r'\\b\\w+t\\w*'\n",
    "\n",
    "result = re.findall(sub_str, input_str)\n",
    "print(result)"
   ]
  },
  {
   "cell_type": "code",
   "execution_count": 16,
   "id": "3e898ecf",
   "metadata": {},
   "outputs": [
    {
     "name": "stdout",
     "output_type": "stream",
     "text": [
      "['the', 'tt3r', 'to', 'the', 'tt3rbutt3r']\n"
     ]
    }
   ],
   "source": [
    "sub_str = r'\\bt\\w+'\n",
    "\n",
    "result = re.findall(sub_str, input_str)\n",
    "print(result)"
   ]
  },
  {
   "cell_type": "code",
   "execution_count": null,
   "id": "6a7d71b3",
   "metadata": {},
   "outputs": [],
   "source": [
    "print(input_str.index('the'))"
   ]
  },
  {
   "cell_type": "code",
   "execution_count": 24,
   "id": "fce6697d",
   "metadata": {},
   "outputs": [
    {
     "name": "stdout",
     "output_type": "stream",
     "text": [
      "<re.Match object; span=(6, 12), match='b0u6ht'>\n"
     ]
    }
   ],
   "source": [
    "input_str = 'B3tty b0u6ht some butt3r but the butt3r w@s b!tt3r s0 Betty b0u6ht s0me b3tt3r butt3r to m@k3 the b!tt3r\\\n",
    "butt3r b3tt3r.'\n",
    "\n",
    "sub_str = r'\\bb0u6\\w*'\n",
    "\n",
    "result = re.search(sub_str, input_str)\n",
    "print(result)"
   ]
  },
  {
   "cell_type": "code",
   "execution_count": null,
   "id": "392dd6c9",
   "metadata": {},
   "outputs": [],
   "source": [
    "print(input_str.index('b0u6'))"
   ]
  },
  {
   "cell_type": "code",
   "execution_count": null,
   "id": "c20e5bb6",
   "metadata": {},
   "outputs": [],
   "source": [
    "print(result.group())"
   ]
  },
  {
   "cell_type": "code",
   "execution_count": null,
   "id": "6f8eee89",
   "metadata": {},
   "outputs": [],
   "source": [
    "print(result.span())"
   ]
  },
  {
   "cell_type": "code",
   "execution_count": null,
   "id": "d6d98a29",
   "metadata": {},
   "outputs": [],
   "source": [
    "print(result.start())"
   ]
  },
  {
   "cell_type": "code",
   "execution_count": null,
   "id": "c5853ba6",
   "metadata": {},
   "outputs": [],
   "source": [
    "print(result.end())"
   ]
  },
  {
   "cell_type": "code",
   "execution_count": 25,
   "id": "22631f1a",
   "metadata": {},
   "outputs": [
    {
     "name": "stdout",
     "output_type": "stream",
     "text": [
      "B3tty b0u6ht some butt3r but the butt3r w@s b!tt3r s0 Betty b0u6ht s0me b3tt3r butt3r to m@k3 the b!tt3rbutt3r b3tt3r.\n"
     ]
    }
   ],
   "source": [
    "print(result.string)"
   ]
  },
  {
   "cell_type": "code",
   "execution_count": null,
   "id": "30afd085",
   "metadata": {},
   "outputs": [],
   "source": [
    "result = re.finditer(sub_str, input_str)\n",
    "\n",
    "print(result)"
   ]
  },
  {
   "cell_type": "code",
   "execution_count": null,
   "id": "c0b677b2",
   "metadata": {},
   "outputs": [],
   "source": [
    "for x in result:\n",
    "    print(x.span(), x.group())"
   ]
  },
  {
   "cell_type": "code",
   "execution_count": null,
   "id": "95282688",
   "metadata": {},
   "outputs": [],
   "source": [
    "print(f'Found match {result.group()} beginning at {result.start()} and ending at {result.end()} and span is {result.span()}.')"
   ]
  },
  {
   "cell_type": "code",
   "execution_count": null,
   "id": "8d6f36bb",
   "metadata": {},
   "outputs": [],
   "source": [
    "# The match object returned from the search function has the following methods to retrieve the information:\n",
    "\n",
    "# .span() - returns the beginning and end index numbers of the matched string in a tuple. \n",
    "# .string - returns the string passed into the function to be searched. \n",
    "# .group() - returns the part of the string where there was a match. \n",
    "# .start() - returns the start index\n",
    "# .end() - returns the end index"
   ]
  },
  {
   "cell_type": "code",
   "execution_count": null,
   "id": "dc8d6ed0",
   "metadata": {},
   "outputs": [],
   "source": [
    "print(result.span())"
   ]
  },
  {
   "cell_type": "code",
   "execution_count": null,
   "id": "78f0b8c2",
   "metadata": {},
   "outputs": [],
   "source": [
    "print(result.start())"
   ]
  },
  {
   "cell_type": "code",
   "execution_count": null,
   "id": "29474a30",
   "metadata": {},
   "outputs": [],
   "source": [
    "print(result.end())"
   ]
  },
  {
   "cell_type": "code",
   "execution_count": null,
   "id": "4fd59c0e",
   "metadata": {},
   "outputs": [],
   "source": [
    "print(result.string)"
   ]
  },
  {
   "cell_type": "code",
   "execution_count": null,
   "id": "c61701ed",
   "metadata": {},
   "outputs": [],
   "source": [
    "print(result.group())"
   ]
  },
  {
   "cell_type": "code",
   "execution_count": 26,
   "id": "bdab5490",
   "metadata": {},
   "outputs": [
    {
     "name": "stdout",
     "output_type": "stream",
     "text": [
      "<callable_iterator object at 0x00000222EACC0640>\n"
     ]
    }
   ],
   "source": [
    "#Finding all match objects for a pattern using finditer\n",
    "\n",
    "input_str = 'B3tty b0u6ht some butt3r but the butt3r w@s b!tt3r s0 Betty b0u6ht s0me b3tt3r butt3r to m@k3 the b!tt3r\\\n",
    "butt3r b3tt3r.'\n",
    "\n",
    "sub_str = 'but\\w+'\n",
    "\n",
    "result = re.finditer(sub_str, input_str)\n",
    "\n",
    "print(result)"
   ]
  },
  {
   "cell_type": "code",
   "execution_count": 27,
   "id": "ed9a511c",
   "metadata": {},
   "outputs": [
    {
     "name": "stdout",
     "output_type": "stream",
     "text": [
      "----------------------------------------------------------------------------------------------------\n",
      "<re.Match object; span=(18, 24), match='butt3r'>\n",
      "Found match butt3r beginning at 18 and ending at 24.\n",
      "----------------------------------------------------------------------------------------------------\n",
      "<re.Match object; span=(33, 39), match='butt3r'>\n",
      "Found match butt3r beginning at 33 and ending at 39.\n",
      "----------------------------------------------------------------------------------------------------\n",
      "<re.Match object; span=(79, 85), match='butt3r'>\n",
      "Found match butt3r beginning at 79 and ending at 85.\n",
      "----------------------------------------------------------------------------------------------------\n",
      "<re.Match object; span=(104, 110), match='butt3r'>\n",
      "Found match butt3r beginning at 104 and ending at 110.\n"
     ]
    }
   ],
   "source": [
    "for x in result:\n",
    "    print('-'*100)\n",
    "    print(x)\n",
    "    print(f'Found match {x.group()} beginning at {x.start()} and ending at {x.end()}.')"
   ]
  },
  {
   "cell_type": "code",
   "execution_count": null,
   "id": "ba2a263c",
   "metadata": {},
   "outputs": [],
   "source": [
    "input_str = 'B3tty b0u6ht some butt3r but the butt3r w@s b!tt3r s0 Betty b0u6ht s0me b3tt3r butt3r to m@k3 the b!tt3r\\\n",
    "butt3r b3tt3r.'\n",
    "\n",
    "sub_str = r'\\w+e\\b'\n",
    "\n",
    "result = re.findall(sub_str, input_str)\n",
    "\n",
    "print(result)"
   ]
  },
  {
   "cell_type": "code",
   "execution_count": null,
   "id": "59acebf3",
   "metadata": {},
   "outputs": [],
   "source": [
    "#\\w returns a match where the strings contains any word characters - upper, lower case alphabets, digits - 0 to 9 and _\n",
    "# underscore. \n",
    "# + (outside square brackets) is a metacharacter specifying 1 or more occurrences. \n",
    "\n",
    "# So in the above substring - r'\\bbu\\w+' - we specified:\n",
    "\n",
    "# r - this is a raw string - do not consider \\ escape characters. \n",
    "# '' - quotes denoting strings.\n",
    "# \\b - pattern begins with\n",
    "# bu - characters to search - so, pattern we are looking for - begins with 'bu'\n",
    "# \\w - After 'bu' search for any word character\n",
    "# + - One or more occurrences of word character. \n",
    "\n",
    "# So, in summary: \n",
    "\n",
    "# Search for a pattern in the string which begins with 'bu' and has one or more word characters after bu. Note here that - \n",
    "# it wont catch 'bu' if it occurred in the input string in this case."
   ]
  },
  {
   "cell_type": "code",
   "execution_count": null,
   "id": "7358bf28",
   "metadata": {},
   "outputs": [],
   "source": [
    "input_str = 'B3tty b0u6ht some bu but the butt3r w@s b!tt3r s0 betty b0u6ht s0me b3tt3r butt3r to m@k3 the b!tt3r\\\n",
    "butt3r b3tt3r.'\n",
    "\n",
    "sub_str = r'\\bbu\\w+'\n",
    "result = re.search(sub_str, input_str)\n",
    "\n",
    "print(result.group())"
   ]
  },
  {
   "cell_type": "code",
   "execution_count": null,
   "id": "40744093",
   "metadata": {},
   "outputs": [],
   "source": [
    "input_str = 'B3tty b0u6ht some the butt3r w@s b!tt3r s0 betty b0u6ht s0me b3tt3r butt3r to m@k3 the b!tt3r\\\n",
    "butt3r b3tt3r.'\n",
    "\n",
    "sub_str = r'\\bbu\\w+'\n",
    "result = re.search(sub_str, input_str)\n",
    "\n",
    "print(result.group())\n",
    "print(result.span())"
   ]
  },
  {
   "cell_type": "code",
   "execution_count": null,
   "id": "25a64d42",
   "metadata": {},
   "outputs": [],
   "source": [
    "# Changing the + to * will return bu. \n",
    "\n",
    "sub_str = r'\\bbu\\w*'\n",
    "\n",
    "result = re.search(sub_str, input_str)\n",
    "\n",
    "print(result.group())"
   ]
  },
  {
   "cell_type": "code",
   "execution_count": null,
   "id": "111892f7",
   "metadata": {},
   "outputs": [],
   "source": [
    "input_str = 'B3tty b0u6ht some butt3r but the butt3r w@s b!tt3r s0 betty b0u6ht s0me b3tt3r butt3r to m@k3 the b!tt3r\\\n",
    "butt3r b3tt3r.'\n",
    "\n",
    "sub_str = r'\\bbu\\w*'\n",
    "\n",
    "result = re.search(sub_str, input_str)\n",
    "\n",
    "print(result.group())"
   ]
  },
  {
   "cell_type": "code",
   "execution_count": null,
   "id": "b8ad82a6",
   "metadata": {},
   "outputs": [],
   "source": [
    "input_str = 'B3tty b0u6ht some butt3r but the butt3r w@s b!tt3r s0 betty b0u6ht s0me b3tt3r butt3r to m@k3 the b!tt3r\\\n",
    "butt3r b3tt3r.'\n",
    "\n",
    "sub_str = r'\\w+r\\b'\n",
    "\n",
    "result = re.findall(sub_str, input_str)\n",
    "\n",
    "print(result)"
   ]
  },
  {
   "cell_type": "code",
   "execution_count": null,
   "id": "9de7aad6",
   "metadata": {},
   "outputs": [],
   "source": []
  },
  {
   "cell_type": "code",
   "execution_count": null,
   "id": "fc45227d",
   "metadata": {},
   "outputs": [],
   "source": []
  },
  {
   "cell_type": "code",
   "execution_count": null,
   "id": "af626869",
   "metadata": {},
   "outputs": [],
   "source": []
  },
  {
   "cell_type": "code",
   "execution_count": null,
   "id": "2f90ea4c",
   "metadata": {},
   "outputs": [],
   "source": []
  },
  {
   "cell_type": "code",
   "execution_count": null,
   "id": "7cf8819f",
   "metadata": {},
   "outputs": [],
   "source": [
    "# \\B Returns a match where the specified pattern is NOT at beginning or end of string.\n",
    "\n",
    "\n",
    "input_str = 'B3tty b0u6ht some butt3r but the butt3r w@s b!tt3r s0 Betty b0u6ht s0me b3tt3r butt3r to m@k3 the b!tt3r\\\n",
    "butt3r b3tt3r.'\n",
    "\n",
    "print(input_str)"
   ]
  },
  {
   "cell_type": "code",
   "execution_count": null,
   "id": "8f0ea87a",
   "metadata": {},
   "outputs": [],
   "source": [
    "#print(input_str.index('b!tt3rbutt3r'))"
   ]
  },
  {
   "cell_type": "code",
   "execution_count": null,
   "id": "3a76704e",
   "metadata": {},
   "outputs": [],
   "source": [
    "sub_str = r'\\B'\n",
    "\n",
    "result = re.findall(sub_str, input_str)\n",
    "\n",
    "print(result)\n",
    "\n"
   ]
  },
  {
   "cell_type": "code",
   "execution_count": null,
   "id": "5d6410f9",
   "metadata": {},
   "outputs": [],
   "source": [
    "input_str = 'B3tty b0u6ht some butt3r but hello therefore butt3r w@s b!tt3r s0 hermit Betty b0u6ht helium s0me b3tt3r butt3r \\\n",
    "to m@k3 tehe b!tt3r butt3r b3tt3r.'\n",
    "\n",
    "sub_str = r't\\w*he\\B'\n",
    "\n",
    "result = re.findall(sub_str, input_str)\n",
    "\n",
    "print(result)"
   ]
  },
  {
   "cell_type": "code",
   "execution_count": null,
   "id": "e4e11439",
   "metadata": {},
   "outputs": [],
   "source": [
    "import re\n",
    "\n",
    "input_str = 'B3tty b0u6ht  some butt3r but the butt3r w@s b!tt3r s0 Bettyb0u6ht s0me b3tt3rbutt3r to m@k3 the b!tt3r \\\n",
    "butt3r b3tt3r.'\n",
    "\n",
    "sub_str = r'\\Bb\\w+'\n",
    "\n",
    "result = re.finditer(sub_str, input_str)\n",
    "\n",
    "for x in result:\n",
    "    print(x.span(), x.group())\n",
    "    print(input_str[x.start()-5:x.end()+5])\n"
   ]
  },
  {
   "cell_type": "code",
   "execution_count": null,
   "id": "07109f28",
   "metadata": {},
   "outputs": [],
   "source": [
    "sub_str = r'\\w+ht\\w*'\n",
    "\n",
    "result = re.findall(sub_str, input_str)\n",
    "\n",
    "print(result)"
   ]
  },
  {
   "cell_type": "code",
   "execution_count": 40,
   "id": "f7af6c9a",
   "metadata": {},
   "outputs": [],
   "source": [
    "input_str = 'B3tty b0u6ht some butt3r but the butt3r w@s b!tt3r s0 betty b0u6ht s0me b3tt3r butt3r to m@k3 the b!tt3r \\\n",
    "butt3r b3tt3r.'"
   ]
  },
  {
   "cell_type": "code",
   "execution_count": 41,
   "id": "4089d365",
   "metadata": {},
   "outputs": [
    {
     "name": "stdout",
     "output_type": "stream",
     "text": [
      "B3tty b0u6ht some butt3r but the butt3r w@s b!tt3r s0 betty b0u6ht s0me b3tt3r butt3r to m@k3 the b!tt3r butt3r b3tt3r.\n"
     ]
    }
   ],
   "source": [
    "print(input_str)"
   ]
  },
  {
   "cell_type": "code",
   "execution_count": 50,
   "id": "600d44b5",
   "metadata": {},
   "outputs": [
    {
     "name": "stdout",
     "output_type": "stream",
     "text": [
      "['My name is Anthony Gonsalvez. Roop nagar, Prem Galli kholi no. ', '420. Excuse me please']\n"
     ]
    }
   ],
   "source": [
    "name1 = 'My name is Anthony Gonsalvez. Roop nagar, Prem Galli kholi no. 420. Excuse me please'\n",
    "\n",
    "sub_str = r'[a-zA-Z]*'\n",
    "\n",
    "result = re.findall(sub_str, name1)\n",
    "\n",
    "print(result)"
   ]
  },
  {
   "cell_type": "code",
   "execution_count": 51,
   "id": "3674a8eb",
   "metadata": {},
   "outputs": [
    {
     "name": "stdout",
     "output_type": "stream",
     "text": [
      "B3tty b0u6ht some butt3r but the butt3r w@s b!tt3r s0 betty b0u6ht s0me b3tt3r butt3r to m@k3 the b!tt3r butt3r b3tt3r.\n"
     ]
    }
   ],
   "source": [
    "print(input_str)"
   ]
  },
  {
   "cell_type": "code",
   "execution_count": 54,
   "id": "7ebe74d7",
   "metadata": {},
   "outputs": [],
   "source": [
    "input_str = 'B3tty b0u6ht some butt3r but the butt3r w@s 3b!tt3r 50 betty b0u6ht 5ome b3tt3r butt3r to m@k3 the b!tt3r butt3r b3tt3r.'"
   ]
  },
  {
   "cell_type": "code",
   "execution_count": 59,
   "id": "b146229d",
   "metadata": {},
   "outputs": [
    {
     "name": "stdout",
     "output_type": "stream",
     "text": [
      "['B', 'tty', ' b', 'u', 'ht', ' some', ' butt', 'r', ' but', ' the', ' butt', 'r', ' w', '@s', ' ', 'b', '!tt', 'r', ' ', ' betty', ' b', 'u', 'ht', ' ', 'ome', ' b', 'tt', 'r', ' butt', 'r', ' to', ' m', '@k', ' the', ' b', '!tt', 'r', ' butt', 'r', ' b', 'tt', 'r', '.']\n"
     ]
    }
   ],
   "source": [
    "#\\d Returns a match where the string contains digits.\n",
    "\n",
    "sub_str = r'\\D[a-z]*'\n",
    "\n",
    "result = re.findall(sub_str, input_str)\n",
    "\n",
    "print(result)\n"
   ]
  },
  {
   "cell_type": "code",
   "execution_count": null,
   "id": "5816cbd4",
   "metadata": {},
   "outputs": [],
   "source": [
    "# Note here how '6ht' and '3r' are not separate outputs from '0u6ht' and '3tt3r'. This is because the regex takes a match\n",
    "# till the pattern continues to match and starts searching for the next match from the next index number. "
   ]
  },
  {
   "cell_type": "code",
   "execution_count": null,
   "id": "451d1365",
   "metadata": {},
   "outputs": [],
   "source": [
    "sub_str = r'\\w+\\d\\w+'\n",
    "\n",
    "result = re.findall(sub_str, input_str)\n",
    "\n",
    "print(result)"
   ]
  },
  {
   "cell_type": "code",
   "execution_count": null,
   "id": "99ac4774",
   "metadata": {},
   "outputs": [],
   "source": [
    "input_str = 'B3tty b0u6ht some butt3r but the butt3r w@s b!tt3r s0 betty b0u6ht s0me b3tt3r butt3r to m@k3 the b!tt3r \\\n",
    "butt3r b3tt3r.'"
   ]
  },
  {
   "cell_type": "code",
   "execution_count": null,
   "id": "635c3edd",
   "metadata": {},
   "outputs": [],
   "source": [
    "#\\s Returns a match where the string contains a space character. "
   ]
  },
  {
   "cell_type": "code",
   "execution_count": null,
   "id": "f7091463",
   "metadata": {},
   "outputs": [],
   "source": [
    "sub_str = r'\\w+\\sb\\w+'\n",
    "\n",
    "result = re.findall(sub_str, input_str)\n",
    "\n",
    "print(result)"
   ]
  },
  {
   "cell_type": "code",
   "execution_count": null,
   "id": "9bc0060b",
   "metadata": {},
   "outputs": [],
   "source": [
    "sub_str = r'\\w+\\St\\w+'\n",
    "\n",
    "result = re.findall(sub_str, input_str)\n",
    "\n",
    "print(result)"
   ]
  },
  {
   "cell_type": "code",
   "execution_count": null,
   "id": "1a32718c",
   "metadata": {},
   "outputs": [],
   "source": [
    "input_str = 'B3ttyb0u6ht some butt3rbut the butt3r w@s b!tt3r s0 bettyb0u6ht s0me b3tt3r butt3r to m@k3 the b!tt3r \\\n",
    "butt3r b3tt3r.'\n",
    "\n",
    "sub_str = r'\\w+\\Sb\\w+'\n",
    "\n",
    "result = re.findall(sub_str, input_str)\n",
    "\n",
    "print(result)"
   ]
  },
  {
   "cell_type": "code",
   "execution_count": null,
   "id": "a8bafe4a",
   "metadata": {},
   "outputs": [],
   "source": [
    "#\\w Returns a match where the pattern match contains any word characters - a to z, A to Z and 0 to 9\n",
    "\n",
    "input_str = 'B3tty b0u6ht some butt3r but the butt3r w@s b!tt3r s0 betty b0u6ht s0me b3tt3r butt3r to m@k3 the b!tt3r \\\n",
    "butt3r b3tt3r.'\n",
    "\n",
    "sub_str = r'\\w+'\n",
    "\n",
    "result = re.findall(sub_str, input_str)\n",
    "\n",
    "print(result)"
   ]
  },
  {
   "cell_type": "code",
   "execution_count": null,
   "id": "7896e82d",
   "metadata": {},
   "outputs": [],
   "source": [
    "sub_str = r'\\w+\\W\\w+'\n",
    "\n",
    "result = re.findall(sub_str, input_str)\n",
    "\n",
    "print(result)"
   ]
  },
  {
   "cell_type": "code",
   "execution_count": 71,
   "id": "3e6126c4",
   "metadata": {},
   "outputs": [
    {
     "name": "stdout",
     "output_type": "stream",
     "text": [
      "['utt3r', 'utt3r', '3tt3r', 'utt3r', 'utt3r', '3tt3r']\n"
     ]
    }
   ],
   "source": [
    "#\\Z - returns a match if the pattern is found at the end of the string(not each word)\n",
    "\n",
    "input_str = 'B3tty b0u6ht some butt3r but the butt3r w@s b!tt3r s0 betty b0u6ht s0me b3tt3r butt3r to m@k3 the b!tt3r \\\n",
    "butt3r b3tt3r'\n",
    "\n",
    "sub_str = r'\\w\\S\\w3r'\n",
    "\n",
    "result = re.findall(sub_str,input_str)\n",
    "\n",
    "print(result)\n",
    "#print(result.start())\n",
    "\n",
    "#print(input_str[:116])"
   ]
  },
  {
   "cell_type": "code",
   "execution_count": null,
   "id": "31245ce1",
   "metadata": {},
   "outputs": [],
   "source": [
    "# Regex used for extracting matches of a pattern from text. \n",
    "\n",
    "# Greedy match - Tries to match as much of the text as part of its pattern. It wont stop as soon as a match is found but \n",
    "# continue to add characters to the pattern as long as the conditions for the pattern are being met. \n",
    "\n",
    "# \\A\n",
    "# \\b\n",
    "# \\B\n",
    "# \\d\n",
    "# \\D\n",
    "# \\s\n",
    "# \\S\n",
    "# \\w\n",
    "# \\W\n",
    "# \\Z\n"
   ]
  },
  {
   "cell_type": "code",
   "execution_count": null,
   "id": "6c6e585b",
   "metadata": {},
   "outputs": [],
   "source": [
    "# There are also Metacharacters.\n",
    "\n",
    "# MetaCharacters               Description\n",
    "# \\                            Used to drop the special meaning of character following it\n",
    "# []                           Represent a character class\n",
    "# ^                            Matches the beginning of string = \\A\n",
    "# $                            Matches the end of string = \\Z\n",
    "# .                            Matches any character except newline\n",
    "# |                            Means OR (Matches with any of the characters separated by it).\n",
    "\n",
    "# And Quantifiers\n",
    "\n",
    "# ?                            Matches zero or one occurrence - It signifies optional character.\n",
    "# *                            Any number of occurrences (including 0 occurrences)\n",
    "# +                            One or more occurrences\n",
    "# {}                           Indicate the number of occurrences of a preceding regex to match.\n",
    "# ()                           Enclose a group of Regex\n"
   ]
  },
  {
   "cell_type": "code",
   "execution_count": null,
   "id": "6af1b1f2",
   "metadata": {},
   "outputs": [],
   "source": [
    "# Metacharacters - Characters with special meaning in RegEx"
   ]
  },
  {
   "cell_type": "code",
   "execution_count": null,
   "id": "e958885a",
   "metadata": {},
   "outputs": [],
   "source": [
    "input_str = 'B3tty b0u6ht some bu\\tt3r but the butt3r w@s b!tt3r s0 betty b0u6ht s0me b3tt3r butt3r to m@k3 the b!tt3r\\\n",
    "butt3r b3tt3r.'"
   ]
  },
  {
   "cell_type": "code",
   "execution_count": null,
   "id": "d3b834e9",
   "metadata": {},
   "outputs": [],
   "source": [
    "#[] Any 'set' of characters inside the braces. "
   ]
  },
  {
   "cell_type": "code",
   "execution_count": null,
   "id": "36814eb0",
   "metadata": {},
   "outputs": [],
   "source": []
  },
  {
   "cell_type": "code",
   "execution_count": 8,
   "id": "edf4efef",
   "metadata": {},
   "outputs": [
    {
     "name": "stdout",
     "output_type": "stream",
     "text": [
      "['B3tt', 'b0u6ht', 'butt', 'but', 'th', 'butt', 'tt', 'bett', 'b0u6ht', 'b3tt', 'butt', 'th', 'tt', 'butt', 'b3tt']\n"
     ]
    }
   ],
   "source": [
    "import re\n",
    "\n",
    "input_str = 'B3tty b0u6ht some butt3r but the butt3r w@s b!tt3r s0 betty b0u6ht some b3tt3r butt3r to make the b!tt3r \\\n",
    "butt3r b3tt3r.'\n",
    "\n",
    "sub_str = r'\\w+t|\\w+h'\n",
    "\n",
    "result = re.findall(sub_str, input_str)\n",
    "\n",
    "print(result)\n",
    "\n",
    "# Matches any word with EITHER t or h in it. Gives a match including any alphanumeric characters before and after the t or h\n",
    "# is found. "
   ]
  },
  {
   "cell_type": "code",
   "execution_count": null,
   "id": "12d9a28b",
   "metadata": {},
   "outputs": [],
   "source": [
    "input_str = 'B3tty b0u6ht some buttre but the butt3r w@s b!tt3r s0 betty b0u6ht s0me b3tt3r butt3r to m@k3 the b!tt3r\\\n",
    "butt3r b3tt3r.'\n",
    "\n",
    "print(input_str)"
   ]
  },
  {
   "cell_type": "code",
   "execution_count": null,
   "id": "e9abd7a1",
   "metadata": {},
   "outputs": [],
   "source": [
    "sub_str = r'\\w+[et]'\n",
    "\n",
    "result = re.findall(sub_str, input_str)\n",
    "\n",
    "print(result)\n",
    "\n",
    "# Returns match of any words that have either e or t in them. Matches any number of characters before the e or t is found."
   ]
  },
  {
   "cell_type": "code",
   "execution_count": null,
   "id": "48e3369b",
   "metadata": {},
   "outputs": [],
   "source": [
    "# Note here how - 'B3tt', 'butt', 'tt', 'bett' - the match wasnt stopped as soon as the first t was found. That is because\n",
    "# regex patterns perform 'greedy' matches as much as they can match - they will try to match. In the example above - when \n",
    "# the regex program reaches the first t of b3tt - it satisfies BOTH conditions that it is an alphanumeric character \\w AND\n",
    "# it is part of the set [et], so it moves on to the next character which also satisfies both conditions - BUT we have not\n",
    "# specified that after it finds e or t - can there be any text after that? Since we have not specified that - the match\n",
    "# stops. However, if we were to add more t's after the first 2 - they would continue to get matched till the last t. \n",
    "\n",
    "input_str = 'B3tty b0u6ht some bu\\tt3r but the buttttt3r w@s b!tt3r s0 betty b0u6ht s0me b3tt3r butt3r to m@k3 the b!tt3r\\\n",
    "butt3r b3tt3r.'\n",
    "\n",
    "sub_str = r'\\w+[et]'\n",
    "\n",
    "result = re.findall(sub_str, input_str)\n",
    "\n",
    "\n",
    "print(result)\n"
   ]
  },
  {
   "cell_type": "code",
   "execution_count": null,
   "id": "d300ffd2",
   "metadata": {},
   "outputs": [],
   "source": [
    "# \\ Usually signifies a special sequence but put before a special character can be used to signify escaping. \n",
    "\n",
    "input_str = '''B3tty b0u6ht some butt3r but the butt3r w@s b!tt3r s0 betty b0u6ht s0me b3tt3r butt3r to m@k3 the b!tt3r \\\n",
    "butt3r b3tt3r.'''\n",
    "\n",
    "print(input_str)"
   ]
  },
  {
   "cell_type": "code",
   "execution_count": null,
   "id": "88291fe4",
   "metadata": {},
   "outputs": [],
   "source": [
    "sub_str = r'\\\\'\n",
    "\n",
    "result = re.search(sub_str, input_str)\n",
    "\n",
    "print(result)"
   ]
  },
  {
   "cell_type": "code",
   "execution_count": null,
   "id": "85f75911",
   "metadata": {},
   "outputs": [],
   "source": [
    "input_str = '''B3tty b0u6ht some butt3r but the butt3r w@s 'btt3r s0 betty b0u6ht s0me b3tt3r butt3r to m@k3 the b!tt3r \\\n",
    "butt3r b3tt3r.'''\n",
    "\n",
    "print(input_str)"
   ]
  },
  {
   "cell_type": "code",
   "execution_count": null,
   "id": "69b3bb7f",
   "metadata": {},
   "outputs": [],
   "source": [
    "sub_str = r'\\'\\w+'\n",
    "\n",
    "result = re.search(sub_str, input_str)\n",
    "\n",
    "print(result)\n",
    "#print(input_str.index('\\\\'))"
   ]
  },
  {
   "cell_type": "code",
   "execution_count": null,
   "id": "80f4c4ae",
   "metadata": {},
   "outputs": [],
   "source": [
    "input_str = r\"B3tty b0u6ht some butt3r but the bu\\tt3r w@s b!tt3r s0 Betty b0u6ht s0me b3tt3r butt3r to m@k3 the b!tt3r\\\n",
    "butt3r b3tt3r.\"\n",
    "\n",
    "print(input_str)"
   ]
  },
  {
   "cell_type": "code",
   "execution_count": null,
   "id": "9d6d47c9",
   "metadata": {},
   "outputs": [],
   "source": [
    "sub_str = r'\\\\t\\w+'\n",
    "result = re.search(sub_str, input_str)\n",
    "\n",
    "print(result.group())"
   ]
  },
  {
   "cell_type": "code",
   "execution_count": null,
   "id": "c1ca0fa2",
   "metadata": {},
   "outputs": [],
   "source": [
    "input_str = r'B3tty b0u6ht some butt3r but the bu\\tt3r w@s b!tt3r s0 Betty b0u6ht s0me b3tt3r butt3r to m@k3 the b!tt3r\\\n",
    "butt3r b3tt3r.'\n",
    "\n",
    "print(input_str)"
   ]
  },
  {
   "cell_type": "code",
   "execution_count": null,
   "id": "c47658a9",
   "metadata": {},
   "outputs": [],
   "source": [
    "sub_str = r'\\\\'\n",
    "\n",
    "result = re.search(sub_str, input_str)\n",
    "\n",
    "print(result)"
   ]
  },
  {
   "cell_type": "code",
   "execution_count": null,
   "id": "782feada",
   "metadata": {},
   "outputs": [],
   "source": [
    "# . Signifies any character except newline characters, \\r, \\r\\n"
   ]
  },
  {
   "cell_type": "code",
   "execution_count": 6,
   "id": "d96aabbb",
   "metadata": {},
   "outputs": [
    {
     "name": "stdout",
     "output_type": "stream",
     "text": [
      "B3tty b0u6ht some butt3r but the butt3r w@s \\n b!tt3r s0 Betty b0u6ht \\r s0me b3tt3r butt3r \\r\\n to m@k3 \\\n",
      "the b!tt3r \\n butt3r b3tt3r.\n"
     ]
    }
   ],
   "source": [
    "import re\n",
    "\n",
    "input_str = 'B3tty b0u6ht some butt3r but the butt3r w@s \\n b!tt3r s0 Betty b0u6ht \\r s0me b3tt3r butt3r \\r\\n to m@k3 \\\n",
    "the b!tt3r \\n butt3r b3tt3r.'\n",
    "\n",
    "print(input_str)"
   ]
  },
  {
   "cell_type": "code",
   "execution_count": 7,
   "id": "3b0d4db7",
   "metadata": {},
   "outputs": [
    {
     "name": "stdout",
     "output_type": "stream",
     "text": [
      "['B3tty b0u6ht some butt3r but the butt3r w@s \\\\n b!tt3r s0 Betty b0u6ht \\\\r s0me b3tt3r butt3r \\\\r\\\\n to m@k3 \\\\', 'the b!tt3r \\\\n butt3r b3tt3r.']\n"
     ]
    }
   ],
   "source": [
    "sub_str = r'.+'\n",
    "\n",
    "result = re.findall(sub_str,input_str)\n",
    "\n",
    "print(result)"
   ]
  },
  {
   "cell_type": "code",
   "execution_count": null,
   "id": "669d7f4f",
   "metadata": {},
   "outputs": [],
   "source": [
    "sub_str = '\\w+.'\n",
    "\n",
    "result = re.findall(sub_str, input_str)\n",
    "print(result)"
   ]
  },
  {
   "cell_type": "code",
   "execution_count": null,
   "id": "10f95f73",
   "metadata": {},
   "outputs": [],
   "source": [
    "# ^ Starts with specified character - same as \\A"
   ]
  },
  {
   "cell_type": "code",
   "execution_count": null,
   "id": "26570e6a",
   "metadata": {},
   "outputs": [],
   "source": [
    "input_str = 'B3tty b0u6ht some butt3r but the butt3r w@s b!tt3r s0 Betty b0u6ht s0me b3tt3r butt3r to m@k3 the b!tt3r\\\n",
    "butt3r b3tt3r.'\n",
    "\n",
    "sub_str = r'^B\\w+'\n",
    "\n",
    "\n",
    "result = re.findall(sub_str, input_str)\n",
    "\n",
    "print(result)"
   ]
  },
  {
   "cell_type": "code",
   "execution_count": null,
   "id": "3c4c1cea",
   "metadata": {},
   "outputs": [],
   "source": [
    "sub_str = r'\\AB\\w+'\n",
    "\n",
    "result = re.findall(sub_str, input_str)\n",
    "\n",
    "print(result)"
   ]
  },
  {
   "cell_type": "code",
   "execution_count": null,
   "id": "9b49db8f",
   "metadata": {},
   "outputs": [],
   "source": [
    "sub_str = r'\\bB\\w+'\n",
    "\n",
    "result = re.findall(sub_str, input_str)\n",
    "\n",
    "print(result)"
   ]
  },
  {
   "cell_type": "code",
   "execution_count": null,
   "id": "279fac04",
   "metadata": {},
   "outputs": [],
   "source": [
    "sub_str = r'^b\\w+'\n",
    "\n",
    "result = re.findall(sub_str, input_str)\n",
    "\n",
    "print(result)"
   ]
  },
  {
   "cell_type": "code",
   "execution_count": null,
   "id": "6d17ccee",
   "metadata": {},
   "outputs": [],
   "source": [
    "input_str = 'b3tty b0u6ht some butt3r but the butt3r w@s b!tt3r s0 betty b0u6ht s0me b3tt3r butt3r to m@k3 the b!tt3r\\\n",
    "butt3r b3tt3r.'\n",
    "\n",
    "sub_str = r'^b.+'\n",
    "\n",
    "result = re.findall(sub_str, input_str)\n",
    "\n",
    "print(result)"
   ]
  },
  {
   "cell_type": "code",
   "execution_count": null,
   "id": "3fb2882c",
   "metadata": {},
   "outputs": [],
   "source": [
    "sub_str = r'\\Ab\\w+'\n",
    "\n",
    "result = re.findall(sub_str, input_str)\n",
    "\n",
    "print(result)"
   ]
  },
  {
   "cell_type": "code",
   "execution_count": null,
   "id": "32e69ba2",
   "metadata": {},
   "outputs": [],
   "source": [
    "# $ - Checks if whole string ends with specified characters. Same as \\Z"
   ]
  },
  {
   "cell_type": "code",
   "execution_count": null,
   "id": "5ed4252c",
   "metadata": {},
   "outputs": [],
   "source": [
    "input_str = 'B3tty b0u6ht some butt3r but the butt3r w@s b!tt3r s0 Betty b0u6ht s0me b3tt3r butt3r to m@k3 the b!tt3r\\\n",
    "butt3r b3tt3r.'\n",
    "\n",
    "sub_str = r'\\w+t3r.$'\n",
    "\n",
    "result = re.findall(sub_str, input_str)\n",
    "\n",
    "print(result)"
   ]
  },
  {
   "cell_type": "code",
   "execution_count": null,
   "id": "5a166193",
   "metadata": {},
   "outputs": [],
   "source": [
    "#Note no result since the string does not end with 't3r' but with 't3r.'\n",
    "\n",
    "sub_str = r't3r.$'\n",
    "\n",
    "result = re.findall(sub_str, input_str)\n",
    "\n",
    "print(result)"
   ]
  },
  {
   "cell_type": "code",
   "execution_count": null,
   "id": "0eed1cbf",
   "metadata": {},
   "outputs": [],
   "source": [
    "sub_str = r't3r\\.'\n",
    "\n",
    "result = re.findall(sub_str, input_str)\n",
    "\n",
    "print(result)"
   ]
  },
  {
   "cell_type": "code",
   "execution_count": null,
   "id": "68e4e717",
   "metadata": {},
   "outputs": [],
   "source": [
    "sub_str = r't3r\\.'\n",
    "\n",
    "result = re.search(sub_str, input_str)\n",
    "\n",
    "print(result)"
   ]
  },
  {
   "cell_type": "code",
   "execution_count": null,
   "id": "f3b552c4",
   "metadata": {},
   "outputs": [],
   "source": [
    "# * - 0 or more occurrences of specified characters(placed on the right of the characters we wish to specify)\n",
    "\n",
    "input_str = 'B3tty b0u6ht some butt3r but the butt3r w@s b!tt3r s0 Betty b0u6ht s0me b3tt3r butt3r to m@k3 the b!773r\\\n",
    "butt3r b3tt3r.'\n",
    "\n",
    "sub_str = r'\\w+ht*'\n",
    "\n",
    "result = re.findall(sub_str, input_str)\n",
    "\n",
    "print(result)\n"
   ]
  },
  {
   "cell_type": "code",
   "execution_count": 18,
   "id": "6c0c0c88",
   "metadata": {},
   "outputs": [
    {
     "name": "stdout",
     "output_type": "stream",
     "text": [
      "['b0u6ht', 'b0u6ht']\n"
     ]
    }
   ],
   "source": [
    "# + - 1 or more occurrences of specified characters(placed on the right side of the characters we wish to specify)\n",
    "input_str = 'B3tty b0u6ht some butt3r but the butt3r w@s b!tt3r s0 Betty b0u6ht s0me b3tt3r butt3r to m@k3 the b!773r\\\n",
    "butt3r b3tt3r.'\n",
    "\n",
    "sub_str = r'\\w+ht+'\n",
    "\n",
    "result = re.findall(sub_str, input_str)\n",
    "\n",
    "print(result)"
   ]
  },
  {
   "cell_type": "code",
   "execution_count": null,
   "id": "5f0ca402",
   "metadata": {},
   "outputs": [],
   "source": [
    "# {} - Exactly the specified number of occurrences. \n",
    "print(input_str)"
   ]
  },
  {
   "cell_type": "code",
   "execution_count": 19,
   "id": "c38773de",
   "metadata": {},
   "outputs": [
    {
     "name": "stdout",
     "output_type": "stream",
     "text": [
      "['B3tty', 'butt3r', 'butt3r', 'Betty', 'b3tt3r', 'butt3r', '773rbutt3r', 'b3tt3r']\n"
     ]
    }
   ],
   "source": [
    "sub_str = r'\\w+t{2}\\w*'\n",
    "\n",
    "result = re.findall(sub_str, input_str)\n",
    "\n",
    "print(result)"
   ]
  },
  {
   "cell_type": "code",
   "execution_count": null,
   "id": "58d58dd6",
   "metadata": {},
   "outputs": [],
   "source": [
    "? = 0 or 1\n",
    "* = 0 or more\n",
    "+ = 1 or more\n",
    "{2} = ONLY 2 - not one, not zero, not more than two"
   ]
  },
  {
   "cell_type": "code",
   "execution_count": null,
   "id": "6398bff2",
   "metadata": {},
   "outputs": [],
   "source": [
    "# {} - Exactly the specified number of occurrences. \n",
    "\n",
    "sub_str = r'\\w+t{2}'\n",
    "\n",
    "result = re.findall(sub_str, input_str)\n",
    "\n",
    "print(result)"
   ]
  },
  {
   "cell_type": "code",
   "execution_count": null,
   "id": "e00ab3ee",
   "metadata": {},
   "outputs": [],
   "source": [
    "# {} - Exactly the specified number of occurrences. \n",
    "\n",
    "sub_str = r'\\w+t{2}\\w+'\n",
    "\n",
    "result = re.findall(sub_str, input_str)\n",
    "\n",
    "print(result)\n"
   ]
  },
  {
   "cell_type": "code",
   "execution_count": 22,
   "id": "20b2386b",
   "metadata": {},
   "outputs": [
    {
     "name": "stdout",
     "output_type": "stream",
     "text": [
      "['B3tt', 'butt', 'butt', 'Bett', 'b3tttt', 'butt', 't3rbutt', 'b3tttt']\n"
     ]
    }
   ],
   "source": [
    "# {x,y} - Between the specified number of occurrences. \n",
    "\n",
    "input_str = 'B3tty b0u6ht some butt3r but the butt3r w@s b!t3r s0 Betty b0u6ht s0me b3tttttt3r butt3r to m@k3 the b!t3r\\\n",
    "butt3r b3tttt3r.'\n",
    "\n",
    "sub_str = r'\\w+[3ue]t{2,4}'\n",
    "\n",
    "result = re.findall(sub_str, input_str)\n",
    "\n",
    "print(result)"
   ]
  },
  {
   "cell_type": "code",
   "execution_count": null,
   "id": "86dc5b66",
   "metadata": {},
   "outputs": [],
   "source": [
    "# | - Either / or any of the specified characcters in pattern. \n",
    "\n",
    "input_str = 'B3tty b0u6ht some butt3r but the butt3r w@s b!tt3r s0 Betty b0u6ht s0me b3tt3r butt3r to m@k3 the b!tt3r\\\n",
    "butt3r b3tt3r.'\n",
    "\n",
    "\n",
    "sub_str = r'\\w+3|@\\w+ |s\\w+'\n",
    "\n",
    "result = re.findall(sub_str, input_str)\n",
    "\n",
    "print(result)"
   ]
  },
  {
   "cell_type": "code",
   "execution_count": 11,
   "id": "0226b8e3",
   "metadata": {},
   "outputs": [
    {
     "name": "stdout",
     "output_type": "stream",
     "text": [
      "['coloR']\n"
     ]
    }
   ],
   "source": [
    "# ? - Makes the character preceding the ? mark optional.\n",
    "\n",
    "text = 'The colonel colouRs the car in a Red coloR'\n",
    "\n",
    "sub_str = r'colou?R'\n",
    "\n",
    "result = re.findall(sub_str, text)\n",
    "\n",
    "print(result)"
   ]
  },
  {
   "cell_type": "code",
   "execution_count": null,
   "id": "20061efa",
   "metadata": {},
   "outputs": [],
   "source": [
    "# As you probably noticed, the regex query matched both 'colour' and 'color' since it was optional to match the u, if\n",
    "# present it was matched, even if not present the pattern was matched."
   ]
  },
  {
   "cell_type": "code",
   "execution_count": null,
   "id": "fc671467",
   "metadata": {},
   "outputs": [],
   "source": [
    "# () Capture and group the specified characters pattern. Allows you to match (or capture) a specific group of characters\n",
    "# collectively."
   ]
  },
  {
   "cell_type": "code",
   "execution_count": null,
   "id": "b6011846",
   "metadata": {},
   "outputs": [],
   "source": [
    "input_str = 'B3tty b0u6ht some btt3r but the btt3r w@s btt3r s0 Betty b0u6ht s0me b3tt3r butt3r to m@k3 the b!tt3r\\\n",
    "butt3r b3tt3r.'\n",
    "\n",
    "sub_str = r'[bB]3?t\\w+'\n",
    "\n",
    "result = re.findall(sub_str, input_str)\n",
    "\n",
    "print(result)"
   ]
  },
  {
   "cell_type": "code",
   "execution_count": null,
   "id": "d34e62b0",
   "metadata": {},
   "outputs": [],
   "source": [
    "sub_str = r'(bar)'\n",
    "\n",
    "result = re.search(sub_str, input_str)\n",
    "\n",
    "print(result)"
   ]
  },
  {
   "cell_type": "code",
   "execution_count": null,
   "id": "ca1fea91",
   "metadata": {},
   "outputs": [],
   "source": [
    "# The difference though - between regular regex without the parenthesis and with is that now the characters defined in the\n",
    "# parentheses are treated as one group. e.g.\n",
    "\n",
    "import re\n",
    "\n",
    "input_str = 'foo barbar baz'\n",
    "\n",
    "sub_str = r'\\sbar'\n",
    "\n",
    "result = re.findall(sub_str, input_str)\n",
    "\n",
    "print(result)"
   ]
  },
  {
   "cell_type": "code",
   "execution_count": null,
   "id": "26909783",
   "metadata": {},
   "outputs": [],
   "source": [
    "# As we can see it took the r as an optional character in this case. "
   ]
  },
  {
   "cell_type": "code",
   "execution_count": null,
   "id": "4a406eca",
   "metadata": {},
   "outputs": [],
   "source": [
    "# input_str = 'B3tty b0u6ht boon goon opt option soon moon some butt3r but the butt3r w@s b!tt3r s0 Betty b0u6ht s0me b3tt3r butt3r to m@k3 the b!tt3r\\\n",
    "# butt3r b3tt3r.'\n",
    "\n",
    "# sub_str = r'(opt(ion)?)'\n",
    "\n",
    "# result = re.findall(sub_str, input_str)\n",
    "\n",
    "# print(result)"
   ]
  },
  {
   "cell_type": "code",
   "execution_count": null,
   "id": "67ec3277",
   "metadata": {},
   "outputs": [],
   "source": [
    "butt?e?r?\n",
    "\n",
    "butt\n",
    "bute\n",
    "butr"
   ]
  },
  {
   "cell_type": "code",
   "execution_count": 28,
   "id": "d30b6796",
   "metadata": {},
   "outputs": [
    {
     "name": "stdout",
     "output_type": "stream",
     "text": [
      "[('butter', 'but', 'ter'), ('but', 'but', ''), ('butt3r', 'but', 't3r'), ('bitt3r', 'bit', 't3r'), ('butter', 'but', 'ter'), ('butt3r', 'but', 't3r'), ('bitt3r', 'bit', 't3r'), ('butt3r', 'but', 't3r'), ('b3tt3r', 'b3t', 't3r')]\n"
     ]
    }
   ],
   "source": [
    "#We can use nested grouping to capture specific characters.\n",
    "\n",
    "input_str = 'B3tty b0u6ht s0me butter but the butt3r was bitt3r so B3tty b0u6ht some butter butt3r to mak3 the bitt3r \\\n",
    "butt3r b3tt3r.'\n",
    "\n",
    "sub_str = r'((b[uie3]t)(t[e3]r)?)'\n",
    "\n",
    "result = re.findall(sub_str, input_str)\n",
    "\n",
    "print(result)"
   ]
  },
  {
   "cell_type": "code",
   "execution_count": 32,
   "id": "ecc67bad",
   "metadata": {},
   "outputs": [],
   "source": [
    "sub_str2 = r'(b[ue3]t(t3r)?)'\n",
    "result = re.search(sub_str, input_str)\n",
    "result2 = re.search(sub_str2, input_str)"
   ]
  },
  {
   "cell_type": "code",
   "execution_count": 33,
   "id": "53a51833",
   "metadata": {},
   "outputs": [
    {
     "name": "stdout",
     "output_type": "stream",
     "text": [
      "<re.Match object; span=(18, 24), match='butter'>\n",
      "<re.Match object; span=(18, 21), match='but'>\n"
     ]
    }
   ],
   "source": [
    "print(result)\n",
    "print(result2)\n",
    "#print(result.group())"
   ]
  },
  {
   "cell_type": "code",
   "execution_count": 35,
   "id": "789eb332",
   "metadata": {},
   "outputs": [
    {
     "name": "stdout",
     "output_type": "stream",
     "text": [
      "butter\n"
     ]
    }
   ],
   "source": [
    "print(result.group())"
   ]
  },
  {
   "cell_type": "code",
   "execution_count": null,
   "id": "4c7486cd",
   "metadata": {},
   "outputs": [],
   "source": [
    "# Note how the groups() method gave out a tuple of the matches. We have seen 3 captures in our regex - outer capture 1, \n",
    "# inner capture 1 and inner capture2. \n",
    "\n",
    "# ((innercap1)(innercap2)) - Not all captures may have participated in the group. To get the breakdown of the groups\n",
    "# captured by the regex in a match object, we can use the group or groups methods. "
   ]
  },
  {
   "cell_type": "code",
   "execution_count": 40,
   "id": "8e20a94e",
   "metadata": {},
   "outputs": [
    {
     "name": "stdout",
     "output_type": "stream",
     "text": [
      "<re.Match object; span=(0, 17), match='I love basketball'>\n",
      "I love basketball\n",
      "(None, 'love', 'basketball')\n"
     ]
    }
   ],
   "source": [
    "input_str = 'I love basketball. But I am not very good at it.'\n",
    "input_str2 = 'I also like badminton which I am actually pretty good at'\n",
    "\n",
    "sub_str = r'I (also )?(love|like) (basketball|badminton)'\n",
    "\n",
    "result = re.search(sub_str, input_str)\n",
    "\n",
    "print(result)\n",
    "print(result.group())\n",
    "print(result.groups())"
   ]
  },
  {
   "cell_type": "code",
   "execution_count": 37,
   "id": "10619636",
   "metadata": {},
   "outputs": [
    {
     "name": "stdout",
     "output_type": "stream",
     "text": [
      "<re.Match object; span=(0, 21), match='I also like badminton'>\n",
      "I also like badminton\n"
     ]
    }
   ],
   "source": [
    "result = re.search(sub_str, input_str2)\n",
    "\n",
    "print(result)\n",
    "print(result.group())"
   ]
  },
  {
   "cell_type": "code",
   "execution_count": null,
   "id": "678525ce",
   "metadata": {},
   "outputs": [],
   "source": [
    "# Sets - A set in Regex is a set of characters inside a pair of square brackets [] with a special meaning. \n",
    "\n",
    "# Set        Description\n",
    "# [apz]      Returns a match where any one of the specified characters (a, p, or z) are present\n",
    "# [a-e]      Returns a match for any lower case character, alphabetically between a and e\n",
    "# [^apz]     Returns a match for any character EXCEPT a, p, and z\n",
    "# [0123]     Returns a match where any of the specified digits (0, 1, 2, or 3) are present\n",
    "# [0-9]      Returns a match for any digit between 0 and 9\n",
    "# [0-5][0-9] Returns a match for any two-digit numbers from 00 and 59\t\n",
    "# [a-zA-Z]   Returns a match for any character alphabetically between a and z, lower case OR upper case\t\n",
    "# [+]        In sets, +, *, ., |, (), $,{} has no special meaning, so [+] means: return a match for any + character\n",
    "#            in the string, [*] for any * character and so on.\n",
    "\n"
   ]
  },
  {
   "cell_type": "code",
   "execution_count": 48,
   "id": "207690c9",
   "metadata": {},
   "outputs": [
    {
     "name": "stdout",
     "output_type": "stream",
     "text": [
      "['bpzxyz']\n"
     ]
    }
   ],
   "source": [
    "inputstr = 'abpzxyz'\n",
    "\n",
    "substr = r'[^apz]\\w+'\n",
    "\n",
    "result = re.findall(substr, inputstr)\n",
    "\n",
    "print(result)"
   ]
  },
  {
   "cell_type": "code",
   "execution_count": null,
   "id": "4e73fcd6",
   "metadata": {},
   "outputs": [],
   "source": [
    "# [apz] - Square brackets around specified characters - Returns a match where any one of the specified characters\n",
    "# (a, p, or z) are present\n",
    "\n",
    "\n",
    "input_str = 'Betty bought some butter but the butter was bitter so Betty bought some better butter to make the bitter \\\n",
    "butter better'\n",
    "\n",
    "sub_str = r'\\w+[mh]'\n",
    "\n",
    "result = re.findall(sub_str, input_str)\n",
    "\n",
    "print(result)"
   ]
  },
  {
   "cell_type": "code",
   "execution_count": null,
   "id": "7ddc586d",
   "metadata": {},
   "outputs": [],
   "source": [
    "# [a-e] - Returns a match for any lower case character, alphabetically between a and e\n",
    "\n",
    "input_str = 'Betty bought some bubtter but the butter was bitter so Betty bocught some bedtter butter to make the bitter \\\n",
    "butter better'\n",
    "\n",
    "sub_str = r'\\w+[a-d]'\n",
    "\n",
    "result = re.findall(sub_str, input_str)\n",
    "\n",
    "print(result)"
   ]
  },
  {
   "cell_type": "code",
   "execution_count": null,
   "id": "6cba61f0",
   "metadata": {},
   "outputs": [],
   "source": [
    "# [^apz] - Returns a match for any character EXCEPT a, p, and z\n",
    "\n",
    "input_str = 'betty b0u6ht s0me butter but the but^3r was bitter so Betty bou6ht s0m3 better butt3r to mak3 th3 bitt3r \\\n",
    "butt3r b3tt3r'\n",
    "\n",
    "sub_str = r'b\\w+t[\\^3]\\w+'\n",
    "\n",
    "result = re.findall(sub_str, input_str)\n",
    "\n",
    "print(result)"
   ]
  },
  {
   "cell_type": "code",
   "execution_count": 51,
   "id": "4eb02882",
   "metadata": {},
   "outputs": [
    {
     "name": "stdout",
     "output_type": "stream",
     "text": [
      "['B3', 'b0', 's0', 'butt3', 's0m3', 'butt3', 'mak3', 'th3', 'bitt3', 'butt3', 'b3tt3']\n"
     ]
    }
   ],
   "source": [
    "# [0123]     Returns a match where any of the specified digits (0, 1, 2, or 3) are present\n",
    "\n",
    "input_str = 'B3tty b0u6ht s0me butter but the butt3r was bitter so Betty bou6ht s0m3 better butt3r to mak3 th3 bitt3r \\\n",
    "butt3r b3tt3r'\n",
    "\n",
    "sub_str = r'\\w+[03]'\n",
    "\n",
    "result = re.findall(sub_str, input_str)\n",
    "\n",
    "print(result)"
   ]
  },
  {
   "cell_type": "code",
   "execution_count": null,
   "id": "cfcfc6e2",
   "metadata": {},
   "outputs": [],
   "source": [
    "# [0-9]      Returns a match for any digit between 0 and 9\n",
    "\n",
    "input_str = 'B3tty b0u64t s0me butter but 43 t4e butt3r was bitt3r so B3tty bou64t s0m3 b3tt3r butt3r to mak3 t43 bitt3r \\\n",
    "butt3r b3tt3r'\n",
    "\n",
    "sub_str = r'\\w+[0-9]'\n",
    "\n",
    "result = re.findall(sub_str, input_str)\n",
    "print(result)"
   ]
  },
  {
   "cell_type": "code",
   "execution_count": null,
   "id": "02d3fc58",
   "metadata": {},
   "outputs": [],
   "source": [
    "sub_str = r'(s0me)|(t4e)'\n",
    "\n",
    "result = re.finditer(sub_str,input_str)\n",
    "\n",
    "print(result)\n",
    "\n",
    "for x in result:\n",
    "    print(x.group(), x.span())"
   ]
  },
  {
   "cell_type": "code",
   "execution_count": null,
   "id": "9e14abed",
   "metadata": {},
   "outputs": [],
   "source": [
    "# [0-5][0-9] Returns a match for any two-digit numbers from 00 and 59\n",
    "\n",
    "input_str = 'B3tty b0u64t s0me butter but 43 t4e butt3r was bitt3r so B3tty bou64t s0m3 b3tt3r butt3r to mak3 t43 bitt3r \\\n",
    "butt3r b3tt3r'\n",
    "\n",
    "sub_str = r'\\w+[2-6][3-5]'\n",
    "\n",
    "result = re.findall(sub_str, input_str)\n",
    "\n",
    "print( result)"
   ]
  },
  {
   "cell_type": "code",
   "execution_count": null,
   "id": "959fd1ff",
   "metadata": {},
   "outputs": [],
   "source": [
    "sub_str = r'\\w+[2-6][4-5]'\n",
    "\n",
    "result = re.findall(sub_str, input_str)\n",
    "\n",
    "print( result)"
   ]
  },
  {
   "cell_type": "code",
   "execution_count": null,
   "id": "47c1e398",
   "metadata": {},
   "outputs": [],
   "source": [
    "# [a-zA-Z]   Returns a match for any character alphabetically between a and z, lower case OR upper case\n",
    "\n",
    "input_str = 'B3tty b0ught s0m3 b~tt3r'\n",
    "\n",
    "sub_str = r'[a-zA-Z]'\n",
    "\n",
    "result = re.findall(sub_str, input_str)\n",
    "\n",
    "print(result)"
   ]
  },
  {
   "cell_type": "code",
   "execution_count": null,
   "id": "d621e304",
   "metadata": {},
   "outputs": [],
   "source": [
    "# [+]        In sets, +, *, ., |, (), $,{} has no special meaning, so [+] means: return a match for any + character\n",
    "#            in the string, [*] for any * character and so on."
   ]
  },
  {
   "cell_type": "code",
   "execution_count": null,
   "id": "057f5174",
   "metadata": {},
   "outputs": [],
   "source": [
    "import re\n",
    "\n",
    "input_str = 'B3++y b*ugh+ s*m3 b~tt3r'\n",
    "\n",
    "sub_str = r'\\w+[*~+]'\n",
    "\n",
    "result = re.findall(sub_str, input_str)\n",
    "\n",
    "print(result)"
   ]
  },
  {
   "cell_type": "code",
   "execution_count": null,
   "id": "33e67de2",
   "metadata": {},
   "outputs": [],
   "source": [
    "result "
   ]
  },
  {
   "cell_type": "code",
   "execution_count": null,
   "id": "0d2025b1",
   "metadata": {},
   "outputs": [],
   "source": [
    "# Flags - Most regex methods allow a third parameter called flags. The most common flags used are: "
   ]
  },
  {
   "cell_type": "code",
   "execution_count": null,
   "id": "29882e10",
   "metadata": {},
   "outputs": [],
   "source": [
    "# Short Name          Long Name         Effect\n",
    "# re.I                re.IGNORECASE     Makes matching of alphabetic characters case-insensitive\n",
    "# re.M                re.MULTILINE      Causes start-of-string and end-of-string anchors to match embedded newlines\n",
    "# re.S                re.DOTALL         Causes the dot metacharacter to match a newline"
   ]
  },
  {
   "cell_type": "code",
   "execution_count": 58,
   "id": "9eb3aef4",
   "metadata": {},
   "outputs": [
    {
     "name": "stdout",
     "output_type": "stream",
     "text": [
      "['b0u64t', 'buBBer', 'bUt', 'b4e', 'buTT3r', 'bITt3r', 'bo', 'b3tt3r', 'butt3r', 'bitt3r', 'butt3r', 'b3tt3r']\n"
     ]
    }
   ],
   "source": [
    "# Ignore case\n",
    "\n",
    "input_str = 'B3tty b0u64t s0me buBBer bUt tb4e buTT3r was bITt3r sbo 3BBy oBB64t s0m3 b3tt3r butt3r to mak3 t43 bitt3r \\n\\\n",
    "butt3r b3tt3r'\n",
    "\n",
    "sub_str = r'b\\w+'\n",
    "\n",
    "result = re.findall(sub_str, input_str)\n",
    "\n",
    "print(result)"
   ]
  },
  {
   "cell_type": "code",
   "execution_count": 60,
   "id": "e0400b6e",
   "metadata": {},
   "outputs": [
    {
     "name": "stdout",
     "output_type": "stream",
     "text": [
      "['B3tty', 'b0u64t', 'buBBer', 'bUt', 'b4e', 'buTT3r', 'bITt3r', 'bo', 'BBy', 'BB64t', 'b3tt3r', 'butt3r', 'bitt3r', 'butt3r', 'b3tt3r']\n"
     ]
    }
   ],
   "source": [
    "result = re.findall(sub_str, input_str, flags = re.I)\n",
    "\n",
    "print(result)"
   ]
  },
  {
   "cell_type": "code",
   "execution_count": null,
   "id": "3a9918df",
   "metadata": {},
   "outputs": [],
   "source": [
    "# Multiline"
   ]
  },
  {
   "cell_type": "code",
   "execution_count": 61,
   "id": "dc51ea7a",
   "metadata": {},
   "outputs": [
    {
     "name": "stdout",
     "output_type": "stream",
     "text": [
      "B3tty b0u64t s0me butter but t4e butt3r was bitt3r so B3tty bou64t s0m3 b3tt3r butt3r to mak3 t43 bitt3r butt3r b3tt3r\n",
      "B3tty b0u64t s0me butter but t4e butt3r was bitt3r so B3tty bou64t s0m3 b3tt3r butt3r to mak3 t43 bitt3r butt3r b3tt3r\n",
      "B3tty b0u64t s0me butter but t4e butt3r was bitt3r so B3tty bou64t s0m3 b3tt3r butt3r to mak3 t43 bitt3r butt3r b3tt3r\n"
     ]
    }
   ],
   "source": [
    "input_str = 'B3tty b0u64t s0me butter but t4e butt3r was bitt3r so B3tty bou64t s0m3 b3tt3r butt3r to mak3 t43 bitt3r \\\n",
    "butt3r b3tt3r\\nB3tty b0u64t s0me butter but t4e butt3r was bitt3r so B3tty bou64t s0m3 b3tt3r butt3r to mak3 t43 bitt3r \\\n",
    "butt3r b3tt3r\\nB3tty b0u64t s0me butter but t4e butt3r was bitt3r so B3tty bou64t s0m3 b3tt3r butt3r to mak3 t43 bitt3r \\\n",
    "butt3r b3tt3r'\n",
    "\n",
    "\n",
    "print(input_str)"
   ]
  },
  {
   "cell_type": "code",
   "execution_count": 62,
   "id": "0bec3a92",
   "metadata": {},
   "outputs": [
    {
     "name": "stdout",
     "output_type": "stream",
     "text": [
      "['B3tty']\n"
     ]
    }
   ],
   "source": [
    "sub_str = r'^B\\w+y'\n",
    "\n",
    "result = re.findall(sub_str, input_str)\n",
    "\n",
    "print(result)"
   ]
  },
  {
   "cell_type": "code",
   "execution_count": 63,
   "id": "b44e2733",
   "metadata": {},
   "outputs": [
    {
     "name": "stdout",
     "output_type": "stream",
     "text": [
      "['B3tty', 'B3tty', 'B3tty']\n"
     ]
    }
   ],
   "source": [
    "result = re.findall(sub_str, input_str, flags = re.M)\n",
    "\n",
    "print(result)"
   ]
  },
  {
   "cell_type": "code",
   "execution_count": null,
   "id": "6ed02d58",
   "metadata": {},
   "outputs": [],
   "source": [
    "#Dotall includes the \\n characters in the . search character set. \n",
    "\n",
    "input_str = 'B3tty b0u64t s0me butter but t4e butt3r was bitt3r 3rxB3 so B3tty bou64t s0m3 b3tt3r butt3r to mak3 t43 bitt3r \\\n",
    "butt3r b3tt3r\\nB3tty b0u64t s0me butter but t4e butt3r was bitt3r so B3tty bou64t s0m3 b3tt3r butt3r to mak3 t43 bitt3r \\\n",
    "butt3r b3tt3r\\nB3tty b0u64t s0me butter but t4e butt3r was bitt3r so B3tty bou64t s0m3 b3tt3r butt3r to mak3 t43 bitt3r \\\n",
    "butt3r b3tt3r'\n",
    "\n",
    "print(input_str)"
   ]
  },
  {
   "cell_type": "code",
   "execution_count": 66,
   "id": "e8328810",
   "metadata": {},
   "outputs": [
    {
     "name": "stdout",
     "output_type": "stream",
     "text": [
      "['3r\\nB3', '3r\\nB3']\n"
     ]
    }
   ],
   "source": [
    "sub_str = r'3r.B3'\n",
    "\n",
    "result = re.findall(sub_str, input_str, flags = re.S)\n",
    "\n",
    "print(result)"
   ]
  },
  {
   "cell_type": "code",
   "execution_count": 67,
   "id": "0770bb4c",
   "metadata": {},
   "outputs": [
    {
     "name": "stdout",
     "output_type": "stream",
     "text": [
      "['3r b3', '3r\\nB3', '3r b3', '3r\\nB3', '3r b3']\n"
     ]
    }
   ],
   "source": [
    "result = re.findall(sub_str, input_str, flags=re.S | re.I)\n",
    "\n",
    "print(result)"
   ]
  },
  {
   "cell_type": "code",
   "execution_count": null,
   "id": "4bfda7cf",
   "metadata": {},
   "outputs": [],
   "source": [
    "\n",
    "input_str = 'B3tty b0u64t s0me butter but t4e butt3r was bitt3r so B3tty bou64t s0m3 b3tt3r butt3r to mak3 t43 bitt3r \\n\\\n",
    "butt3r b3tt3r'\n",
    "\n",
    "sub_str = r'b.*r'\n",
    "\n",
    "result = re.findall(sub_str, input_str)\n",
    "\n",
    "print(result)"
   ]
  },
  {
   "cell_type": "code",
   "execution_count": null,
   "id": "66196230",
   "metadata": {},
   "outputs": [],
   "source": [
    "input_str = 'B3tty b0u64t s0me butter but t4e butt3r was bitt3r so B3tty bou64t s0m3 b3tt3r butt3r to mak3 t43 bitt3r \\n\\\n",
    "butt3r b3tt3r'\n",
    "\n",
    "sub_str = r'b\\w+'\n",
    "\n",
    "result = re.finditer(sub_str, input_str)\n",
    "\n",
    "print(result)\n",
    "\n",
    "\n",
    "for x in result:\n",
    "    print(x)"
   ]
  },
  {
   "cell_type": "code",
   "execution_count": null,
   "id": "58e262c2",
   "metadata": {},
   "outputs": [],
   "source": [
    "# Other methods in re module\n",
    "\n",
    "# We have already seen search (along with span, start, end, string, group and groups methods on match objects) method.\n",
    "# We have also seen findall method. \n",
    "\n",
    "# Some other methods in regex are:"
   ]
  },
  {
   "cell_type": "code",
   "execution_count": 69,
   "id": "69950680",
   "metadata": {},
   "outputs": [
    {
     "name": "stdout",
     "output_type": "stream",
     "text": [
      "['B3+', 'b*', 'ugh+', 's*', 'b~']\n"
     ]
    }
   ],
   "source": [
    "# compile method - compiles the stated regex into a regex object that can be reused and methods can be applied to it\n",
    "# directly. \n",
    "\n",
    "input_str = 'B3++y b*ugh+ s*m3 b~tt3r'\n",
    "\n",
    "sub_str = r'\\w+[+*~]'\n",
    "\n",
    "result = re.findall(sub_str, input_str)\n",
    "\n",
    "print(result)"
   ]
  },
  {
   "cell_type": "code",
   "execution_count": null,
   "id": "62023319",
   "metadata": {},
   "outputs": [],
   "source": [
    "ss = r'\\w+[+*~]'\n",
    "\n",
    "result = re.findall(ss, input_str)"
   ]
  },
  {
   "cell_type": "code",
   "execution_count": 70,
   "id": "cb209070",
   "metadata": {},
   "outputs": [
    {
     "name": "stdout",
     "output_type": "stream",
     "text": [
      "['B3+', 'b*', 'ugh+', 's*', 'b~']\n",
      "<class 're.Pattern'>\n"
     ]
    }
   ],
   "source": [
    "ss = re.compile(r'\\w+[+*~]')\n",
    "\n",
    "result = ss.findall(input_str)\n",
    "\n",
    "print(result)\n",
    "print(type(ss))"
   ]
  },
  {
   "cell_type": "code",
   "execution_count": 68,
   "id": "3d526db5",
   "metadata": {},
   "outputs": [
    {
     "name": "stdout",
     "output_type": "stream",
     "text": [
      "[]\n"
     ]
    }
   ],
   "source": [
    "# Note above when we used the compile method on the regex we converted it to a re.Pattern object. And now we can apply the\n",
    "# methods directly on the ss object. If we have a lot of operations to perform with the same regex pattern, or the pattern\n",
    "# may be used frequently, it may be better to save it as a re.Pattern object.\n",
    "\n",
    "# Intenally compilation of substring happens when we call the sub_str we want to search as the parameter to the different\n",
    "# method as follows: \n",
    "\n",
    "sub_str = re.compile(r'\\w+[+*~]')\n",
    "\n",
    "result = re.findall(re.compile(sub_str), input_str)\n",
    "\n",
    "print(result)"
   ]
  },
  {
   "cell_type": "code",
   "execution_count": null,
   "id": "e3e553d0",
   "metadata": {},
   "outputs": [],
   "source": [
    "# For our current module, since we were changing the regex frequently, we did not compile the regex patterns. However, \n",
    "# complex patterns that are frequently used, more often than not are compiled and stashed. "
   ]
  },
  {
   "cell_type": "code",
   "execution_count": null,
   "id": "5ab43c12",
   "metadata": {},
   "outputs": [],
   "source": [
    "#match method - only returns the match if it is at the beginning of the string"
   ]
  },
  {
   "cell_type": "code",
   "execution_count": 73,
   "id": "659bd619",
   "metadata": {},
   "outputs": [
    {
     "name": "stdout",
     "output_type": "stream",
     "text": [
      "<re.Match object; span=(0, 3), match='Xyz'>\n"
     ]
    }
   ],
   "source": [
    "input_str = 'Xyz abc xyz abc'\n",
    "\n",
    "sub_str = r'xyz'\n",
    "\n",
    "result = re.match(sub_str, input_str, flags = re.I)\n",
    "\n",
    "print(result)"
   ]
  },
  {
   "cell_type": "code",
   "execution_count": null,
   "id": "d5195bbd",
   "metadata": {},
   "outputs": [],
   "source": [
    "sub_str = r'xyz'\n",
    "\n",
    "result = re.match(sub_str, input_str)\n",
    "\n",
    "print(result)"
   ]
  },
  {
   "cell_type": "code",
   "execution_count": null,
   "id": "a9925ee0",
   "metadata": {},
   "outputs": [],
   "source": [
    "sub_str = r'xyz'\n",
    "\n",
    "result = re.match(sub_str, input_str, flags = re.I)\n",
    "\n",
    "print(result)"
   ]
  },
  {
   "cell_type": "code",
   "execution_count": null,
   "id": "96f89803",
   "metadata": {},
   "outputs": [],
   "source": [
    "#split method in re takes 4 parameters\n",
    "\n",
    "#re.split(pattern, string, maxsplit=0, flags=0)\n",
    "\n",
    "#1. The regex pattern - mandatory\n",
    "#2. The string to be checked - mandatory\n",
    "#3. Maxsplit - count of how many maximum splits we want\n",
    "#4. flags - as discussed above. \n",
    "\n",
    "input_str = 'B3tty b0u64t s0me butter but t4e butter was bitter'\n",
    "sub_str = r'b[uei]tter'\n",
    "\n",
    "result = re.split(sub_str, input_str)\n",
    "\n",
    "print(result)"
   ]
  },
  {
   "cell_type": "code",
   "execution_count": null,
   "id": "04fe621b",
   "metadata": {},
   "outputs": [],
   "source": [
    "result = re.split(sub_str, input_str, maxsplit = 2)\n",
    "\n",
    "print(result)"
   ]
  },
  {
   "cell_type": "code",
   "execution_count": null,
   "id": "1e593738",
   "metadata": {},
   "outputs": [],
   "source": [
    "input_str = 'B3tty b0u64t S0me butter but t4e butter was bitter'\n",
    "sub_str = r'b[uei]tter'\n",
    "result = re.split(sub_str, input_str, flags = re.I)\n",
    "\n",
    "print(result)"
   ]
  },
  {
   "cell_type": "code",
   "execution_count": null,
   "id": "462b2061",
   "metadata": {},
   "outputs": [],
   "source": [
    "#sub method takes in 5 parameters\n",
    "\n",
    "#1. The regex expression to be matched - mandatory\n",
    "#2. The replacement string - mandatory\n",
    "#3. The string to be checked - mandatory\n",
    "#4. Count - the max number of times the replacement is to be performed - optional\n",
    "#5. Flag - optional\n",
    "\n",
    "input_str = 'Xyz Abc xyz abc xyz aBc'\n",
    "\n",
    "sub_str = r'abc'\n",
    "\n",
    "repl = r'pqr'\n",
    "\n",
    "print(input_str)"
   ]
  },
  {
   "cell_type": "code",
   "execution_count": null,
   "id": "22102690",
   "metadata": {},
   "outputs": [],
   "source": [
    "result = re.sub(sub_str, repl, input_str)\n",
    "\n",
    "print(result)"
   ]
  },
  {
   "cell_type": "code",
   "execution_count": null,
   "id": "78fe7cd9",
   "metadata": {},
   "outputs": [],
   "source": [
    "result = re.sub(sub_str, repl, input_str, flags = re.I)\n",
    "\n",
    "print(result)"
   ]
  },
  {
   "cell_type": "code",
   "execution_count": 75,
   "id": "942f987d",
   "metadata": {},
   "outputs": [
    {
     "name": "stdout",
     "output_type": "stream",
     "text": [
      "Xyz Abc xyz abc xyz aBc\n"
     ]
    }
   ],
   "source": [
    "input_str = 'Xyz Abc xyz abc xyz aBc'\n",
    "\n",
    "sub_str = r'abc'\n",
    "\n",
    "repl = r'pqr'\n",
    "\n",
    "print(input_str)"
   ]
  },
  {
   "cell_type": "code",
   "execution_count": 76,
   "id": "61931b7b",
   "metadata": {},
   "outputs": [
    {
     "name": "stdout",
     "output_type": "stream",
     "text": [
      "Xyz pqr xyz pqr xyz pqr\n"
     ]
    }
   ],
   "source": [
    "result = re.sub(sub_str, repl, input_str, flags = re.I)\n",
    "\n",
    "print(result)"
   ]
  },
  {
   "cell_type": "code",
   "execution_count": 77,
   "id": "1cd6064b",
   "metadata": {},
   "outputs": [
    {
     "name": "stdout",
     "output_type": "stream",
     "text": [
      "('Xyz pqr xyz pqr xyz pqr', 3)\n"
     ]
    }
   ],
   "source": [
    "#Subn method is the same as the sub method except it provides the replacement count along with the replaced string as a \n",
    "# tuple\n",
    "\n",
    "result = re.subn(sub_str, repl, input_str, flags = re.I)\n",
    "\n",
    "print(result)"
   ]
  },
  {
   "cell_type": "code",
   "execution_count": null,
   "id": "9c93234e",
   "metadata": {},
   "outputs": [],
   "source": [
    "result = re.subn(sub_str, repl, input_str, flags = re.I)\n",
    "\n",
    "print(result)"
   ]
  },
  {
   "cell_type": "code",
   "execution_count": null,
   "id": "98214d66",
   "metadata": {},
   "outputs": [],
   "source": [
    "result = re.subn(sub_str, repl, input_str, flags = re.I, count = 2)\n",
    "\n",
    "print(result)"
   ]
  },
  {
   "cell_type": "code",
   "execution_count": null,
   "id": "e4e3b8bf",
   "metadata": {},
   "outputs": [],
   "source": [
    "str_email = '''boleh di kirim ke email saya ekoprasetyo.crb@outlook.com tks...\n",
    "boleh minta kirim ke db.maulana@gmail.com. \n",
    "dee.wien@yahoo.com. .\n",
    "deninainggolan@yahoo.co.id Senior Quantity Surveyor\n",
    "Fajar.rohita@hotmail.com, terimakasih bu Cindy Hartanto\n",
    "firmansyah1404@gmail.com saya mau dong bu cindy\n",
    "fransiscajw@gmail.com \n",
    "Hi Cindy ...pls share the Salary guide to donny_tri_wardono@yahoo.co.id thank a'''"
   ]
  },
  {
   "cell_type": "code",
   "execution_count": null,
   "id": "ffcac2b9",
   "metadata": {},
   "outputs": [],
   "source": []
  },
  {
   "cell_type": "code",
   "execution_count": null,
   "id": "c3d02c45",
   "metadata": {},
   "outputs": [],
   "source": [
    "#Ansh\n",
    "\n",
    "sub_string=r'\\[a-zA-Z0-9]\\S*@\\S*[a-zA-Z]'\n",
    "result = re.findall(sub_string, str_email)\n",
    "\n",
    "print(result)\n"
   ]
  },
  {
   "cell_type": "code",
   "execution_count": null,
   "id": "42cf6f38",
   "metadata": {},
   "outputs": [],
   "source": [
    "#Chandrabose\n",
    "\n",
    "substr=r'\\w+[.]?\\w+@\\w+.co(.)?\\w+'\n",
    "result=re.finditer(substr,str_email)\n",
    "\n",
    "for x in result:\n",
    "    print(x.group())\n",
    "\n"
   ]
  },
  {
   "cell_type": "code",
   "execution_count": null,
   "id": "cec370f8",
   "metadata": {},
   "outputs": [],
   "source": [
    "#Grishma\n",
    "\n",
    "sub_str= r\"[a-z0-9\\.\\-+_]+@[a-z0-9\\.\\-+_]+\\.[a-z]+\"\n",
    "result= re.findall(sub_str , str_email)\n",
    "print(result)\n"
   ]
  },
  {
   "cell_type": "code",
   "execution_count": null,
   "id": "9e859f11",
   "metadata": {},
   "outputs": [],
   "source": [
    "#mithila\n",
    "\n",
    "#sub_str = r'\\b\\w+[.]?\\w+@\\w+.\\w+\\b'\n",
    "sub_str = r'\\b\\w+[.]?\\w+@'\n",
    "\n",
    "result= re.findall(sub_str , str_email)\n",
    "print(result)\n",
    "\n"
   ]
  },
  {
   "cell_type": "code",
   "execution_count": null,
   "id": "e9ea5dca",
   "metadata": {},
   "outputs": [],
   "source": [
    "#Sachin\n",
    "\n",
    "sub_str = r\"[a-z0-9\\.\\-+_]+@[a-z0-9\\.\\-+_]+\\.[a-z]+\"\n",
    "result = re.findall(sub_str, str_email)\n",
    "print(result)"
   ]
  },
  {
   "cell_type": "code",
   "execution_count": null,
   "id": "2f1c8d4a",
   "metadata": {},
   "outputs": [],
   "source": []
  },
  {
   "cell_type": "code",
   "execution_count": null,
   "id": "e5e85141",
   "metadata": {},
   "outputs": [],
   "source": []
  },
  {
   "cell_type": "code",
   "execution_count": null,
   "id": "5da73ebd",
   "metadata": {},
   "outputs": [],
   "source": []
  },
  {
   "cell_type": "code",
   "execution_count": null,
   "id": "3e3877d0",
   "metadata": {},
   "outputs": [],
   "source": []
  },
  {
   "cell_type": "code",
   "execution_count": null,
   "id": "6d30c4bd",
   "metadata": {},
   "outputs": [],
   "source": []
  },
  {
   "cell_type": "code",
   "execution_count": null,
   "id": "53892397",
   "metadata": {},
   "outputs": [],
   "source": []
  },
  {
   "cell_type": "code",
   "execution_count": 79,
   "id": "ccff7467",
   "metadata": {},
   "outputs": [],
   "source": [
    "str_email = '''boleh di kirim ke email saya ekoprasetyo.crb@outlook.com tks...\n",
    "boleh minta kirim ke db.maulana@gmail.com. \n",
    "dee.wien@yahoo.com. .\n",
    "deninainggolan@yahoo.co.id Senior Quantity Surveyor\n",
    "Fajar.rohita@hotmail.com, terimakasih bu Cindy Hartanto\n",
    "firmansyah1404@gmail.com saya mau dong bu cindy\n",
    "fransiscajw@gmail.com \n",
    "Hi Cindy ...pls share the Salary guide to donny_tri_wardono@yahoo.co.id thank a'''"
   ]
  },
  {
   "cell_type": "code",
   "execution_count": 80,
   "id": "2b8a5410",
   "metadata": {},
   "outputs": [],
   "source": [
    "str_phone = '''<p><strong>Kuala Lumpur</strong><strong>:</strong> +60 (0)3 2723 7900</p>\n",
    "        <p><strong>Mutiara Damansara:</strong> +60 (0)3 2723 7900</p>\n",
    "        <p><strong>Penang:</strong> + 60 (0)4 255 9000</p>\n",
    "        <h2>Where we are </h2>\n",
    "        <strong>&nbsp;Call us on:</strong>&nbsp;+6 (03) 8924 8686\n",
    "        </p></div><div class=\"sys_two\">\n",
    "    <h3 class=\"parentSchool\">General enquiries</h3><p style=\"FONT-SIZE: 11px\">\n",
    "     <strong>&nbsp;Call us on:</strong>&nbsp;+6 (03) 8924 8000\n",
    "+ 60 (7) 268-6200 <br />\n",
    " Fax:<br /> \n",
    " +60 (7) 228-6202<br /> \n",
    "Phone:</strong><strong style=\"color: #f00\"> +601-4228-8055</strong>'''"
   ]
  },
  {
   "cell_type": "code",
   "execution_count": 87,
   "id": "e09c477b",
   "metadata": {},
   "outputs": [
    {
     "name": "stdout",
     "output_type": "stream",
     "text": [
      "['ekoprasetyo.crb@outlook.com ', 'db.maulana@gmail.com.', 'dee.wien@yahoo.com.', 'deninainggolan@yahoo.co.', 'Fajar.rohita@hotmail.com,', 'firmansyah1404@gmail.com ', 'fransiscajw@gmail.com ', 'donny_tri_wardono@yahoo.co.']\n"
     ]
    }
   ],
   "source": [
    "#Hitesh\n",
    "\n",
    "sub_str = r'\\w*[.]?\\w*@\\w*.\\w*.?\\w*?'\n",
    "\n",
    "result = re.findall(sub_str, str_email)\n",
    "\n",
    "print(result)"
   ]
  },
  {
   "cell_type": "code",
   "execution_count": 85,
   "id": "179c0f99",
   "metadata": {},
   "outputs": [
    {
     "name": "stdout",
     "output_type": "stream",
     "text": [
      "['ekoprasetyo.crb@outlook.com', 'db.maulana@gmail.com', 'dee.wien@yahoo.com', 'deninainggolan@yahoo.co', 'Fajar.rohita@hotmail.com', 'firmansyah1404@gmail.com', 'fransiscajw@gmail.com', 'donny_tri_wardono@yahoo.co']\n"
     ]
    }
   ],
   "source": [
    "#Geetha\n",
    "\n",
    "a= r'\\w+[.]?\\w+@\\w+.com?'\n",
    "result=re.findall(a,str_email)\n",
    "print(result)\n"
   ]
  },
  {
   "cell_type": "code",
   "execution_count": 89,
   "id": "7d4bbf86",
   "metadata": {},
   "outputs": [
    {
     "name": "stdout",
     "output_type": "stream",
     "text": [
      "[('ekoprasetyo.crb@outlook.com', '.com', '.com', ''), ('db.maulana@gmail.com', '.com', '.com', ''), ('dee.wien@yahoo.com', '.com', '.com', ''), ('deninainggolan@yahoo.co.id', '.co.id', '', '.co.id'), ('Fajar.rohita@hotmail.com', '.com', '.com', ''), ('firmansyah1404@gmail.com', '.com', '.com', ''), ('fransiscajw@gmail.com', '.com', '.com', ''), ('donny_tri_wardono@yahoo.co.id', '.co.id', '', '.co.id')]\n"
     ]
    }
   ],
   "source": [
    "#Shivam\n",
    "\n",
    "a= r'(\\w+[.]?\\w+?@\\w+((.com)|(.co.id)))'\n",
    "result=re.findall(a,str_email)\n",
    "print(result)\n"
   ]
  },
  {
   "cell_type": "code",
   "execution_count": 94,
   "id": "fe4b2926",
   "metadata": {},
   "outputs": [
    {
     "name": "stdout",
     "output_type": "stream",
     "text": [
      "<re.Match object; span=(29, 56), match='ekoprasetyo.crb@outlook.com'>\n",
      "<re.Match object; span=(85, 105), match='db.maulana@gmail.com'>\n",
      "<re.Match object; span=(108, 126), match='dee.wien@yahoo.com'>\n",
      "<re.Match object; span=(130, 156), match='deninainggolan@yahoo.co.id'>\n",
      "<re.Match object; span=(182, 206), match='Fajar.rohita@hotmail.com'>\n",
      "<re.Match object; span=(238, 262), match='firmansyah1404@gmail.com'>\n",
      "<re.Match object; span=(286, 307), match='fransiscajw@gmail.com'>\n",
      "<re.Match object; span=(351, 380), match='donny_tri_wardono@yahoo.co.id'>\n"
     ]
    }
   ],
   "source": [
    "#Vidya\n",
    "\n",
    "sub_str = re.compile(r'[A-z.0-9]*@\\w+[.](com|co[.]id)')   \n",
    "result = sub_str.finditer(str_email)  \n",
    "for match in result:\n",
    "    print(match)\n"
   ]
  },
  {
   "cell_type": "code",
   "execution_count": null,
   "id": "52b72daf",
   "metadata": {},
   "outputs": [],
   "source": []
  },
  {
   "cell_type": "code",
   "execution_count": null,
   "id": "c249b599",
   "metadata": {},
   "outputs": [],
   "source": []
  },
  {
   "cell_type": "code",
   "execution_count": null,
   "id": "9c2968cc",
   "metadata": {},
   "outputs": [],
   "source": []
  },
  {
   "cell_type": "code",
   "execution_count": null,
   "id": "b8b0e2b7",
   "metadata": {},
   "outputs": [],
   "source": []
  },
  {
   "cell_type": "code",
   "execution_count": null,
   "id": "ace087c9",
   "metadata": {},
   "outputs": [],
   "source": []
  },
  {
   "cell_type": "code",
   "execution_count": null,
   "id": "48aa3251",
   "metadata": {},
   "outputs": [],
   "source": []
  },
  {
   "cell_type": "code",
   "execution_count": null,
   "id": "28c7d053",
   "metadata": {},
   "outputs": [],
   "source": []
  },
  {
   "cell_type": "code",
   "execution_count": null,
   "id": "b0023c54",
   "metadata": {},
   "outputs": [],
   "source": []
  },
  {
   "cell_type": "code",
   "execution_count": null,
   "id": "976046bf",
   "metadata": {},
   "outputs": [],
   "source": []
  },
  {
   "cell_type": "code",
   "execution_count": null,
   "id": "6b9d052e",
   "metadata": {},
   "outputs": [],
   "source": []
  },
  {
   "cell_type": "code",
   "execution_count": null,
   "id": "088313ac",
   "metadata": {},
   "outputs": [],
   "source": []
  },
  {
   "cell_type": "code",
   "execution_count": null,
   "id": "5cd2391e",
   "metadata": {},
   "outputs": [],
   "source": [
    "#Ashwini\n",
    "\n",
    "import re\n",
    "str_email = '''boleh di kirim ke email saya ekoprasetyo.crb@outlook.com tks...\n",
    "boleh minta kirim ke db.maulana@gmail.com. \n",
    "dee.wien@yahoo.com. .\n",
    "deninainggolan@yahoo.co.id Senior Quantity Surveyor\n",
    "Fajar.rohita@hotmail.com, terimakasih bu Cindy Hartanto\n",
    "firmansyah1404@gmail.com saya mau dong bu cindy\n",
    "fransiscajw@gmail.com \n",
    "Hi Cindy ...pls share the Salary guide to donny_tri_wardono@yahoo.co.id thank a'''\n",
    "\n",
    "\n",
    "sub_str = r'\\w+[.]?\\w+[@]\\w+[.com]\\w+[.id]\\w+'\n",
    "result = re.findall(sub_str, str_email)\n",
    "print(result)\n"
   ]
  },
  {
   "cell_type": "code",
   "execution_count": null,
   "id": "25315b36",
   "metadata": {},
   "outputs": [],
   "source": [
    "#Archana\n",
    "\n",
    "sub_str = r'\\w+@\\w+[.]\\w+[.]\\w+|\\w+[._]?\\w+@\\w+[.]\\w+'\n",
    "\n",
    "result = re.findall(sub_str, str_email)\n",
    "print(result)"
   ]
  },
  {
   "cell_type": "code",
   "execution_count": null,
   "id": "a418f3f5",
   "metadata": {},
   "outputs": [],
   "source": [
    "#Sowjanya\n",
    "\n",
    "result = re.findall(r\"[a-z0-9\\.\\-+_]+@[a-z0-9\\.\\-+_]+\\.[a-z]+\", str_email)\n",
    "print(result)"
   ]
  },
  {
   "cell_type": "code",
   "execution_count": null,
   "id": "eff62502",
   "metadata": {},
   "outputs": [],
   "source": [
    "#Apurva\n",
    "\n",
    "sub_str=r'[^ \\n]+[@]\\w+[.]\\w+[.]?\\w*'\n",
    "result=re.finditer(sub_str,str_email)\n",
    "for i in result:\n",
    "    print(i.group())\n"
   ]
  },
  {
   "cell_type": "code",
   "execution_count": null,
   "id": "2e61fb6d",
   "metadata": {},
   "outputs": [],
   "source": [
    "#Vinti\n",
    "\n",
    "sub_str=r'[\\w\\._]+@+[\\w\\._]'\n",
    "\n",
    "result = re.findall(sub_str, str_email)\n",
    "\n",
    "print(result)\n"
   ]
  },
  {
   "cell_type": "code",
   "execution_count": null,
   "id": "374cfb2a",
   "metadata": {},
   "outputs": [],
   "source": [
    "#Shilpy\n",
    "\n",
    "sub_str=r'\\w+[._]?\\w*\\@\\w+.\\w.*?\\w+\\w.*?'\n",
    "result=re.finditer(sub_str,str_email)\n",
    "for x in result:\n",
    "    print(x.group())\n"
   ]
  },
  {
   "cell_type": "code",
   "execution_count": null,
   "id": "a1f76801",
   "metadata": {},
   "outputs": [],
   "source": []
  }
 ],
 "metadata": {
  "kernelspec": {
   "display_name": "Python 3",
   "language": "python",
   "name": "python3"
  },
  "language_info": {
   "codemirror_mode": {
    "name": "ipython",
    "version": 3
   },
   "file_extension": ".py",
   "mimetype": "text/x-python",
   "name": "python",
   "nbconvert_exporter": "python",
   "pygments_lexer": "ipython3",
   "version": "3.8.5"
  }
 },
 "nbformat": 4,
 "nbformat_minor": 5
}
