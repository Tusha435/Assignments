{
 "cells": [
  {
   "cell_type": "markdown",
   "id": "2b566273",
   "metadata": {},
   "source": [
    "### Numpy (Numerical Python) Library"
   ]
  },
  {
   "cell_type": "code",
   "execution_count": null,
   "id": "657348c5",
   "metadata": {},
   "outputs": [],
   "source": [
    "# NumPy, short for Numerical Python, has long been a cornerstone of numerical computing in Python. It provides the data\n",
    "# structures, algorithms, and library glue needed for most scientific applications involving numerical data in Python. \n",
    "# NumPy contains, among other things:\n",
    "\n",
    "# ● A fast and efficient multidimensional array object ndarray\n",
    "# ● Functions for performing element-wise computations with arrays or mathematical\n",
    "# operations between arrays\n",
    "# ● Tools for reading and writing array-based datasets to disk\n",
    "# ● Linear algebra operations, Fourier transform, and random number generation\n",
    "# ● A mature C API to enable Python extensions and native C or C++ code to access"
   ]
  },
  {
   "cell_type": "code",
   "execution_count": null,
   "id": "ed33d5de",
   "metadata": {},
   "outputs": [],
   "source": [
    "# NumPy’s data structures and computational facilities.\n",
    "\n",
    "# Beyond the fast array-processing capabilities that NumPy adds to Python, one of its primary uses in data analysis is as a\n",
    "# container for data to be passed between algorithms and libraries.\n",
    "\n",
    "# For numerical data, NumPy arrays are more efficient for storing and manipulating data than the other built-in Python\n",
    "# data structures. Also, libraries written in a lower-level language, such as C or Fortran, can operate on the data stored\n",
    "# in a NumPy array without copying data into some other memory representation. Thus, many numerical computing tools for\n",
    "# Python either assume NumPy arrays as a primary data structure or else target seamless interoperability with NumPy."
   ]
  },
  {
   "cell_type": "code",
   "execution_count": null,
   "id": "6c1d4645",
   "metadata": {},
   "outputs": [],
   "source": [
    "# Why Numpy?\n",
    "# One of the reasons NumPy is so important for numerical computations in Python is because it is designed for efficiency on\n",
    "# large arrays of data. There are a number of reasons for this:\n",
    "# ● NumPy internally stores data in a contiguous block of memory, independent of other built-in Python objects. NumPy’s\n",
    "# library of algorithms written in the C language can operate on this memory without any type checking or other overhead. \n",
    "# NumPy arrays also use much less memory than built-in Python sequences.\n",
    "# ● NumPy operations perform complex computations on entire arrays without the need for Python for loops. To give you an\n",
    "# idea of the performance difference, consider a NumPy array of one million integers, and the equivalent Python list:"
   ]
  },
  {
   "cell_type": "code",
   "execution_count": null,
   "id": "8f77e51d",
   "metadata": {},
   "outputs": [],
   "source": [
    "import numpy as np\n",
    "\n",
    "nump_a = np.arange(10000000)\n",
    "list_a = list(range(10000000))\n",
    "\n",
    "print(len(nump_a))\n",
    "\n",
    "print(len(list_a))"
   ]
  },
  {
   "cell_type": "code",
   "execution_count": null,
   "id": "0bc0a9a6",
   "metadata": {},
   "outputs": [],
   "source": [
    "%%time\n",
    "\n",
    "nump_a2 = nump_a * 2"
   ]
  },
  {
   "cell_type": "code",
   "execution_count": null,
   "id": "7084928d",
   "metadata": {},
   "outputs": [],
   "source": [
    "%%time\n",
    "list_a2 = [x*2 for x in list_a]"
   ]
  },
  {
   "cell_type": "code",
   "execution_count": null,
   "id": "e38e5931",
   "metadata": {},
   "outputs": [],
   "source": [
    "nump_b = np.arange(10)\n",
    "list_b = list(range(10))\n",
    "\n",
    "nump_m = nump_b * 2"
   ]
  },
  {
   "cell_type": "code",
   "execution_count": null,
   "id": "84fb373f",
   "metadata": {},
   "outputs": [],
   "source": [
    "list_c = list_b*2"
   ]
  },
  {
   "cell_type": "code",
   "execution_count": null,
   "id": "f0799fd2",
   "metadata": {},
   "outputs": [],
   "source": [
    "list_d = [x*2 for x in list_b]\n",
    "\n",
    "print(nump_m, type(nump_m))\n",
    "print(list_c, type(list_c))\n",
    "print(list_d, type(list_d))"
   ]
  },
  {
   "cell_type": "code",
   "execution_count": null,
   "id": "fc71daa8",
   "metadata": {},
   "outputs": [],
   "source": []
  },
  {
   "cell_type": "code",
   "execution_count": null,
   "id": "73b40d9a",
   "metadata": {},
   "outputs": [],
   "source": [
    "# The NumPy ndarray\n",
    "# A Multidimensional Array Object One of the key features of NumPy is its N-dimensional array object, or ndarray, which is\n",
    "# a fast, flexible container for large datasets in Python. Arrays enable you to perform mathematical operations on whole\n",
    "# blocks of data using similar syntax to the equivalent operations between scalar elements."
   ]
  },
  {
   "cell_type": "code",
   "execution_count": null,
   "id": "14a30cf4",
   "metadata": {},
   "outputs": [],
   "source": []
  },
  {
   "cell_type": "code",
   "execution_count": null,
   "id": "d6ba7d8e",
   "metadata": {},
   "outputs": [],
   "source": [
    "print(dir(np))"
   ]
  },
  {
   "cell_type": "code",
   "execution_count": null,
   "id": "752fbca0",
   "metadata": {},
   "outputs": [],
   "source": [
    "data = np.random.randint(1,10,24).reshape(2,3,4)\n",
    "\n",
    "print(data)"
   ]
  },
  {
   "cell_type": "code",
   "execution_count": null,
   "id": "121b4781",
   "metadata": {},
   "outputs": [],
   "source": [
    "data1 = np.random.randint(1,10,24)\n",
    "\n",
    "print(data1)"
   ]
  },
  {
   "cell_type": "code",
   "execution_count": null,
   "id": "41578f02",
   "metadata": {},
   "outputs": [],
   "source": [
    "data2 = np.random.randint(1,10,24).reshape(4,6)\n",
    "print(data2)"
   ]
  },
  {
   "cell_type": "code",
   "execution_count": null,
   "id": "5475e5a9",
   "metadata": {},
   "outputs": [],
   "source": [
    "# Note the appearance is of a 3 layer nested list. However, though they appear the same - these are arrays!! Important :\n",
    "# note NO commas between the elements of the array. \n",
    "\n",
    "print(type(data))\n",
    "\n",
    "for x in range(len(data)):\n",
    "    for y in range(len(data[x])):\n",
    "        for z in range(len(data[x][y])):\n",
    "            print(data[x][y][z])\n",
    "            \n",
    "# The 3 dimensional array object is constructed of : 4 elements in each row, 3 rows nested in the 2nd dimension of the \n",
    "# array object and 2 such 2nd Dimension arrays nested in the outer most array block. "
   ]
  },
  {
   "cell_type": "code",
   "execution_count": null,
   "id": "d31d3f69",
   "metadata": {},
   "outputs": [],
   "source": [
    "print(data)"
   ]
  },
  {
   "cell_type": "code",
   "execution_count": null,
   "id": "534811f9",
   "metadata": {},
   "outputs": [],
   "source": [
    "print(data * 10)"
   ]
  },
  {
   "cell_type": "code",
   "execution_count": null,
   "id": "b4382845",
   "metadata": {},
   "outputs": [],
   "source": [
    "# Note, we have not changed the original data ndarray.\n",
    "print(data)\n",
    "\n",
    "# We could change the original data variable by assigning the result to itself or to a new variable as usual."
   ]
  },
  {
   "cell_type": "code",
   "execution_count": null,
   "id": "47334eb7",
   "metadata": {},
   "outputs": [],
   "source": [
    "print(data+data)"
   ]
  },
  {
   "cell_type": "code",
   "execution_count": null,
   "id": "080b2110",
   "metadata": {},
   "outputs": [],
   "source": [
    "data1 = data*10\n",
    "\n",
    "print(data1)"
   ]
  },
  {
   "cell_type": "code",
   "execution_count": null,
   "id": "d1c0b73b",
   "metadata": {},
   "outputs": [],
   "source": [
    "data1 = data1+data1\n",
    "print(data1)"
   ]
  },
  {
   "cell_type": "code",
   "execution_count": null,
   "id": "8c62732e",
   "metadata": {},
   "outputs": [],
   "source": [
    "# An ndarray is a generic multidimensional container for homogeneous data; that is, all of the elements must be the same\n",
    "# type. \n",
    "\n",
    "lst1 = ['a', 100, (20,30), {'x':10, 'y':20}]\n",
    "\n",
    "np_arr = np.array(lst1)"
   ]
  },
  {
   "cell_type": "code",
   "execution_count": null,
   "id": "77fe0487",
   "metadata": {},
   "outputs": [],
   "source": [
    "print(np_arr)\n",
    "print(np_arr.dtype)\n",
    "\n",
    "print(type(np_arr[2]))"
   ]
  },
  {
   "cell_type": "code",
   "execution_count": null,
   "id": "bee8f7ce",
   "metadata": {},
   "outputs": [],
   "source": [
    "np_arr = np.array(lst1, dtype = int)"
   ]
  },
  {
   "cell_type": "code",
   "execution_count": null,
   "id": "f101b494",
   "metadata": {},
   "outputs": [],
   "source": [
    "# Unless explicitly specified, np.array tries to infer a good data type for the array that it creates."
   ]
  },
  {
   "cell_type": "code",
   "execution_count": null,
   "id": "7058d624",
   "metadata": {},
   "outputs": [],
   "source": [
    "lst2 = [2.0, 300, 72, 3.4, 5.78]\n",
    "\n",
    "np_arr = np.array(lst2)"
   ]
  },
  {
   "cell_type": "code",
   "execution_count": null,
   "id": "d29bdb32",
   "metadata": {},
   "outputs": [],
   "source": [
    "lstalpha = [1,2,3,4]\n",
    "\n",
    "print(lstalpha)"
   ]
  },
  {
   "cell_type": "code",
   "execution_count": null,
   "id": "6878f9ce",
   "metadata": {},
   "outputs": [],
   "source": [
    "np_str = np.array(lstalpha, dtype = str)\n",
    "\n",
    "print(np_str)\n",
    "print(type(np_str[0]))\n",
    "print(type(np_str))"
   ]
  },
  {
   "cell_type": "code",
   "execution_count": null,
   "id": "33043938",
   "metadata": {},
   "outputs": [],
   "source": [
    "print(np_arr)\n",
    "print(np_arr.dtype)\n",
    "\n",
    "\n",
    "for x in np_arr:\n",
    "    print(type(x))"
   ]
  },
  {
   "cell_type": "code",
   "execution_count": null,
   "id": "41bbb8a3",
   "metadata": {},
   "outputs": [],
   "source": [
    "lst3 = [2.13, 7.272, 3, 4.321, 11.234, 101]\n",
    "\n",
    "np_arr2 = np.array(lst3)\n",
    "\n",
    "print(np_arr2)\n",
    "print(np_arr2.dtype)\n",
    "\n",
    "print(type(np_arr2[2]))"
   ]
  },
  {
   "cell_type": "code",
   "execution_count": null,
   "id": "eeb06950",
   "metadata": {},
   "outputs": [],
   "source": [
    "import numpy as np\n",
    "\n",
    "lst11 = [[1,2,3,4], [10,20,30,40]]\n",
    "\n",
    "np_arr11 = np.array(lst11,dtype = int)"
   ]
  },
  {
   "cell_type": "code",
   "execution_count": null,
   "id": "0b7451fa",
   "metadata": {},
   "outputs": [],
   "source": [
    "np_arr = np.random.randint(1,100,48)\n",
    "print(np_arr)"
   ]
  },
  {
   "cell_type": "code",
   "execution_count": null,
   "id": "2c1108ba",
   "metadata": {},
   "outputs": [],
   "source": [
    "print(np_arr.shape)"
   ]
  },
  {
   "cell_type": "code",
   "execution_count": null,
   "id": "a0034cfd",
   "metadata": {},
   "outputs": [],
   "source": [
    "np_arr_rs = np_arr.reshape(2,2,3,4)\n",
    "print(np_arr_rs)\n",
    "print(type(np_arr_rs))"
   ]
  },
  {
   "cell_type": "code",
   "execution_count": null,
   "id": "28188e60",
   "metadata": {},
   "outputs": [],
   "source": [
    "# Every array has a shape, a tuple indicating the size of each dimension, and a dtype, an object describing the data\n",
    "# type of the array:\n",
    "\n",
    "print(np_arr_rs.shape)"
   ]
  },
  {
   "cell_type": "code",
   "execution_count": null,
   "id": "083ee5e6",
   "metadata": {},
   "outputs": [],
   "source": [
    "print(np_arr_rs.dtype)"
   ]
  },
  {
   "cell_type": "code",
   "execution_count": null,
   "id": "a55d4f35",
   "metadata": {},
   "outputs": [],
   "source": [
    "# Creating ndarrays The easiest way to create an array is to use the array function. This accepts any sequence-like object\n",
    "# (including other arrays) and produces a new NumPy array containing the passed data. For example, a list is a good\n",
    "# candidate for conversion:\n",
    "\n",
    "lst1 = [1,2,3,4]\n",
    "\n",
    "nump_arr = np.array(lst1)\n",
    "\n",
    "print(nump_arr)\n",
    "print(type(nump_arr))\n",
    "print(nump_arr.shape)\n",
    "print(f'Dimensions of nump_arr is {nump_arr.ndim}.')"
   ]
  },
  {
   "cell_type": "code",
   "execution_count": null,
   "id": "6b1d3386",
   "metadata": {},
   "outputs": [],
   "source": [
    "# Note, how for a one dimensional array, the shape tuple is (4,) but the dimensions are 1."
   ]
  },
  {
   "cell_type": "code",
   "execution_count": null,
   "id": "5a28ff40",
   "metadata": {},
   "outputs": [],
   "source": [
    "\n",
    "\n",
    "nump_arr = np.arange(8).reshape(4,2)\n",
    "\n",
    "print(nump_arr.shape)\n",
    "print(nump_arr.ndim)\n",
    "print(nump_arr)"
   ]
  },
  {
   "cell_type": "code",
   "execution_count": null,
   "id": "94acbba9",
   "metadata": {},
   "outputs": [],
   "source": [
    "# Nested sequences, like a list of equal-length lists, will be converted into a multi-dimensional array:"
   ]
  },
  {
   "cell_type": "code",
   "execution_count": null,
   "id": "b2dc629e",
   "metadata": {},
   "outputs": [],
   "source": [
    "lst2 = [[1,2,3,4], [10,20,30,40]]\n",
    "\n",
    "nump_arr2 = np.array(lst2)\n",
    "\n",
    "print(nump_arr2)\n",
    "print(type(nump_arr2))\n",
    "print(nump_arr2.shape)\n",
    "print(f'Dimensions of nump_arr2 is {nump_arr2.ndim}.')"
   ]
  },
  {
   "cell_type": "code",
   "execution_count": null,
   "id": "a3638b78",
   "metadata": {},
   "outputs": [],
   "source": [
    "print(nump_arr2)\n",
    "nump_arr2"
   ]
  },
  {
   "cell_type": "code",
   "execution_count": null,
   "id": "dc298701",
   "metadata": {},
   "outputs": [],
   "source": [
    "# Note the output when outputting nump_arr2 on the notebook. It specifies that this is an array - but note the return of the\n",
    "# comma!! It doesnt make a difference since we know that this is an array but just pointing out the difference in the \n",
    "# view of both commands."
   ]
  },
  {
   "cell_type": "code",
   "execution_count": null,
   "id": "c17402b7",
   "metadata": {},
   "outputs": [],
   "source": [
    "#asarray"
   ]
  },
  {
   "cell_type": "code",
   "execution_count": null,
   "id": "a366cce8",
   "metadata": {},
   "outputs": [],
   "source": [
    "import numpy as np\n",
    "\n",
    "lst1 = [1,2,3,4]\n",
    "np_array = np.array(lst1)\n",
    "np_asarray = np.asarray(lst1)\n",
    "\n",
    "print(np_array)\n",
    "print(type(np_array))\n",
    "\n",
    "print(np_asarray)\n",
    "print(type(np_asarray))"
   ]
  },
  {
   "cell_type": "code",
   "execution_count": null,
   "id": "2bb8f5ca",
   "metadata": {},
   "outputs": [],
   "source": [
    "lst1[0] = 100\n",
    "\n",
    "print(lst1)\n",
    "print(np_array)\n",
    "print(np_asarray)"
   ]
  },
  {
   "cell_type": "code",
   "execution_count": null,
   "id": "abb55bc5",
   "metadata": {},
   "outputs": [],
   "source": [
    "np_array[0] = 101\n",
    "print(lst1)\n",
    "print(np_array)\n",
    "print(np_asarray)"
   ]
  },
  {
   "cell_type": "code",
   "execution_count": null,
   "id": "2983ff7b",
   "metadata": {},
   "outputs": [],
   "source": [
    "np_array[0] = 1\n",
    "print(np_array)"
   ]
  },
  {
   "cell_type": "code",
   "execution_count": null,
   "id": "004f79e9",
   "metadata": {},
   "outputs": [],
   "source": [
    "np_asarray[0] = 1001\n",
    "\n",
    "print(lst1)\n",
    "print(np_array)\n",
    "print(np_asarray)\n"
   ]
  },
  {
   "cell_type": "markdown",
   "id": "ee5d3adb",
   "metadata": {},
   "source": [
    "###### np.array from list - change to either list or array does not affect the other\n",
    "###### np.asarray from list - change to either list or array does not affect the other\n",
    "\n",
    "##### np.array from array - change to either array does not affect the other\n",
    "##### np.asarray from array - change to either DOES affect the other"
   ]
  },
  {
   "cell_type": "code",
   "execution_count": null,
   "id": "19625090",
   "metadata": {},
   "outputs": [],
   "source": [
    "lst2 = [[1,2,3,4], [100,200,300,400]]\n",
    "\n",
    "np_lst = np.array(lst2)"
   ]
  },
  {
   "cell_type": "code",
   "execution_count": null,
   "id": "b2c7a85e",
   "metadata": {},
   "outputs": [],
   "source": [
    "print(np_lst)\n",
    "print(type(np_lst))"
   ]
  },
  {
   "cell_type": "code",
   "execution_count": null,
   "id": "632300f6",
   "metadata": {},
   "outputs": [],
   "source": [
    "np_array_lst = np.array(np_lst)\n",
    "np_asarray_lst = np.asarray(np_lst)\n",
    "\n",
    "print(np_array_lst, type(np_array_lst))\n",
    "print(np_asarray_lst, type(np_asarray_lst))"
   ]
  },
  {
   "cell_type": "code",
   "execution_count": null,
   "id": "8cb04b6b",
   "metadata": {},
   "outputs": [],
   "source": [
    "np_lst[0][1] = 1000\n",
    "\n",
    "print(np_lst)\n",
    "print(np_array_lst)\n",
    "print(np_asarray_lst)"
   ]
  },
  {
   "cell_type": "code",
   "execution_count": null,
   "id": "54cf5b7e",
   "metadata": {},
   "outputs": [],
   "source": [
    "np_array_lst[0][0] = 1111\n",
    "\n",
    "print(np_lst)\n",
    "print(np_array_lst)\n",
    "print(np_asarray_lst)"
   ]
  },
  {
   "cell_type": "code",
   "execution_count": null,
   "id": "06de1756",
   "metadata": {},
   "outputs": [],
   "source": [
    "np_asarray_lst[0][0] = 2222\n",
    "\n",
    "print(np_lst)\n",
    "print(np_array_lst)\n",
    "print(np_asarray_lst)"
   ]
  },
  {
   "cell_type": "code",
   "execution_count": null,
   "id": "d45f0b23",
   "metadata": {},
   "outputs": [],
   "source": [
    "# Before we go on - lets make the axis of Numpy clear. \n",
    "import numpy as np\n",
    "\n",
    "arr = np.arange(1,25)\n",
    "arr"
   ]
  },
  {
   "cell_type": "code",
   "execution_count": null,
   "id": "48cac656",
   "metadata": {},
   "outputs": [],
   "source": [
    "arr1 = arr.reshape(3,8)\n",
    "arr1"
   ]
  },
  {
   "cell_type": "code",
   "execution_count": null,
   "id": "6c5a1688",
   "metadata": {},
   "outputs": [],
   "source": [
    "arrx = np.arange(1,49)\n",
    "arrx"
   ]
  },
  {
   "cell_type": "code",
   "execution_count": null,
   "id": "3da001ef",
   "metadata": {},
   "outputs": [],
   "source": [
    "arr2 = arrx.reshape(2,3,8)\n",
    "arr2"
   ]
  },
  {
   "cell_type": "code",
   "execution_count": null,
   "id": "da5ea06c",
   "metadata": {},
   "outputs": [],
   "source": [
    "arr2x = np.arange(1,49).reshape(2,2,4,3)\n",
    "\n",
    "arr2x"
   ]
  },
  {
   "cell_type": "code",
   "execution_count": null,
   "id": "43edf4a5",
   "metadata": {
    "scrolled": true
   },
   "outputs": [],
   "source": [
    "import numpy as np\n",
    "\n",
    "arr_trial = np.arange(1,97).reshape(2,2,4,2,3)\n",
    "\n",
    "print(arr_trial)"
   ]
  },
  {
   "cell_type": "code",
   "execution_count": null,
   "id": "58ed6280",
   "metadata": {},
   "outputs": [],
   "source": [
    "arr_trial = np.arange(1,97).reshape(4,2,12)\n",
    "\n",
    "print(arr_trial)\n",
    "print(arr_trial.ndim)"
   ]
  },
  {
   "cell_type": "code",
   "execution_count": null,
   "id": "f2fba3e7",
   "metadata": {},
   "outputs": [],
   "source": []
  },
  {
   "cell_type": "code",
   "execution_count": null,
   "id": "7bc61a3d",
   "metadata": {},
   "outputs": [],
   "source": []
  },
  {
   "cell_type": "code",
   "execution_count": null,
   "id": "a428abf8",
   "metadata": {},
   "outputs": [],
   "source": []
  },
  {
   "cell_type": "code",
   "execution_count": null,
   "id": "87524d00",
   "metadata": {},
   "outputs": [],
   "source": [
    "print('arr :', arr, '\\n','_'*125)\n",
    "print('arr1 :', arr1, '\\n','_'*125)\n",
    "print('arr2 :', arr2, '\\n','_'*125)"
   ]
  },
  {
   "cell_type": "code",
   "execution_count": null,
   "id": "52936fb1",
   "metadata": {},
   "outputs": [],
   "source": [
    "arr2 = arr.reshape(2,3,4)\n",
    "print('arr2 :', arr2, '\\n','_'*125)\n"
   ]
  },
  {
   "cell_type": "code",
   "execution_count": null,
   "id": "bb3da3e0",
   "metadata": {},
   "outputs": [],
   "source": [
    "arr3 = arr.reshape(2,4,3)\n",
    "print(arr3)"
   ]
  },
  {
   "cell_type": "code",
   "execution_count": null,
   "id": "bbc59c3b",
   "metadata": {},
   "outputs": [],
   "source": [
    "arr4 = arr.reshape(4,3,2)\n",
    "print(arr4)"
   ]
  },
  {
   "cell_type": "code",
   "execution_count": null,
   "id": "f328241f",
   "metadata": {},
   "outputs": [],
   "source": [
    "print(arr)"
   ]
  },
  {
   "cell_type": "code",
   "execution_count": null,
   "id": "c0d0de80",
   "metadata": {},
   "outputs": [],
   "source": [
    "print('Sum Arr', np.sum(arr, axis = 0)) # 1D Array has no axis 1."
   ]
  },
  {
   "cell_type": "code",
   "execution_count": null,
   "id": "0796c8b5",
   "metadata": {},
   "outputs": [],
   "source": [
    "print(arr4)\n",
    "print(arr4.shape)"
   ]
  },
  {
   "cell_type": "code",
   "execution_count": null,
   "id": "fd8f7f91",
   "metadata": {},
   "outputs": [],
   "source": [
    "print(np.sum(arr4))"
   ]
  },
  {
   "cell_type": "code",
   "execution_count": null,
   "id": "1e35c1df",
   "metadata": {},
   "outputs": [],
   "source": [
    "print('sum Axis 0', np.sum(arr4, axis = 0))"
   ]
  },
  {
   "cell_type": "code",
   "execution_count": null,
   "id": "9790dfff",
   "metadata": {},
   "outputs": [],
   "source": [
    "ax0 = np.sum(arr4, axis = 0)\n",
    "\n",
    "print(ax0)\n",
    "print(ax0.shape)"
   ]
  },
  {
   "cell_type": "code",
   "execution_count": null,
   "id": "57c76326",
   "metadata": {},
   "outputs": [],
   "source": [
    "print(arr4)\n",
    "print(arr4.shape)"
   ]
  },
  {
   "cell_type": "code",
   "execution_count": null,
   "id": "03de629c",
   "metadata": {},
   "outputs": [],
   "source": [
    "print(arr4)"
   ]
  },
  {
   "cell_type": "code",
   "execution_count": null,
   "id": "b501b49f",
   "metadata": {},
   "outputs": [],
   "source": [
    "arr_col = np.sum(arr4, axis = 1)\n",
    "print(arr_col)\n",
    "print(arr_col.shape)"
   ]
  },
  {
   "cell_type": "code",
   "execution_count": null,
   "id": "9bd7c222",
   "metadata": {},
   "outputs": [],
   "source": [
    "print(arr4)\n",
    "\n",
    "print('Sum Axis 2', np.sum(arr4, axis = 2)) # 4,3,2     - 4,3"
   ]
  },
  {
   "cell_type": "code",
   "execution_count": null,
   "id": "8f544698",
   "metadata": {},
   "outputs": [],
   "source": [
    "arr6 = np.arange(1,13).reshape(3,2,2)\n",
    "\n",
    "print(arr6)"
   ]
  },
  {
   "cell_type": "code",
   "execution_count": null,
   "id": "41e03249",
   "metadata": {},
   "outputs": [],
   "source": [
    "arr = np.arange(1,49)\n",
    "arr5 = arr.reshape(3,4,2,2)\n",
    "print('arr5 :', arr5)\n",
    "print('Sum Axis 3', np.sum(arr5, axis = 0))"
   ]
  },
  {
   "cell_type": "code",
   "execution_count": null,
   "id": "aa7eabd0",
   "metadata": {},
   "outputs": [],
   "source": [
    "print(np.sum(arr6,axis = 2))"
   ]
  },
  {
   "cell_type": "code",
   "execution_count": null,
   "id": "ea5ca0b3",
   "metadata": {},
   "outputs": [],
   "source": [
    "print(np.sum(arr6, axis = 1))"
   ]
  },
  {
   "cell_type": "code",
   "execution_count": null,
   "id": "ab8241af",
   "metadata": {},
   "outputs": [],
   "source": [
    "print(np.sum(arr6))"
   ]
  },
  {
   "cell_type": "code",
   "execution_count": null,
   "id": "4f990caf",
   "metadata": {},
   "outputs": [],
   "source": [
    "import numpy as np\n",
    "\n",
    "num_arr = np.arange(1,2, 0.02)\n",
    "\n",
    "print(num_arr)\n",
    "print(type(num_arr))"
   ]
  },
  {
   "cell_type": "code",
   "execution_count": null,
   "id": "83565fe9",
   "metadata": {},
   "outputs": [],
   "source": [
    "python_range = list(range(1,20,1))\n",
    "print(python_range)"
   ]
  },
  {
   "cell_type": "markdown",
   "id": "d409a089",
   "metadata": {},
   "source": [
    "### Homogeneous n-dimensional vectors:\n",
    "\n",
    "In addition to np.array, there are a number of other functions for creating new arrays. As examples, zeros and ones create arrays of 0s or 1s, respectively, with a given length or shape(using tuples for shape)."
   ]
  },
  {
   "cell_type": "code",
   "execution_count": null,
   "id": "bbe86e47",
   "metadata": {},
   "outputs": [],
   "source": [
    "np_zero = np.zeros(10)\n",
    "\n",
    "print(np_zero)\n",
    "\n"
   ]
  },
  {
   "cell_type": "code",
   "execution_count": null,
   "id": "d0446888",
   "metadata": {},
   "outputs": [],
   "source": [
    "np_zero6x2 = np.zeros((2,6))\n",
    "\n",
    "print(np_zero6x2)"
   ]
  },
  {
   "cell_type": "code",
   "execution_count": null,
   "id": "838b118b",
   "metadata": {},
   "outputs": [],
   "source": [
    "#Note above how the shape is a tuple. "
   ]
  },
  {
   "cell_type": "code",
   "execution_count": null,
   "id": "c8fc0066",
   "metadata": {},
   "outputs": [],
   "source": [
    "np_one = np.ones(10)\n",
    "print(np_one)"
   ]
  },
  {
   "cell_type": "code",
   "execution_count": null,
   "id": "40303369",
   "metadata": {},
   "outputs": [],
   "source": [
    "np_one6x2 = np.ones((2,6,10), dtype = int)\n",
    "\n",
    "print(np_one6x2)"
   ]
  },
  {
   "cell_type": "code",
   "execution_count": null,
   "id": "7fd3bf17",
   "metadata": {},
   "outputs": [],
   "source": [
    "np_full_5 = np.full(5,10)\n",
    "\n",
    "print(np_full_5)"
   ]
  },
  {
   "cell_type": "code",
   "execution_count": null,
   "id": "1365777b",
   "metadata": {},
   "outputs": [],
   "source": [
    "np_full_a = np.full(10, 'a')"
   ]
  },
  {
   "cell_type": "code",
   "execution_count": null,
   "id": "02dce397",
   "metadata": {},
   "outputs": [],
   "source": [
    "print(np_full_a)"
   ]
  },
  {
   "cell_type": "code",
   "execution_count": null,
   "id": "4fd26427",
   "metadata": {},
   "outputs": [],
   "source": [
    "np_full6x2_5 = np.full((2,6), 5)\n",
    "\n",
    "print(np_full6x2_5)"
   ]
  },
  {
   "cell_type": "code",
   "execution_count": null,
   "id": "39340690",
   "metadata": {},
   "outputs": [],
   "source": [
    "# Empty creates an array without initializing its values to any particular value. To create a higher dimensional array\n",
    "# with these methods, use a tuple for shape."
   ]
  },
  {
   "cell_type": "code",
   "execution_count": null,
   "id": "ee6fdfd9",
   "metadata": {},
   "outputs": [],
   "source": [
    "np_nan = np.full(10,None)\n",
    "\n",
    "print(np_nan)\n",
    "\n",
    "print(type(np_nan[0]))"
   ]
  },
  {
   "cell_type": "code",
   "execution_count": 1,
   "id": "61445bb0",
   "metadata": {},
   "outputs": [
    {
     "name": "stdout",
     "output_type": "stream",
     "text": [
      "[0. 0. 0. 0. 0. 0. 0. 0. 0. 0.]\n"
     ]
    }
   ],
   "source": [
    "import numpy as np\n",
    "\n",
    "np_empty = np.empty(10)\n",
    "print(np_empty)\n"
   ]
  },
  {
   "cell_type": "code",
   "execution_count": 2,
   "id": "8b11e9d8",
   "metadata": {},
   "outputs": [
    {
     "name": "stdout",
     "output_type": "stream",
     "text": [
      "[[6.23042070e-307 4.67296746e-307 1.69121096e-306 1.20161118e-306\n",
      "  1.89146896e-307 7.56571288e-307]\n",
      " [3.11525958e-307 1.24610723e-306 1.29061142e-306 1.27951678e-307\n",
      "  9.34562258e-307 8.45603441e-307]]\n"
     ]
    }
   ],
   "source": [
    "np_empty6x2 = np.empty((2,6))\n",
    "print(np_empty6x2)"
   ]
  },
  {
   "cell_type": "code",
   "execution_count": null,
   "id": "a0b540e8",
   "metadata": {},
   "outputs": [],
   "source": [
    "#Note that the numpy empty does not actually have empty values - it does create the array of desired shape and size but with\n",
    "# arbitary values. It is slightly faster to initialise than np.zeros and np.ones especially for larger arrays. "
   ]
  },
  {
   "cell_type": "markdown",
   "id": "3ad77423",
   "metadata": {},
   "source": [
    "#### Note that for each of np.zeros, np.ones, np.full and np.empty there are np.zeros_like, ones_like, full_like and empty_like which behave just like the difference between np.array and np.asarray i.e. if the matrix is already an array, then does not create a copy but just gives array like funcitonality."
   ]
  },
  {
   "cell_type": "code",
   "execution_count": null,
   "id": "c09b7417",
   "metadata": {},
   "outputs": [],
   "source": [
    "#Matrix Functions"
   ]
  },
  {
   "cell_type": "code",
   "execution_count": 3,
   "id": "68de43b0",
   "metadata": {},
   "outputs": [
    {
     "name": "stdout",
     "output_type": "stream",
     "text": [
      "[[1. 0. 0. 0. 0.]\n",
      " [0. 1. 0. 0. 0.]\n",
      " [0. 0. 1. 0. 0.]\n",
      " [0. 0. 0. 1. 0.]\n",
      " [0. 0. 0. 0. 1.]]\n"
     ]
    }
   ],
   "source": [
    "#1. The identity matrix:\n",
    "# In linear algebra, the identity matrix of size n is the n × n square matrix with ones on the main diagonal and zeros\n",
    "# elsewhere.\n",
    "\n",
    "np_id = np.identity(5)\n",
    "\n",
    "print(np_id)"
   ]
  },
  {
   "cell_type": "code",
   "execution_count": null,
   "id": "7b27fcbd",
   "metadata": {},
   "outputs": [],
   "source": [
    "# Note that by default the 1s and 0s are float type. "
   ]
  },
  {
   "cell_type": "code",
   "execution_count": null,
   "id": "4d9a49cb",
   "metadata": {},
   "outputs": [],
   "source": [
    "np_id_int = np.identity(5, dtype = int)\n",
    "\n",
    "print(np_id_int)"
   ]
  },
  {
   "cell_type": "code",
   "execution_count": 4,
   "id": "22812110",
   "metadata": {},
   "outputs": [
    {
     "name": "stdout",
     "output_type": "stream",
     "text": [
      "[[ True False False False False]\n",
      " [False  True False False False]\n",
      " [False False  True False False]\n",
      " [False False False  True False]\n",
      " [False False False False  True]]\n"
     ]
    }
   ],
   "source": [
    "np_id_bool = np.identity(5,dtype= bool)\n",
    "\n",
    "print(np_id_bool)"
   ]
  },
  {
   "cell_type": "code",
   "execution_count": 5,
   "id": "a3988209",
   "metadata": {},
   "outputs": [
    {
     "name": "stdout",
     "output_type": "stream",
     "text": [
      "[[1. 0. 0. 0. 0.]\n",
      " [0. 1. 0. 0. 0.]\n",
      " [0. 0. 1. 0. 0.]\n",
      " [0. 0. 0. 1. 0.]\n",
      " [0. 0. 0. 0. 1.]]\n"
     ]
    }
   ],
   "source": [
    "# 2. Function ‘eye’:\n",
    "# It is used to return a 2-D array with ones on the diagonal and zeros elsewhere. Unlike identity, array does not necessarily\n",
    "# have to be square.\n",
    "\n",
    "np_eye_1 = np.eye(5)\n",
    "\n",
    "print(np_eye_1)\n"
   ]
  },
  {
   "cell_type": "code",
   "execution_count": 11,
   "id": "d43f5a81",
   "metadata": {},
   "outputs": [
    {
     "name": "stdout",
     "output_type": "stream",
     "text": [
      "[[1 0 0 0]\n",
      " [0 1 0 0]\n",
      " [0 0 1 0]\n",
      " [0 0 0 1]\n",
      " [0 0 0 0]]\n"
     ]
    }
   ],
   "source": [
    "np_eye_5x4 = np.eye(5,4, dtype = int)\n",
    "\n",
    "print(np_eye_5x4)"
   ]
  },
  {
   "cell_type": "code",
   "execution_count": null,
   "id": "fe25b7ba",
   "metadata": {},
   "outputs": [],
   "source": [
    "# We can also specify the diagnol in the eye function unlike the identity function. 0 is the default, Positive values are\n",
    "# integers above the main diagonal and negative values are integers below the main diagonal. "
   ]
  },
  {
   "cell_type": "code",
   "execution_count": 12,
   "id": "b276c2ac",
   "metadata": {},
   "outputs": [
    {
     "name": "stdout",
     "output_type": "stream",
     "text": [
      "[[1. 0. 0. 0. 0. 0.]\n",
      " [0. 1. 0. 0. 0. 0.]\n",
      " [0. 0. 1. 0. 0. 0.]\n",
      " [0. 0. 0. 1. 0. 0.]\n",
      " [0. 0. 0. 0. 1. 0.]\n",
      " [0. 0. 0. 0. 0. 1.]]\n"
     ]
    }
   ],
   "source": [
    "np_eye_8x6_0 = np.eye(6,6,0)\n",
    "\n",
    "print(np_eye_8x6_0)"
   ]
  },
  {
   "cell_type": "code",
   "execution_count": 13,
   "id": "68af49db",
   "metadata": {},
   "outputs": [
    {
     "name": "stdout",
     "output_type": "stream",
     "text": [
      "[[0. 1. 0. 0. 0. 0.]\n",
      " [0. 0. 1. 0. 0. 0.]\n",
      " [0. 0. 0. 1. 0. 0.]\n",
      " [0. 0. 0. 0. 1. 0.]\n",
      " [0. 0. 0. 0. 0. 1.]\n",
      " [0. 0. 0. 0. 0. 0.]]\n"
     ]
    }
   ],
   "source": [
    "np_eye_8x6_p1 = np.eye(6,6,1)\n",
    "\n",
    "print(np_eye_8x6_p1)"
   ]
  },
  {
   "cell_type": "code",
   "execution_count": 14,
   "id": "4d1f8095",
   "metadata": {},
   "outputs": [
    {
     "name": "stdout",
     "output_type": "stream",
     "text": [
      "[[0. 0. 1. 0. 0. 0.]\n",
      " [0. 0. 0. 1. 0. 0.]\n",
      " [0. 0. 0. 0. 1. 0.]\n",
      " [0. 0. 0. 0. 0. 1.]\n",
      " [0. 0. 0. 0. 0. 0.]\n",
      " [0. 0. 0. 0. 0. 0.]]\n"
     ]
    }
   ],
   "source": [
    "np_eye_8x6_p2 = np.eye(6,6,2)\n",
    "\n",
    "print(np_eye_8x6_p2)"
   ]
  },
  {
   "cell_type": "code",
   "execution_count": 15,
   "id": "3288fd21",
   "metadata": {},
   "outputs": [
    {
     "name": "stdout",
     "output_type": "stream",
     "text": [
      "[[0. 0. 0. 0. 0. 0.]\n",
      " [1. 0. 0. 0. 0. 0.]\n",
      " [0. 1. 0. 0. 0. 0.]\n",
      " [0. 0. 1. 0. 0. 0.]\n",
      " [0. 0. 0. 1. 0. 0.]\n",
      " [0. 0. 0. 0. 1. 0.]]\n"
     ]
    }
   ],
   "source": [
    "np_eye_8x6_n1 = np.eye(6,6,-1)\n",
    "\n",
    "print(np_eye_8x6_n1)"
   ]
  },
  {
   "cell_type": "code",
   "execution_count": 21,
   "id": "12104d67",
   "metadata": {},
   "outputs": [
    {
     "name": "stdout",
     "output_type": "stream",
     "text": [
      "[[0. 0. 0. 0. 0. 0.]\n",
      " [0. 0. 0. 0. 0. 0.]\n",
      " [1. 0. 0. 0. 0. 0.]\n",
      " [0. 1. 0. 0. 0. 0.]\n",
      " [0. 0. 1. 0. 0. 0.]\n",
      " [0. 0. 0. 1. 0. 0.]]\n"
     ]
    }
   ],
   "source": [
    "np_eye_8x6_n2 = np.eye(6,6,-2)\n",
    "\n",
    "print(np_eye_8x6_n2)"
   ]
  },
  {
   "cell_type": "code",
   "execution_count": null,
   "id": "b7e94b5f",
   "metadata": {},
   "outputs": [],
   "source": [
    "# 3. Function diag:\n",
    "# The diag function takes two arguments:\n",
    "# ● An ndarray v.\n",
    "# ● An integer k (default = 0). If ‘v’ is dimension is 1 then the function constructs a matrix where its diagonal number k \n",
    "# is formed by the elements of the vector ‘v’. If a is a matrix (dimension 2) then the function extracts the elements of\n",
    "# the kth diagonal in a one-dimensional vector."
   ]
  },
  {
   "cell_type": "code",
   "execution_count": 30,
   "id": "c26010e7",
   "metadata": {},
   "outputs": [
    {
     "name": "stdout",
     "output_type": "stream",
     "text": [
      "[[1 0 0 0 0 0 0 0 0]\n",
      " [0 2 0 0 0 0 0 0 0]\n",
      " [0 0 3 0 0 0 0 0 0]\n",
      " [0 0 0 4 0 0 0 0 0]\n",
      " [0 0 0 0 5 0 0 0 0]\n",
      " [0 0 0 0 0 6 0 0 0]\n",
      " [0 0 0 0 0 0 7 0 0]\n",
      " [0 0 0 0 0 0 0 8 0]\n",
      " [0 0 0 0 0 0 0 0 9]]\n"
     ]
    }
   ],
   "source": [
    "np_diag = np.diag(list(range(1,10)))\n",
    "\n",
    "print(np_diag)"
   ]
  },
  {
   "cell_type": "code",
   "execution_count": 28,
   "id": "bba7d1fb",
   "metadata": {},
   "outputs": [
    {
     "name": "stdout",
     "output_type": "stream",
     "text": [
      "[[1. 1. 1.]\n",
      " [1. 1. 1.]\n",
      " [1. 1. 1.]]\n"
     ]
    }
   ],
   "source": [
    "np_array_1 = np.ones((3,3))\n",
    "\n",
    "\n",
    "print(np_array_1)"
   ]
  },
  {
   "cell_type": "code",
   "execution_count": 34,
   "id": "d7cef3c2",
   "metadata": {},
   "outputs": [
    {
     "name": "stdout",
     "output_type": "stream",
     "text": [
      "[0 0 0 0]\n"
     ]
    }
   ],
   "source": [
    "np_diag1 = np.diag(np_diag, k=5)\n",
    "\n",
    "print(np_diag1)"
   ]
  },
  {
   "cell_type": "code",
   "execution_count": 25,
   "id": "fa65f7ba",
   "metadata": {},
   "outputs": [],
   "source": [
    "np_array_1 = np.diag([1,3,5])"
   ]
  },
  {
   "cell_type": "code",
   "execution_count": 26,
   "id": "580da367",
   "metadata": {},
   "outputs": [
    {
     "name": "stdout",
     "output_type": "stream",
     "text": [
      "[[1 0 0]\n",
      " [0 3 0]\n",
      " [0 0 5]]\n"
     ]
    }
   ],
   "source": [
    "np_diag1 = np.diag(np_array_1)\n",
    "\n",
    "print(np_array_1)"
   ]
  },
  {
   "cell_type": "code",
   "execution_count": 35,
   "id": "3e71c469",
   "metadata": {},
   "outputs": [
    {
     "name": "stdout",
     "output_type": "stream",
     "text": [
      "[0 0 0 0]\n"
     ]
    }
   ],
   "source": [
    "print(np_diag1)"
   ]
  },
  {
   "cell_type": "code",
   "execution_count": 36,
   "id": "dab95e02",
   "metadata": {},
   "outputs": [
    {
     "name": "stdout",
     "output_type": "stream",
     "text": [
      "[[  1   2   3]\n",
      " [ 10  20  30]\n",
      " [100 200 300]]\n"
     ]
    }
   ],
   "source": [
    "np_arr_lst = np.array([[1,2,3], [10,20,30], [100,200,300]])\n",
    "\n",
    "print(np_arr_lst)"
   ]
  },
  {
   "cell_type": "code",
   "execution_count": 37,
   "id": "a684d180",
   "metadata": {},
   "outputs": [
    {
     "name": "stdout",
     "output_type": "stream",
     "text": [
      "[  1  20 300]\n"
     ]
    }
   ],
   "source": [
    "np_diag_l = np.diag(np_arr_lst)\n",
    "\n",
    "print(np_diag_l)"
   ]
  },
  {
   "cell_type": "code",
   "execution_count": 40,
   "id": "2a5f6b7f",
   "metadata": {},
   "outputs": [
    {
     "name": "stdout",
     "output_type": "stream",
     "text": [
      "[ 2 30]\n"
     ]
    }
   ],
   "source": [
    "np_diag_2 = np.diag(np_arr_lst, 1)\n",
    "\n",
    "print(np_diag_2)"
   ]
  },
  {
   "cell_type": "code",
   "execution_count": 3,
   "id": "72d7ce55",
   "metadata": {},
   "outputs": [
    {
     "name": "stdout",
     "output_type": "stream",
     "text": [
      "[[1. 1. 1.]\n",
      " [1. 1. 1.]\n",
      " [1. 1. 1.]]\n"
     ]
    }
   ],
   "source": [
    "import numpy as np\n",
    "\n",
    "np_ones = np.ones((3,3))\n",
    "\n",
    "print(np_ones)"
   ]
  },
  {
   "cell_type": "code",
   "execution_count": 4,
   "id": "9eeb586b",
   "metadata": {},
   "outputs": [
    {
     "name": "stdout",
     "output_type": "stream",
     "text": [
      "[[ 0. -1. -2.]\n",
      " [ 1.  0. -1.]\n",
      " [ 2.  1.  0.]]\n"
     ]
    }
   ],
   "source": [
    "#4. Function ‘fromfunction’:\n",
    "# Construct an array by executing a function over each coordinate. Let’s create a vector-based on its indices.\n",
    "\n",
    "import numpy as np\n",
    "\n",
    "np_ffunc = np.fromfunction(lambda x,y : x-y, (3,3))\n",
    "\n",
    "print(np_ffunc)"
   ]
  },
  {
   "cell_type": "code",
   "execution_count": null,
   "id": "b411a306",
   "metadata": {},
   "outputs": [],
   "source": [
    "#Remember here that the co-ordinates x,y for each element are as follows:\n",
    "\n",
    "0,0   0,1   0,2\n",
    "1,0   1,1   1,2\n",
    "2,0   2,1   2,2"
   ]
  },
  {
   "cell_type": "code",
   "execution_count": 8,
   "id": "27528392",
   "metadata": {},
   "outputs": [
    {
     "name": "stdout",
     "output_type": "stream",
     "text": [
      "[[[0. 1. 2.]\n",
      "  [0. 1. 2.]\n",
      "  [0. 1. 2.]]\n",
      "\n",
      " [[0. 1. 2.]\n",
      "  [1. 2. 3.]\n",
      "  [2. 3. 4.]]\n",
      "\n",
      " [[0. 1. 2.]\n",
      "  [2. 3. 4.]\n",
      "  [4. 5. 6.]]]\n"
     ]
    }
   ],
   "source": [
    "np_ffuncXY2 = np.fromfunction(lambda x,y,z : x*y+z, (3,3,3))\n",
    "\n",
    "print(np_ffuncXY2)"
   ]
  },
  {
   "cell_type": "code",
   "execution_count": 5,
   "id": "1d2813d2",
   "metadata": {},
   "outputs": [
    {
     "ename": "SyntaxError",
     "evalue": "invalid syntax (<ipython-input-5-8a9ca8a166cc>, line 5)",
     "output_type": "error",
     "traceback": [
      "\u001b[1;36m  File \u001b[1;32m\"<ipython-input-5-8a9ca8a166cc>\"\u001b[1;36m, line \u001b[1;32m5\u001b[0m\n\u001b[1;33m    0,0,0  0,0,1  0,0,2\u001b[0m\n\u001b[1;37m           ^\u001b[0m\n\u001b[1;31mSyntaxError\u001b[0m\u001b[1;31m:\u001b[0m invalid syntax\n"
     ]
    }
   ],
   "source": [
    "# 0,0,0  0,0,1  0,0,2\n",
    "# 0,1,0  0,1,1, 0,1,2\n",
    "# 0,2,0, 0,2,1, 0,2,2\n",
    "\n",
    "# 1,0,0  1,0,1  1,0,2\n",
    "# 1,1,0  1,1,1, 1,1,2\n",
    "# 1,2,0, 1,2,1, 1,2,2\n",
    "\n",
    "# 2,0,0  2,0,1  2,0,2\n",
    "# 2,1,0  2,1,1, 2,1,2\n",
    "# 2,2,0, 2,2,1, 2,2,2"
   ]
  },
  {
   "cell_type": "code",
   "execution_count": null,
   "id": "1e5aae94",
   "metadata": {},
   "outputs": [],
   "source": [
    "import numpy as np\n",
    "\n",
    "np_ffunct_gte = np.fromfunction(lambda x,y : x >= y, (3,3))\n",
    "\n",
    "print(np_ffunct_gte)"
   ]
  },
  {
   "cell_type": "code",
   "execution_count": null,
   "id": "9e66377b",
   "metadata": {},
   "outputs": [],
   "source": [
    "# Aggregation methods:\n",
    "\n",
    "np_sample = np.arange(24).reshape(2,3,4)\n",
    "\n",
    "print(np_sample)"
   ]
  },
  {
   "cell_type": "code",
   "execution_count": null,
   "id": "6cc8d68a",
   "metadata": {},
   "outputs": [],
   "source": [
    "test = list(range(1,20,0.2))"
   ]
  },
  {
   "cell_type": "code",
   "execution_count": null,
   "id": "4465ba35",
   "metadata": {},
   "outputs": [],
   "source": [
    "test1 = np.arange(1,5,0.2)\n",
    "\n",
    "print(test1)"
   ]
  },
  {
   "cell_type": "code",
   "execution_count": null,
   "id": "6bb31fae",
   "metadata": {},
   "outputs": [],
   "source": [
    "# ● ndarray.sum: Return the sum of the array elements over the given axis.\n",
    "print(np_sample)"
   ]
  },
  {
   "cell_type": "code",
   "execution_count": null,
   "id": "d4b29856",
   "metadata": {},
   "outputs": [],
   "source": [
    "print(np_sample.sum()) # - With no axis specified, sums all the elements of the 0 axis."
   ]
  },
  {
   "cell_type": "code",
   "execution_count": null,
   "id": "bd1cc0e3",
   "metadata": {},
   "outputs": [],
   "source": [
    "np_s_a0 = np_sample.sum(0) # - with axis specified sums elements of specified axis or you could say collapses specified axis\n",
    "\n",
    "print(np_s_a0)\n",
    "print(np_s_a0.ndim)"
   ]
  },
  {
   "cell_type": "code",
   "execution_count": null,
   "id": "f5ba8db3",
   "metadata": {},
   "outputs": [],
   "source": [
    "print(np_sample)\n",
    "print(np_sample.ndim)"
   ]
  },
  {
   "cell_type": "code",
   "execution_count": null,
   "id": "1291c09d",
   "metadata": {},
   "outputs": [],
   "source": [
    "np_s_a1 = np_sample.sum(1)\n",
    "\n",
    "print(np_s_a1)\n",
    "print(np_s_a1.ndim)"
   ]
  },
  {
   "cell_type": "code",
   "execution_count": null,
   "id": "e79ec11a",
   "metadata": {},
   "outputs": [],
   "source": [
    "np_s_a2 = np_sample.sum(2)\n",
    "\n",
    "print(np_s_a2)\n",
    "print(np_s_a2.ndim)"
   ]
  },
  {
   "cell_type": "code",
   "execution_count": null,
   "id": "79a6f2c3",
   "metadata": {},
   "outputs": [],
   "source": [
    "print(np_sample)"
   ]
  },
  {
   "cell_type": "code",
   "execution_count": 41,
   "id": "5683d605",
   "metadata": {},
   "outputs": [
    {
     "name": "stdout",
     "output_type": "stream",
     "text": [
      "[[ 1  2  3  4  5]\n",
      " [ 6  7  8  9 10]]\n"
     ]
    }
   ],
   "source": [
    "# ● ndarray.product: Return the product of the array elements over the given axis.\n",
    "\n",
    "np_sample_2 = np.arange(1,11).reshape(2,5)\n",
    "\n",
    "print(np_sample_2)"
   ]
  },
  {
   "cell_type": "code",
   "execution_count": 42,
   "id": "ad274b51",
   "metadata": {},
   "outputs": [
    {
     "name": "stdout",
     "output_type": "stream",
     "text": [
      "3628800\n"
     ]
    }
   ],
   "source": [
    "np_prod = np_sample_2.prod()\n",
    "\n",
    "print(np_prod)"
   ]
  },
  {
   "cell_type": "code",
   "execution_count": 43,
   "id": "e6b762a2",
   "metadata": {},
   "outputs": [
    {
     "name": "stdout",
     "output_type": "stream",
     "text": [
      "[[ 1  2  3  4  5]\n",
      " [ 6  7  8  9 10]]\n"
     ]
    }
   ],
   "source": [
    "print(np_sample_2)"
   ]
  },
  {
   "cell_type": "code",
   "execution_count": 44,
   "id": "4a5508ac",
   "metadata": {},
   "outputs": [
    {
     "name": "stdout",
     "output_type": "stream",
     "text": [
      "[ 6 14 24 36 50]\n"
     ]
    }
   ],
   "source": [
    "np_prod_0 = np_sample_2.prod(0)\n",
    "\n",
    "print(np_prod_0)"
   ]
  },
  {
   "cell_type": "code",
   "execution_count": 45,
   "id": "18c782cd",
   "metadata": {},
   "outputs": [
    {
     "name": "stdout",
     "output_type": "stream",
     "text": [
      "[  120 30240]\n"
     ]
    }
   ],
   "source": [
    "np_prod_1 = np_sample_2.prod(1)\n",
    "\n",
    "print(np_prod_1)"
   ]
  },
  {
   "cell_type": "code",
   "execution_count": 50,
   "id": "6a7a3f36",
   "metadata": {},
   "outputs": [
    {
     "name": "stdout",
     "output_type": "stream",
     "text": [
      "[[[18 77 22 78]\n",
      "  [59 66 76 56]\n",
      "  [88 14 88 54]]\n",
      "\n",
      " [[99 24  2 29]\n",
      "  [13 64 47 30]\n",
      "  [49 32 76 17]]]\n"
     ]
    }
   ],
   "source": [
    "np_rand_sample = np.random.randint(1,100,24).reshape(2,3,4)\n",
    "\n",
    "print(np_rand_sample)"
   ]
  },
  {
   "cell_type": "code",
   "execution_count": null,
   "id": "19bee2b1",
   "metadata": {},
   "outputs": [],
   "source": [
    "# ● ndarray.max: Return the maximum along the given axis.\n",
    "# ● ndarray.argmax: Return indices of the maximum values along the given axis"
   ]
  },
  {
   "cell_type": "code",
   "execution_count": 51,
   "id": "140a3a5a",
   "metadata": {},
   "outputs": [
    {
     "name": "stdout",
     "output_type": "stream",
     "text": [
      "99\n"
     ]
    }
   ],
   "source": [
    "print(np_rand_sample.max()) #without any axis - maximum of array"
   ]
  },
  {
   "cell_type": "code",
   "execution_count": 52,
   "id": "0b8c9437",
   "metadata": {},
   "outputs": [
    {
     "name": "stdout",
     "output_type": "stream",
     "text": [
      "12\n"
     ]
    }
   ],
   "source": [
    "print(np_rand_sample.argmax()) # Index position of maximum number - without any axis > index value of max number (flattened\n",
    "# array)"
   ]
  },
  {
   "cell_type": "code",
   "execution_count": 53,
   "id": "7fc0d139",
   "metadata": {},
   "outputs": [
    {
     "name": "stdout",
     "output_type": "stream",
     "text": [
      "[18 77 22 78 59 66 76 56 88 14 88 54 99 24  2 29 13 64 47 30 49 32 76 17]\n"
     ]
    }
   ],
   "source": [
    "print(np_rand_sample.flatten())"
   ]
  },
  {
   "cell_type": "code",
   "execution_count": 54,
   "id": "a7fc0adc",
   "metadata": {},
   "outputs": [
    {
     "name": "stdout",
     "output_type": "stream",
     "text": [
      "[[[18 77 22 78]\n",
      "  [59 66 76 56]\n",
      "  [88 14 88 54]]\n",
      "\n",
      " [[99 24  2 29]\n",
      "  [13 64 47 30]\n",
      "  [49 32 76 17]]]\n"
     ]
    }
   ],
   "source": [
    "print(np_rand_sample)"
   ]
  },
  {
   "cell_type": "code",
   "execution_count": 55,
   "id": "c6357511",
   "metadata": {},
   "outputs": [
    {
     "name": "stdout",
     "output_type": "stream",
     "text": [
      "[[99 77 22 78]\n",
      " [59 66 76 56]\n",
      " [88 32 88 54]]\n"
     ]
    }
   ],
   "source": [
    "print(np_rand_sample.max(0)) # with axis 0"
   ]
  },
  {
   "cell_type": "code",
   "execution_count": 56,
   "id": "c8a839ab",
   "metadata": {},
   "outputs": [
    {
     "name": "stdout",
     "output_type": "stream",
     "text": [
      "[[1 0 0 0]\n",
      " [0 0 0 0]\n",
      " [0 1 0 0]]\n"
     ]
    }
   ],
   "source": [
    "print(np_rand_sample.argmax(0)) # with axis 0"
   ]
  },
  {
   "cell_type": "code",
   "execution_count": 57,
   "id": "721be16c",
   "metadata": {},
   "outputs": [
    {
     "name": "stdout",
     "output_type": "stream",
     "text": [
      "[[[18 77 22 78]\n",
      "  [59 66 76 56]\n",
      "  [88 14 88 54]]\n",
      "\n",
      " [[99 24  2 29]\n",
      "  [13 64 47 30]\n",
      "  [49 32 76 17]]]\n"
     ]
    }
   ],
   "source": [
    "print(np_rand_sample)"
   ]
  },
  {
   "cell_type": "code",
   "execution_count": 58,
   "id": "fb9d3335",
   "metadata": {},
   "outputs": [
    {
     "name": "stdout",
     "output_type": "stream",
     "text": [
      "[[88 77 88 78]\n",
      " [99 64 76 30]]\n",
      "[[2 0 2 0]\n",
      " [0 1 2 1]]\n"
     ]
    }
   ],
   "source": [
    "print(np_rand_sample.max(1))\n",
    "print(np_rand_sample.argmax(1))"
   ]
  },
  {
   "cell_type": "code",
   "execution_count": 59,
   "id": "9d905e25",
   "metadata": {},
   "outputs": [
    {
     "name": "stdout",
     "output_type": "stream",
     "text": [
      "[[[18 77 22 78]\n",
      "  [59 66 76 56]\n",
      "  [88 14 88 54]]\n",
      "\n",
      " [[99 24  2 29]\n",
      "  [13 64 47 30]\n",
      "  [49 32 76 17]]]\n"
     ]
    }
   ],
   "source": [
    "print(np_rand_sample)"
   ]
  },
  {
   "cell_type": "code",
   "execution_count": 60,
   "id": "2f386e64",
   "metadata": {},
   "outputs": [
    {
     "name": "stdout",
     "output_type": "stream",
     "text": [
      "[[78 76 88]\n",
      " [99 64 76]]\n",
      "[[3 2 0]\n",
      " [0 1 2]]\n"
     ]
    }
   ],
   "source": [
    "print(np_rand_sample.max(2))\n",
    "print(np_rand_sample.argmax(2))"
   ]
  },
  {
   "cell_type": "code",
   "execution_count": 61,
   "id": "2d0c4f14",
   "metadata": {},
   "outputs": [
    {
     "name": "stdout",
     "output_type": "stream",
     "text": [
      "[[[18 77 22 78]\n",
      "  [59 66 76 56]\n",
      "  [88 14 88 54]]\n",
      "\n",
      " [[99 24  2 29]\n",
      "  [13 64 47 30]\n",
      "  [49 32 76 17]]]\n"
     ]
    }
   ],
   "source": [
    "print(np_rand_sample)"
   ]
  },
  {
   "cell_type": "code",
   "execution_count": null,
   "id": "fe223659",
   "metadata": {},
   "outputs": [],
   "source": [
    "# ● ndarray.min: Return the minimum along the given axis.\n",
    "# ● ndarray.argmin: Return indices of the minimum values along the given axis."
   ]
  },
  {
   "cell_type": "code",
   "execution_count": 62,
   "id": "73efb02f",
   "metadata": {},
   "outputs": [
    {
     "name": "stdout",
     "output_type": "stream",
     "text": [
      "2\n",
      "14\n",
      "[18 77 22 78 59 66 76 56 88 14 88 54 99 24  2 29 13 64 47 30 49 32 76 17]\n"
     ]
    }
   ],
   "source": [
    "print(np_rand_sample.min())\n",
    "print(np_rand_sample.argmin())\n",
    "print(np_rand_sample.flatten())"
   ]
  },
  {
   "cell_type": "code",
   "execution_count": 63,
   "id": "13dd540f",
   "metadata": {},
   "outputs": [
    {
     "name": "stdout",
     "output_type": "stream",
     "text": [
      "[[[18 77 22 78]\n",
      "  [59 66 76 56]\n",
      "  [88 14 88 54]]\n",
      "\n",
      " [[99 24  2 29]\n",
      "  [13 64 47 30]\n",
      "  [49 32 76 17]]]\n"
     ]
    }
   ],
   "source": [
    "print(np_rand_sample)"
   ]
  },
  {
   "cell_type": "code",
   "execution_count": 64,
   "id": "c9edc706",
   "metadata": {},
   "outputs": [
    {
     "name": "stdout",
     "output_type": "stream",
     "text": [
      "[[18 24  2 29]\n",
      " [13 64 47 30]\n",
      " [49 14 76 17]]\n",
      "[[0 1 1 1]\n",
      " [1 1 1 1]\n",
      " [1 0 1 1]]\n"
     ]
    }
   ],
   "source": [
    "print(np_rand_sample.min(0))\n",
    "print(np_rand_sample.argmin(0))"
   ]
  },
  {
   "cell_type": "code",
   "execution_count": 65,
   "id": "65ba58ea",
   "metadata": {},
   "outputs": [
    {
     "name": "stdout",
     "output_type": "stream",
     "text": [
      "[[[18 77 22 78]\n",
      "  [59 66 76 56]\n",
      "  [88 14 88 54]]\n",
      "\n",
      " [[99 24  2 29]\n",
      "  [13 64 47 30]\n",
      "  [49 32 76 17]]]\n"
     ]
    }
   ],
   "source": [
    "print(np_rand_sample)"
   ]
  },
  {
   "cell_type": "code",
   "execution_count": 66,
   "id": "b7e9a60a",
   "metadata": {},
   "outputs": [
    {
     "name": "stdout",
     "output_type": "stream",
     "text": [
      "[[18 14 22 54]\n",
      " [13 24  2 17]]\n",
      "[[0 2 0 2]\n",
      " [1 0 0 2]]\n"
     ]
    }
   ],
   "source": [
    "print(np_rand_sample.min(1))\n",
    "print(np_rand_sample.argmin(1))"
   ]
  },
  {
   "cell_type": "code",
   "execution_count": 67,
   "id": "a0c988cf",
   "metadata": {},
   "outputs": [
    {
     "name": "stdout",
     "output_type": "stream",
     "text": [
      "[[18 56 14]\n",
      " [ 2 13 17]]\n",
      "[[0 3 1]\n",
      " [2 0 3]]\n"
     ]
    }
   ],
   "source": [
    "print(np_rand_sample.min(2))\n",
    "print(np_rand_sample.argmin(2))"
   ]
  },
  {
   "cell_type": "code",
   "execution_count": 68,
   "id": "a0e218ce",
   "metadata": {},
   "outputs": [
    {
     "name": "stdout",
     "output_type": "stream",
     "text": [
      "[[[18 77 22 78]\n",
      "  [59 66 76 56]\n",
      "  [88 14 88 54]]\n",
      "\n",
      " [[99 24  2 29]\n",
      "  [13 64 47 30]\n",
      "  [49 32 76 17]]]\n"
     ]
    }
   ],
   "source": [
    "# ● ndarray.mean: Returns the average of the array elements along the given axis.\n",
    "\n",
    "print(np_rand_sample)"
   ]
  },
  {
   "cell_type": "code",
   "execution_count": 69,
   "id": "1ab94b98",
   "metadata": {},
   "outputs": [
    {
     "name": "stdout",
     "output_type": "stream",
     "text": [
      "49.083333333333336\n"
     ]
    }
   ],
   "source": [
    "print(np_rand_sample.mean()) #without axis - mean of all elements."
   ]
  },
  {
   "cell_type": "code",
   "execution_count": 70,
   "id": "3feb6099",
   "metadata": {},
   "outputs": [
    {
     "name": "stdout",
     "output_type": "stream",
     "text": [
      "[[58.5 50.5 12.  53.5]\n",
      " [36.  65.  61.5 43. ]\n",
      " [68.5 23.  82.  35.5]]\n"
     ]
    }
   ],
   "source": [
    "print(np_rand_sample.mean(0))"
   ]
  },
  {
   "cell_type": "code",
   "execution_count": 71,
   "id": "bc2951f7",
   "metadata": {},
   "outputs": [
    {
     "name": "stdout",
     "output_type": "stream",
     "text": [
      "[[55.         52.33333333 62.         62.66666667]\n",
      " [53.66666667 40.         41.66666667 25.33333333]]\n"
     ]
    }
   ],
   "source": [
    "print(np_rand_sample.mean(1))"
   ]
  },
  {
   "cell_type": "code",
   "execution_count": 72,
   "id": "33c58ffc",
   "metadata": {},
   "outputs": [
    {
     "name": "stdout",
     "output_type": "stream",
     "text": [
      "[[48.75 64.25 61.  ]\n",
      " [38.5  38.5  43.5 ]]\n"
     ]
    }
   ],
   "source": [
    "print(np_rand_sample.mean(2))"
   ]
  },
  {
   "cell_type": "code",
   "execution_count": null,
   "id": "dae678dd",
   "metadata": {},
   "outputs": [],
   "source": [
    "# ● ndarray.cumsum: Return the cumulative sum of the elements along the given axis."
   ]
  },
  {
   "cell_type": "code",
   "execution_count": 73,
   "id": "6bac0e8e",
   "metadata": {},
   "outputs": [
    {
     "name": "stdout",
     "output_type": "stream",
     "text": [
      "[[[18 77 22 78]\n",
      "  [59 66 76 56]\n",
      "  [88 14 88 54]]\n",
      "\n",
      " [[99 24  2 29]\n",
      "  [13 64 47 30]\n",
      "  [49 32 76 17]]]\n"
     ]
    }
   ],
   "source": [
    "print(np_rand_sample)"
   ]
  },
  {
   "cell_type": "code",
   "execution_count": 74,
   "id": "e460a107",
   "metadata": {},
   "outputs": [
    {
     "name": "stdout",
     "output_type": "stream",
     "text": [
      "[  18   95  117  195  254  320  396  452  540  554  642  696  795  819\n",
      "  821  850  863  927  974 1004 1053 1085 1161 1178]\n"
     ]
    }
   ],
   "source": [
    "print(np_rand_sample.cumsum())"
   ]
  },
  {
   "cell_type": "code",
   "execution_count": 75,
   "id": "0251a612",
   "metadata": {},
   "outputs": [
    {
     "name": "stdout",
     "output_type": "stream",
     "text": [
      "[[[ 18  77  22  78]\n",
      "  [ 59  66  76  56]\n",
      "  [ 88  14  88  54]]\n",
      "\n",
      " [[117 101  24 107]\n",
      "  [ 72 130 123  86]\n",
      "  [137  46 164  71]]]\n"
     ]
    }
   ],
   "source": [
    "print(np_rand_sample.cumsum(0))"
   ]
  },
  {
   "cell_type": "code",
   "execution_count": 76,
   "id": "e22abd06",
   "metadata": {},
   "outputs": [
    {
     "name": "stdout",
     "output_type": "stream",
     "text": [
      "[[[ 18  77  22  78]\n",
      "  [ 77 143  98 134]\n",
      "  [165 157 186 188]]\n",
      "\n",
      " [[ 99  24   2  29]\n",
      "  [112  88  49  59]\n",
      "  [161 120 125  76]]]\n"
     ]
    }
   ],
   "source": [
    "print(np_rand_sample.cumsum(1))"
   ]
  },
  {
   "cell_type": "code",
   "execution_count": 78,
   "id": "9afd25f2",
   "metadata": {},
   "outputs": [
    {
     "name": "stdout",
     "output_type": "stream",
     "text": [
      "[[[18 77 22 78]\n",
      "  [59 66 76 56]\n",
      "  [88 14 88 54]]\n",
      "\n",
      " [[99 24  2 29]\n",
      "  [13 64 47 30]\n",
      "  [49 32 76 17]]]\n"
     ]
    }
   ],
   "source": [
    "print(np_rand_sample)"
   ]
  },
  {
   "cell_type": "code",
   "execution_count": 79,
   "id": "6aeb44e3",
   "metadata": {},
   "outputs": [
    {
     "name": "stdout",
     "output_type": "stream",
     "text": [
      "[[[ 18  95 117 195]\n",
      "  [ 59 125 201 257]\n",
      "  [ 88 102 190 244]]\n",
      "\n",
      " [[ 99 123 125 154]\n",
      "  [ 13  77 124 154]\n",
      "  [ 49  81 157 174]]]\n"
     ]
    }
   ],
   "source": [
    "print(np_rand_sample.cumsum(2))"
   ]
  },
  {
   "cell_type": "code",
   "execution_count": null,
   "id": "c8385559",
   "metadata": {},
   "outputs": [],
   "source": [
    "# ● ndarray.cumprod: Return the cumulative product of the elements along the given axis."
   ]
  },
  {
   "cell_type": "code",
   "execution_count": 80,
   "id": "9c6c82bd",
   "metadata": {},
   "outputs": [
    {
     "name": "stdout",
     "output_type": "stream",
     "text": [
      "[[[2 2 1]\n",
      "  [3 3 2]]\n",
      "\n",
      " [[8 9 4]\n",
      "  [6 7 2]]]\n"
     ]
    }
   ],
   "source": [
    "np_sample_cd = np.random.randint(1,10, 12).reshape(2,2,3)\n",
    "\n",
    "print(np_sample_cd)"
   ]
  },
  {
   "cell_type": "code",
   "execution_count": 81,
   "id": "80415418",
   "metadata": {},
   "outputs": [
    {
     "name": "stdout",
     "output_type": "stream",
     "text": [
      "[      2       4       4      12      36      72     576    5184   20736\n",
      "  124416  870912 1741824]\n"
     ]
    }
   ],
   "source": [
    "print(np_sample_cd.cumprod())"
   ]
  },
  {
   "cell_type": "code",
   "execution_count": 82,
   "id": "15ad1465",
   "metadata": {},
   "outputs": [
    {
     "name": "stdout",
     "output_type": "stream",
     "text": [
      "[[[ 2  2  1]\n",
      "  [ 3  3  2]]\n",
      "\n",
      " [[16 18  4]\n",
      "  [18 21  4]]]\n"
     ]
    }
   ],
   "source": [
    "print(np_sample_cd.cumprod(0))"
   ]
  },
  {
   "cell_type": "code",
   "execution_count": 83,
   "id": "22de87b8",
   "metadata": {},
   "outputs": [
    {
     "name": "stdout",
     "output_type": "stream",
     "text": [
      "[[[2 2 1]\n",
      "  [3 3 2]]\n",
      "\n",
      " [[8 9 4]\n",
      "  [6 7 2]]]\n"
     ]
    }
   ],
   "source": [
    "print(np_sample_cd)"
   ]
  },
  {
   "cell_type": "code",
   "execution_count": 84,
   "id": "08f08629",
   "metadata": {},
   "outputs": [
    {
     "name": "stdout",
     "output_type": "stream",
     "text": [
      "[[[ 2  2  1]\n",
      "  [ 6  6  2]]\n",
      "\n",
      " [[ 8  9  4]\n",
      "  [48 63  8]]]\n"
     ]
    }
   ],
   "source": [
    "print(np_sample_cd.cumprod(1))"
   ]
  },
  {
   "cell_type": "code",
   "execution_count": 85,
   "id": "a1c0d821",
   "metadata": {},
   "outputs": [
    {
     "name": "stdout",
     "output_type": "stream",
     "text": [
      "[[[  2   4   4]\n",
      "  [  3   9  18]]\n",
      "\n",
      " [[  8  72 288]\n",
      "  [  6  42  84]]]\n"
     ]
    }
   ],
   "source": [
    "print(np_sample_cd.cumprod(2))"
   ]
  },
  {
   "cell_type": "code",
   "execution_count": null,
   "id": "372a8e00",
   "metadata": {},
   "outputs": [],
   "source": [
    "# ● ndarray.var: Returns the variance of the array elements, along the given axis.\n",
    "# ● ndarray.std: Returns the standard deviation of the array elements along the given axis."
   ]
  },
  {
   "cell_type": "code",
   "execution_count": 86,
   "id": "662f0c26",
   "metadata": {},
   "outputs": [
    {
     "name": "stdout",
     "output_type": "stream",
     "text": [
      "[[[18 77 22 78]\n",
      "  [59 66 76 56]\n",
      "  [88 14 88 54]]\n",
      "\n",
      " [[99 24  2 29]\n",
      "  [13 64 47 30]\n",
      "  [49 32 76 17]]]\n"
     ]
    }
   ],
   "source": [
    "print(np_rand_sample)"
   ]
  },
  {
   "cell_type": "code",
   "execution_count": 87,
   "id": "04ed330d",
   "metadata": {},
   "outputs": [
    {
     "name": "stdout",
     "output_type": "stream",
     "text": [
      "mean :  49.083333333333336\n"
     ]
    }
   ],
   "source": [
    "print('mean : ', np_rand_sample.mean())"
   ]
  },
  {
   "cell_type": "code",
   "execution_count": 88,
   "id": "fa5449a0",
   "metadata": {},
   "outputs": [
    {
     "name": "stdout",
     "output_type": "stream",
     "text": [
      "Variance :  768.1597222222222\n"
     ]
    }
   ],
   "source": [
    "print('Variance : ', np_rand_sample.var())"
   ]
  },
  {
   "cell_type": "code",
   "execution_count": 89,
   "id": "5d3e4418",
   "metadata": {},
   "outputs": [
    {
     "name": "stdout",
     "output_type": "stream",
     "text": [
      "Standard Deviation :  27.715694510912442\n"
     ]
    }
   ],
   "source": [
    "print('Standard Deviation : ', np_rand_sample.std())"
   ]
  },
  {
   "cell_type": "code",
   "execution_count": 90,
   "id": "0e63761a",
   "metadata": {},
   "outputs": [
    {
     "name": "stdout",
     "output_type": "stream",
     "text": [
      "Variance\n",
      "[[1.64025e+03 7.02250e+02 1.00000e+02 6.00250e+02]\n",
      " [5.29000e+02 1.00000e+00 2.10250e+02 1.69000e+02]\n",
      " [3.80250e+02 8.10000e+01 3.60000e+01 3.42250e+02]]\n",
      "-----------------------------------------------------------------------------------------------------------------------------\n",
      "Standard Deviation\n",
      "[[40.5 26.5 10.  24.5]\n",
      " [23.   1.  14.5 13. ]\n",
      " [19.5  9.   6.  18.5]]\n"
     ]
    }
   ],
   "source": [
    "print('Variance')\n",
    "print(np_rand_sample.var(0))\n",
    "\n",
    "print('-'*125)\n",
    "\n",
    "print('Standard Deviation')\n",
    "print(np_rand_sample.std(0))"
   ]
  },
  {
   "cell_type": "code",
   "execution_count": 91,
   "id": "3ed25e25",
   "metadata": {},
   "outputs": [
    {
     "name": "stdout",
     "output_type": "stream",
     "text": [
      "Variance\n",
      "[[ 824.66666667  754.88888889  824.          118.22222222]\n",
      " [1243.55555556  298.66666667  926.88888889   34.88888889]]\n",
      "-----------------------------------------------------------------------------------------------------------------------------\n",
      "Standard Deviation\n",
      "[[28.71701006 27.47524138 28.70540019 10.87300429]\n",
      " [35.26408308 17.2819752  30.44484996  5.90668172]]\n"
     ]
    }
   ],
   "source": [
    "print('Variance')\n",
    "print(np_rand_sample.var(1))\n",
    "\n",
    "print('-'*125)\n",
    "\n",
    "print('Standard Deviation')\n",
    "print(np_rand_sample.std(1))"
   ]
  },
  {
   "cell_type": "code",
   "execution_count": 92,
   "id": "7e13f250",
   "metadata": {},
   "outputs": [
    {
     "name": "stdout",
     "output_type": "stream",
     "text": [
      "Variance\n",
      "[[ 828.6875   59.1875  929.    ]\n",
      " [1323.25    361.25    480.25  ]]\n",
      "-----------------------------------------------------------------------------------------------------------------------------\n",
      "Standard Deviation\n",
      "[[28.7869328   7.69334128 30.47950131]\n",
      " [36.37650341 19.00657781 21.914607  ]]\n"
     ]
    }
   ],
   "source": [
    "print('Variance')\n",
    "print(np_rand_sample.var(2))\n",
    "\n",
    "print('-'*125)\n",
    "\n",
    "print('Standard Deviation')\n",
    "print(np_rand_sample.std(2))"
   ]
  },
  {
   "cell_type": "markdown",
   "id": "6da17b02",
   "metadata": {},
   "source": [
    "### Data Types for ndarrays"
   ]
  },
  {
   "cell_type": "code",
   "execution_count": null,
   "id": "be7c1619",
   "metadata": {},
   "outputs": [],
   "source": [
    "# The data type or dtype is a special object containing the information (or metadata, data about data) the ndarray needs to\n",
    "# interpret a chunk of memory as a particular type of data:"
   ]
  },
  {
   "cell_type": "code",
   "execution_count": null,
   "id": "fe32d87a",
   "metadata": {},
   "outputs": [],
   "source": [
    "import numpy as np\n",
    "import sys\n",
    "np_arr1 = np.array([1,2,3], dtype = 'float16')"
   ]
  },
  {
   "cell_type": "code",
   "execution_count": null,
   "id": "d707b55e",
   "metadata": {},
   "outputs": [],
   "source": [
    "print(np_arr1.dtype)\n",
    "print(np_arr1)"
   ]
  },
  {
   "cell_type": "code",
   "execution_count": null,
   "id": "3ea3954e",
   "metadata": {},
   "outputs": [],
   "source": [
    "np_arr2 = np.array([10,-4,3], dtype = 'int8')\n",
    "\n",
    "print(np_arr2.dtype)\n",
    "print(np_arr2)\n",
    "\n",
    "print(sys.getsizeof(np_arr2[0]))\n",
    "print(sys.getsizeof(10))"
   ]
  },
  {
   "cell_type": "code",
   "execution_count": null,
   "id": "e9c62369",
   "metadata": {},
   "outputs": [],
   "source": [
    "# Type              Type code           Description\n",
    "# int8, uint8       i1, u1              Signed and unsigned 8-bit (1byte) integer types\n",
    "# int16, uint16     i2, u2              Signed and unsigned 16-bit integer types\n",
    "# int32, uint32     i4, u4              Signed and unsigned 32-bit integer types\n",
    "# int64, uint64     i8, u8              Signed and unsigned 64-bit integer types\n",
    "# float16           f2                  Half-precision floating point\n",
    "# float32           f4 or f             Standard single-precision floating point; compatible with C float\n",
    "# float64           f8 or d             Standard double-precision floating point; compatible with C double\n",
    "#                                       and Python float object\n",
    "# float128          f16 or g            Extended-precision floating point\n",
    "# complex64,        c8, c16, c32        Complex numbers represented by two 32, 64, or 128 floats respectively\n",
    "# complex128,\n",
    "# complex256\n",
    "# bool              ?                   Boolean type storing True and False values\n",
    "# object            O                   Python object type; a value can be any Python object\n",
    "# string_           S                   Fixed-length ASCII string type (1 byte per character); for example, to create a\n",
    "#                                       string dtype with length 10, use 'S10'\n",
    "# unicode_          U                   Fixed-length Unicode type (number of bytes platform specific); same specification\n",
    "#                                       semantics as string_ (e.g., 'U10')\n",
    "\n",
    "# Note: It’s important to be cautious when using the numpy string_ type, as string data in NumPy is fixed size and may\n",
    "# truncate input without warning"
   ]
  },
  {
   "cell_type": "markdown",
   "id": "34fb2f97",
   "metadata": {},
   "source": [
    "### Arithmetic with NumPy"
   ]
  },
  {
   "cell_type": "code",
   "execution_count": null,
   "id": "c9623faa",
   "metadata": {},
   "outputs": [],
   "source": [
    "# Arrays Arrays are important because they enable you to express batch operations on data without writing any for loops. \n",
    "# NumPy users call this vectorization. Any arithmetic operations between equal-size arrays applies the operation\n",
    "# element-wise:"
   ]
  },
  {
   "cell_type": "code",
   "execution_count": 9,
   "id": "8e1de855",
   "metadata": {},
   "outputs": [
    {
     "name": "stdout",
     "output_type": "stream",
     "text": [
      "[[1 2 3]\n",
      " [4 5 6]]\n",
      "[[ 2  4  6]\n",
      " [ 8 10 12]]\n"
     ]
    }
   ],
   "source": [
    "np_arr1 = np.array([[1,2,3], [4,5,6]])\n",
    "\n",
    "np_arr2 = np.array([[2,4,6], [8,10,12]])\n",
    "\n",
    "print(np_arr1)\n",
    "print(np_arr2)"
   ]
  },
  {
   "cell_type": "code",
   "execution_count": 10,
   "id": "6eaf2b6c",
   "metadata": {},
   "outputs": [
    {
     "name": "stdout",
     "output_type": "stream",
     "text": [
      "[[ 2  8 18]\n",
      " [32 50 72]]\n"
     ]
    }
   ],
   "source": [
    "print(np_arr1 * np_arr2)"
   ]
  },
  {
   "cell_type": "code",
   "execution_count": 11,
   "id": "dacd0407",
   "metadata": {},
   "outputs": [
    {
     "name": "stdout",
     "output_type": "stream",
     "text": [
      "[[1 2 3]\n",
      " [4 5 6]]\n"
     ]
    }
   ],
   "source": [
    "print(np_arr2 - np_arr1)"
   ]
  },
  {
   "cell_type": "code",
   "execution_count": null,
   "id": "dfd61e40",
   "metadata": {},
   "outputs": [],
   "source": [
    "# Arithmetic operations with scalars propagate the scalar argument to each element in the array:"
   ]
  },
  {
   "cell_type": "code",
   "execution_count": 12,
   "id": "e7559804",
   "metadata": {},
   "outputs": [
    {
     "name": "stdout",
     "output_type": "stream",
     "text": [
      "[[1 2 3]\n",
      " [4 5 6]]\n"
     ]
    }
   ],
   "source": [
    "print(np_arr1)"
   ]
  },
  {
   "cell_type": "code",
   "execution_count": 13,
   "id": "c4f7fd64",
   "metadata": {},
   "outputs": [
    {
     "name": "stdout",
     "output_type": "stream",
     "text": [
      "[[ 2  4  6]\n",
      " [ 8 10 12]]\n"
     ]
    }
   ],
   "source": [
    "print(np_arr1*2)"
   ]
  },
  {
   "cell_type": "code",
   "execution_count": 14,
   "id": "d4e86b87",
   "metadata": {},
   "outputs": [
    {
     "name": "stdout",
     "output_type": "stream",
     "text": [
      "[[1 2 3]\n",
      " [4 5 6]]\n",
      "[[ 2  4  6]\n",
      " [ 8 10 12]]\n"
     ]
    }
   ],
   "source": [
    "print(np_arr1)\n",
    "print(np_arr2)"
   ]
  },
  {
   "cell_type": "code",
   "execution_count": null,
   "id": "82f1585b",
   "metadata": {},
   "outputs": [],
   "source": [
    "print(np_arr1 * np_arr2)"
   ]
  },
  {
   "cell_type": "code",
   "execution_count": null,
   "id": "c5e07b64",
   "metadata": {},
   "outputs": [],
   "source": [
    "print((np_arr1*np_arr2)**1/2)"
   ]
  },
  {
   "cell_type": "code",
   "execution_count": null,
   "id": "fb54c7b1",
   "metadata": {},
   "outputs": [],
   "source": [
    "# Comparisons between arrays of the same size yield boolean arrays:"
   ]
  },
  {
   "cell_type": "code",
   "execution_count": 16,
   "id": "7438dafa",
   "metadata": {},
   "outputs": [
    {
     "name": "stdout",
     "output_type": "stream",
     "text": [
      "[[1 2 3]\n",
      " [4 5 6]]\n",
      "[[ 2  4  6]\n",
      " [ 8 10 12]]\n"
     ]
    }
   ],
   "source": [
    "print(np_arr1)\n",
    "print(np_arr2)"
   ]
  },
  {
   "cell_type": "code",
   "execution_count": 15,
   "id": "76c76c01",
   "metadata": {},
   "outputs": [
    {
     "name": "stdout",
     "output_type": "stream",
     "text": [
      "[[1 2 3]\n",
      " [4 5 6]]\n",
      "[[ 2  4  6]\n",
      " [ 8 10 12]]\n",
      "[[False False False]\n",
      " [False False False]]\n"
     ]
    }
   ],
   "source": [
    "print(np_arr1 > np_arr2)"
   ]
  },
  {
   "cell_type": "code",
   "execution_count": 17,
   "id": "9a8c64ee",
   "metadata": {},
   "outputs": [
    {
     "name": "stdout",
     "output_type": "stream",
     "text": [
      "2\n",
      "[[ 1  2  3  4  5]\n",
      " [ 6  7  8  9 10]]\n"
     ]
    }
   ],
   "source": [
    "arrtest = np.arange(1,11).reshape(2,5)\n",
    "\n",
    "arrtest\n",
    "\n",
    "print(arrtest.ndim)\n",
    "print(arrtest)"
   ]
  },
  {
   "cell_type": "code",
   "execution_count": 19,
   "id": "226b5d59",
   "metadata": {},
   "outputs": [
    {
     "name": "stdout",
     "output_type": "stream",
     "text": [
      "[[85  9 30]\n",
      " [23 85 98]]\n",
      "[[32 31 82]\n",
      " [29 36 87]]\n"
     ]
    }
   ],
   "source": [
    "np_arr1 = np.random.randint(1,100,6).reshape(2,3)\n",
    "\n",
    "np_arr2 = np.random.randint(1,100,6).reshape(2,3)\n",
    "\n",
    "print(np_arr1)\n",
    "print(np_arr2)"
   ]
  },
  {
   "cell_type": "code",
   "execution_count": 20,
   "id": "3098548f",
   "metadata": {},
   "outputs": [
    {
     "name": "stdout",
     "output_type": "stream",
     "text": [
      "[[ True False False]\n",
      " [False  True  True]]\n"
     ]
    }
   ],
   "source": [
    "np_trufals = np_arr1 > np_arr2\n",
    "\n",
    "print(np_trufals)"
   ]
  },
  {
   "cell_type": "code",
   "execution_count": 21,
   "id": "4d6c7bc4",
   "metadata": {},
   "outputs": [
    {
     "name": "stdout",
     "output_type": "stream",
     "text": [
      "[[1 2]\n",
      " [3 4]\n",
      " [5 6]]\n",
      "[[10 20]\n",
      " [30 40]\n",
      " [50 60]]\n"
     ]
    }
   ],
   "source": [
    "# Uncommon dimensions arrays are 'broadcast'. E.g.\n",
    "\n",
    "import numpy as np\n",
    "\n",
    "# However, broadcasting needs to follow certain rules. \n",
    "\n",
    "# Arrays are broadcastable if:\n",
    "\n",
    "# Arrays have exactly the same shape.\n",
    "\n",
    "np_arr_so = np.arange(1,7).reshape(3,2)\n",
    "np_arr_lo = np.arange(10,70,10).reshape(3,2)\n",
    "\n",
    "print(np_arr_so)\n",
    "print(np_arr_lo)"
   ]
  },
  {
   "cell_type": "code",
   "execution_count": null,
   "id": "448cb59d",
   "metadata": {},
   "outputs": [],
   "source": [
    "print(np_arr_so*np_arr_lo)"
   ]
  },
  {
   "cell_type": "code",
   "execution_count": 22,
   "id": "a369dbe1",
   "metadata": {},
   "outputs": [
    {
     "name": "stdout",
     "output_type": "stream",
     "text": [
      "[[0 1 2]]\n"
     ]
    }
   ],
   "source": [
    "# Arrays have the same number of dimensions and the length of each dimension is either a common length or 1.\n",
    "\n",
    "np_arr_so = np.arange(3).reshape(1,3)\n",
    "print(np_arr_so)"
   ]
  },
  {
   "cell_type": "code",
   "execution_count": 23,
   "id": "91e2b134",
   "metadata": {},
   "outputs": [
    {
     "name": "stdout",
     "output_type": "stream",
     "text": [
      "[[ 0 10 20]\n",
      " [30 40 50]]\n"
     ]
    }
   ],
   "source": [
    "np_arr_lo = np.arange(0,60,10).reshape(2,3)\n",
    "print(np_arr_lo)"
   ]
  },
  {
   "cell_type": "code",
   "execution_count": 24,
   "id": "680673bc",
   "metadata": {},
   "outputs": [
    {
     "name": "stdout",
     "output_type": "stream",
     "text": [
      "[[  0  10  40]\n",
      " [  0  40 100]]\n"
     ]
    }
   ],
   "source": [
    "print(np_arr_so*np_arr_lo)"
   ]
  },
  {
   "cell_type": "code",
   "execution_count": 27,
   "id": "a6ec450e",
   "metadata": {},
   "outputs": [
    {
     "name": "stdout",
     "output_type": "stream",
     "text": [
      "[[[[   1    4    9   16   25   36   49   64]\n",
      "   [   9   20   33   48   65   84  105  128]\n",
      "   [  17   36   57   80  105  132  161  192]\n",
      "   [  25   52   81  112  145  180  217  256]\n",
      "   [  33   68  105  144  185  228  273  320]\n",
      "   [  41   84  129  176  225  276  329  384]]\n",
      "\n",
      "  [[  49  100  153  208  265  324  385  448]\n",
      "   [  57  116  177  240  305  372  441  512]\n",
      "   [  65  132  201  272  345  420  497  576]\n",
      "   [  73  148  225  304  385  468  553  640]\n",
      "   [  81  164  249  336  425  516  609  704]\n",
      "   [  89  180  273  368  465  564  665  768]]\n",
      "\n",
      "  [[  97  196  297  400  505  612  721  832]\n",
      "   [ 105  212  321  432  545  660  777  896]\n",
      "   [ 113  228  345  464  585  708  833  960]\n",
      "   [ 121  244  369  496  625  756  889 1024]\n",
      "   [ 129  260  393  528  665  804  945 1088]\n",
      "   [ 137  276  417  560  705  852 1001 1152]]\n",
      "\n",
      "  [[ 145  292  441  592  745  900 1057 1216]\n",
      "   [ 153  308  465  624  785  948 1113 1280]\n",
      "   [ 161  324  489  656  825  996 1169 1344]\n",
      "   [ 169  340  513  688  865 1044 1225 1408]\n",
      "   [ 177  356  537  720  905 1092 1281 1472]\n",
      "   [ 185  372  561  752  945 1140 1337 1536]]]\n",
      "\n",
      "\n",
      " [[[1737 1940 2145 2352 2561 2772 2985 3200]\n",
      "   [1809 2020 2233 2448 2665 2884 3105 3328]\n",
      "   [1881 2100 2321 2544 2769 2996 3225 3456]\n",
      "   [1953 2180 2409 2640 2873 3108 3345 3584]\n",
      "   [2025 2260 2497 2736 2977 3220 3465 3712]\n",
      "   [2097 2340 2585 2832 3081 3332 3585 3840]]\n",
      "\n",
      "  [[2169 2420 2673 2928 3185 3444 3705 3968]\n",
      "   [2241 2500 2761 3024 3289 3556 3825 4096]\n",
      "   [2313 2580 2849 3120 3393 3668 3945 4224]\n",
      "   [2385 2660 2937 3216 3497 3780 4065 4352]\n",
      "   [2457 2740 3025 3312 3601 3892 4185 4480]\n",
      "   [2529 2820 3113 3408 3705 4004 4305 4608]]\n",
      "\n",
      "  [[2601 2900 3201 3504 3809 4116 4425 4736]\n",
      "   [2673 2980 3289 3600 3913 4228 4545 4864]\n",
      "   [2745 3060 3377 3696 4017 4340 4665 4992]\n",
      "   [2817 3140 3465 3792 4121 4452 4785 5120]\n",
      "   [2889 3220 3553 3888 4225 4564 4905 5248]\n",
      "   [2961 3300 3641 3984 4329 4676 5025 5376]]\n",
      "\n",
      "  [[3033 3380 3729 4080 4433 4788 5145 5504]\n",
      "   [3105 3460 3817 4176 4537 4900 5265 5632]\n",
      "   [3177 3540 3905 4272 4641 5012 5385 5760]\n",
      "   [3249 3620 3993 4368 4745 5124 5505 5888]\n",
      "   [3321 3700 4081 4464 4849 5236 5625 6016]\n",
      "   [3393 3780 4169 4560 4953 5348 5745 6144]]]]\n"
     ]
    }
   ],
   "source": [
    "arr_lo = np.arange(1,385).reshape(2,4,6,8)\n",
    "arr_so = np.arange(1,17).reshape(2,1,1,8)\n",
    "\n",
    "print(arr_lo * arr_so)"
   ]
  },
  {
   "cell_type": "code",
   "execution_count": 28,
   "id": "1e3d465e",
   "metadata": {},
   "outputs": [
    {
     "name": "stdout",
     "output_type": "stream",
     "text": [
      "[[ 0 10]\n",
      " [20 30]\n",
      " [40 50]]\n",
      "[[0 1]]\n"
     ]
    }
   ],
   "source": [
    "np_arr_lo = np.arange(0,60,10).reshape(3,2)\n",
    "np_arr_so = np.arange(2).reshape(1,2)\n",
    "\n",
    "print(np_arr_lo)\n",
    "print(np_arr_so)"
   ]
  },
  {
   "cell_type": "code",
   "execution_count": 29,
   "id": "2e7455fc",
   "metadata": {},
   "outputs": [
    {
     "name": "stdout",
     "output_type": "stream",
     "text": [
      "[[ 0 10]\n",
      " [ 0 30]\n",
      " [ 0 50]]\n"
     ]
    }
   ],
   "source": [
    "print(np_arr_lo*np_arr_so)"
   ]
  },
  {
   "cell_type": "code",
   "execution_count": 30,
   "id": "295952e6",
   "metadata": {},
   "outputs": [
    {
     "data": {
      "text/plain": [
       "array([[[0, 1, 2],\n",
       "        [3, 4, 5]]])"
      ]
     },
     "execution_count": 30,
     "metadata": {},
     "output_type": "execute_result"
    }
   ],
   "source": [
    "np_arr_so = np.arange(6).reshape(1,2,3)\n",
    "np_arr_so"
   ]
  },
  {
   "cell_type": "code",
   "execution_count": 31,
   "id": "2e2b33be",
   "metadata": {},
   "outputs": [
    {
     "data": {
      "text/plain": [
       "array([[[  0,  10,  20],\n",
       "        [ 30,  40,  50]],\n",
       "\n",
       "       [[ 60,  70,  80],\n",
       "        [ 90, 100, 110]]])"
      ]
     },
     "execution_count": 31,
     "metadata": {},
     "output_type": "execute_result"
    }
   ],
   "source": [
    "np_arr_lo = np.arange(0,120,10).reshape(2,2,3)\n",
    "np_arr_lo"
   ]
  },
  {
   "cell_type": "code",
   "execution_count": null,
   "id": "f19b7ec2",
   "metadata": {},
   "outputs": [],
   "source": [
    "print(np_arr_so+np_arr_lo)"
   ]
  },
  {
   "cell_type": "code",
   "execution_count": 41,
   "id": "dbfdbc89",
   "metadata": {},
   "outputs": [
    {
     "name": "stdout",
     "output_type": "stream",
     "text": [
      "[[[[1 2 3]\n",
      "   [4 5 6]]]]\n"
     ]
    }
   ],
   "source": [
    "# Array having too few dimensions can have its shape prepended with a dimension of length 1, so that the above stated\n",
    "# property is true.\n",
    "\n",
    "np_arr_so = np.arange(1,7).reshape(1,1,2,3)\n",
    "print(np_arr_so)"
   ]
  },
  {
   "cell_type": "code",
   "execution_count": 42,
   "id": "42ee3cf4",
   "metadata": {},
   "outputs": [
    {
     "name": "stdout",
     "output_type": "stream",
     "text": [
      "[[[[ 1  2  3]\n",
      "   [ 4  5  6]]\n",
      "\n",
      "  [[ 7  8  9]\n",
      "   [10 11 12]]\n",
      "\n",
      "  [[13 14 15]\n",
      "   [16 17 18]]]\n",
      "\n",
      "\n",
      " [[[19 20 21]\n",
      "   [22 23 24]]\n",
      "\n",
      "  [[25 26 27]\n",
      "   [28 29 30]]\n",
      "\n",
      "  [[31 32 33]\n",
      "   [34 35 36]]]]\n"
     ]
    }
   ],
   "source": [
    "np_arr_lo = np.arange(1,37).reshape(2,3,2,3)\n",
    "print(np_arr_lo)"
   ]
  },
  {
   "cell_type": "code",
   "execution_count": 43,
   "id": "558195aa",
   "metadata": {},
   "outputs": [
    {
     "data": {
      "text/plain": [
       "array([[[[  1,   4,   9],\n",
       "         [ 16,  25,  36]],\n",
       "\n",
       "        [[  7,  16,  27],\n",
       "         [ 40,  55,  72]],\n",
       "\n",
       "        [[ 13,  28,  45],\n",
       "         [ 64,  85, 108]]],\n",
       "\n",
       "\n",
       "       [[[ 19,  40,  63],\n",
       "         [ 88, 115, 144]],\n",
       "\n",
       "        [[ 25,  52,  81],\n",
       "         [112, 145, 180]],\n",
       "\n",
       "        [[ 31,  64,  99],\n",
       "         [136, 175, 216]]]])"
      ]
     },
     "execution_count": 43,
     "metadata": {},
     "output_type": "execute_result"
    }
   ],
   "source": [
    "np_arr_so*np_arr_lo"
   ]
  },
  {
   "cell_type": "code",
   "execution_count": 44,
   "id": "457d8429",
   "metadata": {},
   "outputs": [
    {
     "name": "stdout",
     "output_type": "stream",
     "text": [
      "[[1 2 3]\n",
      " [4 5 6]]\n"
     ]
    }
   ],
   "source": [
    "np_arr_so = np_arr_so.reshape(2,3)\n",
    "print(np_arr_so)"
   ]
  },
  {
   "cell_type": "code",
   "execution_count": 45,
   "id": "f4d4b171",
   "metadata": {},
   "outputs": [
    {
     "name": "stdout",
     "output_type": "stream",
     "text": [
      "[[[[  1   4   9]\n",
      "   [ 16  25  36]]\n",
      "\n",
      "  [[  7  16  27]\n",
      "   [ 40  55  72]]\n",
      "\n",
      "  [[ 13  28  45]\n",
      "   [ 64  85 108]]]\n",
      "\n",
      "\n",
      " [[[ 19  40  63]\n",
      "   [ 88 115 144]]\n",
      "\n",
      "  [[ 25  52  81]\n",
      "   [112 145 180]]\n",
      "\n",
      "  [[ 31  64  99]\n",
      "   [136 175 216]]]]\n"
     ]
    }
   ],
   "source": [
    "print(np_arr_so*np_arr_lo)"
   ]
  },
  {
   "cell_type": "code",
   "execution_count": 46,
   "id": "2c1ad1da",
   "metadata": {},
   "outputs": [],
   "source": [
    "np_append = np.arange(1,13).reshape(2,2,3)"
   ]
  },
  {
   "cell_type": "code",
   "execution_count": 58,
   "id": "18dbfb65",
   "metadata": {},
   "outputs": [],
   "source": [
    "np_append1 = np.arange(1,5).reshape(2,2)"
   ]
  },
  {
   "cell_type": "code",
   "execution_count": 59,
   "id": "1f03f580",
   "metadata": {},
   "outputs": [
    {
     "name": "stdout",
     "output_type": "stream",
     "text": [
      "[[[ 1  2  3]\n",
      "  [ 4  5  6]]\n",
      "\n",
      " [[ 7  8  9]\n",
      "  [10 11 12]]]\n",
      "[[1 2]\n",
      " [3 4]]\n"
     ]
    }
   ],
   "source": [
    "print(np_append)\n",
    "print(np_append1)"
   ]
  },
  {
   "cell_type": "code",
   "execution_count": 53,
   "id": "0b588c5b",
   "metadata": {},
   "outputs": [
    {
     "data": {
      "text/plain": [
       "array([[[ 2,  3,  4],\n",
       "        [ 6,  7,  8]],\n",
       "\n",
       "       [[10, 11, 12],\n",
       "        [14, 15, 16]]])"
      ]
     },
     "execution_count": 53,
     "metadata": {},
     "output_type": "execute_result"
    }
   ],
   "source": [
    "np_append + np_append1"
   ]
  },
  {
   "cell_type": "code",
   "execution_count": null,
   "id": "22cbc9d9",
   "metadata": {},
   "outputs": [],
   "source": []
  },
  {
   "cell_type": "code",
   "execution_count": null,
   "id": "2bf287bc",
   "metadata": {},
   "outputs": [],
   "source": [
    "# However, broadcasting follows certain rules:\n",
    "\n",
    "# An input can be used in calculation, if its size in a particular dimension matches the output size or its value is exactly\n",
    "# 1.\n",
    "\n",
    "# If an input has a dimension size of 1, the first data entry in that dimension is used for all calculations along that\n",
    "# dimension.\n",
    "\n",
    "# Array with smaller ndim than the other is prepended with '1' in its shape.\n",
    "\n",
    "# Size in each dimension of the output shape is maximum of the input sizes in that dimension.\n"
   ]
  },
  {
   "cell_type": "markdown",
   "id": "718d8cf1",
   "metadata": {},
   "source": [
    "### Basic Indexing and Slicing"
   ]
  },
  {
   "cell_type": "code",
   "execution_count": null,
   "id": "ebb6b765",
   "metadata": {},
   "outputs": [],
   "source": [
    "#NumPy array indexing is a rich topic, as there are many ways you may want to select a subset of your data or individual\n",
    "# elements. One-dimensional arrays are simple; on the surface they act similarly to Python lists:"
   ]
  },
  {
   "cell_type": "code",
   "execution_count": 60,
   "id": "e11dcee6",
   "metadata": {},
   "outputs": [
    {
     "name": "stdout",
     "output_type": "stream",
     "text": [
      "[0 1 2 3 4 5 6 7 8 9]\n"
     ]
    }
   ],
   "source": [
    "import numpy as np\n",
    "\n",
    "arr1 = np.arange(10)\n",
    "print(arr1)"
   ]
  },
  {
   "cell_type": "code",
   "execution_count": 61,
   "id": "8d8e9af1",
   "metadata": {},
   "outputs": [
    {
     "name": "stdout",
     "output_type": "stream",
     "text": [
      "5\n"
     ]
    }
   ],
   "source": [
    "print(arr1[5])"
   ]
  },
  {
   "cell_type": "code",
   "execution_count": 62,
   "id": "330fde11",
   "metadata": {},
   "outputs": [
    {
     "name": "stdout",
     "output_type": "stream",
     "text": [
      "[2 3]\n"
     ]
    }
   ],
   "source": [
    "print(arr1[2:4])"
   ]
  },
  {
   "cell_type": "code",
   "execution_count": null,
   "id": "7cb36b15",
   "metadata": {},
   "outputs": [],
   "source": [
    "# Slice assignment"
   ]
  },
  {
   "cell_type": "code",
   "execution_count": 68,
   "id": "9597f223",
   "metadata": {},
   "outputs": [
    {
     "name": "stdout",
     "output_type": "stream",
     "text": [
      "[ 0  1 11 11 11 11 11  7  8  9]\n"
     ]
    }
   ],
   "source": [
    "arr1[2:7] = 11\n",
    "\n",
    "print(arr1)"
   ]
  },
  {
   "cell_type": "code",
   "execution_count": 67,
   "id": "72f4fb16",
   "metadata": {},
   "outputs": [
    {
     "name": "stdout",
     "output_type": "stream",
     "text": [
      "[0, 1, 2, 3, 4, 5, 6, 7, 8, 9]\n",
      "[0, 1, 11, 4, 5, 6, 7, 8, 9]\n"
     ]
    }
   ],
   "source": [
    "list1 = list(range(10))\n",
    "print(list1)\n",
    "list1[2:4] = 11,\n",
    "print(list1)"
   ]
  },
  {
   "cell_type": "code",
   "execution_count": null,
   "id": "3da99f42",
   "metadata": {},
   "outputs": [],
   "source": [
    "# As you can see, if you assign a scalar value to a slice of an array, as in arr[2:4] = 11, the value is propagated (or \n",
    "# broadcasted henceforth) to the entire selection. While for lists, the value(s) of the iterable replace(s) the slice."
   ]
  },
  {
   "cell_type": "code",
   "execution_count": null,
   "id": "19632207",
   "metadata": {},
   "outputs": [],
   "source": [
    "# An important first distinction from Python’s built-in lists is that array slices are views on the original array. This\n",
    "# means that the data is not copied, and any modifications to the view will be reflected in the source array. To give\n",
    "# an example of this, first create a slice of arr:"
   ]
  },
  {
   "cell_type": "code",
   "execution_count": 69,
   "id": "7ed41594",
   "metadata": {},
   "outputs": [
    {
     "name": "stdout",
     "output_type": "stream",
     "text": [
      "[ 0  1  2  3  4  5  6  7  8  9 10]\n",
      "[5 6 7]\n"
     ]
    }
   ],
   "source": [
    "arr = np.arange(11)\n",
    "arr_slice = arr[5:8]\n",
    "print(arr)\n",
    "print(arr_slice)"
   ]
  },
  {
   "cell_type": "code",
   "execution_count": 70,
   "id": "009baedd",
   "metadata": {},
   "outputs": [
    {
     "name": "stdout",
     "output_type": "stream",
     "text": [
      "[   0    1    2    3    4    5 6789    7    8    9   10]\n",
      "[   5 6789    7]\n"
     ]
    }
   ],
   "source": [
    "arr_slice[1] = 6789\n",
    "print(arr)\n",
    "print(arr_slice)"
   ]
  },
  {
   "cell_type": "code",
   "execution_count": 72,
   "id": "d1f9dff1",
   "metadata": {},
   "outputs": [
    {
     "name": "stdout",
     "output_type": "stream",
     "text": [
      "[0, 1, 2, 3, 4, 5, 6, 7, 8, 9, 10]\n",
      "[5, 6, 7]\n"
     ]
    }
   ],
   "source": [
    "list1 = list(range(11))\n",
    "lst_slice = list1[5:8]\n",
    "print(list1)\n",
    "print(lst_slice)"
   ]
  },
  {
   "cell_type": "code",
   "execution_count": 73,
   "id": "46412eab",
   "metadata": {},
   "outputs": [
    {
     "name": "stdout",
     "output_type": "stream",
     "text": [
      "[5, 6789, 7]\n",
      "[0, 1, 2, 3, 4, 5, 6, 7, 8, 9, 10]\n"
     ]
    }
   ],
   "source": [
    "lst_slice[1] = 6789\n",
    "print(lst_slice)\n",
    "print(list1)"
   ]
  },
  {
   "cell_type": "code",
   "execution_count": null,
   "id": "eeb7e699",
   "metadata": {},
   "outputs": [],
   "source": [
    "# To copy an array or its slice you have to exlicitly copy."
   ]
  },
  {
   "cell_type": "code",
   "execution_count": 74,
   "id": "ce4eaaac",
   "metadata": {},
   "outputs": [
    {
     "name": "stdout",
     "output_type": "stream",
     "text": [
      "[ 0  1  2  3  4  5  6  7  8  9 10]\n",
      "[5 6 7]\n"
     ]
    }
   ],
   "source": [
    "arr = np.arange(11)\n",
    "print(arr)\n",
    "arr_slice = arr[5:8].copy()\n",
    "\n",
    "print(arr_slice)"
   ]
  },
  {
   "cell_type": "code",
   "execution_count": 75,
   "id": "76d9eb58",
   "metadata": {},
   "outputs": [
    {
     "name": "stdout",
     "output_type": "stream",
     "text": [
      "[   5 6789    7]\n",
      "[ 0  1  2  3  4  5  6  7  8  9 10]\n"
     ]
    }
   ],
   "source": [
    "arr_slice[1] = 6789\n",
    "\n",
    "print(arr_slice)\n",
    "print(arr)"
   ]
  },
  {
   "cell_type": "code",
   "execution_count": null,
   "id": "7ac13136",
   "metadata": {},
   "outputs": [],
   "source": [
    "# Accessing values in nested arrays."
   ]
  },
  {
   "cell_type": "code",
   "execution_count": 77,
   "id": "990250d1",
   "metadata": {},
   "outputs": [
    {
     "name": "stdout",
     "output_type": "stream",
     "text": [
      "5\n"
     ]
    }
   ],
   "source": [
    "lst1 = [[1,2,3],[4,5,6],[7,8,9]]\n",
    "\n",
    "print(lst1[1][1])"
   ]
  },
  {
   "cell_type": "code",
   "execution_count": 76,
   "id": "26e6dc5a",
   "metadata": {
    "scrolled": true
   },
   "outputs": [
    {
     "name": "stdout",
     "output_type": "stream",
     "text": [
      "[[1 2 3]\n",
      " [4 5 6]\n",
      " [7 8 9]]\n"
     ]
    }
   ],
   "source": [
    "arr_hdim = np.array([[1,2,3],[4,5,6],[7,8,9]])\n",
    "\n",
    "print(arr_hdim)"
   ]
  },
  {
   "cell_type": "code",
   "execution_count": 78,
   "id": "78877e1b",
   "metadata": {},
   "outputs": [
    {
     "name": "stdout",
     "output_type": "stream",
     "text": [
      "5\n"
     ]
    }
   ],
   "source": [
    "print(arr_hdim[1][1])"
   ]
  },
  {
   "cell_type": "code",
   "execution_count": 82,
   "id": "abfa4ccd",
   "metadata": {},
   "outputs": [
    {
     "name": "stdout",
     "output_type": "stream",
     "text": [
      "3\n"
     ]
    }
   ],
   "source": [
    "# Numpy allows you to use easier syntax to access elements in nested arrays.\n",
    "\n",
    "print(arr_hdim[0,2])"
   ]
  },
  {
   "cell_type": "code",
   "execution_count": null,
   "id": "e75075d5",
   "metadata": {},
   "outputs": [],
   "source": [
    "lst1 = [[1,2,3],[4,5,6],[7,8,9]]\n",
    "\n",
    "print(lst1[1][1])\n"
   ]
  },
  {
   "cell_type": "code",
   "execution_count": null,
   "id": "f7af68ef",
   "metadata": {},
   "outputs": [],
   "source": [
    "print(lst1[1,1])"
   ]
  },
  {
   "cell_type": "code",
   "execution_count": 83,
   "id": "670edf89",
   "metadata": {},
   "outputs": [
    {
     "data": {
      "text/plain": [
       "array([ 0,  1,  2,  3,  4,  5,  6,  7,  8,  9, 10])"
      ]
     },
     "execution_count": 83,
     "metadata": {},
     "output_type": "execute_result"
    }
   ],
   "source": [
    "#Indexing with slices\n",
    "\n",
    "#Like one-dimensional objects such as Python lists, ndarrays can be sliced with the familiar syntax:\n",
    "\n",
    "arr = np.arange(11)\n",
    "arr"
   ]
  },
  {
   "cell_type": "code",
   "execution_count": 84,
   "id": "118305c1",
   "metadata": {},
   "outputs": [
    {
     "name": "stdout",
     "output_type": "stream",
     "text": [
      "[1 2 3 4 5]\n"
     ]
    }
   ],
   "source": [
    "print(arr[1:6])"
   ]
  },
  {
   "cell_type": "code",
   "execution_count": 85,
   "id": "38d2c2ad",
   "metadata": {},
   "outputs": [
    {
     "name": "stdout",
     "output_type": "stream",
     "text": [
      "[[1 2 3]\n",
      " [4 5 6]\n",
      " [7 8 9]]\n"
     ]
    }
   ],
   "source": [
    "# Consider a two-dimensional array. Slicing this array is a bit different:\n",
    " \n",
    "arr_2d = np.array([[1,2,3], [4,5,6],[7,8,9]])\n",
    "\n",
    "print(arr_2d)"
   ]
  },
  {
   "cell_type": "code",
   "execution_count": 86,
   "id": "d3548a58",
   "metadata": {},
   "outputs": [
    {
     "name": "stdout",
     "output_type": "stream",
     "text": [
      "[[1 2 3]\n",
      " [4 5 6]]\n"
     ]
    }
   ],
   "source": [
    "print(arr_2d[:2]) \n",
    "\n",
    "# arr_2d[0, 1]\n",
    "# arr_2d[:2,:]"
   ]
  },
  {
   "cell_type": "code",
   "execution_count": 90,
   "id": "48cfb009",
   "metadata": {},
   "outputs": [
    {
     "data": {
      "text/plain": [
       "array([[1, 2, 3],\n",
       "       [4, 5, 6]])"
      ]
     },
     "execution_count": 90,
     "metadata": {},
     "output_type": "execute_result"
    }
   ],
   "source": [
    "arr_2d[:2,:]"
   ]
  },
  {
   "cell_type": "code",
   "execution_count": null,
   "id": "53de6370",
   "metadata": {},
   "outputs": [],
   "source": [
    "# As we see, the array has been sliced on axis 0"
   ]
  },
  {
   "cell_type": "code",
   "execution_count": 89,
   "id": "5bbe1eaa",
   "metadata": {},
   "outputs": [
    {
     "name": "stdout",
     "output_type": "stream",
     "text": [
      "[[1 2 3]\n",
      " [4 5 6]\n",
      " [7 8 9]]\n"
     ]
    }
   ],
   "source": [
    "print(arr_2d)"
   ]
  },
  {
   "cell_type": "code",
   "execution_count": 91,
   "id": "acc76929",
   "metadata": {},
   "outputs": [
    {
     "name": "stdout",
     "output_type": "stream",
     "text": [
      "[[1 2 3]\n",
      " [4 5 6]]\n"
     ]
    }
   ],
   "source": [
    "# As the syntax for multiple indexes seen previously, we can pass multiple slices as well. \n",
    "\n",
    "print(arr_2d[:2])"
   ]
  },
  {
   "cell_type": "code",
   "execution_count": 92,
   "id": "8473a7d9",
   "metadata": {},
   "outputs": [
    {
     "name": "stdout",
     "output_type": "stream",
     "text": [
      "[[1 2]\n",
      " [4 5]]\n"
     ]
    }
   ],
   "source": [
    "print(arr_2d[:2, :2])"
   ]
  },
  {
   "cell_type": "code",
   "execution_count": 93,
   "id": "af87b61c",
   "metadata": {},
   "outputs": [
    {
     "data": {
      "text/plain": [
       "array([[1, 2, 3],\n",
       "       [4, 5, 6],\n",
       "       [7, 8, 9]])"
      ]
     },
     "execution_count": 93,
     "metadata": {},
     "output_type": "execute_result"
    }
   ],
   "source": [
    "arr_2d"
   ]
  },
  {
   "cell_type": "code",
   "execution_count": 94,
   "id": "cc14b2d3",
   "metadata": {},
   "outputs": [
    {
     "name": "stdout",
     "output_type": "stream",
     "text": [
      "[[2 3]\n",
      " [5 6]]\n"
     ]
    }
   ],
   "source": [
    "# or\n",
    "\n",
    "print(arr_2d[:2,1:])"
   ]
  },
  {
   "cell_type": "code",
   "execution_count": null,
   "id": "9df914b6",
   "metadata": {},
   "outputs": [],
   "source": [
    "# When slicing like this, you always obtain array views of the same number of dimensions"
   ]
  },
  {
   "cell_type": "code",
   "execution_count": null,
   "id": "71aaf59c",
   "metadata": {},
   "outputs": [],
   "source": [
    "# By mixing integer indexes and slices, you get lower dimensional slices"
   ]
  },
  {
   "cell_type": "code",
   "execution_count": 95,
   "id": "18514eca",
   "metadata": {},
   "outputs": [
    {
     "name": "stdout",
     "output_type": "stream",
     "text": [
      "[[1 2 3]\n",
      " [4 5 6]\n",
      " [7 8 9]]\n"
     ]
    }
   ],
   "source": [
    "print(arr_2d)"
   ]
  },
  {
   "cell_type": "code",
   "execution_count": 96,
   "id": "c5139e03",
   "metadata": {},
   "outputs": [
    {
     "name": "stdout",
     "output_type": "stream",
     "text": [
      "[5 6]\n"
     ]
    }
   ],
   "source": [
    "print(arr_2d[1,1:])"
   ]
  },
  {
   "cell_type": "code",
   "execution_count": null,
   "id": "d831aa88",
   "metadata": {},
   "outputs": [],
   "source": [
    "# Here we first selected the 1st index on axis 0 and then sliced from 1st index to end along axis 1"
   ]
  },
  {
   "cell_type": "code",
   "execution_count": 97,
   "id": "a1294b95",
   "metadata": {},
   "outputs": [
    {
     "name": "stdout",
     "output_type": "stream",
     "text": [
      "[[4 5 6]\n",
      " [7 8 9]]\n"
     ]
    }
   ],
   "source": [
    "# Another example, slice from 1st index to end along axis 0 and then index 2 along axis 1\n",
    "print(arr_2d[1:])"
   ]
  },
  {
   "cell_type": "code",
   "execution_count": 98,
   "id": "951b2bd2",
   "metadata": {},
   "outputs": [
    {
     "name": "stdout",
     "output_type": "stream",
     "text": [
      "[6 9]\n"
     ]
    }
   ],
   "source": [
    "print(arr_2d[1:,2])"
   ]
  },
  {
   "cell_type": "code",
   "execution_count": 99,
   "id": "8261a209",
   "metadata": {},
   "outputs": [
    {
     "name": "stdout",
     "output_type": "stream",
     "text": [
      "[[[ 0  1  2  3]\n",
      "  [ 4  5  6  7]\n",
      "  [ 8  9 10 11]]\n",
      "\n",
      " [[12 13 14 15]\n",
      "  [16 17 18 19]\n",
      "  [20 21 22 23]]]\n"
     ]
    }
   ],
   "source": [
    "arr_3d = np.arange(24).reshape(2,3,4)\n",
    "\n",
    "print(arr_3d)"
   ]
  },
  {
   "cell_type": "code",
   "execution_count": 100,
   "id": "f9b06b91",
   "metadata": {},
   "outputs": [
    {
     "name": "stdout",
     "output_type": "stream",
     "text": [
      "18\n"
     ]
    }
   ],
   "source": [
    "print(arr_3d[1][1][2])"
   ]
  },
  {
   "cell_type": "code",
   "execution_count": 101,
   "id": "63d0d40b",
   "metadata": {},
   "outputs": [
    {
     "name": "stdout",
     "output_type": "stream",
     "text": [
      "[[12 16]]\n"
     ]
    }
   ],
   "source": [
    "print(arr_3d[1:,:2,0])"
   ]
  },
  {
   "cell_type": "code",
   "execution_count": null,
   "id": "dce583ac",
   "metadata": {},
   "outputs": [],
   "source": []
  },
  {
   "cell_type": "markdown",
   "id": "9b7050cd",
   "metadata": {},
   "source": [
    "### Boolean Indexing"
   ]
  },
  {
   "cell_type": "code",
   "execution_count": null,
   "id": "d8629a3e",
   "metadata": {},
   "outputs": [],
   "source": [
    "# Let’s consider an example where we have some data in an array and an array of names with duplicates. "
   ]
  },
  {
   "cell_type": "code",
   "execution_count": 102,
   "id": "a6df43e3",
   "metadata": {},
   "outputs": [
    {
     "name": "stdout",
     "output_type": "stream",
     "text": [
      "['Bob' 'John' 'Steve' 'Will' 'Bob' 'Steve' 'Bob']\n"
     ]
    }
   ],
   "source": [
    "names = np.array(['Bob', 'John', 'Steve', 'Will', 'Bob', 'Steve', 'Bob'])\n",
    "print(names)"
   ]
  },
  {
   "cell_type": "code",
   "execution_count": 103,
   "id": "ce9d5d27",
   "metadata": {},
   "outputs": [
    {
     "name": "stdout",
     "output_type": "stream",
     "text": [
      "[ True False False False  True False  True]\n"
     ]
    }
   ],
   "source": [
    "# Like arithmetic operations, comparisons (such as ==) with arrays are also vectorized. Thus, comparing names with\n",
    "# the string 'Bob' yields a boolean array:\n",
    "print(names == 'Bob')"
   ]
  },
  {
   "cell_type": "code",
   "execution_count": 104,
   "id": "83d0ef52",
   "metadata": {
    "scrolled": true
   },
   "outputs": [
    {
     "name": "stdout",
     "output_type": "stream",
     "text": [
      "[[6 2 5 9 2 7 8]\n",
      " [4 2 6 1 4 1 4]\n",
      " [4 2 7 2 1 7 1]\n",
      " [7 7 1 6 3 1 2]\n",
      " [8 6 2 2 5 3 1]\n",
      " [1 7 7 4 6 5 1]\n",
      " [8 2 8 5 9 1 1]]\n"
     ]
    }
   ],
   "source": [
    "data = np.random.randint(1,10,49).reshape(7,7)\n",
    "\n",
    "print(data)"
   ]
  },
  {
   "cell_type": "code",
   "execution_count": null,
   "id": "61ebc042",
   "metadata": {},
   "outputs": [],
   "source": [
    "# We can use the values from the boolean array returned from the comparison operator == performed on 'names' array to \n",
    "# index from another array data."
   ]
  },
  {
   "cell_type": "code",
   "execution_count": 105,
   "id": "895dbd12",
   "metadata": {},
   "outputs": [
    {
     "name": "stdout",
     "output_type": "stream",
     "text": [
      "[ True False False False  True False  True]\n"
     ]
    }
   ],
   "source": [
    "print(names=='Bob')"
   ]
  },
  {
   "cell_type": "code",
   "execution_count": 113,
   "id": "dc94cca5",
   "metadata": {},
   "outputs": [
    {
     "name": "stdout",
     "output_type": "stream",
     "text": [
      "[4 2 7 2 1 7 1]\n"
     ]
    }
   ],
   "source": [
    "data1 = data[2]\n",
    "\n",
    "print(data1)"
   ]
  },
  {
   "cell_type": "code",
   "execution_count": 127,
   "id": "7c52006c",
   "metadata": {},
   "outputs": [
    {
     "name": "stdout",
     "output_type": "stream",
     "text": [
      "['a', 'aa', 'aaa', 'aaaa', 'aaaaa', 'aaaaaa', 'aaaaaaa', 'b', 'bb', 'bbb', 'bbbb', 'bbbbb', 'bbbbbb', 'bbbbbbb', 'c', 'cc', 'ccc', 'cccc', 'ccccc', 'cccccc', 'ccccccc', 'd', 'dd', 'ddd', 'dddd', 'ddddd', 'dddddd', 'ddddddd', 'e', 'ee', 'eee', 'eeee', 'eeeee', 'eeeeee', 'eeeeeee', 'f', 'ff', 'fff', 'ffff', 'fffff', 'ffffff', 'fffffff', 'g', 'gg', 'ggg', 'gggg', 'ggggg', 'gggggg', 'ggggggg']\n"
     ]
    }
   ],
   "source": [
    "lst1 = list('abcdefg')\n",
    "\n",
    "lst2 = []\n",
    "\n",
    "for x in lst1:\n",
    "    for y in range(len(lst1)):\n",
    "        lst2.append(x*(y+1))\n",
    "print(lst2)"
   ]
  },
  {
   "cell_type": "code",
   "execution_count": 129,
   "id": "826a5ed3",
   "metadata": {},
   "outputs": [
    {
     "name": "stdout",
     "output_type": "stream",
     "text": [
      "[['a' 'aa' 'aaa' 'aaaa' 'aaaaa' 'aaaaaa' 'aaaaaaa']\n",
      " ['b' 'bb' 'bbb' 'bbbb' 'bbbbb' 'bbbbbb' 'bbbbbbb']\n",
      " ['c' 'cc' 'ccc' 'cccc' 'ccccc' 'cccccc' 'ccccccc']\n",
      " ['d' 'dd' 'ddd' 'dddd' 'ddddd' 'dddddd' 'ddddddd']\n",
      " ['e' 'ee' 'eee' 'eeee' 'eeeee' 'eeeeee' 'eeeeeee']\n",
      " ['f' 'ff' 'fff' 'ffff' 'fffff' 'ffffff' 'fffffff']\n",
      " ['g' 'gg' 'ggg' 'gggg' 'ggggg' 'gggggg' 'ggggggg']]\n"
     ]
    }
   ],
   "source": [
    "arr_alpha = np.array(lst2).reshape(7,7)\n",
    "\n",
    "print(arr_alpha)"
   ]
  },
  {
   "cell_type": "code",
   "execution_count": 114,
   "id": "3c5f93ce",
   "metadata": {},
   "outputs": [
    {
     "name": "stdout",
     "output_type": "stream",
     "text": [
      "[ True False False False  True False  True]\n"
     ]
    }
   ],
   "source": [
    "print(names == 'Bob')"
   ]
  },
  {
   "cell_type": "code",
   "execution_count": 115,
   "id": "7bc1f1a3",
   "metadata": {},
   "outputs": [
    {
     "name": "stdout",
     "output_type": "stream",
     "text": [
      "[4 1 1]\n"
     ]
    }
   ],
   "source": [
    "print(data1[names == 'Bob'])"
   ]
  },
  {
   "cell_type": "code",
   "execution_count": 117,
   "id": "dd9d725a",
   "metadata": {},
   "outputs": [
    {
     "name": "stdout",
     "output_type": "stream",
     "text": [
      "[[6 2 5 9 2 7 8]\n",
      " [4 2 6 1 4 1 4]\n",
      " [4 2 7 2 1 7 1]\n",
      " [7 7 1 6 3 1 2]\n",
      " [8 6 2 2 5 3 1]\n",
      " [1 7 7 4 6 5 1]\n",
      " [8 2 8 5 9 1 1]]\n"
     ]
    }
   ],
   "source": [
    "print(data)"
   ]
  },
  {
   "cell_type": "code",
   "execution_count": 116,
   "id": "b3866c00",
   "metadata": {},
   "outputs": [
    {
     "name": "stdout",
     "output_type": "stream",
     "text": [
      "[[6 2 5 9 2 7 8]\n",
      " [8 6 2 2 5 3 1]\n",
      " [8 2 8 5 9 1 1]]\n"
     ]
    }
   ],
   "source": [
    "print(data[names == 'Bob'])"
   ]
  },
  {
   "cell_type": "code",
   "execution_count": 120,
   "id": "b422dd45",
   "metadata": {},
   "outputs": [
    {
     "name": "stdout",
     "output_type": "stream",
     "text": [
      "[ True False False False  True False  True]\n"
     ]
    }
   ],
   "source": [
    "data1n = names == 'Bob'\n",
    "\n",
    "print(data1n)"
   ]
  },
  {
   "cell_type": "code",
   "execution_count": 130,
   "id": "2f31c95b",
   "metadata": {},
   "outputs": [
    {
     "name": "stdout",
     "output_type": "stream",
     "text": [
      "['a' 'eeeee' 'ggggggg']\n"
     ]
    }
   ],
   "source": [
    "print(arr_alpha[names == 'Bob', names=='Bob'])"
   ]
  },
  {
   "cell_type": "code",
   "execution_count": 132,
   "id": "9a03aea1",
   "metadata": {},
   "outputs": [
    {
     "name": "stdout",
     "output_type": "stream",
     "text": [
      "[1.   1.01 1.02 1.03 1.04 1.05 1.06 1.07 1.08 1.09 1.1  1.11 1.12 1.13\n",
      " 1.14 1.15 1.16 1.17 1.18 1.19 1.2  1.21 1.22 1.23 1.24 1.25 1.26 1.27\n",
      " 1.28 1.29 1.3  1.31 1.32 1.33 1.34 1.35 1.36 1.37 1.38 1.39 1.4  1.41\n",
      " 1.42 1.43 1.44 1.45 1.46 1.47 1.48 1.49 1.5  1.51 1.52 1.53 1.54 1.55\n",
      " 1.56 1.57 1.58 1.59 1.6  1.61 1.62 1.63 1.64 1.65 1.66 1.67 1.68 1.69\n",
      " 1.7  1.71 1.72 1.73 1.74 1.75 1.76 1.77 1.78 1.79 1.8  1.81 1.82 1.83\n",
      " 1.84 1.85 1.86 1.87 1.88 1.89 1.9  1.91 1.92 1.93 1.94 1.95 1.96 1.97\n",
      " 1.98 1.99 2.   2.01 2.02 2.03 2.04 2.05 2.06 2.07 2.08 2.09 2.1  2.11\n",
      " 2.12 2.13 2.14 2.15 2.16 2.17 2.18 2.19 2.2  2.21 2.22 2.23 2.24 2.25\n",
      " 2.26 2.27 2.28 2.29 2.3  2.31 2.32 2.33 2.34 2.35 2.36 2.37 2.38 2.39\n",
      " 2.4  2.41 2.42 2.43 2.44 2.45 2.46 2.47 2.48 2.49 2.5  2.51 2.52 2.53\n",
      " 2.54 2.55 2.56 2.57 2.58 2.59 2.6  2.61 2.62 2.63 2.64 2.65 2.66 2.67\n",
      " 2.68 2.69 2.7  2.71 2.72 2.73 2.74 2.75 2.76 2.77 2.78 2.79 2.8  2.81\n",
      " 2.82 2.83 2.84 2.85 2.86 2.87 2.88 2.89 2.9  2.91 2.92 2.93 2.94 2.95\n",
      " 2.96 2.97 2.98 2.99]\n"
     ]
    }
   ],
   "source": [
    "# Arange function in Numpy. Takes 4 arguments\n",
    "\n",
    "#1. Start - Optional - defaults to 0\n",
    "#2. Stop - Mandatory\n",
    "#3. Step - Optional - Defaults to 1 but can take floating point numbers as a step (Unlike built-in range function of Python)\n",
    "#4. dtype - Optional\n",
    "\n",
    "\n",
    "np_arr_dec = np.arange(1,3,0.01)\n",
    "\n",
    "print(np_arr_dec)"
   ]
  },
  {
   "cell_type": "code",
   "execution_count": null,
   "id": "4e4cb0a8",
   "metadata": {},
   "outputs": [],
   "source": [
    "range_1 = list(range(1,3,0.1))\n",
    "print(list(range_1))"
   ]
  },
  {
   "cell_type": "code",
   "execution_count": null,
   "id": "594d6019",
   "metadata": {},
   "outputs": [],
   "source": [
    "range_2 = list(range(1,3,1))\n",
    "print(list(range_2))"
   ]
  },
  {
   "cell_type": "code",
   "execution_count": null,
   "id": "d4ffe084",
   "metadata": {},
   "outputs": [],
   "source": [
    "# linspace function - returns evenly spaced equidistant number numbers between a specified range."
   ]
  },
  {
   "cell_type": "code",
   "execution_count": 93,
   "id": "de280166",
   "metadata": {},
   "outputs": [],
   "source": [
    "# It takes 7 arguments.\n",
    "\n",
    "#1. Start - Mandatory\n",
    "#2. Stop - Mandatory\n",
    "#3. Num - Optional - Number of samples required between the range/interval. By default set to 50\n",
    "#4. endpoint - Optional - By default set to true and includes the endpoint(i.e. stop value) - if set to False, returns\n",
    "# equidistant numbers not including the endpoint/stop value.\n",
    "#5 retstep - Optional - Default is False. If set to true, returns the samples and the step value (distance between samples)\n",
    "#6 dtype - Optional - By default datatype will be inferred. However, for int datatype, float will be considered even if \n",
    "# start and stop are int.\n",
    "#7 axis - Optional - By default 0 axis. Only useful in case start and stop are array-like."
   ]
  },
  {
   "cell_type": "code",
   "execution_count": 138,
   "id": "880b6fde",
   "metadata": {},
   "outputs": [
    {
     "name": "stdout",
     "output_type": "stream",
     "text": [
      "[0.         0.08163265 0.16326531 0.24489796 0.32653061 0.40816327\n",
      " 0.48979592 0.57142857 0.65306122 0.73469388 0.81632653 0.89795918\n",
      " 0.97959184 1.06122449 1.14285714 1.2244898  1.30612245 1.3877551\n",
      " 1.46938776 1.55102041 1.63265306 1.71428571 1.79591837 1.87755102\n",
      " 1.95918367 2.04081633 2.12244898 2.20408163 2.28571429 2.36734694\n",
      " 2.44897959 2.53061224 2.6122449  2.69387755 2.7755102  2.85714286\n",
      " 2.93877551 3.02040816 3.10204082 3.18367347 3.26530612 3.34693878\n",
      " 3.42857143 3.51020408 3.59183673 3.67346939 3.75510204 3.83673469\n",
      " 3.91836735 4.        ]\n"
     ]
    }
   ],
   "source": [
    "arr_lin = np.linspace(0,4)\n",
    "\n",
    "print(arr_lin)"
   ]
  },
  {
   "cell_type": "code",
   "execution_count": null,
   "id": "13e42cf7",
   "metadata": {},
   "outputs": [],
   "source": [
    "# By default creates 50 equidistant samples / points"
   ]
  },
  {
   "cell_type": "code",
   "execution_count": 139,
   "id": "3223e026",
   "metadata": {},
   "outputs": [
    {
     "name": "stdout",
     "output_type": "stream",
     "text": [
      "[ 0.  5. 10. 15. 20.]\n"
     ]
    }
   ],
   "source": [
    "arr_lin10 = np.linspace(0,20,5) # with num of samples specified\n",
    "\n",
    "print(arr_lin10)"
   ]
  },
  {
   "cell_type": "code",
   "execution_count": 140,
   "id": "19cea00c",
   "metadata": {},
   "outputs": [],
   "source": [
    "arr_lin10_noEP = np.linspace(1,20,5, endpoint=False) #No Endpoint included"
   ]
  },
  {
   "cell_type": "code",
   "execution_count": 141,
   "id": "ba940a83",
   "metadata": {},
   "outputs": [
    {
     "name": "stdout",
     "output_type": "stream",
     "text": [
      "[ 1.   4.8  8.6 12.4 16.2]\n"
     ]
    }
   ],
   "source": [
    "print(arr_lin10_noEP)"
   ]
  },
  {
   "cell_type": "code",
   "execution_count": 142,
   "id": "f70f20e8",
   "metadata": {},
   "outputs": [
    {
     "name": "stdout",
     "output_type": "stream",
     "text": [
      "(array([ 1. ,  4.8,  8.6, 12.4, 16.2]), 3.8)\n",
      "<class 'tuple'>\n"
     ]
    }
   ],
   "source": [
    "arr_lin10_noEP_wRS = np.linspace(1,20,5, endpoint=False, retstep=True) #With array as 1st element and step value as 2nd\n",
    "                                                                       # element of tuple.\n",
    "print(arr_lin10_noEP_wRS)\n",
    "print(type(arr_lin10_noEP_wRS))"
   ]
  },
  {
   "cell_type": "code",
   "execution_count": 143,
   "id": "b4c7ab68",
   "metadata": {},
   "outputs": [
    {
     "name": "stdout",
     "output_type": "stream",
     "text": [
      "[ 1  5 10 15 20]\n"
     ]
    }
   ],
   "source": [
    "arr_lin10_int = np.linspace(1,20,5, dtype = int) # With dtype specified.\n",
    "print(arr_lin10_int)"
   ]
  },
  {
   "cell_type": "code",
   "execution_count": 144,
   "id": "b42a418d",
   "metadata": {},
   "outputs": [
    {
     "name": "stdout",
     "output_type": "stream",
     "text": [
      "[[1.         2.        ]\n",
      " [1.22222222 2.22222222]\n",
      " [1.44444444 2.44444444]\n",
      " [1.66666667 2.66666667]\n",
      " [1.88888889 2.88888889]\n",
      " [2.11111111 3.11111111]\n",
      " [2.33333333 3.33333333]\n",
      " [2.55555556 3.55555556]\n",
      " [2.77777778 3.77777778]\n",
      " [3.         4.        ]]\n"
     ]
    }
   ],
   "source": [
    "arr_like_lin10 = np.linspace((1,2), (3,4), 10) # Array like start and stop values.\n",
    "print(arr_like_lin10)\n",
    "\n",
    "#Note here that default axis is 0. The equidistant numbers are being added along 0 axis"
   ]
  },
  {
   "cell_type": "code",
   "execution_count": 145,
   "id": "4e7192ce",
   "metadata": {},
   "outputs": [
    {
     "name": "stdout",
     "output_type": "stream",
     "text": [
      "[[1.         1.22222222 1.44444444 1.66666667 1.88888889 2.11111111\n",
      "  2.33333333 2.55555556 2.77777778 3.        ]\n",
      " [2.         2.22222222 2.44444444 2.66666667 2.88888889 3.11111111\n",
      "  3.33333333 3.55555556 3.77777778 4.        ]]\n"
     ]
    }
   ],
   "source": [
    "arr_like_lin10_ax1 = np.linspace((1,2), (3,4), 10, axis=1) # with equidistant samples added along axis 1\n",
    "\n",
    "print(arr_like_lin10_ax1)"
   ]
  },
  {
   "cell_type": "markdown",
   "id": "56af78a2",
   "metadata": {},
   "source": [
    "### Random Module in Numpy"
   ]
  },
  {
   "cell_type": "code",
   "execution_count": 146,
   "id": "78d6a8ba",
   "metadata": {},
   "outputs": [],
   "source": [
    "#Randint to generate a random integer\n",
    "np.random.seed(101)"
   ]
  },
  {
   "cell_type": "code",
   "execution_count": 157,
   "id": "a5ef5b70",
   "metadata": {},
   "outputs": [
    {
     "name": "stdout",
     "output_type": "stream",
     "text": [
      "[2 7 8 9 5]\n"
     ]
    }
   ],
   "source": [
    "np.random.seed(101)\n",
    "result = np.random.randint(1,10,5)\n",
    "\n",
    "print(result)\n",
    "\n",
    "# Returns random numbers between specified range and number of values specified in third parameter"
   ]
  },
  {
   "cell_type": "code",
   "execution_count": 158,
   "id": "b1b2b7d8",
   "metadata": {},
   "outputs": [
    {
     "name": "stdout",
     "output_type": "stream",
     "text": [
      "9\n"
     ]
    }
   ],
   "source": [
    "print(np.random.randint(1,10)) # Prints 1 number between 0 and 9 - Start not specified defaults to 0, number not specified \n",
    "                             # defaults to 1."
   ]
  },
  {
   "cell_type": "code",
   "execution_count": 159,
   "id": "d5634ec5",
   "metadata": {},
   "outputs": [
    {
     "name": "stdout",
     "output_type": "stream",
     "text": [
      "0.2661885598416913\n"
     ]
    }
   ],
   "source": [
    "#rand - For random float values between 0 and 1 only.\n",
    "\n",
    "result = np.random.rand()\n",
    "\n",
    "print(result)\n",
    "\n"
   ]
  },
  {
   "cell_type": "code",
   "execution_count": 160,
   "id": "864cc32a",
   "metadata": {},
   "outputs": [
    {
     "name": "stdout",
     "output_type": "stream",
     "text": [
      "[[[0.77888791 0.89206388 0.0756819  0.82565261]\n",
      "  [0.02549692 0.5902313  0.5342532  0.58125755]]\n",
      "\n",
      " [[0.77471672 0.97791191 0.61159951 0.94628427]\n",
      "  [0.43289654 0.79182632 0.45650246 0.82667814]]\n",
      "\n",
      " [[0.14623959 0.60263149 0.591275   0.44168587]\n",
      "  [0.49201605 0.73150955 0.82635863 0.0710152 ]]]\n"
     ]
    }
   ],
   "source": [
    "print(np.random.rand(3,2,4)) # Can take shape as parameter. Here will return 3 arrays on axis 0, 2 on 1 and 4 on 2"
   ]
  },
  {
   "cell_type": "code",
   "execution_count": 162,
   "id": "9f8e2fe4",
   "metadata": {},
   "outputs": [
    {
     "name": "stdout",
     "output_type": "stream",
     "text": [
      "[[[ 1.02904824 -0.27207863  2.06079718]\n",
      "  [-1.04686723 -2.27373854  1.2180964 ]\n",
      "  [-0.66268425  0.42049132 -0.26052634]]\n",
      "\n",
      " [[ 0.38978047  0.16424447 -0.37158136]\n",
      "  [-0.05073897  2.43460129  1.24144018]\n",
      "  [ 0.1909783  -1.24534738  0.95218288]]\n",
      "\n",
      " [[ 1.30138031 -0.16731958  0.05022118]\n",
      "  [ 1.55678957  1.34543415  1.50173651]\n",
      "  [-0.63334845 -0.48728117 -1.64746873]]]\n"
     ]
    }
   ],
   "source": [
    "#randn function - returns float values in given shape array from a standard normal distribution i.e. \n",
    "\n",
    "# Roughly - 65% of the values will be between -1 to 1\n",
    "# Roughly - 95% of the values will be between -2 to 2\n",
    "# Roughly - 99% of the values will be between -3 to 3\n",
    "\n",
    "# If no shape provided will return a single float value.\n",
    "\n",
    "result = np.random.randn(3,3,3)\n",
    "\n",
    "print(result)"
   ]
  },
  {
   "cell_type": "code",
   "execution_count": 161,
   "id": "022b3437",
   "metadata": {},
   "outputs": [
    {
     "name": "stdout",
     "output_type": "stream",
     "text": [
      "[23.24023181 68.29022715 71.54716055 65.72564701 84.10686889 14.89568148\n",
      "  2.50425229 34.22026983 79.92857793 86.39060334]\n"
     ]
    }
   ],
   "source": [
    "#Uniform\n",
    "import numpy as np\n",
    "\n",
    "float_val = np.random.uniform(1.0,100.0,10)\n",
    "\n",
    "print(float_val)"
   ]
  },
  {
   "cell_type": "code",
   "execution_count": null,
   "id": "c4ea8d42",
   "metadata": {},
   "outputs": [],
   "source": []
  },
  {
   "cell_type": "code",
   "execution_count": 163,
   "id": "6423550e",
   "metadata": {},
   "outputs": [
    {
     "data": {
      "text/plain": [
       "array([ 0,  1,  2,  3,  4,  5,  6,  7,  8,  9, 10, 11, 12, 13, 14, 15, 16,\n",
       "       17, 18, 19])"
      ]
     },
     "execution_count": 163,
     "metadata": {},
     "output_type": "execute_result"
    }
   ],
   "source": [
    "arr1 = np.arange(0,20)\n",
    "arr1"
   ]
  },
  {
   "cell_type": "code",
   "execution_count": 164,
   "id": "5235f609",
   "metadata": {},
   "outputs": [
    {
     "name": "stdout",
     "output_type": "stream",
     "text": [
      "17\n"
     ]
    }
   ],
   "source": [
    "#choice - Choose a random number from an array or integer. \n",
    "\n",
    "# Takes only one 1D array or an integer as input from which to chose. \n",
    "\n",
    "choice = np.random.choice(arr1)\n",
    "\n",
    "print(choice)"
   ]
  },
  {
   "cell_type": "code",
   "execution_count": 166,
   "id": "83703f0a",
   "metadata": {},
   "outputs": [
    {
     "name": "stdout",
     "output_type": "stream",
     "text": [
      "235\n"
     ]
    }
   ],
   "source": [
    "choice = np.random.choice(1000) # If an integer x is specified - treats it as a choice in np.arange(x) i.e from 0 to x-1 e.g.\n",
    "                              # here - it will choose between 0 to 9.\n",
    "    \n",
    "print(choice)"
   ]
  },
  {
   "cell_type": "code",
   "execution_count": 167,
   "id": "4c3ec179",
   "metadata": {},
   "outputs": [
    {
     "name": "stdout",
     "output_type": "stream",
     "text": [
      "[ 4  7 11  5 17]\n"
     ]
    }
   ],
   "source": [
    "choice = np.random.choice(arr1, 5) # Size of choice specified.\n",
    "print(choice)"
   ]
  },
  {
   "cell_type": "code",
   "execution_count": null,
   "id": "aa1b3eeb",
   "metadata": {},
   "outputs": [],
   "source": [
    "# By default - replace parameter is True i.e. if a number has been chosen, it will be put back in the array and has a chance\n",
    "# to be chosen again. By setting to false - the number is removed from array and wont be chosen again.\n",
    "\n",
    "arr1 = np.arange(5)"
   ]
  },
  {
   "cell_type": "code",
   "execution_count": 196,
   "id": "be08c383",
   "metadata": {},
   "outputs": [],
   "source": [
    "lst1 = []"
   ]
  },
  {
   "cell_type": "code",
   "execution_count": 197,
   "id": "85e1da7c",
   "metadata": {},
   "outputs": [],
   "source": [
    "for x in range(20):\n",
    "    lst1.append(np.random.choice(arr1, replace = True))"
   ]
  },
  {
   "cell_type": "code",
   "execution_count": 198,
   "id": "82dc6db9",
   "metadata": {},
   "outputs": [
    {
     "name": "stdout",
     "output_type": "stream",
     "text": [
      "[17, 19, 6, 10, 0, 19, 13, 5, 6, 6, 9, 1, 7, 14, 7, 15, 0, 9, 19, 2]\n"
     ]
    }
   ],
   "source": [
    "print(lst1)"
   ]
  },
  {
   "cell_type": "code",
   "execution_count": null,
   "id": "fa0d24be",
   "metadata": {},
   "outputs": [],
   "source": [
    "np_arr1 = np.arange(4)\n",
    "\n",
    "print(np_arr1)"
   ]
  },
  {
   "cell_type": "code",
   "execution_count": 188,
   "id": "307aa6a1",
   "metadata": {},
   "outputs": [
    {
     "ename": "ValueError",
     "evalue": "a must be 1-dimensional",
     "output_type": "error",
     "traceback": [
      "\u001b[1;31m---------------------------------------------------------------------------\u001b[0m",
      "\u001b[1;31mValueError\u001b[0m                                Traceback (most recent call last)",
      "\u001b[1;32m<ipython-input-188-7f909256bfa3>\u001b[0m in \u001b[0;36m<module>\u001b[1;34m\u001b[0m\n\u001b[1;32m----> 1\u001b[1;33m \u001b[0mnp\u001b[0m\u001b[1;33m.\u001b[0m\u001b[0mrandom\u001b[0m\u001b[1;33m.\u001b[0m\u001b[0mchoice\u001b[0m\u001b[1;33m(\u001b[0m\u001b[0mnp_arr1\u001b[0m\u001b[1;33m,\u001b[0m \u001b[0mreplace\u001b[0m \u001b[1;33m=\u001b[0m \u001b[1;32mFalse\u001b[0m\u001b[1;33m)\u001b[0m\u001b[1;33m\u001b[0m\u001b[1;33m\u001b[0m\u001b[0m\n\u001b[0m\u001b[0;32m      2\u001b[0m \u001b[1;33m\u001b[0m\u001b[0m\n",
      "\u001b[1;32mmtrand.pyx\u001b[0m in \u001b[0;36mnumpy.random.mtrand.RandomState.choice\u001b[1;34m()\u001b[0m\n",
      "\u001b[1;31mValueError\u001b[0m: a must be 1-dimensional"
     ]
    }
   ],
   "source": [
    "np.random.choice(np_arr1, replace = False)\n",
    "\n"
   ]
  },
  {
   "cell_type": "code",
   "execution_count": null,
   "id": "cb77daa5",
   "metadata": {},
   "outputs": [],
   "source": []
  },
  {
   "cell_type": "code",
   "execution_count": null,
   "id": "27636385",
   "metadata": {},
   "outputs": [],
   "source": []
  },
  {
   "cell_type": "code",
   "execution_count": null,
   "id": "1ea6d69e",
   "metadata": {},
   "outputs": [],
   "source": []
  },
  {
   "cell_type": "code",
   "execution_count": 200,
   "id": "7bf7b5dc",
   "metadata": {},
   "outputs": [
    {
     "name": "stdout",
     "output_type": "stream",
     "text": [
      "[2 1 2 2 2 2 2 2 2 0]\n"
     ]
    }
   ],
   "source": [
    "# The p parameter takes probabilities i.e. if I had numbers 1 to 5 - in a uniform distribution each would have a 20% chance\n",
    "# or (0.2 probability). However, if we were to specify the probabilities, it will take those probabilities into account\n",
    "# while generating random numbers\n",
    "\n",
    "choice = np.random.choice(np.arange(3), p = [0.1,0.2,0.7], size = 10)\n",
    "\n",
    "print(choice)"
   ]
  },
  {
   "cell_type": "code",
   "execution_count": 2,
   "id": "9ff58fee",
   "metadata": {},
   "outputs": [
    {
     "name": "stdout",
     "output_type": "stream",
     "text": [
      "[4 6 3 9 0 1 5 7 2 8]\n"
     ]
    }
   ],
   "source": [
    "#permutation - Returns a random permutation of input array or if integer specified random permutation of np.arrange(integer)\n",
    "import numpy as np\n",
    "\n",
    "perm = np.random.permutation(10)\n",
    "\n",
    "print(perm)"
   ]
  },
  {
   "cell_type": "code",
   "execution_count": null,
   "id": "31ef7c7d",
   "metadata": {},
   "outputs": [],
   "source": []
  },
  {
   "cell_type": "code",
   "execution_count": 3,
   "id": "8d443370",
   "metadata": {},
   "outputs": [
    {
     "name": "stdout",
     "output_type": "stream",
     "text": [
      "[[[ 0  1]\n",
      "  [ 2  3]\n",
      "  [ 4  5]]\n",
      "\n",
      " [[ 6  7]\n",
      "  [ 8  9]\n",
      "  [10 11]]\n",
      "\n",
      " [[12 13]\n",
      "  [14 15]\n",
      "  [16 17]]\n",
      "\n",
      " [[18 19]\n",
      "  [20 21]\n",
      "  [22 23]]]\n"
     ]
    }
   ],
   "source": [
    "arr = np.arange(24).reshape(4,3,2)\n",
    "print(arr)"
   ]
  },
  {
   "cell_type": "code",
   "execution_count": 4,
   "id": "4f4bbfb3",
   "metadata": {},
   "outputs": [
    {
     "name": "stdout",
     "output_type": "stream",
     "text": [
      "[[[ 6  7]\n",
      "  [ 8  9]\n",
      "  [10 11]]\n",
      "\n",
      " [[18 19]\n",
      "  [20 21]\n",
      "  [22 23]]\n",
      "\n",
      " [[12 13]\n",
      "  [14 15]\n",
      "  [16 17]]\n",
      "\n",
      " [[ 0  1]\n",
      "  [ 2  3]\n",
      "  [ 4  5]]]\n"
     ]
    }
   ],
   "source": [
    "perm_arr = np.random.permutation(arr) #\n",
    "print(perm_arr)\n",
    "\n",
    "\n",
    "# For a multidimensional array - it is only shuffled along the 0 index axis."
   ]
  },
  {
   "cell_type": "code",
   "execution_count": 5,
   "id": "23a199fe",
   "metadata": {},
   "outputs": [
    {
     "name": "stdout",
     "output_type": "stream",
     "text": [
      "[0 1 2 3 4 5 6 7 8 9]\n"
     ]
    }
   ],
   "source": [
    "arr = np.arange(10)\n",
    "print(arr)"
   ]
  },
  {
   "cell_type": "code",
   "execution_count": null,
   "id": "8e78b8f3",
   "metadata": {},
   "outputs": [],
   "source": [
    "#any - Returns true if any of the elements in the array are true. \n",
    "#all Returns true if all of the elements in the array are true."
   ]
  },
  {
   "cell_type": "code",
   "execution_count": 6,
   "id": "748eeb9a",
   "metadata": {},
   "outputs": [
    {
     "name": "stdout",
     "output_type": "stream",
     "text": [
      "True\n"
     ]
    }
   ],
   "source": [
    "print(np.any(arr))"
   ]
  },
  {
   "cell_type": "code",
   "execution_count": 7,
   "id": "0a9a4520",
   "metadata": {},
   "outputs": [
    {
     "name": "stdout",
     "output_type": "stream",
     "text": [
      "False\n"
     ]
    }
   ],
   "source": [
    "print(np.all(arr))"
   ]
  },
  {
   "cell_type": "code",
   "execution_count": 9,
   "id": "f85e96a3",
   "metadata": {},
   "outputs": [
    {
     "name": "stdout",
     "output_type": "stream",
     "text": [
      "[0. 0. 0. 0. 0.]\n"
     ]
    }
   ],
   "source": [
    "arr_zero = np.zeros(5)\n",
    "\n",
    "print(arr_zero)"
   ]
  },
  {
   "cell_type": "code",
   "execution_count": 10,
   "id": "04f652d7",
   "metadata": {},
   "outputs": [
    {
     "name": "stdout",
     "output_type": "stream",
     "text": [
      "False\n"
     ]
    }
   ],
   "source": [
    "print(np.any(arr_zero))"
   ]
  },
  {
   "cell_type": "code",
   "execution_count": 11,
   "id": "a9fb70fe",
   "metadata": {},
   "outputs": [
    {
     "name": "stdout",
     "output_type": "stream",
     "text": [
      "False\n"
     ]
    }
   ],
   "source": [
    "print(np.all(arr_zero))"
   ]
  },
  {
   "cell_type": "code",
   "execution_count": 14,
   "id": "0ed011ee",
   "metadata": {},
   "outputs": [
    {
     "name": "stdout",
     "output_type": "stream",
     "text": [
      "[0 0 1 1 0]\n"
     ]
    }
   ],
   "source": [
    "arr_alt = np.random.randint(0,2,5)\n",
    "\n",
    "print(arr_alt)"
   ]
  },
  {
   "cell_type": "code",
   "execution_count": 15,
   "id": "96861578",
   "metadata": {},
   "outputs": [
    {
     "name": "stdout",
     "output_type": "stream",
     "text": [
      "True\n"
     ]
    }
   ],
   "source": [
    "print(np.any(arr_alt))"
   ]
  },
  {
   "cell_type": "code",
   "execution_count": 16,
   "id": "181b3510",
   "metadata": {},
   "outputs": [
    {
     "name": "stdout",
     "output_type": "stream",
     "text": [
      "False\n"
     ]
    }
   ],
   "source": [
    "print(np.all(arr_alt))"
   ]
  },
  {
   "cell_type": "code",
   "execution_count": 18,
   "id": "7ae384af",
   "metadata": {},
   "outputs": [
    {
     "name": "stdout",
     "output_type": "stream",
     "text": [
      "[[0. 0. 0.]\n",
      " [0. 0. 0.]]\n"
     ]
    }
   ],
   "source": [
    "arr_zero_grid = np.zeros((2,3))\n",
    "print(arr_zero_grid)"
   ]
  },
  {
   "cell_type": "code",
   "execution_count": 19,
   "id": "ac05610f",
   "metadata": {},
   "outputs": [
    {
     "name": "stdout",
     "output_type": "stream",
     "text": [
      "False\n"
     ]
    }
   ],
   "source": [
    "print(np.any(arr_zero_grid))"
   ]
  },
  {
   "cell_type": "code",
   "execution_count": 20,
   "id": "95d8bebb",
   "metadata": {},
   "outputs": [
    {
     "name": "stdout",
     "output_type": "stream",
     "text": [
      "False\n"
     ]
    }
   ],
   "source": [
    "print(np.all(arr_zero_grid))"
   ]
  },
  {
   "cell_type": "code",
   "execution_count": 21,
   "id": "55d4b61f",
   "metadata": {},
   "outputs": [
    {
     "name": "stdout",
     "output_type": "stream",
     "text": [
      "[[1. 1. 1.]\n",
      " [1. 1. 1.]]\n"
     ]
    }
   ],
   "source": [
    "arr_one_grid = np.ones((2,3))\n",
    "print(arr_one_grid)"
   ]
  },
  {
   "cell_type": "code",
   "execution_count": 22,
   "id": "2ad0eca5",
   "metadata": {},
   "outputs": [
    {
     "name": "stdout",
     "output_type": "stream",
     "text": [
      "True\n"
     ]
    }
   ],
   "source": [
    "print(np.any(arr_one_grid))"
   ]
  },
  {
   "cell_type": "code",
   "execution_count": 23,
   "id": "ea4f5ded",
   "metadata": {},
   "outputs": [
    {
     "name": "stdout",
     "output_type": "stream",
     "text": [
      "True\n"
     ]
    }
   ],
   "source": [
    "print(np.all(arr_one_grid))"
   ]
  },
  {
   "cell_type": "code",
   "execution_count": 24,
   "id": "87eed836",
   "metadata": {},
   "outputs": [
    {
     "name": "stdout",
     "output_type": "stream",
     "text": [
      "[ 0  1  2  3  4  5  6  7  8  9 10]\n",
      "[11 12 13 14 15 16 17 18 19 20]\n"
     ]
    }
   ],
   "source": [
    "arr = np.arange(11)\n",
    "arr10 = np.arange(11,21)\n",
    "print(arr)\n",
    "print(arr10)"
   ]
  },
  {
   "cell_type": "code",
   "execution_count": 25,
   "id": "f62d7cb6",
   "metadata": {},
   "outputs": [
    {
     "name": "stdout",
     "output_type": "stream",
     "text": [
      "[ 0  1  2  3  4  5  6  7  8  9 10 11 12 13 14 15 16 17 18 19 20]\n"
     ]
    }
   ],
   "source": [
    "# Append\n",
    "\n",
    "arr_n_10 = np.append(arr, arr10)\n",
    "print(arr_n_10)\n",
    "\n",
    "# print(arr)\n",
    "# print(arr10)"
   ]
  },
  {
   "cell_type": "code",
   "execution_count": 26,
   "id": "766030df",
   "metadata": {},
   "outputs": [
    {
     "name": "stdout",
     "output_type": "stream",
     "text": [
      "[[ 1  2  3  4  5]\n",
      " [ 6  7  8  9 10]]\n"
     ]
    }
   ],
   "source": [
    "arr_1 = np.arange(1,11).reshape(2,5)\n",
    "arr_2 = np.arange(21,31).reshape(2,5)\n",
    "\n",
    "print(arr_1)"
   ]
  },
  {
   "cell_type": "code",
   "execution_count": 27,
   "id": "46703074",
   "metadata": {},
   "outputs": [
    {
     "name": "stdout",
     "output_type": "stream",
     "text": [
      "[[21 22 23 24 25]\n",
      " [26 27 28 29 30]]\n"
     ]
    }
   ],
   "source": [
    "print(arr_2)"
   ]
  },
  {
   "cell_type": "code",
   "execution_count": 28,
   "id": "f191c05c",
   "metadata": {},
   "outputs": [
    {
     "name": "stdout",
     "output_type": "stream",
     "text": [
      "[[ 1  2  3  4  5 21 22 23 24 25]\n",
      " [ 6  7  8  9 10 26 27 28 29 30]]\n"
     ]
    }
   ],
   "source": [
    "arr_1n2 = np.append(arr_1, arr_2, axis = 1)\n",
    "\n",
    "print(arr_1n2)"
   ]
  },
  {
   "cell_type": "code",
   "execution_count": null,
   "id": "25b7bfd6",
   "metadata": {},
   "outputs": [],
   "source": [
    "#[[1,2,3,4,5]\n",
    "#[6,7,8,9,10]\n",
    "#[[21,22,23,24,25]\n",
    "#[26,27,28,29,30]]\n",
    "\n"
   ]
  },
  {
   "cell_type": "code",
   "execution_count": 29,
   "id": "d54adb01",
   "metadata": {},
   "outputs": [
    {
     "name": "stdout",
     "output_type": "stream",
     "text": [
      "[[ 1  2  3  4  5]\n",
      " [ 6  7  8  9 10]\n",
      " [21 22 23 24 25]\n",
      " [26 27 28 29 30]]\n"
     ]
    }
   ],
   "source": [
    "arr_1n2V = np.append(arr_1, arr_2, axis = 0)\n",
    "\n",
    "print(arr_1n2V)"
   ]
  },
  {
   "cell_type": "code",
   "execution_count": 34,
   "id": "a0634e3a",
   "metadata": {},
   "outputs": [
    {
     "name": "stdout",
     "output_type": "stream",
     "text": [
      "[[ 1  2  3  4  5]\n",
      " [ 6  7  8  9 10]\n",
      " [21 22 23 24 25]\n",
      " [26 27 28 29 30]]\n"
     ]
    }
   ],
   "source": [
    "#vstack - stacks arrays vertically\n",
    "\n",
    "arr_V = np.vstack((arr_1, arr_2))\n",
    "print(arr_V)"
   ]
  },
  {
   "cell_type": "code",
   "execution_count": 31,
   "id": "7e296639",
   "metadata": {},
   "outputs": [
    {
     "name": "stdout",
     "output_type": "stream",
     "text": [
      "[1 2 3 4 5]\n",
      "[11 12 13 14 15]\n"
     ]
    }
   ],
   "source": [
    "arr1x = np.arange(1,6)\n",
    "arr2x = np.arange(11,16)\n",
    "print(arr1x)\n",
    "print(arr2x)"
   ]
  },
  {
   "cell_type": "code",
   "execution_count": 33,
   "id": "eb2fa537",
   "metadata": {},
   "outputs": [
    {
     "name": "stdout",
     "output_type": "stream",
     "text": [
      "[[ 1  2  3  4  5]\n",
      " [11 12 13 14 15]]\n"
     ]
    }
   ],
   "source": [
    "arr_vx = np.vstack((arr1x, arr2x))\n",
    "print(arr_vx)\n"
   ]
  },
  {
   "cell_type": "code",
   "execution_count": 36,
   "id": "ddc1911e",
   "metadata": {},
   "outputs": [
    {
     "name": "stdout",
     "output_type": "stream",
     "text": [
      "[[[ 1  2  3]\n",
      "  [ 4  5  6]]\n",
      "\n",
      " [[ 7  8  9]\n",
      "  [10 11 12]]]\n"
     ]
    }
   ],
   "source": [
    "arr1x = np.arange(1,13).reshape(2,2,3)\n",
    "arr2x = np.arange(11,23).reshape(2,2,3)\n",
    "print(arr1x)"
   ]
  },
  {
   "cell_type": "code",
   "execution_count": 37,
   "id": "0e731512",
   "metadata": {},
   "outputs": [
    {
     "name": "stdout",
     "output_type": "stream",
     "text": [
      "[[[11 12 13]\n",
      "  [14 15 16]]\n",
      "\n",
      " [[17 18 19]\n",
      "  [20 21 22]]]\n"
     ]
    }
   ],
   "source": [
    "print(arr2x)"
   ]
  },
  {
   "cell_type": "code",
   "execution_count": 39,
   "id": "f2fbfc8e",
   "metadata": {},
   "outputs": [
    {
     "name": "stdout",
     "output_type": "stream",
     "text": [
      "[[[ 1  2  3]\n",
      "  [ 4  5  6]]\n",
      "\n",
      " [[ 7  8  9]\n",
      "  [10 11 12]]\n",
      "\n",
      " [[11 12 13]\n",
      "  [14 15 16]]\n",
      "\n",
      " [[17 18 19]\n",
      "  [20 21 22]]]\n"
     ]
    }
   ],
   "source": [
    "arrvx = np.vstack((arr1x,arr2x))\n",
    "\n",
    "print(arrvx)"
   ]
  },
  {
   "cell_type": "code",
   "execution_count": 41,
   "id": "4c00080f",
   "metadata": {},
   "outputs": [
    {
     "name": "stdout",
     "output_type": "stream",
     "text": [
      "[[[ 1  2  3]\n",
      "  [ 4  5  6]]\n",
      "\n",
      " [[ 7  8  9]\n",
      "  [10 11 12]]]\n"
     ]
    }
   ],
   "source": [
    "print(arr1x)"
   ]
  },
  {
   "cell_type": "code",
   "execution_count": 42,
   "id": "3ed13c90",
   "metadata": {},
   "outputs": [
    {
     "name": "stdout",
     "output_type": "stream",
     "text": [
      "[[[11 12 13]\n",
      "  [14 15 16]]\n",
      "\n",
      " [[17 18 19]\n",
      "  [20 21 22]]]\n"
     ]
    }
   ],
   "source": [
    "print(arr2x)"
   ]
  },
  {
   "cell_type": "code",
   "execution_count": 44,
   "id": "5a51c23f",
   "metadata": {},
   "outputs": [
    {
     "name": "stdout",
     "output_type": "stream",
     "text": [
      "[[[ 1  2  3]\n",
      "  [ 4  5  6]\n",
      "  [11 12 13]\n",
      "  [14 15 16]]\n",
      "\n",
      " [[ 7  8  9]\n",
      "  [10 11 12]\n",
      "  [17 18 19]\n",
      "  [20 21 22]]]\n"
     ]
    }
   ],
   "source": [
    "arr_H = np.hstack((arr1x, arr2x))\n",
    "\n",
    "print(arr_H)"
   ]
  },
  {
   "cell_type": "code",
   "execution_count": 45,
   "id": "9afbef56",
   "metadata": {},
   "outputs": [
    {
     "name": "stdout",
     "output_type": "stream",
     "text": [
      "[[[ 1  2  3]\n",
      "  [ 4  5  6]]\n",
      "\n",
      " [[ 7  8  9]\n",
      "  [10 11 12]]]\n"
     ]
    }
   ],
   "source": [
    "arr1x = np.arange(1,13).reshape(2,2,3)\n",
    "arr2x = np.arange(11,17).reshape(2,3)\n",
    "print(arr1x)"
   ]
  },
  {
   "cell_type": "code",
   "execution_count": 46,
   "id": "cace4aa0",
   "metadata": {},
   "outputs": [
    {
     "name": "stdout",
     "output_type": "stream",
     "text": [
      "[[11 12 13]\n",
      " [14 15 16]]\n"
     ]
    }
   ],
   "source": [
    "print(arr2x)"
   ]
  },
  {
   "cell_type": "code",
   "execution_count": 53,
   "id": "0a8ad87d",
   "metadata": {},
   "outputs": [
    {
     "name": "stdout",
     "output_type": "stream",
     "text": [
      "[ 1  2  3  4  5  6  7  8  9 10 11 12 11 12 13 14 15 16]\n"
     ]
    }
   ],
   "source": [
    "arr_2n3 = np.append(arr1x,arr2x)\n",
    "\n",
    "print(arr_2n3)"
   ]
  },
  {
   "cell_type": "code",
   "execution_count": 54,
   "id": "259ac083",
   "metadata": {},
   "outputs": [
    {
     "name": "stdout",
     "output_type": "stream",
     "text": [
      "[[2 7 8 9 5]\n",
      " [9 6 1 6 9]\n",
      " [2 4 9 4 4]\n",
      " [3 9 4 8 1]]\n"
     ]
    }
   ],
   "source": [
    "#sort\n",
    "np.random.seed(101)\n",
    "arr_rand = np.random.randint(1,10, 20).reshape(4,5)\n",
    "print(arr_rand)"
   ]
  },
  {
   "cell_type": "code",
   "execution_count": 55,
   "id": "466931b8",
   "metadata": {},
   "outputs": [
    {
     "name": "stdout",
     "output_type": "stream",
     "text": [
      "[[2 5 7 8 9]\n",
      " [1 6 6 9 9]\n",
      " [2 4 4 4 9]\n",
      " [1 3 4 8 9]]\n"
     ]
    }
   ],
   "source": [
    "arr_sort = np.sort(arr_rand)\n",
    "print(arr_sort)"
   ]
  },
  {
   "cell_type": "code",
   "execution_count": 57,
   "id": "25e6260f",
   "metadata": {},
   "outputs": [
    {
     "name": "stdout",
     "output_type": "stream",
     "text": [
      "[[2 7 8 9 5]\n",
      " [9 6 1 6 9]\n",
      " [2 4 9 4 4]\n",
      " [3 9 4 8 1]]\n"
     ]
    }
   ],
   "source": [
    "print(arr_rand)"
   ]
  },
  {
   "cell_type": "code",
   "execution_count": 58,
   "id": "015a74f5",
   "metadata": {},
   "outputs": [
    {
     "name": "stdout",
     "output_type": "stream",
     "text": [
      "[[2 4 1 4 1]\n",
      " [2 6 4 6 4]\n",
      " [3 7 8 8 5]\n",
      " [9 9 9 9 9]]\n"
     ]
    }
   ],
   "source": [
    "arr_sort = np.sort(arr_rand, axis = 0)\n",
    "print(arr_sort)"
   ]
  },
  {
   "cell_type": "code",
   "execution_count": 59,
   "id": "3cc22ca1",
   "metadata": {},
   "outputs": [
    {
     "name": "stdout",
     "output_type": "stream",
     "text": [
      "[[2 4 1 4 1]\n",
      " [2 6 4 6 4]\n",
      " [3 7 8 8 5]\n",
      " [9 9 9 9 9]]\n"
     ]
    }
   ],
   "source": [
    "# insert\n",
    "\n",
    "print(arr_sort)"
   ]
  },
  {
   "cell_type": "code",
   "execution_count": 65,
   "id": "166e5553",
   "metadata": {},
   "outputs": [
    {
     "name": "stdout",
     "output_type": "stream",
     "text": [
      "[[ 1  2  3  4  5]\n",
      " [ 6  7  8  9 10]\n",
      " [11 12 13 14 15]\n",
      " [16 17 18 19 20]\n",
      " [21 22 23 24 25]\n",
      " [26 27 28 29 30]]\n"
     ]
    }
   ],
   "source": [
    "arr_sort = np.arange(1,31).reshape(6,5)\n",
    "\n",
    "print(arr_sort)"
   ]
  },
  {
   "cell_type": "code",
   "execution_count": 67,
   "id": "cb135b4d",
   "metadata": {},
   "outputs": [
    {
     "name": "stdout",
     "output_type": "stream",
     "text": [
      "[[ 1  0  2  3  4  5]\n",
      " [ 6  0  7  8  9 10]\n",
      " [11  0 12 13 14 15]\n",
      " [16  0 17 18 19 20]\n",
      " [21  0 22 23 24 25]\n",
      " [26  0 27 28 29 30]]\n"
     ]
    }
   ],
   "source": [
    "arr_ins = np.insert(arr_sort, 1, [0,0,0,0,0,0], axis = 1)\n",
    "\n",
    "print(arr_ins)"
   ]
  },
  {
   "cell_type": "code",
   "execution_count": 63,
   "id": "d6299b2d",
   "metadata": {},
   "outputs": [
    {
     "name": "stdout",
     "output_type": "stream",
     "text": [
      "[[ 1  2  3  4  5]\n",
      " [ 6  7  8  9 10]\n",
      " [11 12 13 14 15]\n",
      " [16 17 18 19 20]\n",
      " [21 22 23 24 25]\n",
      " [26 27 28 29 30]]\n"
     ]
    }
   ],
   "source": [
    "print(arr_sort)"
   ]
  },
  {
   "cell_type": "code",
   "execution_count": 64,
   "id": "dca09d41",
   "metadata": {},
   "outputs": [
    {
     "name": "stdout",
     "output_type": "stream",
     "text": [
      "[[ 1  0  2  3  4  5]\n",
      " [ 6  0  7  8  9 10]\n",
      " [11  0 12 13 14 15]\n",
      " [16  0 17 18 19 20]\n",
      " [ 1  1  1  1  1  1]\n",
      " [21  0 22 23 24 25]\n",
      " [26  0 27 28 29 30]]\n"
     ]
    }
   ],
   "source": [
    "arr_ins1 = np.insert(arr_ins, 4, [1,1,1,1,1,1], axis = 0)\n",
    "\n",
    "print(arr_ins1)"
   ]
  },
  {
   "cell_type": "code",
   "execution_count": null,
   "id": "28c09198",
   "metadata": {},
   "outputs": [],
   "source": [
    "print(arr_ins)"
   ]
  },
  {
   "cell_type": "code",
   "execution_count": null,
   "id": "97adc94a",
   "metadata": {},
   "outputs": [],
   "source": [
    "arr_ins[0][1] = 20\n",
    "\n",
    "print(arr_ins)\n",
    "print(arr_sort)"
   ]
  },
  {
   "cell_type": "code",
   "execution_count": 68,
   "id": "ed15f808",
   "metadata": {},
   "outputs": [
    {
     "name": "stdout",
     "output_type": "stream",
     "text": [
      "[[ 1  0  2  3  4  5]\n",
      " [ 6  0  7  8  9 10]\n",
      " [11  0 12 13 14 15]\n",
      " [16  0 17 18 19 20]\n",
      " [21  0 22 23 24 25]\n",
      " [26  0 27 28 29 30]]\n"
     ]
    }
   ],
   "source": [
    "print(arr_ins)"
   ]
  },
  {
   "cell_type": "code",
   "execution_count": 69,
   "id": "7cb00263",
   "metadata": {},
   "outputs": [
    {
     "name": "stdout",
     "output_type": "stream",
     "text": [
      "[ 1  0  2  3  4  5  6  0  7  8  9 10 11  0 12 13 14 15 16  0 17 18 19 20\n",
      " 21  0 22 23 24 25 26  0 27 28 29 30]\n"
     ]
    }
   ],
   "source": [
    "arr_flat = arr_ins.flatten()\n",
    "print(arr_flat)"
   ]
  },
  {
   "cell_type": "code",
   "execution_count": 70,
   "id": "66481e60",
   "metadata": {},
   "outputs": [
    {
     "name": "stdout",
     "output_type": "stream",
     "text": [
      "[ 1  0  2  3 20  4  5  6  0  7  8  9 10 11  0 12 13 14 15 16  0 17 18 19\n",
      " 20 21  0 22 23 24 25 26  0 27 28 29 30]\n"
     ]
    }
   ],
   "source": [
    "arr_flat_ins = np.insert(arr_flat, 4, 20)\n",
    "\n",
    "print(arr_flat_ins)"
   ]
  },
  {
   "cell_type": "code",
   "execution_count": null,
   "id": "2c509489",
   "metadata": {},
   "outputs": [],
   "source": [
    "#Transpose"
   ]
  },
  {
   "cell_type": "code",
   "execution_count": 71,
   "id": "dbc09fc7",
   "metadata": {},
   "outputs": [
    {
     "data": {
      "text/plain": [
       "array([[ 1,  2,  3,  4,  5,  6],\n",
       "       [ 7,  8,  9, 10, 11, 12],\n",
       "       [13, 14, 15, 16, 17, 18],\n",
       "       [19, 20, 21, 22, 23, 24]])"
      ]
     },
     "execution_count": 71,
     "metadata": {},
     "output_type": "execute_result"
    }
   ],
   "source": [
    "arr_1 = np.arange(1,25).reshape(4,6)\n",
    "\n",
    "arr_1"
   ]
  },
  {
   "cell_type": "code",
   "execution_count": 72,
   "id": "72d0e171",
   "metadata": {},
   "outputs": [
    {
     "data": {
      "text/plain": [
       "array([[ 1,  7, 13, 19],\n",
       "       [ 2,  8, 14, 20],\n",
       "       [ 3,  9, 15, 21],\n",
       "       [ 4, 10, 16, 22],\n",
       "       [ 5, 11, 17, 23],\n",
       "       [ 6, 12, 18, 24]])"
      ]
     },
     "execution_count": 72,
     "metadata": {},
     "output_type": "execute_result"
    }
   ],
   "source": [
    "arr_2 = arr_1.transpose() #Returns only a view of the transposed array and does not have a inplace parameter - so to see\n",
    "# the effect - must save the transposed view to a variable.\n",
    "\n",
    "arr_2"
   ]
  },
  {
   "cell_type": "code",
   "execution_count": 73,
   "id": "a2bf0249",
   "metadata": {},
   "outputs": [
    {
     "data": {
      "text/plain": [
       "array([[  1,   7,  13,  19],\n",
       "       [  2,   8,  14,  20],\n",
       "       [  3,   9,  15, 777],\n",
       "       [  4,  10,  16,  22],\n",
       "       [  5,  11,  17,  23],\n",
       "       [  6,  12,  18,  24]])"
      ]
     },
     "execution_count": 73,
     "metadata": {},
     "output_type": "execute_result"
    }
   ],
   "source": [
    "arr_2[2][3] = 777\n",
    "\n",
    "arr_2"
   ]
  },
  {
   "cell_type": "code",
   "execution_count": 74,
   "id": "e01eb0fa",
   "metadata": {},
   "outputs": [
    {
     "data": {
      "text/plain": [
       "array([[  1,   2,   3,   4,   5,   6],\n",
       "       [  7,   8,   9,  10,  11,  12],\n",
       "       [ 13,  14,  15,  16,  17,  18],\n",
       "       [ 19,  20, 777,  22,  23,  24]])"
      ]
     },
     "execution_count": 74,
     "metadata": {},
     "output_type": "execute_result"
    }
   ],
   "source": [
    "arr_1"
   ]
  },
  {
   "cell_type": "code",
   "execution_count": 75,
   "id": "a36d7dba",
   "metadata": {},
   "outputs": [],
   "source": [
    "import copy\n",
    "\n",
    "arr_3 = copy.deepcopy(arr_1.transpose())"
   ]
  },
  {
   "cell_type": "code",
   "execution_count": 76,
   "id": "323ae22d",
   "metadata": {},
   "outputs": [
    {
     "data": {
      "text/plain": [
       "array([[  1,   7,  13,  19],\n",
       "       [  2,   8,  14,  20],\n",
       "       [  3,   9,  15, 777],\n",
       "       [  4,  10,  16,  22],\n",
       "       [  5,  11,  17,  23],\n",
       "       [  6,  12,  18,  24]])"
      ]
     },
     "execution_count": 76,
     "metadata": {},
     "output_type": "execute_result"
    }
   ],
   "source": [
    "arr_3"
   ]
  },
  {
   "cell_type": "code",
   "execution_count": 77,
   "id": "6718f011",
   "metadata": {},
   "outputs": [
    {
     "data": {
      "text/plain": [
       "array([[1000,    7,   13,   19],\n",
       "       [   2,    8,   14,   20],\n",
       "       [   3,    9,   15,  777],\n",
       "       [   4,   10,   16,   22],\n",
       "       [   5,   11,   17,   23],\n",
       "       [   6,   12,   18,   24]])"
      ]
     },
     "execution_count": 77,
     "metadata": {},
     "output_type": "execute_result"
    }
   ],
   "source": [
    "arr_3[0][0] = 1000\n",
    "\n",
    "arr_3"
   ]
  },
  {
   "cell_type": "code",
   "execution_count": 78,
   "id": "e8a90446",
   "metadata": {},
   "outputs": [
    {
     "data": {
      "text/plain": [
       "array([[  1,   2,   3,   4,   5,   6],\n",
       "       [  7,   8,   9,  10,  11,  12],\n",
       "       [ 13,  14,  15,  16,  17,  18],\n",
       "       [ 19,  20, 777,  22,  23,  24]])"
      ]
     },
     "execution_count": 78,
     "metadata": {},
     "output_type": "execute_result"
    }
   ],
   "source": [
    "arr_1"
   ]
  },
  {
   "cell_type": "code",
   "execution_count": 79,
   "id": "e7fc13b4",
   "metadata": {},
   "outputs": [
    {
     "data": {
      "text/plain": [
       "array([[[ 1,  2,  3,  4],\n",
       "        [ 5,  6,  7,  8],\n",
       "        [ 9, 10, 11, 12]],\n",
       "\n",
       "       [[13, 14, 15, 16],\n",
       "        [17, 18, 19, 20],\n",
       "        [21, 22, 23, 24]]])"
      ]
     },
     "execution_count": 79,
     "metadata": {},
     "output_type": "execute_result"
    }
   ],
   "source": [
    "arr_1 = np.arange(1,25).reshape(2,3,4)\n",
    "\n",
    "arr_1"
   ]
  },
  {
   "cell_type": "code",
   "execution_count": 80,
   "id": "86140e82",
   "metadata": {},
   "outputs": [
    {
     "name": "stdout",
     "output_type": "stream",
     "text": [
      "[[[ 1  2  3  4]\n",
      "  [13 14 15 16]]\n",
      "\n",
      " [[ 5  6  7  8]\n",
      "  [17 18 19 20]]\n",
      "\n",
      " [[ 9 10 11 12]\n",
      "  [21 22 23 24]]]\n"
     ]
    }
   ],
   "source": [
    "# 0,1,2\n",
    "\n",
    "# 2 3 4\n",
    "\n",
    "# 1,0,2\n",
    "\n",
    "arr_2 = np.transpose(arr_1, (1,0,2))\n",
    "\n",
    "print(arr_2)\n",
    "#arr_2.shape"
   ]
  },
  {
   "cell_type": "code",
   "execution_count": 81,
   "id": "baba3bd2",
   "metadata": {},
   "outputs": [
    {
     "name": "stdout",
     "output_type": "stream",
     "text": [
      "[[[ 1  2  3  4]\n",
      "  [ 5  6  7  8]\n",
      "  [ 9 10 11 12]]\n",
      "\n",
      " [[13 14 15 16]\n",
      "  [17 18 19 20]\n",
      "  [21 22 23 24]]]\n"
     ]
    }
   ],
   "source": [
    "arr_3 = np.transpose(arr_1, (1,2,0))\n",
    "\n",
    "print(arr_1)"
   ]
  },
  {
   "cell_type": "code",
   "execution_count": 82,
   "id": "310b4a78",
   "metadata": {},
   "outputs": [
    {
     "name": "stdout",
     "output_type": "stream",
     "text": [
      "[[[ 1 13]\n",
      "  [ 2 14]\n",
      "  [ 3 15]\n",
      "  [ 4 16]]\n",
      "\n",
      " [[ 5 17]\n",
      "  [ 6 18]\n",
      "  [ 7 19]\n",
      "  [ 8 20]]\n",
      "\n",
      " [[ 9 21]\n",
      "  [10 22]\n",
      "  [11 23]\n",
      "  [12 24]]]\n"
     ]
    }
   ],
   "source": [
    "print(arr_3)"
   ]
  },
  {
   "cell_type": "code",
   "execution_count": null,
   "id": "db087031",
   "metadata": {},
   "outputs": [],
   "source": [
    "np_arr1 = np.arange(1,21).reshape(4,5)\n",
    "\n",
    "np_arr2 = np.arange(1,201,10).reshape(5,4)\n",
    "\n",
    "print(np_arr1)"
   ]
  },
  {
   "cell_type": "code",
   "execution_count": 83,
   "id": "1da04d83",
   "metadata": {},
   "outputs": [
    {
     "name": "stdout",
     "output_type": "stream",
     "text": [
      "[[ 1  2  3  4  5]\n",
      " [ 6  7  8  9 10]\n",
      " [11 12 13 14 15]\n",
      " [16 17 18 19 20]]\n",
      "[[  1  11  21  31]\n",
      " [ 41  51  61  71]\n",
      " [ 81  91 101 111]\n",
      " [121 131 141 151]\n",
      " [161 171 181 191]]\n"
     ]
    }
   ],
   "source": [
    "print(np_arr2)"
   ]
  },
  {
   "cell_type": "code",
   "execution_count": 84,
   "id": "90dfeafe",
   "metadata": {},
   "outputs": [
    {
     "data": {
      "text/plain": [
       "array([[ 1615,  1765,  1915,  2065],\n",
       "       [ 3640,  4040,  4440,  4840],\n",
       "       [ 5665,  6315,  6965,  7615],\n",
       "       [ 7690,  8590,  9490, 10390]])"
      ]
     },
     "execution_count": 84,
     "metadata": {},
     "output_type": "execute_result"
    }
   ],
   "source": [
    "np.dot(np_arr1,np_arr2)"
   ]
  },
  {
   "cell_type": "code",
   "execution_count": null,
   "id": "f9683d6c",
   "metadata": {},
   "outputs": [],
   "source": [
    "print(dir(np))"
   ]
  },
  {
   "cell_type": "code",
   "execution_count": 94,
   "id": "d125becf",
   "metadata": {},
   "outputs": [
    {
     "name": "stdout",
     "output_type": "stream",
     "text": [
      "2022-08-22\n"
     ]
    }
   ],
   "source": [
    "import numpy as np\n",
    "\n",
    "np_date = np.datetime64('today', 'D')+2\n",
    "\n",
    "print(np_date)\n"
   ]
  },
  {
   "cell_type": "markdown",
   "id": "fc32edda",
   "metadata": {},
   "source": [
    "https://numpy.org/doc/stable/reference/arrays.datetime.html"
   ]
  },
  {
   "cell_type": "code",
   "execution_count": 95,
   "id": "7c7888b9",
   "metadata": {},
   "outputs": [
    {
     "name": "stdout",
     "output_type": "stream",
     "text": [
      "['T', '__abs__', '__add__', '__and__', '__array__', '__array_interface__', '__array_priority__', '__array_struct__', '__array_wrap__', '__bool__', '__class__', '__copy__', '__deepcopy__', '__delattr__', '__dir__', '__divmod__', '__doc__', '__eq__', '__float__', '__floordiv__', '__format__', '__ge__', '__getattribute__', '__getitem__', '__gt__', '__hash__', '__init__', '__init_subclass__', '__int__', '__invert__', '__le__', '__lshift__', '__lt__', '__mod__', '__mul__', '__ne__', '__neg__', '__new__', '__or__', '__pos__', '__pow__', '__radd__', '__rand__', '__rdivmod__', '__reduce__', '__reduce_ex__', '__repr__', '__rfloordiv__', '__rlshift__', '__rmod__', '__rmul__', '__ror__', '__rpow__', '__rrshift__', '__rshift__', '__rsub__', '__rtruediv__', '__rxor__', '__setattr__', '__setstate__', '__sizeof__', '__str__', '__sub__', '__subclasshook__', '__truediv__', '__xor__', 'all', 'any', 'argmax', 'argmin', 'argsort', 'astype', 'base', 'byteswap', 'choose', 'clip', 'compress', 'conj', 'conjugate', 'copy', 'cumprod', 'cumsum', 'data', 'diagonal', 'dtype', 'dump', 'dumps', 'fill', 'flags', 'flat', 'flatten', 'getfield', 'imag', 'item', 'itemset', 'itemsize', 'max', 'mean', 'min', 'nbytes', 'ndim', 'newbyteorder', 'nonzero', 'prod', 'ptp', 'put', 'ravel', 'real', 'repeat', 'reshape', 'resize', 'round', 'searchsorted', 'setfield', 'setflags', 'shape', 'size', 'sort', 'squeeze', 'std', 'strides', 'sum', 'swapaxes', 'take', 'tobytes', 'tofile', 'tolist', 'tostring', 'trace', 'transpose', 'var', 'view']\n"
     ]
    }
   ],
   "source": [
    "print(dir(np.datetime64))"
   ]
  },
  {
   "cell_type": "code",
   "execution_count": 96,
   "id": "d14c570f",
   "metadata": {},
   "outputs": [
    {
     "name": "stdout",
     "output_type": "stream",
     "text": [
      "['__add__', '__class__', '__delattr__', '__dir__', '__doc__', '__eq__', '__format__', '__ge__', '__getattribute__', '__gt__', '__hash__', '__init__', '__init_subclass__', '__le__', '__lt__', '__ne__', '__new__', '__radd__', '__reduce__', '__reduce_ex__', '__repr__', '__rsub__', '__setattr__', '__sizeof__', '__str__', '__sub__', '__subclasshook__', 'astimezone', 'combine', 'ctime', 'date', 'day', 'dst', 'fold', 'fromisocalendar', 'fromisoformat', 'fromordinal', 'fromtimestamp', 'hour', 'isocalendar', 'isoformat', 'isoweekday', 'max', 'microsecond', 'min', 'minute', 'month', 'now', 'replace', 'resolution', 'second', 'strftime', 'strptime', 'time', 'timestamp', 'timetuple', 'timetz', 'today', 'toordinal', 'tzinfo', 'tzname', 'utcfromtimestamp', 'utcnow', 'utcoffset', 'utctimetuple', 'weekday', 'year']\n"
     ]
    }
   ],
   "source": [
    "import datetime\n",
    "\n",
    "print(dir(datetime.datetime))"
   ]
  },
  {
   "cell_type": "code",
   "execution_count": null,
   "id": "377f2587",
   "metadata": {},
   "outputs": [],
   "source": [
    "print(dir(np))"
   ]
  },
  {
   "cell_type": "code",
   "execution_count": null,
   "id": "0c1459ac",
   "metadata": {},
   "outputs": [],
   "source": []
  }
 ],
 "metadata": {
  "kernelspec": {
   "display_name": "Python 3",
   "language": "python",
   "name": "python3"
  },
  "language_info": {
   "codemirror_mode": {
    "name": "ipython",
    "version": 3
   },
   "file_extension": ".py",
   "mimetype": "text/x-python",
   "name": "python",
   "nbconvert_exporter": "python",
   "pygments_lexer": "ipython3",
   "version": "3.8.5"
  }
 },
 "nbformat": 4,
 "nbformat_minor": 5
}
