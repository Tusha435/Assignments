{
 "cells": [
  {
   "cell_type": "markdown",
   "metadata": {},
   "source": [
    "# Assume Data wherever needed/necessary"
   ]
  },
  {
   "cell_type": "markdown",
   "metadata": {},
   "source": [
    "### Loop Statements"
   ]
  },
  {
   "cell_type": "code",
   "execution_count": null,
   "metadata": {},
   "outputs": [],
   "source": [
    "# WAP stands for Write A Program"
   ]
  },
  {
   "cell_type": "code",
   "execution_count": null,
   "metadata": {},
   "outputs": [],
   "source": [
    "#L1 E\n",
    "WAP to print all elements of a list using a for loop. \n",
    "Take the elements of the list from the user.\n",
    "\n",
    "For e.g. Input: l = [3,'Hi',67,0,12,0,8]\n",
    "        Output: 3\n",
    "                'Hi'\n",
    "                67\n",
    "                0\n",
    "                12\n",
    "                0\n",
    "                8"
   ]
  },
  {
   "cell_type": "code",
   "execution_count": null,
   "metadata": {},
   "outputs": [],
   "source": [
    "#L2 M\n",
    "WAP to take inputs from user to make a list. Length of the list has to be taken from the user.\n",
    "Again take one input from user and search it in the list and delete that element, if found.\n",
    "If not found, print \"Element not present\".\n",
    "\n",
    "For e.g. Input: len_list = 5\n",
    "                list = [\"a\", \"b\", \"y\", \"e\", \"p\"]\n",
    "                search_element = \"g\"\n",
    "                    Output: \"Element not found\"\n",
    "                search_element = \"e\"\n",
    "                    Output: [\"a\", \"b\", \"y\", \"p\"]"
   ]
  },
  {
   "cell_type": "code",
   "execution_count": null,
   "metadata": {},
   "outputs": [],
   "source": [
    "list = [\"a\", \"b\", \"y\", \"e\", \"p\"]\n",
    "search_element = input(\"Enter element : \")\n"
   ]
  },
  {
   "cell_type": "code",
   "execution_count": 2,
   "metadata": {},
   "outputs": [
    {
     "name": "stdout",
     "output_type": "stream",
     "text": [
      "Enter lenght of list : 3\n",
      "Enter element-1 : a\n",
      "Enter element-2 : b\n",
      "Enter element-3 : c\n",
      "['a', 'b', 'c']\n",
      "Enter element to search : b\n",
      "['a', 'c']\n"
     ]
    }
   ],
   "source": [
    "lst=[]\n",
    "n=int(input(\"Enter lenght of list : \"))\n",
    "for i in range(n):\n",
    "    ele=input(f'Enter element-{i+1} : ')\n",
    "    lst.append(ele)\n",
    "print(lst)\n",
    "e=input(\"Enter element to search : \")\n",
    "if e in lst:\n",
    "    lst.remove(e)\n",
    "    print(lst)\n",
    "else:\n",
    "    print('Element not found')\n"
   ]
  },
  {
   "cell_type": "code",
   "execution_count": null,
   "metadata": {},
   "outputs": [],
   "source": []
  },
  {
   "cell_type": "code",
   "execution_count": null,
   "metadata": {},
   "outputs": [],
   "source": [
    "#L3 EM\n",
    "Make a grading system for a school based on the marks of the students using the following criteria.\n",
    "Marks 0 - 40 : Grade F\n",
    "     41 - 50 : Grade E\n",
    "     51 - 70 : Grade D\n",
    "     71 - 80 : Grade C\n",
    "     81 - 90 : Grade B\n",
    "     91 - 100: Grade A\n",
    "Continuously take marks as input from the user and print the grade. \n",
    "The user can enter \"Stop\" to stop the loop."
   ]
  },
  {
   "cell_type": "code",
   "execution_count": 3,
   "metadata": {},
   "outputs": [
    {
     "name": "stdout",
     "output_type": "stream",
     "text": [
      "Enter \"STOP\" to stop the program : \n",
      "Enter a mark : 14\n",
      "Grade F\n",
      "Enter a mark : 25\n",
      "Grade F\n",
      "Enter a mark : 35\n",
      "Grade F\n",
      "Enter a mark : 45\n",
      "Grade E\n",
      "Enter a mark : 55\n",
      "Grade D\n",
      "Enter a mark : 65\n",
      "Grade D\n",
      "Enter a mark : 75\n",
      "Grade C\n",
      "Enter a mark : 85\n",
      "Grade B\n",
      "Enter a mark : 95\n",
      "Grade A\n",
      "Enter a mark : 100\n",
      "Grade A\n",
      "Enter a mark : 105\n",
      "Enter a mark : -25\n",
      "Enter a mark :   stop\n"
     ]
    }
   ],
   "source": [
    "print('Enter \"STOP\" to stop the program : ')\n",
    "while True:\n",
    "    mark=input('Enter a mark : ')\n",
    "    if mark.lower().strip()=='stop':\n",
    "        break   \n",
    "    else:\n",
    "        mark = int(mark)\n",
    "        if mark>0 and mark<=40:\n",
    "            print(\"Grade F\")\n",
    "        elif mark>=41 and mark<=50:\n",
    "            print(\"Grade E\")\n",
    "        elif mark>=51 and mark<=70:\n",
    "            print('Grade D')\n",
    "        elif mark>=71 and mark<=80:\n",
    "            print(\"Grade C\")\n",
    "        elif mark>=81 and mark<=90:\n",
    "            print(\"Grade B\")\n",
    "        elif mark>=91 and mark<=100:\n",
    "            print(\"Grade A\")\n",
    "        else : \n",
    "            print(\"Invalid Marks\")\n"
   ]
  },
  {
   "cell_type": "code",
   "execution_count": null,
   "metadata": {},
   "outputs": [],
   "source": [
    "#L4 E\n",
    "WAP to save the cube of all numbers from 1 to a number n in list, \n",
    "where n is taken as input from the user.\n",
    "\n",
    "For e.g. Input: 5\n",
    "        Output: [1, 8, 27, 64, 125]  #Cube of numbers from 1 to 5 where 5 is the input from the user"
   ]
  },
  {
   "cell_type": "code",
   "execution_count": 5,
   "metadata": {},
   "outputs": [
    {
     "name": "stdout",
     "output_type": "stream",
     "text": [
      "Enter a number : 10\n",
      "[1, 8, 27, 64, 125, 216, 343, 512, 729, 1000]\n"
     ]
    }
   ],
   "source": [
    "lst_l=[]\n",
    "num=int(input(\"Enter a number : \"))\n",
    "for i in range(1,num+1):\n",
    "    lst_l.append(i**3)\n",
    "print(lst_l)\n",
    "\n"
   ]
  },
  {
   "cell_type": "code",
   "execution_count": null,
   "metadata": {},
   "outputs": [],
   "source": []
  },
  {
   "cell_type": "code",
   "execution_count": null,
   "metadata": {},
   "outputs": [],
   "source": [
    "#L5 E\n",
    "WAP to print even numbers in a given range in reverse order. Take the range from the user.\n",
    "\n",
    "For e.g. Input: start = 3\n",
    "                End = 14\n",
    "        Output: 14, 12, 10, 8, 6, 4"
   ]
  },
  {
   "cell_type": "code",
   "execution_count": null,
   "metadata": {},
   "outputs": [],
   "source": []
  },
  {
   "cell_type": "code",
   "execution_count": null,
   "metadata": {},
   "outputs": [],
   "source": []
  },
  {
   "cell_type": "code",
   "execution_count": null,
   "metadata": {},
   "outputs": [],
   "source": [
    "#L6 E\n",
    "WAP to print odd numbers in a given range in reverse order.\n",
    "Take the range from the user.\n",
    "\n",
    "For e.g. Input: start = 3\n",
    "                End = 14\n",
    "        Output: 13, 11, 9, 7, 5, 3"
   ]
  },
  {
   "cell_type": "code",
   "execution_count": null,
   "metadata": {},
   "outputs": [],
   "source": [
    "#L7 E\n",
    "WAP to print multiplication table of a number taken as input from the user.\n",
    "\n",
    "For e.g. Input: 5\n",
    "        Output: 5*1 = 5\n",
    "                5*2 = 10\n",
    "                .\n",
    "                .\n",
    "                .\n",
    "                5*10 = 50"
   ]
  },
  {
   "cell_type": "code",
   "execution_count": 8,
   "metadata": {},
   "outputs": [
    {
     "name": "stdout",
     "output_type": "stream",
     "text": [
      "Enter Number : 4\n",
      "4 * 1  = 4 \n",
      "4 * 2  = 8 \n",
      "4 * 3  = 12 \n",
      "4 * 4  = 16 \n",
      "4 * 5  = 20 \n",
      "4 * 6  = 24 \n",
      "4 * 7  = 28 \n",
      "4 * 8  = 32 \n",
      "4 * 9  = 36 \n",
      "4 * 10  = 40 \n"
     ]
    }
   ],
   "source": [
    "num = int(input(\"Enter Number : \"))\n",
    "for i in range(1, 11) : \n",
    "    print(  f\"{num} * {i}  = {num * i} \")   # 5 * 1 = \n"
   ]
  },
  {
   "cell_type": "code",
   "execution_count": null,
   "metadata": {},
   "outputs": [],
   "source": []
  },
  {
   "cell_type": "code",
   "execution_count": null,
   "metadata": {},
   "outputs": [],
   "source": [
    "#L8 E\n",
    "WAP to print the following pattern.\n",
    "\n",
    "1\n",
    "1 2\n",
    "1 2 3\n",
    "1 2 3 4"
   ]
  },
  {
   "cell_type": "code",
   "execution_count": 19,
   "metadata": {},
   "outputs": [
    {
     "name": "stdout",
     "output_type": "stream",
     "text": [
      "1\n",
      "22\n",
      "333\n",
      "4444\n"
     ]
    }
   ],
   "source": [
    "for i in range(1, 5) : \n",
    "    print(str(i) * i)\n"
   ]
  },
  {
   "cell_type": "code",
   "execution_count": 18,
   "metadata": {},
   "outputs": [
    {
     "name": "stdout",
     "output_type": "stream",
     "text": [
      "1\n",
      "12\n",
      "123\n",
      "1234\n"
     ]
    }
   ],
   "source": [
    "# for i in range(1, 5) : \n",
    "#     print(str(i) * i)\n",
    "    \n",
    "for i in range(1, 5) : \n",
    "#     print(f\"i = {i}\")\n",
    "    for j in range(1, i + 1) : \n",
    "        print(j, end = \"\")\n",
    "    print()\n"
   ]
  },
  {
   "cell_type": "code",
   "execution_count": null,
   "metadata": {},
   "outputs": [],
   "source": [
    "#L9 H\n",
    "Write a program to calculate the sum of series up to n terms for a digit d. n & d are taken as input from the user.\n",
    "\n",
    "For example:\n",
    "    Input: n = 5, d = 2\n",
    "    Logic: 2 + 22 + 222 + 2222 + 22222 \n",
    "    Output: 24690"
   ]
  },
  {
   "cell_type": "code",
   "execution_count": 29,
   "metadata": {},
   "outputs": [
    {
     "name": "stdout",
     "output_type": "stream",
     "text": [
      "2\n",
      "22\n",
      "222\n",
      "2222\n",
      "22222\n"
     ]
    },
    {
     "data": {
      "text/plain": [
       "24690"
      ]
     },
     "execution_count": 29,
     "metadata": {},
     "output_type": "execute_result"
    }
   ],
   "source": [
    "n = 5\n",
    "d = 2\n",
    "\n",
    "pattern = \"\"\n",
    "totalSum = 0\n",
    "for i in range(1, n + 1) : \n",
    "    pattern = ( str(d) * i )\n",
    "    print(pattern)\n",
    "    totalSum += int( pattern )\n",
    "pattern\n",
    "totalSum\n"
   ]
  },
  {
   "cell_type": "code",
   "execution_count": null,
   "metadata": {},
   "outputs": [],
   "source": []
  },
  {
   "cell_type": "code",
   "execution_count": null,
   "metadata": {},
   "outputs": [],
   "source": [
    "#L10 M\n",
    "WAP that keeps on accepting numbers from the user until the user enters Zero(0) as input.\n",
    "Display the sum and average of all the numbers.\n",
    "\n",
    "For example:\n",
    "    Input: 3, 6, 8, 2, 5, Stop\n",
    "    Output: Sum = 24\n",
    "            Average = 4.8"
   ]
  },
  {
   "cell_type": "code",
   "execution_count": 38,
   "metadata": {},
   "outputs": [
    {
     "name": "stdout",
     "output_type": "stream",
     "text": [
      "STOP to close the program\n",
      "Enter Number : 10\n",
      "Enter Number : 12.25\n",
      "Enter Number : 3.555\n",
      "Enter Number : stop\n",
      "Total Sum = 25.805, \t Average = 8.601666666666667\n"
     ]
    }
   ],
   "source": [
    "totalSum = 0\n",
    "Average = 0\n",
    "Records = 0\n",
    "\n",
    "print('STOP to close the program')\n",
    "while True : \n",
    "    \n",
    "    num = input(\"Enter Number : \")\n",
    "    if num.lower().strip() == \"stop\" : \n",
    "        print(f\"Total Sum = {totalSum}, \\t Average = {Average}\")\n",
    "        break\n",
    "     \n",
    "    totalSum += float(num)  # update sum\n",
    "    Records += 1    # update total records\n",
    "    Average = totalSum / Records  # replacing every time\n",
    "    \n"
   ]
  },
  {
   "cell_type": "code",
   "execution_count": 32,
   "metadata": {},
   "outputs": [
    {
     "data": {
      "text/plain": [
       "'12.5'"
      ]
     },
     "execution_count": 32,
     "metadata": {},
     "output_type": "execute_result"
    }
   ],
   "source": [
    "r = str(12.5)\n",
    "r"
   ]
  },
  {
   "cell_type": "code",
   "execution_count": 33,
   "metadata": {},
   "outputs": [
    {
     "data": {
      "text/plain": [
       "12"
      ]
     },
     "execution_count": 33,
     "metadata": {},
     "output_type": "execute_result"
    }
   ],
   "source": [
    "r = int(12.5)\n",
    "r"
   ]
  },
  {
   "cell_type": "code",
   "execution_count": 35,
   "metadata": {},
   "outputs": [
    {
     "data": {
      "text/plain": [
       "12"
      ]
     },
     "execution_count": 35,
     "metadata": {},
     "output_type": "execute_result"
    }
   ],
   "source": [
    "r = int( float( \"12.5\") )\n",
    "\n",
    "r"
   ]
  },
  {
   "cell_type": "code",
   "execution_count": 36,
   "metadata": {},
   "outputs": [
    {
     "data": {
      "text/plain": [
       "12.0"
      ]
     },
     "execution_count": 36,
     "metadata": {},
     "output_type": "execute_result"
    }
   ],
   "source": [
    "r = float( \"12\")\n",
    "\n",
    "r"
   ]
  },
  {
   "cell_type": "code",
   "execution_count": null,
   "metadata": {},
   "outputs": [],
   "source": [
    "#L11 E\n",
    "Accept n numbers from the user and display their average. n is input from the user.\n",
    "\n",
    "For example:\n",
    "    Input: n = 5\n",
    "        Numbers = 3, 6, 2, 9, 0\n",
    "    Output: Average = 4.0"
   ]
  },
  {
   "cell_type": "code",
   "execution_count": null,
   "metadata": {},
   "outputs": [],
   "source": []
  },
  {
   "cell_type": "code",
   "execution_count": null,
   "metadata": {},
   "outputs": [],
   "source": []
  },
  {
   "cell_type": "code",
   "execution_count": null,
   "metadata": {},
   "outputs": [],
   "source": []
  },
  {
   "cell_type": "markdown",
   "metadata": {},
   "source": [
    "### String Questions"
   ]
  },
  {
   "cell_type": "code",
   "execution_count": null,
   "metadata": {},
   "outputs": [],
   "source": [
    "#S1 E\n",
    "Write a Python program to count the number of each of the characters (character frequency) \n",
    "   in a string input by the user. Ignore the case.\n",
    "   For example: Input: \"Python is great\"\n",
    "\t\tOutput: P = 1, y = 1, t = 2, and so on..."
   ]
  },
  {
   "cell_type": "code",
   "execution_count": 43,
   "metadata": {},
   "outputs": [
    {
     "name": "stdout",
     "output_type": "stream",
     "text": [
      "Char = P, Occurenece = 2\n",
      "Char = y, Occurenece = 2\n",
      "Char = t, Occurenece = 2\n",
      "Char = h, Occurenece = 2\n",
      "Char = o, Occurenece = 2\n",
      "Char = n, Occurenece = 2\n",
      "Char =  , Occurenece = 1\n",
      "Char = P, Occurenece = 2\n",
      "Char = y, Occurenece = 2\n",
      "Char = t, Occurenece = 2\n",
      "Char = h, Occurenece = 2\n",
      "Char = o, Occurenece = 2\n",
      "Char = n, Occurenece = 2\n",
      "{('y', 2), ('h', 2), (' ', 1), ('o', 2), ('t', 2), ('P', 2), ('n', 2)}\n"
     ]
    }
   ],
   "source": [
    "Input =  \"Python Python\"\n",
    "\n",
    "newList = []\n",
    "for i in Input : \n",
    "    print( f\"Char = {i}, Occurenece = {Input.count(i)}\" )\n",
    "    newList.append( (i, Input.count(i) ) )\n",
    "print(set( newList) )\n"
   ]
  },
  {
   "cell_type": "code",
   "execution_count": 45,
   "metadata": {},
   "outputs": [
    {
     "data": {
      "text/plain": [
       "{'P': 2, 'y': 2, 't': 2, 'h': 2, 'o': 2, 'n': 2, ' ': 1}"
      ]
     },
     "execution_count": 45,
     "metadata": {},
     "output_type": "execute_result"
    }
   ],
   "source": [
    "Input =  \"Python Python\"\n",
    "\n",
    "newDict = {}\n",
    "for i in Input : \n",
    "    newDict.update( {i : Input.count(i)} )\n",
    "    \n",
    "newDict    "
   ]
  },
  {
   "cell_type": "code",
   "execution_count": null,
   "metadata": {},
   "outputs": [],
   "source": [
    "#S2 M\n",
    "Write a Python program to find the digits which are absent in a given mobile number.\n",
    "\n",
    "   For example: Input : 9354328855\n",
    "                Output: 0167"
   ]
  },
  {
   "cell_type": "code",
   "execution_count": 48,
   "metadata": {},
   "outputs": [
    {
     "name": "stdout",
     "output_type": "stream",
     "text": [
      "Enter Mobile : 7503286013\n"
     ]
    },
    {
     "data": {
      "text/plain": [
       "'49'"
      ]
     },
     "execution_count": 48,
     "metadata": {},
     "output_type": "execute_result"
    }
   ],
   "source": [
    "mob = input(\"Enter Mobile : \")\n",
    "\n",
    "output = \"\"\n",
    "for n in numbers : \n",
    "    if str(n) not in mob : \n",
    "        output += str(n)\n",
    "output\n",
    "\n"
   ]
  },
  {
   "cell_type": "code",
   "execution_count": 46,
   "metadata": {},
   "outputs": [
    {
     "data": {
      "text/plain": [
       "[0, 1, 2, 3, 4, 5, 6, 7, 8, 9]"
      ]
     },
     "execution_count": 46,
     "metadata": {},
     "output_type": "execute_result"
    }
   ],
   "source": [
    "numbers = list( range(0, 10) )\n",
    "numbers"
   ]
  },
  {
   "cell_type": "code",
   "execution_count": null,
   "metadata": {},
   "outputs": [],
   "source": [
    "#S3 M\n",
    "WAP in python to find average of n numbers taken as input from the user dynamically."
   ]
  },
  {
   "cell_type": "code",
   "execution_count": null,
   "metadata": {},
   "outputs": [],
   "source": [
    "#S4 E\n",
    "WAP in python that accepts a hyphen-separated sequence of \n",
    "words as input and prints the words in a hyphen-separated \n",
    "sequence after sorting them alphabetically.\n",
    "\n",
    "For e.g. Input: \"p-y-t-h-o-n\"\n",
    "        Output: ['h', 'n','o', 'p', 't', 'y']"
   ]
  },
  {
   "cell_type": "code",
   "execution_count": 49,
   "metadata": {},
   "outputs": [
    {
     "name": "stdout",
     "output_type": "stream",
     "text": [
      "Enter string(hypen seperated ) : p-y-t-h-o-n\n",
      "['h', 'n', 'o', 'p', 't', 'y']\n"
     ]
    }
   ],
   "source": [
    "items=[n for n in input('Enter string(hypen seperated ) : ').split('-')]\n",
    "items.sort()  # Sorting on the list\n",
    "print(items)\n"
   ]
  },
  {
   "cell_type": "code",
   "execution_count": null,
   "metadata": {},
   "outputs": [],
   "source": [
    "#S5 MH\n",
    "WAP in python to find the number of vowels, consonants, digits, special \n",
    "characters and white space characters in a string input by the user.\n",
    "\n",
    "Example: Input: \"Qwerty@123\"\n",
    "\toutput: v = 1, c = 5, d = 3, w = 0, s = 1"
   ]
  },
  {
   "cell_type": "code",
   "execution_count": null,
   "metadata": {},
   "outputs": [],
   "source": []
  },
  {
   "cell_type": "code",
   "execution_count": null,
   "metadata": {},
   "outputs": [],
   "source": [
    "#S6 MH\n",
    "WAP in python to check the strength of the password input by the user based on the following features.\n",
    "    Length minimum of 8 characters  (+1 Strength)\n",
    "    Combination of upper case & lower case characters (+1 Strength)\n",
    "    Combination of alphabets & digits (+1 Strength)\n",
    "    Use of Special Characters (+1 Strength)\n",
    "    \n",
    "Example: Input: \"Qwerty@123\"\n",
    "       Output: Strength = 4"
   ]
  },
  {
   "cell_type": "code",
   "execution_count": 81,
   "metadata": {},
   "outputs": [
    {
     "name": "stdout",
     "output_type": "stream",
     "text": [
      "Strength = 1\n"
     ]
    }
   ],
   "source": [
    "Input = \"97864\"\n",
    "\n",
    "st1, st2, st3, st4 = 0,0,0,0\n",
    "\n",
    "if len(Input) > 8 : \n",
    "    st1 += 1\n",
    "if ( any([i.isupper() for i in Input]) and ( any([i.islower() for i in Input] ) )) : \n",
    "    st2 += 1\n",
    "if ( any([i.isalpha() for i in Input]) or ( any([i.isdigit() for i in Input] ) )) : \n",
    "    st3 += 1\n",
    "if not( all( [ i.isalnum() for i in Input ] ) ) : \n",
    "    st4 += 1\n",
    "    \n",
    "final = st1 + st2 +st3 + st4\n",
    "# print(st1)\n",
    "# print(st2)\n",
    "# print(st3)\n",
    "# print(st4)\n",
    "\n",
    "print( f\"Strength = {final}\" )\n",
    "\n"
   ]
  },
  {
   "cell_type": "code",
   "execution_count": 71,
   "metadata": {},
   "outputs": [
    {
     "data": {
      "text/plain": [
       "False"
      ]
     },
     "execution_count": 71,
     "metadata": {},
     "output_type": "execute_result"
    }
   ],
   "source": [
    "Input = \"sfdxvbwqhdgwvdyuiw562132133\"\n",
    "\n",
    "not( all( [ i.isalnum() for i in Input ] ) )"
   ]
  },
  {
   "cell_type": "code",
   "execution_count": null,
   "metadata": {},
   "outputs": [],
   "source": [
    "# !@#$%^&*(){}:>/*-+"
   ]
  },
  {
   "cell_type": "code",
   "execution_count": 59,
   "metadata": {},
   "outputs": [
    {
     "name": "stdout",
     "output_type": "stream",
     "text": [
      "True\n",
      "False\n",
      "False\n",
      "False\n",
      "False\n",
      "False\n",
      "False\n",
      "False\n",
      "False\n",
      "False\n",
      "[True, False, False, False, False, False, False, False, False, False]\n",
      "True\n",
      "False\n"
     ]
    }
   ],
   "source": [
    "Input = \"Qwerty@123\"\n",
    "\n",
    "# Way1\n",
    "for i in Input : \n",
    "    if i.isupper() : \n",
    "        print(True)\n",
    "    else : print(False)\n",
    "\n",
    "# Way2\n",
    "res = [i.isupper() for i in Input]\n",
    "print(res)\n",
    "\n",
    "print( any(res) )\n",
    "print( all(res) )"
   ]
  },
  {
   "cell_type": "code",
   "execution_count": null,
   "metadata": {},
   "outputs": [],
   "source": [
    "#S7 E\n",
    "WAP in python to compare two strings and tell the user if both of those strings are same or not. \n",
    "Ignore their case.\n",
    "\n",
    "Example: Input String1: \"Hello\"\n",
    "\tInput String2: \"hello\"\n",
    "\tOutput: Strings are same"
   ]
  },
  {
   "cell_type": "code",
   "execution_count": null,
   "metadata": {},
   "outputs": [],
   "source": []
  },
  {
   "cell_type": "code",
   "execution_count": null,
   "metadata": {},
   "outputs": [],
   "source": []
  },
  {
   "cell_type": "code",
   "execution_count": null,
   "metadata": {},
   "outputs": [],
   "source": [
    "#S8 E\n",
    "WAP in python to calculate the number of times a character is repeated in a given string.\n",
    "Take the string and character from the user.\n",
    "\n",
    "Example: Input String: \"Neil Nitin Mukesh\"\n",
    "        Input Character: \"e\"\n",
    "        Output: 2"
   ]
  },
  {
   "cell_type": "code",
   "execution_count": null,
   "metadata": {},
   "outputs": [],
   "source": []
  },
  {
   "cell_type": "code",
   "execution_count": null,
   "metadata": {},
   "outputs": [],
   "source": [
    "#S9 E\n",
    "WAP in python which accepts string from the user and displays only those characters/elements which are present at an even index.\n",
    "\n",
    "Example: \n",
    "    Input: \"Python\"\n",
    "    Output: Pto"
   ]
  },
  {
   "cell_type": "code",
   "execution_count": null,
   "metadata": {},
   "outputs": [],
   "source": []
  },
  {
   "cell_type": "code",
   "execution_count": null,
   "metadata": {},
   "outputs": [],
   "source": [
    "#S10 E\n",
    "WAP in python to capitalize the first letter of the First Name and Surname where whole name is taken as input from the user.\n",
    "\n",
    "Example: Input: \"first last\" or \"FIRST LAST\" or \"first lAst\" i.e. Input can be in any case.\n",
    "        Output: \"First Last\""
   ]
  },
  {
   "cell_type": "code",
   "execution_count": null,
   "metadata": {},
   "outputs": [],
   "source": []
  },
  {
   "cell_type": "code",
   "execution_count": null,
   "metadata": {},
   "outputs": [],
   "source": [
    "#S11 EM\n",
    "Write a Python program that accepts a comma separated sequence of words as input and \n",
    "prints the unique words in sorted form (alphanumerically).\n",
    "\n",
    "\tSample Words : red, white, black, red, green    \n",
    "\tExpected Result : black, green, red, red, white"
   ]
  },
  {
   "cell_type": "code",
   "execution_count": 85,
   "metadata": {},
   "outputs": [
    {
     "name": "stdout",
     "output_type": "stream",
     "text": [
      "['red', ' white', ' black', ' red', ' green']\n"
     ]
    },
    {
     "data": {
      "text/plain": [
       "['black', 'green', 'red', 'red', 'white']"
      ]
     },
     "execution_count": 85,
     "metadata": {},
     "output_type": "execute_result"
    }
   ],
   "source": [
    "seq = 'red, white, black, red, green'\n",
    "output = seq.split(\",\")\n",
    "print(output)\n",
    "sorted( [i.strip() for i in output] )\n",
    "\n"
   ]
  },
  {
   "cell_type": "code",
   "execution_count": null,
   "metadata": {},
   "outputs": [],
   "source": [
    "#S12 MH\n",
    "Write a Python program to count repeated characters in a string.\n",
    "\n",
    "\tSample string: 'thequickbrownfoxjumpsoverthelazydog'\n",
    "\tExpected output :\n",
    "\t\t\to 4\n",
    "\t\t\te 3\n",
    "\t\t\tu 2\n",
    "\t\t\th 2\n",
    "\t\t\tr 2\n",
    "\t\t\tt 2"
   ]
  },
  {
   "cell_type": "code",
   "execution_count": 88,
   "metadata": {},
   "outputs": [
    {
     "name": "stdout",
     "output_type": "stream",
     "text": [
      "[('c', 1), ('e', 3), ('m', 1), ('a', 1), ('t', 2), ('s', 1), ('l', 1), ('w', 1), ('h', 2), ('j', 1), ('b', 1), ('x', 1), ('z', 1), ('i', 1), ('k', 1), ('f', 1), ('r', 2), ('o', 4), ('q', 1), ('v', 1), ('n', 1), ('p', 1), ('y', 1), ('d', 1), ('g', 1), ('u', 2)]\n"
     ]
    }
   ],
   "source": [
    "Input =  \"thequickbrownfoxjumpsoverthelazydog\"\n",
    "\n",
    "newList = []\n",
    "for i in Input : \n",
    "#     print( f\"Char = {i}, Occurenece = {Input.count(i)}\" )\n",
    "    newList.append( (i, Input.count(i) ) )\n",
    "newList = list( set( newList) )\n",
    "print(newList )\n"
   ]
  },
  {
   "cell_type": "code",
   "execution_count": null,
   "metadata": {},
   "outputs": [],
   "source": []
  },
  {
   "cell_type": "code",
   "execution_count": null,
   "metadata": {},
   "outputs": [],
   "source": []
  },
  {
   "cell_type": "markdown",
   "metadata": {},
   "source": [
    "### List Questions"
   ]
  },
  {
   "cell_type": "code",
   "execution_count": null,
   "metadata": {},
   "outputs": [],
   "source": [
    "#Li1 M\n",
    "WAP to remove empty strings from the list of strings. Take list as input from the user.\n",
    "\n",
    "For example: Input: [\"My\", \"name\", \"\", \"is\", \"\", \"Alankrita\", \"\", \".\"]\n",
    "            Output: [\"My\", \"name\", \"is\", \"Alankrita\", \".\"]"
   ]
  },
  {
   "cell_type": "code",
   "execution_count": null,
   "metadata": {},
   "outputs": [],
   "source": [
    "check with len() ???"
   ]
  },
  {
   "cell_type": "code",
   "execution_count": null,
   "metadata": {},
   "outputs": [],
   "source": [
    "#Li2 H\n",
    "WAP to make a list of all the characters starting from character 'A' to input charaacter from the user.\n",
    "\n",
    "For e.g. Input: 'H'\n",
    "        Output: [\"A\", \"B\", \"C\", \"D\", \"E\", \"F\", \"G\", \"H\"]"
   ]
  },
  {
   "cell_type": "code",
   "execution_count": 91,
   "metadata": {},
   "outputs": [
    {
     "name": "stdout",
     "output_type": "stream",
     "text": [
      "Enter Char :    j  \n"
     ]
    },
    {
     "data": {
      "text/plain": [
       "['A', 'B', 'C', 'D', 'E', 'F', 'G', 'H', 'I']"
      ]
     },
     "execution_count": 91,
     "metadata": {},
     "output_type": "execute_result"
    }
   ],
   "source": [
    "import string\n",
    "string.ascii_uppercase\n",
    "\n",
    "output = []\n",
    "char = input(\"Enter Char : \")  # \"   j  \"\n",
    "for i in string.ascii_uppercase : \n",
    "    if i == char.strip().upper() : \n",
    "        break\n",
    "    else : \n",
    "        output.append(i)\n",
    "\n",
    "\n",
    "output"
   ]
  },
  {
   "cell_type": "code",
   "execution_count": null,
   "metadata": {},
   "outputs": [],
   "source": []
  },
  {
   "cell_type": "code",
   "execution_count": null,
   "metadata": {},
   "outputs": [],
   "source": [
    "#Li3 H\n",
    "WAP to check if a specific employee e is present in a company or not. Employee names are saved in a list.\n",
    "e is taken as input from the user.\n",
    "\n",
    "For example: empList = [\"Ashwin\", \"Rachit\", \"Sanjana\", \"David\", \"Komal\"]\n",
    "            Input1: \"Komal\"\n",
    "            Output1: \"Employee is present\"\n",
    "            \n",
    "            Input2: \"Nitish\"\n",
    "            Output2: \"Employee is not present\""
   ]
  },
  {
   "cell_type": "code",
   "execution_count": null,
   "metadata": {},
   "outputs": [],
   "source": []
  },
  {
   "cell_type": "code",
   "execution_count": null,
   "metadata": {},
   "outputs": [],
   "source": [
    "#Li4 M\n",
    "Write a python program to find the maximum and minimum number in a list of 10 elements \n",
    "   (taken as input from the user) and also find the index position of the these numbers.\n",
    "    \n",
    "   For example: Input : [25, 2, 1, 86, 42, 32, 27, 12, 31, 10]\n",
    "\t\tOutput: Max Number: 86, Index of Max Number: 3\n",
    "\t\t\tMin Number: 1, Index of Min Number: 2"
   ]
  },
  {
   "cell_type": "code",
   "execution_count": null,
   "metadata": {},
   "outputs": [],
   "source": [
    "max()\n",
    "min()"
   ]
  },
  {
   "cell_type": "code",
   "execution_count": null,
   "metadata": {},
   "outputs": [],
   "source": []
  },
  {
   "cell_type": "code",
   "execution_count": null,
   "metadata": {},
   "outputs": [],
   "source": [
    "#Li5 M\n",
    "Given two Python lists of same length. Iterate both lists simultaneously such that list1 \n",
    "   should display item in original order and list2 in reverse order.\n",
    "    \n",
    "   For example: Input = list1 = [10, 20, 30, 40]\n",
    "\t\t\tlist2 = [100, 200, 300, 400]\n",
    "            Output: 10 400\n",
    "                    20 300\n",
    "                    30 200\n",
    "                    40 100"
   ]
  },
  {
   "cell_type": "code",
   "execution_count": 94,
   "metadata": {},
   "outputs": [
    {
     "name": "stdout",
     "output_type": "stream",
     "text": [
      "10 400\n",
      "20 300\n",
      "30 200\n",
      "40 100\n"
     ]
    }
   ],
   "source": [
    "list1 = [10, 20, 30, 40]\n",
    "list2 = [100, 200, 300, 400]\n",
    "\n",
    "for i in range(len( list1)  ) : \n",
    "    print( list1[i], list2[ -i-1 ] )"
   ]
  },
  {
   "cell_type": "code",
   "execution_count": null,
   "metadata": {},
   "outputs": [],
   "source": [
    "#Li6 M\n",
    "WAP to concatenate two lists index-wise.\n",
    "    list1 = [\"M\", \"na\", \"i\", \"Ashu\"]\n",
    "    list2 = [\"y\", \"me\", \"s\", \"tosh\"]\n",
    "    Output: ['My', 'name', 'is', 'Ashutosh']"
   ]
  },
  {
   "cell_type": "code",
   "execution_count": null,
   "metadata": {},
   "outputs": [],
   "source": [
    "#Li7 M\n",
    "WAP to remove/delete items from a list while iterating without creating a duplicate list.\n",
    "Take the elements to be deleted from the user in real-time."
   ]
  },
  {
   "cell_type": "code",
   "execution_count": null,
   "metadata": {},
   "outputs": [],
   "source": [
    "myList = [\"M\", \"na\", \"i\", \"Ashu\"]\n",
    "\n",
    "userValue = \"na\""
   ]
  },
  {
   "cell_type": "code",
   "execution_count": null,
   "metadata": {},
   "outputs": [],
   "source": [
    "#Li8 E\n",
    "WAP to generate a Python list of all the prime numbers between n to m where n & m are taken as input from the user."
   ]
  },
  {
   "cell_type": "code",
   "execution_count": 100,
   "metadata": {},
   "outputs": [
    {
     "name": "stdout",
     "output_type": "stream",
     "text": [
      "False\n",
      "True\n",
      "True\n",
      "False\n",
      "True\n",
      "False\n"
     ]
    }
   ],
   "source": [
    "# list( range(n, m) )\n",
    "\n",
    "# list( range(11, 51) )\n",
    "\n",
    "\n",
    "def findPrime(number) : \n",
    "    flag = True\n",
    "    for each in range(2, number) : \n",
    "        if number % each == 0:\n",
    "            flag = False\n",
    "            break\n",
    "        else : \n",
    "            flag = True\n",
    "  \n",
    "    return flag\n",
    "\n",
    "myList = [8, 11, 13, 14, 5, 50]\n",
    "for i in myList : \n",
    "    print( findPrime(i) )"
   ]
  },
  {
   "cell_type": "code",
   "execution_count": null,
   "metadata": {},
   "outputs": [],
   "source": []
  },
  {
   "cell_type": "code",
   "execution_count": null,
   "metadata": {},
   "outputs": [],
   "source": [
    "#Li9 M\n",
    "WAP to concatenate two lists in the following order:\n",
    "    list1 = [\"Hello \", \"World\"]\n",
    "    list2 = [\"Hi\", \"There\"]\n",
    "    Output: ['Hello Hi', 'Hello There', 'World Hi', 'World There']"
   ]
  },
  {
   "cell_type": "code",
   "execution_count": 6,
   "metadata": {},
   "outputs": [
    {
     "name": "stdout",
     "output_type": "stream",
     "text": [
      "Enter the name: Komal\n",
      "27\n"
     ]
    }
   ],
   "source": [
    "# Li10 M\n",
    "Given two lists having names of students and their corresponding marks.\n",
    "names = [\"Ashutosh\", \"Ajay\", \"Alankrita\", \"Rachit\", \"Komal\", \"Anil\"]\n",
    "marks = [23, 21, 26, 23, 27, 24]\n",
    "Take name of a student as input from the user and output his/her marks.\n",
    "\n",
    "For e.g.:\n",
    "    Input1: \"Alankrita\"\n",
    "    Output1: 26\n",
    "        \n",
    "    Input2: \"Someone\"\n",
    "    Output2: \"Student not found\""
   ]
  },
  {
   "cell_type": "code",
   "execution_count": 110,
   "metadata": {},
   "outputs": [
    {
     "name": "stdout",
     "output_type": "stream",
     "text": [
      "enter the nameNit\n",
      "Student Not Found\n",
      "Student Not Found\n",
      "Student Not Found\n",
      "Student Not Found\n",
      "Student Not Found\n",
      "Student Not Found\n"
     ]
    }
   ],
   "source": [
    "names = [\"Ashutosh\", \"Ajay\", \"Alankrita\", \"Rachit\", \"Komal\", \"Anil\"]\n",
    "marks = [23, 21, 26, 23, 27, 24]\n",
    "\n",
    "name=input(\"enter the name\")\n",
    "for i in range(len(names)):\n",
    "    if names[i]==name:\n",
    "        print(marks[i])\n"
   ]
  },
  {
   "cell_type": "code",
   "execution_count": 104,
   "metadata": {},
   "outputs": [
    {
     "data": {
      "text/plain": [
       "{'Ashutosh': 23,\n",
       " 'Ajay': 21,\n",
       " 'Alankrita': 26,\n",
       " 'Rachit': 23,\n",
       " 'Komal': 27,\n",
       " 'Anil': 24}"
      ]
     },
     "execution_count": 104,
     "metadata": {},
     "output_type": "execute_result"
    }
   ],
   "source": [
    "dict( zip( names, marks ) )"
   ]
  },
  {
   "cell_type": "code",
   "execution_count": 106,
   "metadata": {},
   "outputs": [
    {
     "name": "stdout",
     "output_type": "stream",
     "text": [
      "Enter a name : Komal\n",
      "27\n"
     ]
    }
   ],
   "source": [
    "d=dict(zip(names,marks))\n",
    "name=input('Enter a name : ')\n",
    "name=name.strip().title()\n",
    "if name in names:\n",
    "    mark=d.get(name)\n",
    "    print(mark)\n",
    "else:\n",
    "    print('Student not found')\n"
   ]
  },
  {
   "cell_type": "code",
   "execution_count": null,
   "metadata": {},
   "outputs": [],
   "source": []
  },
  {
   "cell_type": "code",
   "execution_count": null,
   "metadata": {},
   "outputs": [],
   "source": []
  },
  {
   "cell_type": "code",
   "execution_count": null,
   "metadata": {},
   "outputs": [],
   "source": []
  },
  {
   "cell_type": "code",
   "execution_count": null,
   "metadata": {},
   "outputs": [],
   "source": []
  },
  {
   "cell_type": "code",
   "execution_count": null,
   "metadata": {},
   "outputs": [],
   "source": [
    "#Li11 H\n",
    "Extended question of #Li10\n",
    "Add an option to change marks of any students in the same code of #Li10. Take student name and new marks from the user. \n",
    "Print the modified list as output.\n",
    "\n",
    "For e.g.: Input: \"Ajay\"\n",
    "        new_mark: 25\n",
    "        Output: marks = [23, 25, 26, 23, 27, 24]"
   ]
  },
  {
   "cell_type": "code",
   "execution_count": 111,
   "metadata": {},
   "outputs": [
    {
     "name": "stdout",
     "output_type": "stream",
     "text": [
      "enter the nameKomal\n",
      "enter the marks30\n",
      "[23, 21, 26, 23, 30, 24]\n"
     ]
    }
   ],
   "source": [
    "names = [\"Ashutosh\", \"Ajay\", \"Alankrita\", \"Rachit\", \"Komal\", \"Anil\"]\n",
    "marks = [23, 21, 26, 23, 27, 24]\n",
    "name=input(\"enter the name\")\n",
    "newmarks=int(input(\"enter the marks\"))\n",
    "for i in range(len(names)):\n",
    "    if names[i]==name:\n",
    "        marks[i]=newmarks\n",
    "print(marks)\n"
   ]
  },
  {
   "cell_type": "code",
   "execution_count": null,
   "metadata": {},
   "outputs": [],
   "source": []
  },
  {
   "cell_type": "code",
   "execution_count": null,
   "metadata": {},
   "outputs": [],
   "source": [
    "#Li12 H\n",
    "Extended question of #Li10\n",
    "Give an option to enter the marks of a new student into the existing lists names and marks. Take new data as input from user.\n",
    "Print the new names and marks list as output.\n",
    "\n",
    "For e.g.: Input: New_name = \"Nitish\"\n",
    "                new_Marks = 20\n",
    "        Output: names = [\"Ashutosh\", \"Ajay\", \"Alankrita\", \"Rachit\", \"Komal\", \"Anil\", \"Nitish\"]\n",
    "                marks = [23, 21, 26, 23, 27, 24, 20]"
   ]
  },
  {
   "cell_type": "code",
   "execution_count": 114,
   "metadata": {},
   "outputs": [
    {
     "name": "stdout",
     "output_type": "stream",
     "text": [
      "Enter a name : Shweta\n",
      "Enter Marks : 40\n"
     ]
    },
    {
     "data": {
      "text/plain": [
       "{'Ashutosh': 23,\n",
       " 'Ajay': 21,\n",
       " 'Alankrita': 26,\n",
       " 'Rachit': 23,\n",
       " 'Komal': 27,\n",
       " 'Anil': 24,\n",
       " 'Nitish': 20,\n",
       " 'Shweta': 40}"
      ]
     },
     "execution_count": 114,
     "metadata": {},
     "output_type": "execute_result"
    }
   ],
   "source": [
    "names = [\"Ashutosh\", \"Ajay\", \"Alankrita\", \"Rachit\", \"Komal\", \"Anil\", \"Nitish\"]\n",
    "marks = [23, 21, 26, 23, 27, 24, 20]\n",
    "\n",
    "d=dict(zip(names,marks))\n",
    "\n",
    "name=input('Enter a name : ')\n",
    "name=name.strip().title()\n",
    "mark = int(input(\"Enter Marks : \"))\n",
    "\n",
    "d.update({name : mark})\n",
    "d"
   ]
  },
  {
   "cell_type": "code",
   "execution_count": null,
   "metadata": {},
   "outputs": [],
   "source": []
  },
  {
   "cell_type": "code",
   "execution_count": null,
   "metadata": {},
   "outputs": [],
   "source": []
  },
  {
   "cell_type": "code",
   "execution_count": null,
   "metadata": {},
   "outputs": [],
   "source": []
  },
  {
   "cell_type": "code",
   "execution_count": null,
   "metadata": {},
   "outputs": [],
   "source": []
  },
  {
   "cell_type": "markdown",
   "metadata": {},
   "source": [
    "### Dictionary Questions"
   ]
  },
  {
   "cell_type": "code",
   "execution_count": null,
   "metadata": {},
   "outputs": [],
   "source": [
    "#D1\n",
    "WAP in Python to merge following dictionaries to create a new one:\n",
    "\tdic1={1:10, 2:20}\n",
    "\tdic2={3:30, 4:40}\n",
    "\tdic3={5:50, 6:60}"
   ]
  },
  {
   "cell_type": "code",
   "execution_count": null,
   "metadata": {},
   "outputs": [],
   "source": [
    "#D2\n",
    "WAP in python to generate and print a dictionary that contains a number (between 1 and n) \n",
    "in the form {x : x*x} where n is the input from the user.\n",
    "\n",
    "For e.g. Input: 4\n",
    "        Output: {1:1, 2:4, 3:9, 4:16}"
   ]
  },
  {
   "cell_type": "code",
   "execution_count": null,
   "metadata": {},
   "outputs": [],
   "source": [
    "#D3\n",
    "WAP in python to find the number of vowels, consonants, digits, white space characters & \n",
    "special characters in a string and save the result in the form of a dictionary."
   ]
  },
  {
   "cell_type": "code",
   "execution_count": null,
   "metadata": {},
   "outputs": [],
   "source": [
    "#D4\n",
    "WAP to reverse map the dictionary items. Take dictionary as input from the user.\n",
    "\n",
    "\tFor eg., Input: d = {'A': 65, 'B': 66, 'C': 67, 'D': 68}\n",
    "            Output: d = {65: 'A', 66: 'B', 67: 'C', 68: 'D'}"
   ]
  },
  {
   "cell_type": "code",
   "execution_count": null,
   "metadata": {},
   "outputs": [],
   "source": [
    "#D5\n",
    "WAP to save Username and Password of 10 employees in an organisation. \n",
    "Take the Username and Password as input from the user one by one and save in the Dictionary."
   ]
  },
  {
   "cell_type": "code",
   "execution_count": null,
   "metadata": {},
   "outputs": [],
   "source": [
    "#D6\n",
    "Extended Question from #D5\n",
    "Write an additional functionality to check if an employee is present in the organisation or not.\n",
    "Basically \"Search\" Functionality based on their username\n",
    "Take employee name as input from the user.\n",
    "If the employee is present, print \"Present\" else print \"Not Present\""
   ]
  },
  {
   "cell_type": "code",
   "execution_count": null,
   "metadata": {},
   "outputs": [],
   "source": []
  },
  {
   "cell_type": "markdown",
   "metadata": {},
   "source": [
    "### Misc. Questions - i.e. you can use any data type which seems feasible for question"
   ]
  },
  {
   "cell_type": "code",
   "execution_count": null,
   "metadata": {},
   "outputs": [],
   "source": [
    "#M1\n",
    "WAP in python that accepts two integers (n) & (m) from user and \n",
    "computes the value of 2n3 + 5m2 - 7n + 10"
   ]
  },
  {
   "cell_type": "code",
   "execution_count": null,
   "metadata": {},
   "outputs": [],
   "source": [
    "#M2\n",
    "Write a python program to find the intersection of elements from two list \n",
    "(find the common elements in two lists)."
   ]
  },
  {
   "cell_type": "code",
   "execution_count": null,
   "metadata": {},
   "outputs": [],
   "source": [
    "#M3\n",
    "WAP in Python to find the Max of n numbers all taken as input from the user."
   ]
  },
  {
   "cell_type": "code",
   "execution_count": null,
   "metadata": {},
   "outputs": [],
   "source": [
    "#M4\n",
    "WAP which takes a sequence of numbers from the user and check if all input numbers are unique."
   ]
  },
  {
   "cell_type": "code",
   "execution_count": null,
   "metadata": {},
   "outputs": [],
   "source": [
    "#M5\n",
    "WAP to reverse a given integer number.\n",
    "Example: Input: 105320\n",
    "        Output: 023501"
   ]
  },
  {
   "cell_type": "code",
   "execution_count": null,
   "metadata": {},
   "outputs": [],
   "source": [
    "#M6\n",
    "WAP to take 10 integer inputs from the user and save them in a list. \n",
    "The inputs have to be mix of even and odd numbers. \n",
    "Now make one list to save all the even numbers from the input list. \n",
    "Make another list for odd numbers too."
   ]
  },
  {
   "cell_type": "code",
   "execution_count": null,
   "metadata": {},
   "outputs": [],
   "source": [
    "#M7\n",
    "WAP to convert temperature in Fahrenheit to Celsius. Take the temperature from the user in float type."
   ]
  },
  {
   "cell_type": "code",
   "execution_count": null,
   "metadata": {},
   "outputs": [],
   "source": [
    "#M8\n",
    "WAP to continuously take Names as input from the user. \n",
    "Save the incoming names into a list as Full Name and save {First Name:Second Name} in a dictionary.\n",
    "Take inputs till the user enters \"Stop\"\n",
    "\n",
    "For e.g.: Input: \"Shahrukh Khan\", \"Gauri Khan\",...................\"Stop\"\n",
    "         Output: list1 = [\"Shahrukh Khan\", \"Gauri Khan\",....................]\n",
    "                dict1 = {\"Shahrukh\":\"Khan\", \"Gauri\":\"Khan\", .....................}"
   ]
  },
  {
   "cell_type": "code",
   "execution_count": null,
   "metadata": {},
   "outputs": [],
   "source": [
    "#M9\n",
    "WAP to make a simple and compound interest calculator. Take all the necessary data as input from the user."
   ]
  },
  {
   "cell_type": "code",
   "execution_count": null,
   "metadata": {},
   "outputs": [],
   "source": [
    "#M10\n"
   ]
  },
  {
   "cell_type": "code",
   "execution_count": null,
   "metadata": {},
   "outputs": [],
   "source": []
  },
  {
   "cell_type": "code",
   "execution_count": null,
   "metadata": {},
   "outputs": [],
   "source": []
  },
  {
   "cell_type": "code",
   "execution_count": null,
   "metadata": {},
   "outputs": [],
   "source": []
  }
 ],
 "metadata": {
  "kernelspec": {
   "display_name": "Python 3",
   "language": "python",
   "name": "python3"
  },
  "language_info": {
   "codemirror_mode": {
    "name": "ipython",
    "version": 3
   },
   "file_extension": ".py",
   "mimetype": "text/x-python",
   "name": "python",
   "nbconvert_exporter": "python",
   "pygments_lexer": "ipython3",
   "version": "3.8.3"
  }
 },
 "nbformat": 4,
 "nbformat_minor": 5
}
